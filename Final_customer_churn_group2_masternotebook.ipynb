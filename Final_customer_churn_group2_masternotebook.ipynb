{
  "nbformat": 4,
  "nbformat_minor": 0,
  "metadata": {
    "colab": {
      "name": "Final customer_churn_group2_masternotebook.ipynb",
      "provenance": [],
      "collapsed_sections": [],
      "include_colab_link": true
    },
    "kernelspec": {
      "display_name": "Python 3",
      "name": "python3"
    }
  },
  "cells": [
    {
      "cell_type": "markdown",
      "metadata": {
        "id": "view-in-github",
        "colab_type": "text"
      },
      "source": [
        "<a href=\"https://colab.research.google.com/github/soniaronner/ML-final-project/blob/main/Final_customer_churn_group2_masternotebook.ipynb\" target=\"_parent\"><img src=\"https://colab.research.google.com/assets/colab-badge.svg\" alt=\"Open In Colab\"/></a>"
      ]
    },
    {
      "cell_type": "code",
      "metadata": {
        "id": "ZwGY2tQdx0LA"
      },
      "source": [
        "#import all relevant libraries\n",
        "import pandas as pd\n",
        "import numpy as np\n",
        "import seaborn as sns\n",
        "import matplotlib.pyplot as plt\n",
        "from sklearn.model_selection import train_test_split\n",
        "from sklearn.metrics import confusion_matrix\n",
        "from mlxtend.plotting import plot_decision_regions\n",
        "from sklearn.linear_model import LinearRegression\n",
        "from sklearn.pipeline import Pipeline\n",
        "from sklearn.preprocessing import StandardScaler, PolynomialFeatures\n",
        "from sklearn.metrics import r2_score\n",
        "from sklearn.model_selection import train_test_split, GridSearchCV\n",
        "from sklearn.pipeline import Pipeline\n",
        "from sklearn.preprocessing import PolynomialFeatures\n",
        "from sklearn.metrics import classification_report\n",
        "from sklearn.neighbors import KNeighborsClassifier\n",
        "from sklearn.ensemble import RandomForestClassifier\n",
        "from sklearn.tree import DecisionTreeClassifier\n",
        "from sklearn.linear_model import LogisticRegression\n",
        "#why: to be able to work with the respective functions and models included in the libraries"
      ],
      "execution_count": null,
      "outputs": []
    },
    {
      "cell_type": "code",
      "metadata": {
        "id": "GyKKfmjQyj7g"
      },
      "source": [
        "#what: import dataset\n",
        "data=pd.read_csv('https://raw.githubusercontent.com/IBM/telco-customer-churn-on-icp4d/master/data/Telco-Customer-Churn.csv')\n",
        "#why: in order to do predictive statistical analysis with the data and fit a model to predict customer churn for our telecom company"
      ],
      "execution_count": null,
      "outputs": []
    },
    {
      "cell_type": "markdown",
      "metadata": {
        "id": "miJGVBTm77zx"
      },
      "source": [
        "# **Step 1: Data exploration**"
      ]
    },
    {
      "cell_type": "code",
      "metadata": {
        "id": "ShpFnNxH8Bp8"
      },
      "source": [
        "#explore the data and leave original input untouched\n",
        "data1=pd.read_csv('https://raw.githubusercontent.com/IBM/telco-customer-churn-on-icp4d/master/data/Telco-Customer-Churn.csv')"
      ],
      "execution_count": null,
      "outputs": []
    },
    {
      "cell_type": "code",
      "metadata": {
        "colab": {
          "base_uri": "https://localhost:8080/",
          "height": 580
        },
        "id": "h5Ie_4w--Ykz",
        "outputId": "8fa97a15-986e-4d9f-f235-d4cba2ec35bd"
      },
      "source": [
        "data1"
      ],
      "execution_count": null,
      "outputs": [
        {
          "output_type": "execute_result",
          "data": {
            "text/html": [
              "<div>\n",
              "<style scoped>\n",
              "    .dataframe tbody tr th:only-of-type {\n",
              "        vertical-align: middle;\n",
              "    }\n",
              "\n",
              "    .dataframe tbody tr th {\n",
              "        vertical-align: top;\n",
              "    }\n",
              "\n",
              "    .dataframe thead th {\n",
              "        text-align: right;\n",
              "    }\n",
              "</style>\n",
              "<table border=\"1\" class=\"dataframe\">\n",
              "  <thead>\n",
              "    <tr style=\"text-align: right;\">\n",
              "      <th></th>\n",
              "      <th>customerID</th>\n",
              "      <th>gender</th>\n",
              "      <th>SeniorCitizen</th>\n",
              "      <th>Partner</th>\n",
              "      <th>Dependents</th>\n",
              "      <th>tenure</th>\n",
              "      <th>PhoneService</th>\n",
              "      <th>MultipleLines</th>\n",
              "      <th>InternetService</th>\n",
              "      <th>OnlineSecurity</th>\n",
              "      <th>OnlineBackup</th>\n",
              "      <th>DeviceProtection</th>\n",
              "      <th>TechSupport</th>\n",
              "      <th>StreamingTV</th>\n",
              "      <th>StreamingMovies</th>\n",
              "      <th>Contract</th>\n",
              "      <th>PaperlessBilling</th>\n",
              "      <th>PaymentMethod</th>\n",
              "      <th>MonthlyCharges</th>\n",
              "      <th>TotalCharges</th>\n",
              "      <th>Churn</th>\n",
              "    </tr>\n",
              "  </thead>\n",
              "  <tbody>\n",
              "    <tr>\n",
              "      <th>0</th>\n",
              "      <td>7590-VHVEG</td>\n",
              "      <td>Female</td>\n",
              "      <td>0</td>\n",
              "      <td>Yes</td>\n",
              "      <td>No</td>\n",
              "      <td>1</td>\n",
              "      <td>No</td>\n",
              "      <td>No phone service</td>\n",
              "      <td>DSL</td>\n",
              "      <td>No</td>\n",
              "      <td>Yes</td>\n",
              "      <td>No</td>\n",
              "      <td>No</td>\n",
              "      <td>No</td>\n",
              "      <td>No</td>\n",
              "      <td>Month-to-month</td>\n",
              "      <td>Yes</td>\n",
              "      <td>Electronic check</td>\n",
              "      <td>29.85</td>\n",
              "      <td>29.85</td>\n",
              "      <td>No</td>\n",
              "    </tr>\n",
              "    <tr>\n",
              "      <th>1</th>\n",
              "      <td>5575-GNVDE</td>\n",
              "      <td>Male</td>\n",
              "      <td>0</td>\n",
              "      <td>No</td>\n",
              "      <td>No</td>\n",
              "      <td>34</td>\n",
              "      <td>Yes</td>\n",
              "      <td>No</td>\n",
              "      <td>DSL</td>\n",
              "      <td>Yes</td>\n",
              "      <td>No</td>\n",
              "      <td>Yes</td>\n",
              "      <td>No</td>\n",
              "      <td>No</td>\n",
              "      <td>No</td>\n",
              "      <td>One year</td>\n",
              "      <td>No</td>\n",
              "      <td>Mailed check</td>\n",
              "      <td>56.95</td>\n",
              "      <td>1889.5</td>\n",
              "      <td>No</td>\n",
              "    </tr>\n",
              "    <tr>\n",
              "      <th>2</th>\n",
              "      <td>3668-QPYBK</td>\n",
              "      <td>Male</td>\n",
              "      <td>0</td>\n",
              "      <td>No</td>\n",
              "      <td>No</td>\n",
              "      <td>2</td>\n",
              "      <td>Yes</td>\n",
              "      <td>No</td>\n",
              "      <td>DSL</td>\n",
              "      <td>Yes</td>\n",
              "      <td>Yes</td>\n",
              "      <td>No</td>\n",
              "      <td>No</td>\n",
              "      <td>No</td>\n",
              "      <td>No</td>\n",
              "      <td>Month-to-month</td>\n",
              "      <td>Yes</td>\n",
              "      <td>Mailed check</td>\n",
              "      <td>53.85</td>\n",
              "      <td>108.15</td>\n",
              "      <td>Yes</td>\n",
              "    </tr>\n",
              "    <tr>\n",
              "      <th>3</th>\n",
              "      <td>7795-CFOCW</td>\n",
              "      <td>Male</td>\n",
              "      <td>0</td>\n",
              "      <td>No</td>\n",
              "      <td>No</td>\n",
              "      <td>45</td>\n",
              "      <td>No</td>\n",
              "      <td>No phone service</td>\n",
              "      <td>DSL</td>\n",
              "      <td>Yes</td>\n",
              "      <td>No</td>\n",
              "      <td>Yes</td>\n",
              "      <td>Yes</td>\n",
              "      <td>No</td>\n",
              "      <td>No</td>\n",
              "      <td>One year</td>\n",
              "      <td>No</td>\n",
              "      <td>Bank transfer (automatic)</td>\n",
              "      <td>42.30</td>\n",
              "      <td>1840.75</td>\n",
              "      <td>No</td>\n",
              "    </tr>\n",
              "    <tr>\n",
              "      <th>4</th>\n",
              "      <td>9237-HQITU</td>\n",
              "      <td>Female</td>\n",
              "      <td>0</td>\n",
              "      <td>No</td>\n",
              "      <td>No</td>\n",
              "      <td>2</td>\n",
              "      <td>Yes</td>\n",
              "      <td>No</td>\n",
              "      <td>Fiber optic</td>\n",
              "      <td>No</td>\n",
              "      <td>No</td>\n",
              "      <td>No</td>\n",
              "      <td>No</td>\n",
              "      <td>No</td>\n",
              "      <td>No</td>\n",
              "      <td>Month-to-month</td>\n",
              "      <td>Yes</td>\n",
              "      <td>Electronic check</td>\n",
              "      <td>70.70</td>\n",
              "      <td>151.65</td>\n",
              "      <td>Yes</td>\n",
              "    </tr>\n",
              "    <tr>\n",
              "      <th>...</th>\n",
              "      <td>...</td>\n",
              "      <td>...</td>\n",
              "      <td>...</td>\n",
              "      <td>...</td>\n",
              "      <td>...</td>\n",
              "      <td>...</td>\n",
              "      <td>...</td>\n",
              "      <td>...</td>\n",
              "      <td>...</td>\n",
              "      <td>...</td>\n",
              "      <td>...</td>\n",
              "      <td>...</td>\n",
              "      <td>...</td>\n",
              "      <td>...</td>\n",
              "      <td>...</td>\n",
              "      <td>...</td>\n",
              "      <td>...</td>\n",
              "      <td>...</td>\n",
              "      <td>...</td>\n",
              "      <td>...</td>\n",
              "      <td>...</td>\n",
              "    </tr>\n",
              "    <tr>\n",
              "      <th>7038</th>\n",
              "      <td>6840-RESVB</td>\n",
              "      <td>Male</td>\n",
              "      <td>0</td>\n",
              "      <td>Yes</td>\n",
              "      <td>Yes</td>\n",
              "      <td>24</td>\n",
              "      <td>Yes</td>\n",
              "      <td>Yes</td>\n",
              "      <td>DSL</td>\n",
              "      <td>Yes</td>\n",
              "      <td>No</td>\n",
              "      <td>Yes</td>\n",
              "      <td>Yes</td>\n",
              "      <td>Yes</td>\n",
              "      <td>Yes</td>\n",
              "      <td>One year</td>\n",
              "      <td>Yes</td>\n",
              "      <td>Mailed check</td>\n",
              "      <td>84.80</td>\n",
              "      <td>1990.5</td>\n",
              "      <td>No</td>\n",
              "    </tr>\n",
              "    <tr>\n",
              "      <th>7039</th>\n",
              "      <td>2234-XADUH</td>\n",
              "      <td>Female</td>\n",
              "      <td>0</td>\n",
              "      <td>Yes</td>\n",
              "      <td>Yes</td>\n",
              "      <td>72</td>\n",
              "      <td>Yes</td>\n",
              "      <td>Yes</td>\n",
              "      <td>Fiber optic</td>\n",
              "      <td>No</td>\n",
              "      <td>Yes</td>\n",
              "      <td>Yes</td>\n",
              "      <td>No</td>\n",
              "      <td>Yes</td>\n",
              "      <td>Yes</td>\n",
              "      <td>One year</td>\n",
              "      <td>Yes</td>\n",
              "      <td>Credit card (automatic)</td>\n",
              "      <td>103.20</td>\n",
              "      <td>7362.9</td>\n",
              "      <td>No</td>\n",
              "    </tr>\n",
              "    <tr>\n",
              "      <th>7040</th>\n",
              "      <td>4801-JZAZL</td>\n",
              "      <td>Female</td>\n",
              "      <td>0</td>\n",
              "      <td>Yes</td>\n",
              "      <td>Yes</td>\n",
              "      <td>11</td>\n",
              "      <td>No</td>\n",
              "      <td>No phone service</td>\n",
              "      <td>DSL</td>\n",
              "      <td>Yes</td>\n",
              "      <td>No</td>\n",
              "      <td>No</td>\n",
              "      <td>No</td>\n",
              "      <td>No</td>\n",
              "      <td>No</td>\n",
              "      <td>Month-to-month</td>\n",
              "      <td>Yes</td>\n",
              "      <td>Electronic check</td>\n",
              "      <td>29.60</td>\n",
              "      <td>346.45</td>\n",
              "      <td>No</td>\n",
              "    </tr>\n",
              "    <tr>\n",
              "      <th>7041</th>\n",
              "      <td>8361-LTMKD</td>\n",
              "      <td>Male</td>\n",
              "      <td>1</td>\n",
              "      <td>Yes</td>\n",
              "      <td>No</td>\n",
              "      <td>4</td>\n",
              "      <td>Yes</td>\n",
              "      <td>Yes</td>\n",
              "      <td>Fiber optic</td>\n",
              "      <td>No</td>\n",
              "      <td>No</td>\n",
              "      <td>No</td>\n",
              "      <td>No</td>\n",
              "      <td>No</td>\n",
              "      <td>No</td>\n",
              "      <td>Month-to-month</td>\n",
              "      <td>Yes</td>\n",
              "      <td>Mailed check</td>\n",
              "      <td>74.40</td>\n",
              "      <td>306.6</td>\n",
              "      <td>Yes</td>\n",
              "    </tr>\n",
              "    <tr>\n",
              "      <th>7042</th>\n",
              "      <td>3186-AJIEK</td>\n",
              "      <td>Male</td>\n",
              "      <td>0</td>\n",
              "      <td>No</td>\n",
              "      <td>No</td>\n",
              "      <td>66</td>\n",
              "      <td>Yes</td>\n",
              "      <td>No</td>\n",
              "      <td>Fiber optic</td>\n",
              "      <td>Yes</td>\n",
              "      <td>No</td>\n",
              "      <td>Yes</td>\n",
              "      <td>Yes</td>\n",
              "      <td>Yes</td>\n",
              "      <td>Yes</td>\n",
              "      <td>Two year</td>\n",
              "      <td>Yes</td>\n",
              "      <td>Bank transfer (automatic)</td>\n",
              "      <td>105.65</td>\n",
              "      <td>6844.5</td>\n",
              "      <td>No</td>\n",
              "    </tr>\n",
              "  </tbody>\n",
              "</table>\n",
              "<p>7043 rows × 21 columns</p>\n",
              "</div>"
            ],
            "text/plain": [
              "      customerID  gender  SeniorCitizen  ... MonthlyCharges TotalCharges  Churn\n",
              "0     7590-VHVEG  Female              0  ...          29.85        29.85     No\n",
              "1     5575-GNVDE    Male              0  ...          56.95       1889.5     No\n",
              "2     3668-QPYBK    Male              0  ...          53.85       108.15    Yes\n",
              "3     7795-CFOCW    Male              0  ...          42.30      1840.75     No\n",
              "4     9237-HQITU  Female              0  ...          70.70       151.65    Yes\n",
              "...          ...     ...            ...  ...            ...          ...    ...\n",
              "7038  6840-RESVB    Male              0  ...          84.80       1990.5     No\n",
              "7039  2234-XADUH  Female              0  ...         103.20       7362.9     No\n",
              "7040  4801-JZAZL  Female              0  ...          29.60       346.45     No\n",
              "7041  8361-LTMKD    Male              1  ...          74.40        306.6    Yes\n",
              "7042  3186-AJIEK    Male              0  ...         105.65       6844.5     No\n",
              "\n",
              "[7043 rows x 21 columns]"
            ]
          },
          "metadata": {
            "tags": []
          },
          "execution_count": 1159
        }
      ]
    },
    {
      "cell_type": "code",
      "metadata": {
        "colab": {
          "base_uri": "https://localhost:8080/"
        },
        "id": "dA-YeVMZ-70h",
        "outputId": "78d6e471-e1d7-4b1a-d21b-ceddc87b695b"
      },
      "source": [
        "#different types of features, object=string, integers, floats\n",
        "data1.info()\n",
        "#Totalcharges is categorized as object?"
      ],
      "execution_count": null,
      "outputs": [
        {
          "output_type": "stream",
          "text": [
            "<class 'pandas.core.frame.DataFrame'>\n",
            "RangeIndex: 7043 entries, 0 to 7042\n",
            "Data columns (total 21 columns):\n",
            " #   Column            Non-Null Count  Dtype  \n",
            "---  ------            --------------  -----  \n",
            " 0   customerID        7043 non-null   object \n",
            " 1   gender            7043 non-null   object \n",
            " 2   SeniorCitizen     7043 non-null   int64  \n",
            " 3   Partner           7043 non-null   object \n",
            " 4   Dependents        7043 non-null   object \n",
            " 5   tenure            7043 non-null   int64  \n",
            " 6   PhoneService      7043 non-null   object \n",
            " 7   MultipleLines     7043 non-null   object \n",
            " 8   InternetService   7043 non-null   object \n",
            " 9   OnlineSecurity    7043 non-null   object \n",
            " 10  OnlineBackup      7043 non-null   object \n",
            " 11  DeviceProtection  7043 non-null   object \n",
            " 12  TechSupport       7043 non-null   object \n",
            " 13  StreamingTV       7043 non-null   object \n",
            " 14  StreamingMovies   7043 non-null   object \n",
            " 15  Contract          7043 non-null   object \n",
            " 16  PaperlessBilling  7043 non-null   object \n",
            " 17  PaymentMethod     7043 non-null   object \n",
            " 18  MonthlyCharges    7043 non-null   float64\n",
            " 19  TotalCharges      7043 non-null   object \n",
            " 20  Churn             7043 non-null   object \n",
            "dtypes: float64(1), int64(2), object(18)\n",
            "memory usage: 1.1+ MB\n"
          ],
          "name": "stdout"
        }
      ]
    },
    {
      "cell_type": "code",
      "metadata": {
        "colab": {
          "base_uri": "https://localhost:8080/",
          "height": 431
        },
        "id": "fYTCK-0u_D70",
        "outputId": "9b11127c-954a-4852-88ac-83c716278aef"
      },
      "source": [
        "#missing values?\n",
        "data1.isna()"
      ],
      "execution_count": null,
      "outputs": [
        {
          "output_type": "execute_result",
          "data": {
            "text/html": [
              "<div>\n",
              "<style scoped>\n",
              "    .dataframe tbody tr th:only-of-type {\n",
              "        vertical-align: middle;\n",
              "    }\n",
              "\n",
              "    .dataframe tbody tr th {\n",
              "        vertical-align: top;\n",
              "    }\n",
              "\n",
              "    .dataframe thead th {\n",
              "        text-align: right;\n",
              "    }\n",
              "</style>\n",
              "<table border=\"1\" class=\"dataframe\">\n",
              "  <thead>\n",
              "    <tr style=\"text-align: right;\">\n",
              "      <th></th>\n",
              "      <th>customerID</th>\n",
              "      <th>gender</th>\n",
              "      <th>SeniorCitizen</th>\n",
              "      <th>Partner</th>\n",
              "      <th>Dependents</th>\n",
              "      <th>tenure</th>\n",
              "      <th>PhoneService</th>\n",
              "      <th>MultipleLines</th>\n",
              "      <th>InternetService</th>\n",
              "      <th>OnlineSecurity</th>\n",
              "      <th>OnlineBackup</th>\n",
              "      <th>DeviceProtection</th>\n",
              "      <th>TechSupport</th>\n",
              "      <th>StreamingTV</th>\n",
              "      <th>StreamingMovies</th>\n",
              "      <th>Contract</th>\n",
              "      <th>PaperlessBilling</th>\n",
              "      <th>PaymentMethod</th>\n",
              "      <th>MonthlyCharges</th>\n",
              "      <th>TotalCharges</th>\n",
              "      <th>Churn</th>\n",
              "    </tr>\n",
              "  </thead>\n",
              "  <tbody>\n",
              "    <tr>\n",
              "      <th>0</th>\n",
              "      <td>False</td>\n",
              "      <td>False</td>\n",
              "      <td>False</td>\n",
              "      <td>False</td>\n",
              "      <td>False</td>\n",
              "      <td>False</td>\n",
              "      <td>False</td>\n",
              "      <td>False</td>\n",
              "      <td>False</td>\n",
              "      <td>False</td>\n",
              "      <td>False</td>\n",
              "      <td>False</td>\n",
              "      <td>False</td>\n",
              "      <td>False</td>\n",
              "      <td>False</td>\n",
              "      <td>False</td>\n",
              "      <td>False</td>\n",
              "      <td>False</td>\n",
              "      <td>False</td>\n",
              "      <td>False</td>\n",
              "      <td>False</td>\n",
              "    </tr>\n",
              "    <tr>\n",
              "      <th>1</th>\n",
              "      <td>False</td>\n",
              "      <td>False</td>\n",
              "      <td>False</td>\n",
              "      <td>False</td>\n",
              "      <td>False</td>\n",
              "      <td>False</td>\n",
              "      <td>False</td>\n",
              "      <td>False</td>\n",
              "      <td>False</td>\n",
              "      <td>False</td>\n",
              "      <td>False</td>\n",
              "      <td>False</td>\n",
              "      <td>False</td>\n",
              "      <td>False</td>\n",
              "      <td>False</td>\n",
              "      <td>False</td>\n",
              "      <td>False</td>\n",
              "      <td>False</td>\n",
              "      <td>False</td>\n",
              "      <td>False</td>\n",
              "      <td>False</td>\n",
              "    </tr>\n",
              "    <tr>\n",
              "      <th>2</th>\n",
              "      <td>False</td>\n",
              "      <td>False</td>\n",
              "      <td>False</td>\n",
              "      <td>False</td>\n",
              "      <td>False</td>\n",
              "      <td>False</td>\n",
              "      <td>False</td>\n",
              "      <td>False</td>\n",
              "      <td>False</td>\n",
              "      <td>False</td>\n",
              "      <td>False</td>\n",
              "      <td>False</td>\n",
              "      <td>False</td>\n",
              "      <td>False</td>\n",
              "      <td>False</td>\n",
              "      <td>False</td>\n",
              "      <td>False</td>\n",
              "      <td>False</td>\n",
              "      <td>False</td>\n",
              "      <td>False</td>\n",
              "      <td>False</td>\n",
              "    </tr>\n",
              "    <tr>\n",
              "      <th>3</th>\n",
              "      <td>False</td>\n",
              "      <td>False</td>\n",
              "      <td>False</td>\n",
              "      <td>False</td>\n",
              "      <td>False</td>\n",
              "      <td>False</td>\n",
              "      <td>False</td>\n",
              "      <td>False</td>\n",
              "      <td>False</td>\n",
              "      <td>False</td>\n",
              "      <td>False</td>\n",
              "      <td>False</td>\n",
              "      <td>False</td>\n",
              "      <td>False</td>\n",
              "      <td>False</td>\n",
              "      <td>False</td>\n",
              "      <td>False</td>\n",
              "      <td>False</td>\n",
              "      <td>False</td>\n",
              "      <td>False</td>\n",
              "      <td>False</td>\n",
              "    </tr>\n",
              "    <tr>\n",
              "      <th>4</th>\n",
              "      <td>False</td>\n",
              "      <td>False</td>\n",
              "      <td>False</td>\n",
              "      <td>False</td>\n",
              "      <td>False</td>\n",
              "      <td>False</td>\n",
              "      <td>False</td>\n",
              "      <td>False</td>\n",
              "      <td>False</td>\n",
              "      <td>False</td>\n",
              "      <td>False</td>\n",
              "      <td>False</td>\n",
              "      <td>False</td>\n",
              "      <td>False</td>\n",
              "      <td>False</td>\n",
              "      <td>False</td>\n",
              "      <td>False</td>\n",
              "      <td>False</td>\n",
              "      <td>False</td>\n",
              "      <td>False</td>\n",
              "      <td>False</td>\n",
              "    </tr>\n",
              "    <tr>\n",
              "      <th>...</th>\n",
              "      <td>...</td>\n",
              "      <td>...</td>\n",
              "      <td>...</td>\n",
              "      <td>...</td>\n",
              "      <td>...</td>\n",
              "      <td>...</td>\n",
              "      <td>...</td>\n",
              "      <td>...</td>\n",
              "      <td>...</td>\n",
              "      <td>...</td>\n",
              "      <td>...</td>\n",
              "      <td>...</td>\n",
              "      <td>...</td>\n",
              "      <td>...</td>\n",
              "      <td>...</td>\n",
              "      <td>...</td>\n",
              "      <td>...</td>\n",
              "      <td>...</td>\n",
              "      <td>...</td>\n",
              "      <td>...</td>\n",
              "      <td>...</td>\n",
              "    </tr>\n",
              "    <tr>\n",
              "      <th>7038</th>\n",
              "      <td>False</td>\n",
              "      <td>False</td>\n",
              "      <td>False</td>\n",
              "      <td>False</td>\n",
              "      <td>False</td>\n",
              "      <td>False</td>\n",
              "      <td>False</td>\n",
              "      <td>False</td>\n",
              "      <td>False</td>\n",
              "      <td>False</td>\n",
              "      <td>False</td>\n",
              "      <td>False</td>\n",
              "      <td>False</td>\n",
              "      <td>False</td>\n",
              "      <td>False</td>\n",
              "      <td>False</td>\n",
              "      <td>False</td>\n",
              "      <td>False</td>\n",
              "      <td>False</td>\n",
              "      <td>False</td>\n",
              "      <td>False</td>\n",
              "    </tr>\n",
              "    <tr>\n",
              "      <th>7039</th>\n",
              "      <td>False</td>\n",
              "      <td>False</td>\n",
              "      <td>False</td>\n",
              "      <td>False</td>\n",
              "      <td>False</td>\n",
              "      <td>False</td>\n",
              "      <td>False</td>\n",
              "      <td>False</td>\n",
              "      <td>False</td>\n",
              "      <td>False</td>\n",
              "      <td>False</td>\n",
              "      <td>False</td>\n",
              "      <td>False</td>\n",
              "      <td>False</td>\n",
              "      <td>False</td>\n",
              "      <td>False</td>\n",
              "      <td>False</td>\n",
              "      <td>False</td>\n",
              "      <td>False</td>\n",
              "      <td>False</td>\n",
              "      <td>False</td>\n",
              "    </tr>\n",
              "    <tr>\n",
              "      <th>7040</th>\n",
              "      <td>False</td>\n",
              "      <td>False</td>\n",
              "      <td>False</td>\n",
              "      <td>False</td>\n",
              "      <td>False</td>\n",
              "      <td>False</td>\n",
              "      <td>False</td>\n",
              "      <td>False</td>\n",
              "      <td>False</td>\n",
              "      <td>False</td>\n",
              "      <td>False</td>\n",
              "      <td>False</td>\n",
              "      <td>False</td>\n",
              "      <td>False</td>\n",
              "      <td>False</td>\n",
              "      <td>False</td>\n",
              "      <td>False</td>\n",
              "      <td>False</td>\n",
              "      <td>False</td>\n",
              "      <td>False</td>\n",
              "      <td>False</td>\n",
              "    </tr>\n",
              "    <tr>\n",
              "      <th>7041</th>\n",
              "      <td>False</td>\n",
              "      <td>False</td>\n",
              "      <td>False</td>\n",
              "      <td>False</td>\n",
              "      <td>False</td>\n",
              "      <td>False</td>\n",
              "      <td>False</td>\n",
              "      <td>False</td>\n",
              "      <td>False</td>\n",
              "      <td>False</td>\n",
              "      <td>False</td>\n",
              "      <td>False</td>\n",
              "      <td>False</td>\n",
              "      <td>False</td>\n",
              "      <td>False</td>\n",
              "      <td>False</td>\n",
              "      <td>False</td>\n",
              "      <td>False</td>\n",
              "      <td>False</td>\n",
              "      <td>False</td>\n",
              "      <td>False</td>\n",
              "    </tr>\n",
              "    <tr>\n",
              "      <th>7042</th>\n",
              "      <td>False</td>\n",
              "      <td>False</td>\n",
              "      <td>False</td>\n",
              "      <td>False</td>\n",
              "      <td>False</td>\n",
              "      <td>False</td>\n",
              "      <td>False</td>\n",
              "      <td>False</td>\n",
              "      <td>False</td>\n",
              "      <td>False</td>\n",
              "      <td>False</td>\n",
              "      <td>False</td>\n",
              "      <td>False</td>\n",
              "      <td>False</td>\n",
              "      <td>False</td>\n",
              "      <td>False</td>\n",
              "      <td>False</td>\n",
              "      <td>False</td>\n",
              "      <td>False</td>\n",
              "      <td>False</td>\n",
              "      <td>False</td>\n",
              "    </tr>\n",
              "  </tbody>\n",
              "</table>\n",
              "<p>7043 rows × 21 columns</p>\n",
              "</div>"
            ],
            "text/plain": [
              "      customerID  gender  SeniorCitizen  ...  MonthlyCharges  TotalCharges  Churn\n",
              "0          False   False          False  ...           False         False  False\n",
              "1          False   False          False  ...           False         False  False\n",
              "2          False   False          False  ...           False         False  False\n",
              "3          False   False          False  ...           False         False  False\n",
              "4          False   False          False  ...           False         False  False\n",
              "...          ...     ...            ...  ...             ...           ...    ...\n",
              "7038       False   False          False  ...           False         False  False\n",
              "7039       False   False          False  ...           False         False  False\n",
              "7040       False   False          False  ...           False         False  False\n",
              "7041       False   False          False  ...           False         False  False\n",
              "7042       False   False          False  ...           False         False  False\n",
              "\n",
              "[7043 rows x 21 columns]"
            ]
          },
          "metadata": {
            "tags": []
          },
          "execution_count": 1161
        }
      ]
    },
    {
      "cell_type": "code",
      "metadata": {
        "colab": {
          "base_uri": "https://localhost:8080/"
        },
        "id": "bmU9OSRfJU5a",
        "outputId": "ba05174b-e47e-4f5b-c5e9-d4d24681a8c7"
      },
      "source": [
        "#missing values in Totalcharges \n",
        "#clean data - see Step 2: Data preparation\n",
        "data1.TotalCharges = pd.to_numeric(data1.TotalCharges, errors='coerce')\n",
        "data1.isnull().sum()"
      ],
      "execution_count": null,
      "outputs": [
        {
          "output_type": "execute_result",
          "data": {
            "text/plain": [
              "customerID           0\n",
              "gender               0\n",
              "SeniorCitizen        0\n",
              "Partner              0\n",
              "Dependents           0\n",
              "tenure               0\n",
              "PhoneService         0\n",
              "MultipleLines        0\n",
              "InternetService      0\n",
              "OnlineSecurity       0\n",
              "OnlineBackup         0\n",
              "DeviceProtection     0\n",
              "TechSupport          0\n",
              "StreamingTV          0\n",
              "StreamingMovies      0\n",
              "Contract             0\n",
              "PaperlessBilling     0\n",
              "PaymentMethod        0\n",
              "MonthlyCharges       0\n",
              "TotalCharges        11\n",
              "Churn                0\n",
              "dtype: int64"
            ]
          },
          "metadata": {
            "tags": []
          },
          "execution_count": 1162
        }
      ]
    },
    {
      "cell_type": "code",
      "metadata": {
        "colab": {
          "base_uri": "https://localhost:8080/"
        },
        "id": "mhTdY1Wk_MGH",
        "outputId": "88a93e10-ff02-49ec-eb7c-b8681a0c0348"
      },
      "source": [
        "#dataset contains 7043 observations and 21 columns\n",
        "data1.shape"
      ],
      "execution_count": null,
      "outputs": [
        {
          "output_type": "execute_result",
          "data": {
            "text/plain": [
              "(7043, 21)"
            ]
          },
          "metadata": {
            "tags": []
          },
          "execution_count": 1163
        }
      ]
    },
    {
      "cell_type": "code",
      "metadata": {
        "colab": {
          "base_uri": "https://localhost:8080/",
          "height": 291
        },
        "id": "a6gs8wAY_U1P",
        "outputId": "0a266ddf-8a37-44b0-fdcb-1985a0c75195"
      },
      "source": [
        "#numerical variables \n",
        "data1.describe()"
      ],
      "execution_count": null,
      "outputs": [
        {
          "output_type": "execute_result",
          "data": {
            "text/html": [
              "<div>\n",
              "<style scoped>\n",
              "    .dataframe tbody tr th:only-of-type {\n",
              "        vertical-align: middle;\n",
              "    }\n",
              "\n",
              "    .dataframe tbody tr th {\n",
              "        vertical-align: top;\n",
              "    }\n",
              "\n",
              "    .dataframe thead th {\n",
              "        text-align: right;\n",
              "    }\n",
              "</style>\n",
              "<table border=\"1\" class=\"dataframe\">\n",
              "  <thead>\n",
              "    <tr style=\"text-align: right;\">\n",
              "      <th></th>\n",
              "      <th>SeniorCitizen</th>\n",
              "      <th>tenure</th>\n",
              "      <th>MonthlyCharges</th>\n",
              "      <th>TotalCharges</th>\n",
              "    </tr>\n",
              "  </thead>\n",
              "  <tbody>\n",
              "    <tr>\n",
              "      <th>count</th>\n",
              "      <td>7043.000000</td>\n",
              "      <td>7043.000000</td>\n",
              "      <td>7043.000000</td>\n",
              "      <td>7032.000000</td>\n",
              "    </tr>\n",
              "    <tr>\n",
              "      <th>mean</th>\n",
              "      <td>0.162147</td>\n",
              "      <td>32.371149</td>\n",
              "      <td>64.761692</td>\n",
              "      <td>2283.300441</td>\n",
              "    </tr>\n",
              "    <tr>\n",
              "      <th>std</th>\n",
              "      <td>0.368612</td>\n",
              "      <td>24.559481</td>\n",
              "      <td>30.090047</td>\n",
              "      <td>2266.771362</td>\n",
              "    </tr>\n",
              "    <tr>\n",
              "      <th>min</th>\n",
              "      <td>0.000000</td>\n",
              "      <td>0.000000</td>\n",
              "      <td>18.250000</td>\n",
              "      <td>18.800000</td>\n",
              "    </tr>\n",
              "    <tr>\n",
              "      <th>25%</th>\n",
              "      <td>0.000000</td>\n",
              "      <td>9.000000</td>\n",
              "      <td>35.500000</td>\n",
              "      <td>401.450000</td>\n",
              "    </tr>\n",
              "    <tr>\n",
              "      <th>50%</th>\n",
              "      <td>0.000000</td>\n",
              "      <td>29.000000</td>\n",
              "      <td>70.350000</td>\n",
              "      <td>1397.475000</td>\n",
              "    </tr>\n",
              "    <tr>\n",
              "      <th>75%</th>\n",
              "      <td>0.000000</td>\n",
              "      <td>55.000000</td>\n",
              "      <td>89.850000</td>\n",
              "      <td>3794.737500</td>\n",
              "    </tr>\n",
              "    <tr>\n",
              "      <th>max</th>\n",
              "      <td>1.000000</td>\n",
              "      <td>72.000000</td>\n",
              "      <td>118.750000</td>\n",
              "      <td>8684.800000</td>\n",
              "    </tr>\n",
              "  </tbody>\n",
              "</table>\n",
              "</div>"
            ],
            "text/plain": [
              "       SeniorCitizen       tenure  MonthlyCharges  TotalCharges\n",
              "count    7043.000000  7043.000000     7043.000000   7032.000000\n",
              "mean        0.162147    32.371149       64.761692   2283.300441\n",
              "std         0.368612    24.559481       30.090047   2266.771362\n",
              "min         0.000000     0.000000       18.250000     18.800000\n",
              "25%         0.000000     9.000000       35.500000    401.450000\n",
              "50%         0.000000    29.000000       70.350000   1397.475000\n",
              "75%         0.000000    55.000000       89.850000   3794.737500\n",
              "max         1.000000    72.000000      118.750000   8684.800000"
            ]
          },
          "metadata": {
            "tags": []
          },
          "execution_count": 1164
        }
      ]
    },
    {
      "cell_type": "code",
      "metadata": {
        "colab": {
          "base_uri": "https://localhost:8080/"
        },
        "id": "fE6_H3lQbfNq",
        "outputId": "ea3be8f6-98dd-40d3-871f-08a6bdbf194c"
      },
      "source": [
        "#unique values of the data - divide into categories for exploration\n",
        "for i in data1.columns:\n",
        "    print(i)\n",
        "    print (data1[i].unique())"
      ],
      "execution_count": null,
      "outputs": [
        {
          "output_type": "stream",
          "text": [
            "customerID\n",
            "['7590-VHVEG' '5575-GNVDE' '3668-QPYBK' ... '4801-JZAZL' '8361-LTMKD'\n",
            " '3186-AJIEK']\n",
            "gender\n",
            "['Female' 'Male']\n",
            "SeniorCitizen\n",
            "[0 1]\n",
            "Partner\n",
            "['Yes' 'No']\n",
            "Dependents\n",
            "['No' 'Yes']\n",
            "tenure\n",
            "[ 1 34  2 45  8 22 10 28 62 13 16 58 49 25 69 52 71 21 12 30 47 72 17 27\n",
            "  5 46 11 70 63 43 15 60 18 66  9  3 31 50 64 56  7 42 35 48 29 65 38 68\n",
            " 32 55 37 36 41  6  4 33 67 23 57 61 14 20 53 40 59 24 44 19 54 51 26  0\n",
            " 39]\n",
            "PhoneService\n",
            "['No' 'Yes']\n",
            "MultipleLines\n",
            "['No phone service' 'No' 'Yes']\n",
            "InternetService\n",
            "['DSL' 'Fiber optic' 'No']\n",
            "OnlineSecurity\n",
            "['No' 'Yes' 'No internet service']\n",
            "OnlineBackup\n",
            "['Yes' 'No' 'No internet service']\n",
            "DeviceProtection\n",
            "['No' 'Yes' 'No internet service']\n",
            "TechSupport\n",
            "['No' 'Yes' 'No internet service']\n",
            "StreamingTV\n",
            "['No' 'Yes' 'No internet service']\n",
            "StreamingMovies\n",
            "['No' 'Yes' 'No internet service']\n",
            "Contract\n",
            "['Month-to-month' 'One year' 'Two year']\n",
            "PaperlessBilling\n",
            "['Yes' 'No']\n",
            "PaymentMethod\n",
            "['Electronic check' 'Mailed check' 'Bank transfer (automatic)'\n",
            " 'Credit card (automatic)']\n",
            "MonthlyCharges\n",
            "[29.85 56.95 53.85 ... 63.1  44.2  78.7 ]\n",
            "TotalCharges\n",
            "[  29.85 1889.5   108.15 ...  346.45  306.6  6844.5 ]\n",
            "Churn\n",
            "['No' 'Yes']\n"
          ],
          "name": "stdout"
        }
      ]
    },
    {
      "cell_type": "code",
      "metadata": {
        "colab": {
          "base_uri": "https://localhost:8080/",
          "height": 542
        },
        "id": "ldPNQzQe_lEG",
        "outputId": "498a2387-7ec8-404e-86e6-394e61c5e889"
      },
      "source": [
        "#plot the data\n",
        "#visualize dependent variable - churn rate\n",
        "import plotly.express as px\n",
        "import plotly.graph_objects as go\n",
        "\n",
        "Labels=data1[\"Churn\"].value_counts().keys()\n",
        "Values=data1[\"Churn\"].value_counts()\n",
        "\n",
        "plot_data1= [go.Pie(labels=Labels,values=Values,\n",
        "                   marker =dict(colors=['Blue', 'Pink'],line = dict(color=\"White\")),rotation=90)]\n",
        "\n",
        "fig=go.Figure(data=plot_data1)\n",
        "fig.show()"
      ],
      "execution_count": null,
      "outputs": [
        {
          "output_type": "display_data",
          "data": {
            "text/html": [
              "<html>\n",
              "<head><meta charset=\"utf-8\" /></head>\n",
              "<body>\n",
              "    <div>\n",
              "            <script src=\"https://cdnjs.cloudflare.com/ajax/libs/mathjax/2.7.5/MathJax.js?config=TeX-AMS-MML_SVG\"></script><script type=\"text/javascript\">if (window.MathJax) {MathJax.Hub.Config({SVG: {font: \"STIX-Web\"}});}</script>\n",
              "                <script type=\"text/javascript\">window.PlotlyConfig = {MathJaxConfig: 'local'};</script>\n",
              "        <script src=\"https://cdn.plot.ly/plotly-latest.min.js\"></script>    \n",
              "            <div id=\"ce0eae38-1e66-4b36-937a-75db64eb2076\" class=\"plotly-graph-div\" style=\"height:525px; width:100%;\"></div>\n",
              "            <script type=\"text/javascript\">\n",
              "                \n",
              "                    window.PLOTLYENV=window.PLOTLYENV || {};\n",
              "                    \n",
              "                if (document.getElementById(\"ce0eae38-1e66-4b36-937a-75db64eb2076\")) {\n",
              "                    Plotly.newPlot(\n",
              "                        'ce0eae38-1e66-4b36-937a-75db64eb2076',\n",
              "                        [{\"labels\": [\"No\", \"Yes\"], \"marker\": {\"colors\": [\"Blue\", \"Pink\"], \"line\": {\"color\": \"White\"}}, \"rotation\": 90, \"type\": \"pie\", \"values\": [5174, 1869]}],\n",
              "                        {\"template\": {\"data\": {\"bar\": [{\"error_x\": {\"color\": \"#2a3f5f\"}, \"error_y\": {\"color\": \"#2a3f5f\"}, \"marker\": {\"line\": {\"color\": \"#E5ECF6\", \"width\": 0.5}}, \"type\": \"bar\"}], \"barpolar\": [{\"marker\": {\"line\": {\"color\": \"#E5ECF6\", \"width\": 0.5}}, \"type\": \"barpolar\"}], \"carpet\": [{\"aaxis\": {\"endlinecolor\": \"#2a3f5f\", \"gridcolor\": \"white\", \"linecolor\": \"white\", \"minorgridcolor\": \"white\", \"startlinecolor\": \"#2a3f5f\"}, \"baxis\": {\"endlinecolor\": \"#2a3f5f\", \"gridcolor\": \"white\", \"linecolor\": \"white\", \"minorgridcolor\": \"white\", \"startlinecolor\": \"#2a3f5f\"}, \"type\": \"carpet\"}], \"choropleth\": [{\"colorbar\": {\"outlinewidth\": 0, \"ticks\": \"\"}, \"type\": \"choropleth\"}], \"contour\": [{\"colorbar\": {\"outlinewidth\": 0, \"ticks\": \"\"}, \"colorscale\": [[0.0, \"#0d0887\"], [0.1111111111111111, \"#46039f\"], [0.2222222222222222, \"#7201a8\"], [0.3333333333333333, \"#9c179e\"], [0.4444444444444444, \"#bd3786\"], [0.5555555555555556, \"#d8576b\"], [0.6666666666666666, \"#ed7953\"], [0.7777777777777778, \"#fb9f3a\"], [0.8888888888888888, \"#fdca26\"], [1.0, \"#f0f921\"]], \"type\": \"contour\"}], \"contourcarpet\": [{\"colorbar\": {\"outlinewidth\": 0, \"ticks\": \"\"}, \"type\": \"contourcarpet\"}], \"heatmap\": [{\"colorbar\": {\"outlinewidth\": 0, \"ticks\": \"\"}, \"colorscale\": [[0.0, \"#0d0887\"], [0.1111111111111111, \"#46039f\"], [0.2222222222222222, \"#7201a8\"], [0.3333333333333333, \"#9c179e\"], [0.4444444444444444, \"#bd3786\"], [0.5555555555555556, \"#d8576b\"], [0.6666666666666666, \"#ed7953\"], [0.7777777777777778, \"#fb9f3a\"], [0.8888888888888888, \"#fdca26\"], [1.0, \"#f0f921\"]], \"type\": \"heatmap\"}], \"heatmapgl\": [{\"colorbar\": {\"outlinewidth\": 0, \"ticks\": \"\"}, \"colorscale\": [[0.0, \"#0d0887\"], [0.1111111111111111, \"#46039f\"], [0.2222222222222222, \"#7201a8\"], [0.3333333333333333, \"#9c179e\"], [0.4444444444444444, \"#bd3786\"], [0.5555555555555556, \"#d8576b\"], [0.6666666666666666, \"#ed7953\"], [0.7777777777777778, \"#fb9f3a\"], [0.8888888888888888, \"#fdca26\"], [1.0, \"#f0f921\"]], \"type\": \"heatmapgl\"}], \"histogram\": [{\"marker\": {\"colorbar\": {\"outlinewidth\": 0, \"ticks\": \"\"}}, \"type\": \"histogram\"}], \"histogram2d\": [{\"colorbar\": {\"outlinewidth\": 0, \"ticks\": \"\"}, \"colorscale\": [[0.0, \"#0d0887\"], [0.1111111111111111, \"#46039f\"], [0.2222222222222222, \"#7201a8\"], [0.3333333333333333, \"#9c179e\"], [0.4444444444444444, \"#bd3786\"], [0.5555555555555556, \"#d8576b\"], [0.6666666666666666, \"#ed7953\"], [0.7777777777777778, \"#fb9f3a\"], [0.8888888888888888, \"#fdca26\"], [1.0, \"#f0f921\"]], \"type\": \"histogram2d\"}], \"histogram2dcontour\": [{\"colorbar\": {\"outlinewidth\": 0, \"ticks\": \"\"}, \"colorscale\": [[0.0, \"#0d0887\"], [0.1111111111111111, \"#46039f\"], [0.2222222222222222, \"#7201a8\"], [0.3333333333333333, \"#9c179e\"], [0.4444444444444444, \"#bd3786\"], [0.5555555555555556, \"#d8576b\"], [0.6666666666666666, \"#ed7953\"], [0.7777777777777778, \"#fb9f3a\"], [0.8888888888888888, \"#fdca26\"], [1.0, \"#f0f921\"]], \"type\": \"histogram2dcontour\"}], \"mesh3d\": [{\"colorbar\": {\"outlinewidth\": 0, \"ticks\": \"\"}, \"type\": \"mesh3d\"}], \"parcoords\": [{\"line\": {\"colorbar\": {\"outlinewidth\": 0, \"ticks\": \"\"}}, \"type\": \"parcoords\"}], \"pie\": [{\"automargin\": true, \"type\": \"pie\"}], \"scatter\": [{\"marker\": {\"colorbar\": {\"outlinewidth\": 0, \"ticks\": \"\"}}, \"type\": \"scatter\"}], \"scatter3d\": [{\"line\": {\"colorbar\": {\"outlinewidth\": 0, \"ticks\": \"\"}}, \"marker\": {\"colorbar\": {\"outlinewidth\": 0, \"ticks\": \"\"}}, \"type\": \"scatter3d\"}], \"scattercarpet\": [{\"marker\": {\"colorbar\": {\"outlinewidth\": 0, \"ticks\": \"\"}}, \"type\": \"scattercarpet\"}], \"scattergeo\": [{\"marker\": {\"colorbar\": {\"outlinewidth\": 0, \"ticks\": \"\"}}, \"type\": \"scattergeo\"}], \"scattergl\": [{\"marker\": {\"colorbar\": {\"outlinewidth\": 0, \"ticks\": \"\"}}, \"type\": \"scattergl\"}], \"scattermapbox\": [{\"marker\": {\"colorbar\": {\"outlinewidth\": 0, \"ticks\": \"\"}}, \"type\": \"scattermapbox\"}], \"scatterpolar\": [{\"marker\": {\"colorbar\": {\"outlinewidth\": 0, \"ticks\": \"\"}}, \"type\": \"scatterpolar\"}], \"scatterpolargl\": [{\"marker\": {\"colorbar\": {\"outlinewidth\": 0, \"ticks\": \"\"}}, \"type\": \"scatterpolargl\"}], \"scatterternary\": [{\"marker\": {\"colorbar\": {\"outlinewidth\": 0, \"ticks\": \"\"}}, \"type\": \"scatterternary\"}], \"surface\": [{\"colorbar\": {\"outlinewidth\": 0, \"ticks\": \"\"}, \"colorscale\": [[0.0, \"#0d0887\"], [0.1111111111111111, \"#46039f\"], [0.2222222222222222, \"#7201a8\"], [0.3333333333333333, \"#9c179e\"], [0.4444444444444444, \"#bd3786\"], [0.5555555555555556, \"#d8576b\"], [0.6666666666666666, \"#ed7953\"], [0.7777777777777778, \"#fb9f3a\"], [0.8888888888888888, \"#fdca26\"], [1.0, \"#f0f921\"]], \"type\": \"surface\"}], \"table\": [{\"cells\": {\"fill\": {\"color\": \"#EBF0F8\"}, \"line\": {\"color\": \"white\"}}, \"header\": {\"fill\": {\"color\": \"#C8D4E3\"}, \"line\": {\"color\": \"white\"}}, \"type\": \"table\"}]}, \"layout\": {\"annotationdefaults\": {\"arrowcolor\": \"#2a3f5f\", \"arrowhead\": 0, \"arrowwidth\": 1}, \"coloraxis\": {\"colorbar\": {\"outlinewidth\": 0, \"ticks\": \"\"}}, \"colorscale\": {\"diverging\": [[0, \"#8e0152\"], [0.1, \"#c51b7d\"], [0.2, \"#de77ae\"], [0.3, \"#f1b6da\"], [0.4, \"#fde0ef\"], [0.5, \"#f7f7f7\"], [0.6, \"#e6f5d0\"], [0.7, \"#b8e186\"], [0.8, \"#7fbc41\"], [0.9, \"#4d9221\"], [1, \"#276419\"]], \"sequential\": [[0.0, \"#0d0887\"], [0.1111111111111111, \"#46039f\"], [0.2222222222222222, \"#7201a8\"], [0.3333333333333333, \"#9c179e\"], [0.4444444444444444, \"#bd3786\"], [0.5555555555555556, \"#d8576b\"], [0.6666666666666666, \"#ed7953\"], [0.7777777777777778, \"#fb9f3a\"], [0.8888888888888888, \"#fdca26\"], [1.0, \"#f0f921\"]], \"sequentialminus\": [[0.0, \"#0d0887\"], [0.1111111111111111, \"#46039f\"], [0.2222222222222222, \"#7201a8\"], [0.3333333333333333, \"#9c179e\"], [0.4444444444444444, \"#bd3786\"], [0.5555555555555556, \"#d8576b\"], [0.6666666666666666, \"#ed7953\"], [0.7777777777777778, \"#fb9f3a\"], [0.8888888888888888, \"#fdca26\"], [1.0, \"#f0f921\"]]}, \"colorway\": [\"#636efa\", \"#EF553B\", \"#00cc96\", \"#ab63fa\", \"#FFA15A\", \"#19d3f3\", \"#FF6692\", \"#B6E880\", \"#FF97FF\", \"#FECB52\"], \"font\": {\"color\": \"#2a3f5f\"}, \"geo\": {\"bgcolor\": \"white\", \"lakecolor\": \"white\", \"landcolor\": \"#E5ECF6\", \"showlakes\": true, \"showland\": true, \"subunitcolor\": \"white\"}, \"hoverlabel\": {\"align\": \"left\"}, \"hovermode\": \"closest\", \"mapbox\": {\"style\": \"light\"}, \"paper_bgcolor\": \"white\", \"plot_bgcolor\": \"#E5ECF6\", \"polar\": {\"angularaxis\": {\"gridcolor\": \"white\", \"linecolor\": \"white\", \"ticks\": \"\"}, \"bgcolor\": \"#E5ECF6\", \"radialaxis\": {\"gridcolor\": \"white\", \"linecolor\": \"white\", \"ticks\": \"\"}}, \"scene\": {\"xaxis\": {\"backgroundcolor\": \"#E5ECF6\", \"gridcolor\": \"white\", \"gridwidth\": 2, \"linecolor\": \"white\", \"showbackground\": true, \"ticks\": \"\", \"zerolinecolor\": \"white\"}, \"yaxis\": {\"backgroundcolor\": \"#E5ECF6\", \"gridcolor\": \"white\", \"gridwidth\": 2, \"linecolor\": \"white\", \"showbackground\": true, \"ticks\": \"\", \"zerolinecolor\": \"white\"}, \"zaxis\": {\"backgroundcolor\": \"#E5ECF6\", \"gridcolor\": \"white\", \"gridwidth\": 2, \"linecolor\": \"white\", \"showbackground\": true, \"ticks\": \"\", \"zerolinecolor\": \"white\"}}, \"shapedefaults\": {\"line\": {\"color\": \"#2a3f5f\"}}, \"ternary\": {\"aaxis\": {\"gridcolor\": \"white\", \"linecolor\": \"white\", \"ticks\": \"\"}, \"baxis\": {\"gridcolor\": \"white\", \"linecolor\": \"white\", \"ticks\": \"\"}, \"bgcolor\": \"#E5ECF6\", \"caxis\": {\"gridcolor\": \"white\", \"linecolor\": \"white\", \"ticks\": \"\"}}, \"title\": {\"x\": 0.05}, \"xaxis\": {\"automargin\": true, \"gridcolor\": \"white\", \"linecolor\": \"white\", \"ticks\": \"\", \"title\": {\"standoff\": 15}, \"zerolinecolor\": \"white\", \"zerolinewidth\": 2}, \"yaxis\": {\"automargin\": true, \"gridcolor\": \"white\", \"linecolor\": \"white\", \"ticks\": \"\", \"title\": {\"standoff\": 15}, \"zerolinecolor\": \"white\", \"zerolinewidth\": 2}}}},\n",
              "                        {\"responsive\": true}\n",
              "                    ).then(function(){\n",
              "                            \n",
              "var gd = document.getElementById('ce0eae38-1e66-4b36-937a-75db64eb2076');\n",
              "var x = new MutationObserver(function (mutations, observer) {{\n",
              "        var display = window.getComputedStyle(gd).display;\n",
              "        if (!display || display === 'none') {{\n",
              "            console.log([gd, 'removed!']);\n",
              "            Plotly.purge(gd);\n",
              "            observer.disconnect();\n",
              "        }}\n",
              "}});\n",
              "\n",
              "// Listen for the removal of the full notebook cells\n",
              "var notebookContainer = gd.closest('#notebook-container');\n",
              "if (notebookContainer) {{\n",
              "    x.observe(notebookContainer, {childList: true});\n",
              "}}\n",
              "\n",
              "// Listen for the clearing of the current output cell\n",
              "var outputEl = gd.closest('.output');\n",
              "if (outputEl) {{\n",
              "    x.observe(outputEl, {childList: true});\n",
              "}}\n",
              "\n",
              "                        })\n",
              "                };\n",
              "                \n",
              "            </script>\n",
              "        </div>\n",
              "</body>\n",
              "</html>"
            ]
          },
          "metadata": {
            "tags": []
          }
        }
      ]
    },
    {
      "cell_type": "code",
      "metadata": {
        "id": "P4YTy-3QArVF"
      },
      "source": [
        "#preliminary encoding for visualizing\n",
        "churn_numeric = {'Yes':1, 'No':0} \n",
        "data1.Churn.replace(churn_numeric, inplace=True) #replace yes with 1 and no with 0"
      ],
      "execution_count": null,
      "outputs": []
    },
    {
      "cell_type": "code",
      "metadata": {
        "colab": {
          "base_uri": "https://localhost:8080/",
          "height": 721
        },
        "id": "mVO1aA4X_1mA",
        "outputId": "686ab8e3-757a-422a-eb58-8e0a017e7870"
      },
      "source": [
        "#analyze customer churn for each variable\n",
        "#countplots for displaying customer charactristics\n",
        "fig, axes = plt.subplots(2, 2, figsize=(12, 7), sharey=True)\n",
        "sns.countplot(\"gender\", data=data1, ax=axes[0,0], palette=\"husl\")\n",
        "sns.countplot(\"SeniorCitizen\", data=data1, ax=axes[0,1], palette=\"husl\")\n",
        "sns.countplot(\"Partner\", data=data1, ax=axes[1,0], palette=\"husl\")\n",
        "sns.countplot(\"Dependents\", data=data1, ax=axes[1,1], palette=\"husl\")"
      ],
      "execution_count": null,
      "outputs": [
        {
          "output_type": "stream",
          "text": [
            "/usr/local/lib/python3.6/dist-packages/seaborn/_decorators.py:43: FutureWarning:\n",
            "\n",
            "Pass the following variable as a keyword arg: x. From version 0.12, the only valid positional argument will be `data`, and passing other arguments without an explicit keyword will result in an error or misinterpretation.\n",
            "\n",
            "/usr/local/lib/python3.6/dist-packages/seaborn/_decorators.py:43: FutureWarning:\n",
            "\n",
            "Pass the following variable as a keyword arg: x. From version 0.12, the only valid positional argument will be `data`, and passing other arguments without an explicit keyword will result in an error or misinterpretation.\n",
            "\n",
            "/usr/local/lib/python3.6/dist-packages/seaborn/_decorators.py:43: FutureWarning:\n",
            "\n",
            "Pass the following variable as a keyword arg: x. From version 0.12, the only valid positional argument will be `data`, and passing other arguments without an explicit keyword will result in an error or misinterpretation.\n",
            "\n",
            "/usr/local/lib/python3.6/dist-packages/seaborn/_decorators.py:43: FutureWarning:\n",
            "\n",
            "Pass the following variable as a keyword arg: x. From version 0.12, the only valid positional argument will be `data`, and passing other arguments without an explicit keyword will result in an error or misinterpretation.\n",
            "\n"
          ],
          "name": "stderr"
        },
        {
          "output_type": "execute_result",
          "data": {
            "text/plain": [
              "<matplotlib.axes._subplots.AxesSubplot at 0x7fb47515be48>"
            ]
          },
          "metadata": {
            "tags": []
          },
          "execution_count": 1168
        },
        {
          "output_type": "display_data",
          "data": {
            "image/png": "[encoded data removed]",
            "text/plain": [
              "<Figure size 864x504 with 4 Axes>"
            ]
          },
          "metadata": {
            "tags": [],
            "needs_background": "light"
          }
        }
      ]
    },
    {
      "cell_type": "code",
      "metadata": {
        "colab": {
          "base_uri": "https://localhost:8080/",
          "height": 140
        },
        "id": "6zMy4zU5BYRV",
        "outputId": "2c7fc94c-dbf9-4710-9285-1bacba8a67e2"
      },
      "source": [
        "data1[['gender','Churn']].groupby(['gender']).mean()"
      ],
      "execution_count": null,
      "outputs": [
        {
          "output_type": "execute_result",
          "data": {
            "text/html": [
              "<div>\n",
              "<style scoped>\n",
              "    .dataframe tbody tr th:only-of-type {\n",
              "        vertical-align: middle;\n",
              "    }\n",
              "\n",
              "    .dataframe tbody tr th {\n",
              "        vertical-align: top;\n",
              "    }\n",
              "\n",
              "    .dataframe thead th {\n",
              "        text-align: right;\n",
              "    }\n",
              "</style>\n",
              "<table border=\"1\" class=\"dataframe\">\n",
              "  <thead>\n",
              "    <tr style=\"text-align: right;\">\n",
              "      <th></th>\n",
              "      <th>Churn</th>\n",
              "    </tr>\n",
              "    <tr>\n",
              "      <th>gender</th>\n",
              "      <th></th>\n",
              "    </tr>\n",
              "  </thead>\n",
              "  <tbody>\n",
              "    <tr>\n",
              "      <th>Female</th>\n",
              "      <td>0.269209</td>\n",
              "    </tr>\n",
              "    <tr>\n",
              "      <th>Male</th>\n",
              "      <td>0.261603</td>\n",
              "    </tr>\n",
              "  </tbody>\n",
              "</table>\n",
              "</div>"
            ],
            "text/plain": [
              "           Churn\n",
              "gender          \n",
              "Female  0.269209\n",
              "Male    0.261603"
            ]
          },
          "metadata": {
            "tags": []
          },
          "execution_count": 1169
        }
      ]
    },
    {
      "cell_type": "code",
      "metadata": {
        "colab": {
          "base_uri": "https://localhost:8080/",
          "height": 140
        },
        "id": "StPe02oYBb0r",
        "outputId": "3a3df190-40a8-46ae-ee2e-21ef3ad4e115"
      },
      "source": [
        "data1[['SeniorCitizen','Churn']].groupby(['SeniorCitizen']).mean()"
      ],
      "execution_count": null,
      "outputs": [
        {
          "output_type": "execute_result",
          "data": {
            "text/html": [
              "<div>\n",
              "<style scoped>\n",
              "    .dataframe tbody tr th:only-of-type {\n",
              "        vertical-align: middle;\n",
              "    }\n",
              "\n",
              "    .dataframe tbody tr th {\n",
              "        vertical-align: top;\n",
              "    }\n",
              "\n",
              "    .dataframe thead th {\n",
              "        text-align: right;\n",
              "    }\n",
              "</style>\n",
              "<table border=\"1\" class=\"dataframe\">\n",
              "  <thead>\n",
              "    <tr style=\"text-align: right;\">\n",
              "      <th></th>\n",
              "      <th>Churn</th>\n",
              "    </tr>\n",
              "    <tr>\n",
              "      <th>SeniorCitizen</th>\n",
              "      <th></th>\n",
              "    </tr>\n",
              "  </thead>\n",
              "  <tbody>\n",
              "    <tr>\n",
              "      <th>0</th>\n",
              "      <td>0.236062</td>\n",
              "    </tr>\n",
              "    <tr>\n",
              "      <th>1</th>\n",
              "      <td>0.416813</td>\n",
              "    </tr>\n",
              "  </tbody>\n",
              "</table>\n",
              "</div>"
            ],
            "text/plain": [
              "                  Churn\n",
              "SeniorCitizen          \n",
              "0              0.236062\n",
              "1              0.416813"
            ]
          },
          "metadata": {
            "tags": []
          },
          "execution_count": 1170
        }
      ]
    },
    {
      "cell_type": "code",
      "metadata": {
        "colab": {
          "base_uri": "https://localhost:8080/",
          "height": 140
        },
        "id": "O1sawBFDCJVv",
        "outputId": "2f2242cc-ff4e-475e-e9d1-1626b966f770"
      },
      "source": [
        "data1[['Partner','Churn']].groupby(['Partner']).mean()"
      ],
      "execution_count": null,
      "outputs": [
        {
          "output_type": "execute_result",
          "data": {
            "text/html": [
              "<div>\n",
              "<style scoped>\n",
              "    .dataframe tbody tr th:only-of-type {\n",
              "        vertical-align: middle;\n",
              "    }\n",
              "\n",
              "    .dataframe tbody tr th {\n",
              "        vertical-align: top;\n",
              "    }\n",
              "\n",
              "    .dataframe thead th {\n",
              "        text-align: right;\n",
              "    }\n",
              "</style>\n",
              "<table border=\"1\" class=\"dataframe\">\n",
              "  <thead>\n",
              "    <tr style=\"text-align: right;\">\n",
              "      <th></th>\n",
              "      <th>Churn</th>\n",
              "    </tr>\n",
              "    <tr>\n",
              "      <th>Partner</th>\n",
              "      <th></th>\n",
              "    </tr>\n",
              "  </thead>\n",
              "  <tbody>\n",
              "    <tr>\n",
              "      <th>No</th>\n",
              "      <td>0.329580</td>\n",
              "    </tr>\n",
              "    <tr>\n",
              "      <th>Yes</th>\n",
              "      <td>0.196649</td>\n",
              "    </tr>\n",
              "  </tbody>\n",
              "</table>\n",
              "</div>"
            ],
            "text/plain": [
              "            Churn\n",
              "Partner          \n",
              "No       0.329580\n",
              "Yes      0.196649"
            ]
          },
          "metadata": {
            "tags": []
          },
          "execution_count": 1171
        }
      ]
    },
    {
      "cell_type": "code",
      "metadata": {
        "colab": {
          "base_uri": "https://localhost:8080/",
          "height": 140
        },
        "id": "7PX2i9rDCid2",
        "outputId": "2df5985e-ccb6-4e2f-a591-c63b7ff295ee"
      },
      "source": [
        "data1[['Dependents','Churn']].groupby(['Dependents']).mean()"
      ],
      "execution_count": null,
      "outputs": [
        {
          "output_type": "execute_result",
          "data": {
            "text/html": [
              "<div>\n",
              "<style scoped>\n",
              "    .dataframe tbody tr th:only-of-type {\n",
              "        vertical-align: middle;\n",
              "    }\n",
              "\n",
              "    .dataframe tbody tr th {\n",
              "        vertical-align: top;\n",
              "    }\n",
              "\n",
              "    .dataframe thead th {\n",
              "        text-align: right;\n",
              "    }\n",
              "</style>\n",
              "<table border=\"1\" class=\"dataframe\">\n",
              "  <thead>\n",
              "    <tr style=\"text-align: right;\">\n",
              "      <th></th>\n",
              "      <th>Churn</th>\n",
              "    </tr>\n",
              "    <tr>\n",
              "      <th>Dependents</th>\n",
              "      <th></th>\n",
              "    </tr>\n",
              "  </thead>\n",
              "  <tbody>\n",
              "    <tr>\n",
              "      <th>No</th>\n",
              "      <td>0.312791</td>\n",
              "    </tr>\n",
              "    <tr>\n",
              "      <th>Yes</th>\n",
              "      <td>0.154502</td>\n",
              "    </tr>\n",
              "  </tbody>\n",
              "</table>\n",
              "</div>"
            ],
            "text/plain": [
              "               Churn\n",
              "Dependents          \n",
              "No          0.312791\n",
              "Yes         0.154502"
            ]
          },
          "metadata": {
            "tags": []
          },
          "execution_count": 1172
        }
      ]
    },
    {
      "cell_type": "code",
      "metadata": {
        "id": "_TzNC9yEDBiW"
      },
      "source": [
        "#countplots for displaying after-sales services variables"
      ],
      "execution_count": null,
      "outputs": []
    },
    {
      "cell_type": "code",
      "metadata": {
        "colab": {
          "base_uri": "https://localhost:8080/",
          "height": 1000
        },
        "id": "ZcXKM8fX_-fn",
        "outputId": "1ab23799-80dd-4991-f204-ef634834ba1a"
      },
      "source": [
        "#analyze customer churn for each variable\n",
        "#countplots for displaying after-sales services variables\n",
        "fig, axes = plt.subplots(2, 4, figsize=(16, 12), sharey=True)\n",
        "sns.countplot(\"StreamingTV\", data=data1, ax=axes[0,0], palette=\"husl\")\n",
        "sns.countplot(\"StreamingMovies\", data=data1, ax=axes[0,1], palette=\"husl\")\n",
        "sns.countplot(\"OnlineSecurity\", data=data1, ax=axes[0,2], palette=\"husl\")\n",
        "sns.countplot(\"OnlineBackup\", data=data1, ax=axes[1,0], palette=\"husl\")\n",
        "sns.countplot(\"DeviceProtection\", data=data1, ax=axes[1,1], palette=\"husl\")\n",
        "sns.countplot(\"TechSupport\", data=data1, ax=axes[1,2], palette=\"husl\")\n",
        "sns.countplot(\"PhoneService\", data=data1, ax=axes[0,3], palette=\"husl\")\n",
        "sns.countplot(\"MultipleLines\", data=data1, ax=axes[1,3], palette=\"husl\")"
      ],
      "execution_count": null,
      "outputs": [
        {
          "output_type": "stream",
          "text": [
            "/usr/local/lib/python3.6/dist-packages/seaborn/_decorators.py:43: FutureWarning:\n",
            "\n",
            "Pass the following variable as a keyword arg: x. From version 0.12, the only valid positional argument will be `data`, and passing other arguments without an explicit keyword will result in an error or misinterpretation.\n",
            "\n",
            "/usr/local/lib/python3.6/dist-packages/seaborn/_decorators.py:43: FutureWarning:\n",
            "\n",
            "Pass the following variable as a keyword arg: x. From version 0.12, the only valid positional argument will be `data`, and passing other arguments without an explicit keyword will result in an error or misinterpretation.\n",
            "\n",
            "/usr/local/lib/python3.6/dist-packages/seaborn/_decorators.py:43: FutureWarning:\n",
            "\n",
            "Pass the following variable as a keyword arg: x. From version 0.12, the only valid positional argument will be `data`, and passing other arguments without an explicit keyword will result in an error or misinterpretation.\n",
            "\n",
            "/usr/local/lib/python3.6/dist-packages/seaborn/_decorators.py:43: FutureWarning:\n",
            "\n",
            "Pass the following variable as a keyword arg: x. From version 0.12, the only valid positional argument will be `data`, and passing other arguments without an explicit keyword will result in an error or misinterpretation.\n",
            "\n",
            "/usr/local/lib/python3.6/dist-packages/seaborn/_decorators.py:43: FutureWarning:\n",
            "\n",
            "Pass the following variable as a keyword arg: x. From version 0.12, the only valid positional argument will be `data`, and passing other arguments without an explicit keyword will result in an error or misinterpretation.\n",
            "\n",
            "/usr/local/lib/python3.6/dist-packages/seaborn/_decorators.py:43: FutureWarning:\n",
            "\n",
            "Pass the following variable as a keyword arg: x. From version 0.12, the only valid positional argument will be `data`, and passing other arguments without an explicit keyword will result in an error or misinterpretation.\n",
            "\n",
            "/usr/local/lib/python3.6/dist-packages/seaborn/_decorators.py:43: FutureWarning:\n",
            "\n",
            "Pass the following variable as a keyword arg: x. From version 0.12, the only valid positional argument will be `data`, and passing other arguments without an explicit keyword will result in an error or misinterpretation.\n",
            "\n",
            "/usr/local/lib/python3.6/dist-packages/seaborn/_decorators.py:43: FutureWarning:\n",
            "\n",
            "Pass the following variable as a keyword arg: x. From version 0.12, the only valid positional argument will be `data`, and passing other arguments without an explicit keyword will result in an error or misinterpretation.\n",
            "\n"
          ],
          "name": "stderr"
        },
        {
          "output_type": "execute_result",
          "data": {
            "text/plain": [
              "<matplotlib.axes._subplots.AxesSubplot at 0x7fb472c62860>"
            ]
          },
          "metadata": {
            "tags": []
          },
          "execution_count": 1174
        },
        {
          "output_type": "display_data",
          "data": {
            "image/png": "[encoded data removed]",
            "text/plain": [
              "<Figure size 1152x864 with 8 Axes>"
            ]
          },
          "metadata": {
            "tags": [],
            "needs_background": "light"
          }
        }
      ]
    },
    {
      "cell_type": "code",
      "metadata": {
        "colab": {
          "base_uri": "https://localhost:8080/",
          "height": 170
        },
        "id": "0JPCQRguEF4-",
        "outputId": "1193cb74-141f-4235-c70a-fc90589c7a2e"
      },
      "source": [
        "data1[['StreamingTV','Churn']].groupby(['StreamingTV']).mean()"
      ],
      "execution_count": null,
      "outputs": [
        {
          "output_type": "execute_result",
          "data": {
            "text/html": [
              "<div>\n",
              "<style scoped>\n",
              "    .dataframe tbody tr th:only-of-type {\n",
              "        vertical-align: middle;\n",
              "    }\n",
              "\n",
              "    .dataframe tbody tr th {\n",
              "        vertical-align: top;\n",
              "    }\n",
              "\n",
              "    .dataframe thead th {\n",
              "        text-align: right;\n",
              "    }\n",
              "</style>\n",
              "<table border=\"1\" class=\"dataframe\">\n",
              "  <thead>\n",
              "    <tr style=\"text-align: right;\">\n",
              "      <th></th>\n",
              "      <th>Churn</th>\n",
              "    </tr>\n",
              "    <tr>\n",
              "      <th>StreamingTV</th>\n",
              "      <th></th>\n",
              "    </tr>\n",
              "  </thead>\n",
              "  <tbody>\n",
              "    <tr>\n",
              "      <th>No</th>\n",
              "      <td>0.335231</td>\n",
              "    </tr>\n",
              "    <tr>\n",
              "      <th>No internet service</th>\n",
              "      <td>0.074050</td>\n",
              "    </tr>\n",
              "    <tr>\n",
              "      <th>Yes</th>\n",
              "      <td>0.300702</td>\n",
              "    </tr>\n",
              "  </tbody>\n",
              "</table>\n",
              "</div>"
            ],
            "text/plain": [
              "                        Churn\n",
              "StreamingTV                  \n",
              "No                   0.335231\n",
              "No internet service  0.074050\n",
              "Yes                  0.300702"
            ]
          },
          "metadata": {
            "tags": []
          },
          "execution_count": 1175
        }
      ]
    },
    {
      "cell_type": "code",
      "metadata": {
        "colab": {
          "base_uri": "https://localhost:8080/",
          "height": 170
        },
        "id": "1Rsl7bhoEC04",
        "outputId": "3178a8a6-cfc0-4716-ddd4-264776c7407e"
      },
      "source": [
        "data1[['StreamingMovies','Churn']].groupby(['StreamingMovies']).mean()"
      ],
      "execution_count": null,
      "outputs": [
        {
          "output_type": "execute_result",
          "data": {
            "text/html": [
              "<div>\n",
              "<style scoped>\n",
              "    .dataframe tbody tr th:only-of-type {\n",
              "        vertical-align: middle;\n",
              "    }\n",
              "\n",
              "    .dataframe tbody tr th {\n",
              "        vertical-align: top;\n",
              "    }\n",
              "\n",
              "    .dataframe thead th {\n",
              "        text-align: right;\n",
              "    }\n",
              "</style>\n",
              "<table border=\"1\" class=\"dataframe\">\n",
              "  <thead>\n",
              "    <tr style=\"text-align: right;\">\n",
              "      <th></th>\n",
              "      <th>Churn</th>\n",
              "    </tr>\n",
              "    <tr>\n",
              "      <th>StreamingMovies</th>\n",
              "      <th></th>\n",
              "    </tr>\n",
              "  </thead>\n",
              "  <tbody>\n",
              "    <tr>\n",
              "      <th>No</th>\n",
              "      <td>0.336804</td>\n",
              "    </tr>\n",
              "    <tr>\n",
              "      <th>No internet service</th>\n",
              "      <td>0.074050</td>\n",
              "    </tr>\n",
              "    <tr>\n",
              "      <th>Yes</th>\n",
              "      <td>0.299414</td>\n",
              "    </tr>\n",
              "  </tbody>\n",
              "</table>\n",
              "</div>"
            ],
            "text/plain": [
              "                        Churn\n",
              "StreamingMovies              \n",
              "No                   0.336804\n",
              "No internet service  0.074050\n",
              "Yes                  0.299414"
            ]
          },
          "metadata": {
            "tags": []
          },
          "execution_count": 1176
        }
      ]
    },
    {
      "cell_type": "code",
      "metadata": {
        "colab": {
          "base_uri": "https://localhost:8080/",
          "height": 170
        },
        "id": "liqxweSVENcl",
        "outputId": "bc215d63-ac6e-45f6-861e-1b90020dee3a"
      },
      "source": [
        "data1[['OnlineSecurity','Churn']].groupby(['OnlineSecurity']).mean()"
      ],
      "execution_count": null,
      "outputs": [
        {
          "output_type": "execute_result",
          "data": {
            "text/html": [
              "<div>\n",
              "<style scoped>\n",
              "    .dataframe tbody tr th:only-of-type {\n",
              "        vertical-align: middle;\n",
              "    }\n",
              "\n",
              "    .dataframe tbody tr th {\n",
              "        vertical-align: top;\n",
              "    }\n",
              "\n",
              "    .dataframe thead th {\n",
              "        text-align: right;\n",
              "    }\n",
              "</style>\n",
              "<table border=\"1\" class=\"dataframe\">\n",
              "  <thead>\n",
              "    <tr style=\"text-align: right;\">\n",
              "      <th></th>\n",
              "      <th>Churn</th>\n",
              "    </tr>\n",
              "    <tr>\n",
              "      <th>OnlineSecurity</th>\n",
              "      <th></th>\n",
              "    </tr>\n",
              "  </thead>\n",
              "  <tbody>\n",
              "    <tr>\n",
              "      <th>No</th>\n",
              "      <td>0.417667</td>\n",
              "    </tr>\n",
              "    <tr>\n",
              "      <th>No internet service</th>\n",
              "      <td>0.074050</td>\n",
              "    </tr>\n",
              "    <tr>\n",
              "      <th>Yes</th>\n",
              "      <td>0.146112</td>\n",
              "    </tr>\n",
              "  </tbody>\n",
              "</table>\n",
              "</div>"
            ],
            "text/plain": [
              "                        Churn\n",
              "OnlineSecurity               \n",
              "No                   0.417667\n",
              "No internet service  0.074050\n",
              "Yes                  0.146112"
            ]
          },
          "metadata": {
            "tags": []
          },
          "execution_count": 1177
        }
      ]
    },
    {
      "cell_type": "code",
      "metadata": {
        "colab": {
          "base_uri": "https://localhost:8080/",
          "height": 140
        },
        "id": "WZVWsmUOEntu",
        "outputId": "19b88fb9-ea55-46b5-b0d2-c8a26eb167fd"
      },
      "source": [
        "data1[['PhoneService','Churn']].groupby(['PhoneService']).mean()"
      ],
      "execution_count": null,
      "outputs": [
        {
          "output_type": "execute_result",
          "data": {
            "text/html": [
              "<div>\n",
              "<style scoped>\n",
              "    .dataframe tbody tr th:only-of-type {\n",
              "        vertical-align: middle;\n",
              "    }\n",
              "\n",
              "    .dataframe tbody tr th {\n",
              "        vertical-align: top;\n",
              "    }\n",
              "\n",
              "    .dataframe thead th {\n",
              "        text-align: right;\n",
              "    }\n",
              "</style>\n",
              "<table border=\"1\" class=\"dataframe\">\n",
              "  <thead>\n",
              "    <tr style=\"text-align: right;\">\n",
              "      <th></th>\n",
              "      <th>Churn</th>\n",
              "    </tr>\n",
              "    <tr>\n",
              "      <th>PhoneService</th>\n",
              "      <th></th>\n",
              "    </tr>\n",
              "  </thead>\n",
              "  <tbody>\n",
              "    <tr>\n",
              "      <th>No</th>\n",
              "      <td>0.249267</td>\n",
              "    </tr>\n",
              "    <tr>\n",
              "      <th>Yes</th>\n",
              "      <td>0.267096</td>\n",
              "    </tr>\n",
              "  </tbody>\n",
              "</table>\n",
              "</div>"
            ],
            "text/plain": [
              "                 Churn\n",
              "PhoneService          \n",
              "No            0.249267\n",
              "Yes           0.267096"
            ]
          },
          "metadata": {
            "tags": []
          },
          "execution_count": 1178
        }
      ]
    },
    {
      "cell_type": "code",
      "metadata": {
        "colab": {
          "base_uri": "https://localhost:8080/",
          "height": 170
        },
        "id": "S-uHQa0HETsi",
        "outputId": "5c494ae0-4497-42e4-83f5-53b61eb8eb45"
      },
      "source": [
        "data1[['OnlineBackup','Churn']].groupby(['OnlineBackup']).mean()"
      ],
      "execution_count": null,
      "outputs": [
        {
          "output_type": "execute_result",
          "data": {
            "text/html": [
              "<div>\n",
              "<style scoped>\n",
              "    .dataframe tbody tr th:only-of-type {\n",
              "        vertical-align: middle;\n",
              "    }\n",
              "\n",
              "    .dataframe tbody tr th {\n",
              "        vertical-align: top;\n",
              "    }\n",
              "\n",
              "    .dataframe thead th {\n",
              "        text-align: right;\n",
              "    }\n",
              "</style>\n",
              "<table border=\"1\" class=\"dataframe\">\n",
              "  <thead>\n",
              "    <tr style=\"text-align: right;\">\n",
              "      <th></th>\n",
              "      <th>Churn</th>\n",
              "    </tr>\n",
              "    <tr>\n",
              "      <th>OnlineBackup</th>\n",
              "      <th></th>\n",
              "    </tr>\n",
              "  </thead>\n",
              "  <tbody>\n",
              "    <tr>\n",
              "      <th>No</th>\n",
              "      <td>0.399288</td>\n",
              "    </tr>\n",
              "    <tr>\n",
              "      <th>No internet service</th>\n",
              "      <td>0.074050</td>\n",
              "    </tr>\n",
              "    <tr>\n",
              "      <th>Yes</th>\n",
              "      <td>0.215315</td>\n",
              "    </tr>\n",
              "  </tbody>\n",
              "</table>\n",
              "</div>"
            ],
            "text/plain": [
              "                        Churn\n",
              "OnlineBackup                 \n",
              "No                   0.399288\n",
              "No internet service  0.074050\n",
              "Yes                  0.215315"
            ]
          },
          "metadata": {
            "tags": []
          },
          "execution_count": 1179
        }
      ]
    },
    {
      "cell_type": "code",
      "metadata": {
        "colab": {
          "base_uri": "https://localhost:8080/",
          "height": 170
        },
        "id": "hOTbDG_fEYVy",
        "outputId": "a568d696-5abf-4785-af53-5d70328bfeae"
      },
      "source": [
        "data1[['DeviceProtection','Churn']].groupby(['DeviceProtection']).mean()"
      ],
      "execution_count": null,
      "outputs": [
        {
          "output_type": "execute_result",
          "data": {
            "text/html": [
              "<div>\n",
              "<style scoped>\n",
              "    .dataframe tbody tr th:only-of-type {\n",
              "        vertical-align: middle;\n",
              "    }\n",
              "\n",
              "    .dataframe tbody tr th {\n",
              "        vertical-align: top;\n",
              "    }\n",
              "\n",
              "    .dataframe thead th {\n",
              "        text-align: right;\n",
              "    }\n",
              "</style>\n",
              "<table border=\"1\" class=\"dataframe\">\n",
              "  <thead>\n",
              "    <tr style=\"text-align: right;\">\n",
              "      <th></th>\n",
              "      <th>Churn</th>\n",
              "    </tr>\n",
              "    <tr>\n",
              "      <th>DeviceProtection</th>\n",
              "      <th></th>\n",
              "    </tr>\n",
              "  </thead>\n",
              "  <tbody>\n",
              "    <tr>\n",
              "      <th>No</th>\n",
              "      <td>0.391276</td>\n",
              "    </tr>\n",
              "    <tr>\n",
              "      <th>No internet service</th>\n",
              "      <td>0.074050</td>\n",
              "    </tr>\n",
              "    <tr>\n",
              "      <th>Yes</th>\n",
              "      <td>0.225021</td>\n",
              "    </tr>\n",
              "  </tbody>\n",
              "</table>\n",
              "</div>"
            ],
            "text/plain": [
              "                        Churn\n",
              "DeviceProtection             \n",
              "No                   0.391276\n",
              "No internet service  0.074050\n",
              "Yes                  0.225021"
            ]
          },
          "metadata": {
            "tags": []
          },
          "execution_count": 1180
        }
      ]
    },
    {
      "cell_type": "code",
      "metadata": {
        "colab": {
          "base_uri": "https://localhost:8080/",
          "height": 170
        },
        "id": "Z3URCTecEg8K",
        "outputId": "59b6b936-19ed-445d-fba8-f176d0990bd1"
      },
      "source": [
        "data1[['TechSupport','Churn']].groupby(['TechSupport']).mean()"
      ],
      "execution_count": null,
      "outputs": [
        {
          "output_type": "execute_result",
          "data": {
            "text/html": [
              "<div>\n",
              "<style scoped>\n",
              "    .dataframe tbody tr th:only-of-type {\n",
              "        vertical-align: middle;\n",
              "    }\n",
              "\n",
              "    .dataframe tbody tr th {\n",
              "        vertical-align: top;\n",
              "    }\n",
              "\n",
              "    .dataframe thead th {\n",
              "        text-align: right;\n",
              "    }\n",
              "</style>\n",
              "<table border=\"1\" class=\"dataframe\">\n",
              "  <thead>\n",
              "    <tr style=\"text-align: right;\">\n",
              "      <th></th>\n",
              "      <th>Churn</th>\n",
              "    </tr>\n",
              "    <tr>\n",
              "      <th>TechSupport</th>\n",
              "      <th></th>\n",
              "    </tr>\n",
              "  </thead>\n",
              "  <tbody>\n",
              "    <tr>\n",
              "      <th>No</th>\n",
              "      <td>0.416355</td>\n",
              "    </tr>\n",
              "    <tr>\n",
              "      <th>No internet service</th>\n",
              "      <td>0.074050</td>\n",
              "    </tr>\n",
              "    <tr>\n",
              "      <th>Yes</th>\n",
              "      <td>0.151663</td>\n",
              "    </tr>\n",
              "  </tbody>\n",
              "</table>\n",
              "</div>"
            ],
            "text/plain": [
              "                        Churn\n",
              "TechSupport                  \n",
              "No                   0.416355\n",
              "No internet service  0.074050\n",
              "Yes                  0.151663"
            ]
          },
          "metadata": {
            "tags": []
          },
          "execution_count": 1181
        }
      ]
    },
    {
      "cell_type": "code",
      "metadata": {
        "colab": {
          "base_uri": "https://localhost:8080/",
          "height": 170
        },
        "id": "yhtdpRfuEsme",
        "outputId": "54868d00-1832-428d-b6bb-fda697e1b74b"
      },
      "source": [
        "data1[['MultipleLines','Churn']].groupby(['MultipleLines']).mean()"
      ],
      "execution_count": null,
      "outputs": [
        {
          "output_type": "execute_result",
          "data": {
            "text/html": [
              "<div>\n",
              "<style scoped>\n",
              "    .dataframe tbody tr th:only-of-type {\n",
              "        vertical-align: middle;\n",
              "    }\n",
              "\n",
              "    .dataframe tbody tr th {\n",
              "        vertical-align: top;\n",
              "    }\n",
              "\n",
              "    .dataframe thead th {\n",
              "        text-align: right;\n",
              "    }\n",
              "</style>\n",
              "<table border=\"1\" class=\"dataframe\">\n",
              "  <thead>\n",
              "    <tr style=\"text-align: right;\">\n",
              "      <th></th>\n",
              "      <th>Churn</th>\n",
              "    </tr>\n",
              "    <tr>\n",
              "      <th>MultipleLines</th>\n",
              "      <th></th>\n",
              "    </tr>\n",
              "  </thead>\n",
              "  <tbody>\n",
              "    <tr>\n",
              "      <th>No</th>\n",
              "      <td>0.250442</td>\n",
              "    </tr>\n",
              "    <tr>\n",
              "      <th>No phone service</th>\n",
              "      <td>0.249267</td>\n",
              "    </tr>\n",
              "    <tr>\n",
              "      <th>Yes</th>\n",
              "      <td>0.286099</td>\n",
              "    </tr>\n",
              "  </tbody>\n",
              "</table>\n",
              "</div>"
            ],
            "text/plain": [
              "                     Churn\n",
              "MultipleLines             \n",
              "No                0.250442\n",
              "No phone service  0.249267\n",
              "Yes               0.286099"
            ]
          },
          "metadata": {
            "tags": []
          },
          "execution_count": 1182
        }
      ]
    },
    {
      "cell_type": "code",
      "metadata": {
        "colab": {
          "base_uri": "https://localhost:8080/",
          "height": 360
        },
        "id": "7_2Y0zd0kLwn",
        "outputId": "1cd6fd51-58bb-4086-c398-d888afa2980e"
      },
      "source": [
        "sns.countplot(\"InternetService\", data=data1, palette=\"husl\")"
      ],
      "execution_count": null,
      "outputs": [
        {
          "output_type": "stream",
          "text": [
            "/usr/local/lib/python3.6/dist-packages/seaborn/_decorators.py:43: FutureWarning:\n",
            "\n",
            "Pass the following variable as a keyword arg: x. From version 0.12, the only valid positional argument will be `data`, and passing other arguments without an explicit keyword will result in an error or misinterpretation.\n",
            "\n"
          ],
          "name": "stderr"
        },
        {
          "output_type": "execute_result",
          "data": {
            "text/plain": [
              "<matplotlib.axes._subplots.AxesSubplot at 0x7fb4749a5048>"
            ]
          },
          "metadata": {
            "tags": []
          },
          "execution_count": 1183
        },
        {
          "output_type": "display_data",
          "data": {
            "image/png": "[encoded data removed]",
            "text/plain": [
              "<Figure size 432x288 with 1 Axes>"
            ]
          },
          "metadata": {
            "tags": [],
            "needs_background": "light"
          }
        }
      ]
    },
    {
      "cell_type": "code",
      "metadata": {
        "colab": {
          "base_uri": "https://localhost:8080/",
          "height": 170
        },
        "id": "dP2hZnkFQzEg",
        "outputId": "b6a3df81-32b3-4766-e8ac-bbb9b7e7b2f4"
      },
      "source": [
        "data1[['InternetService','Churn']].groupby(['InternetService']).mean()"
      ],
      "execution_count": null,
      "outputs": [
        {
          "output_type": "execute_result",
          "data": {
            "text/html": [
              "<div>\n",
              "<style scoped>\n",
              "    .dataframe tbody tr th:only-of-type {\n",
              "        vertical-align: middle;\n",
              "    }\n",
              "\n",
              "    .dataframe tbody tr th {\n",
              "        vertical-align: top;\n",
              "    }\n",
              "\n",
              "    .dataframe thead th {\n",
              "        text-align: right;\n",
              "    }\n",
              "</style>\n",
              "<table border=\"1\" class=\"dataframe\">\n",
              "  <thead>\n",
              "    <tr style=\"text-align: right;\">\n",
              "      <th></th>\n",
              "      <th>Churn</th>\n",
              "    </tr>\n",
              "    <tr>\n",
              "      <th>InternetService</th>\n",
              "      <th></th>\n",
              "    </tr>\n",
              "  </thead>\n",
              "  <tbody>\n",
              "    <tr>\n",
              "      <th>DSL</th>\n",
              "      <td>0.189591</td>\n",
              "    </tr>\n",
              "    <tr>\n",
              "      <th>Fiber optic</th>\n",
              "      <td>0.418928</td>\n",
              "    </tr>\n",
              "    <tr>\n",
              "      <th>No</th>\n",
              "      <td>0.074050</td>\n",
              "    </tr>\n",
              "  </tbody>\n",
              "</table>\n",
              "</div>"
            ],
            "text/plain": [
              "                    Churn\n",
              "InternetService          \n",
              "DSL              0.189591\n",
              "Fiber optic      0.418928\n",
              "No               0.074050"
            ]
          },
          "metadata": {
            "tags": []
          },
          "execution_count": 1184
        }
      ]
    },
    {
      "cell_type": "code",
      "metadata": {
        "id": "A_GzaARyC5CN"
      },
      "source": [
        "#why do most customers churn when using fiber optic?\n",
        "#cheapest or most expensive option? -> compare to monthly charges"
      ],
      "execution_count": null,
      "outputs": []
    },
    {
      "cell_type": "code",
      "metadata": {
        "colab": {
          "base_uri": "https://localhost:8080/",
          "height": 170
        },
        "id": "j6yd0j2HDC2c",
        "outputId": "0f5616e8-c538-4d57-929e-62b95c4945ad"
      },
      "source": [
        "data1[['InternetService','MonthlyCharges']].groupby(['InternetService']).mean()\n",
        "#most expensive internetservice option"
      ],
      "execution_count": null,
      "outputs": [
        {
          "output_type": "execute_result",
          "data": {
            "text/html": [
              "<div>\n",
              "<style scoped>\n",
              "    .dataframe tbody tr th:only-of-type {\n",
              "        vertical-align: middle;\n",
              "    }\n",
              "\n",
              "    .dataframe tbody tr th {\n",
              "        vertical-align: top;\n",
              "    }\n",
              "\n",
              "    .dataframe thead th {\n",
              "        text-align: right;\n",
              "    }\n",
              "</style>\n",
              "<table border=\"1\" class=\"dataframe\">\n",
              "  <thead>\n",
              "    <tr style=\"text-align: right;\">\n",
              "      <th></th>\n",
              "      <th>MonthlyCharges</th>\n",
              "    </tr>\n",
              "    <tr>\n",
              "      <th>InternetService</th>\n",
              "      <th></th>\n",
              "    </tr>\n",
              "  </thead>\n",
              "  <tbody>\n",
              "    <tr>\n",
              "      <th>DSL</th>\n",
              "      <td>58.102169</td>\n",
              "    </tr>\n",
              "    <tr>\n",
              "      <th>Fiber optic</th>\n",
              "      <td>91.500129</td>\n",
              "    </tr>\n",
              "    <tr>\n",
              "      <th>No</th>\n",
              "      <td>21.079194</td>\n",
              "    </tr>\n",
              "  </tbody>\n",
              "</table>\n",
              "</div>"
            ],
            "text/plain": [
              "                 MonthlyCharges\n",
              "InternetService                \n",
              "DSL                   58.102169\n",
              "Fiber optic           91.500129\n",
              "No                    21.079194"
            ]
          },
          "metadata": {
            "tags": []
          },
          "execution_count": 1186
        }
      ]
    },
    {
      "cell_type": "code",
      "metadata": {
        "colab": {
          "base_uri": "https://localhost:8080/",
          "height": 140
        },
        "id": "X16MHd8DSwwv",
        "outputId": "06bb1763-0839-4b07-81ff-b7125324e52d"
      },
      "source": [
        "data1[['tenure','MonthlyCharges','Churn']].groupby(['Churn']).mean()"
      ],
      "execution_count": null,
      "outputs": [
        {
          "output_type": "execute_result",
          "data": {
            "text/html": [
              "<div>\n",
              "<style scoped>\n",
              "    .dataframe tbody tr th:only-of-type {\n",
              "        vertical-align: middle;\n",
              "    }\n",
              "\n",
              "    .dataframe tbody tr th {\n",
              "        vertical-align: top;\n",
              "    }\n",
              "\n",
              "    .dataframe thead th {\n",
              "        text-align: right;\n",
              "    }\n",
              "</style>\n",
              "<table border=\"1\" class=\"dataframe\">\n",
              "  <thead>\n",
              "    <tr style=\"text-align: right;\">\n",
              "      <th></th>\n",
              "      <th>tenure</th>\n",
              "      <th>MonthlyCharges</th>\n",
              "    </tr>\n",
              "    <tr>\n",
              "      <th>Churn</th>\n",
              "      <th></th>\n",
              "      <th></th>\n",
              "    </tr>\n",
              "  </thead>\n",
              "  <tbody>\n",
              "    <tr>\n",
              "      <th>0</th>\n",
              "      <td>37.569965</td>\n",
              "      <td>61.265124</td>\n",
              "    </tr>\n",
              "    <tr>\n",
              "      <th>1</th>\n",
              "      <td>17.979133</td>\n",
              "      <td>74.441332</td>\n",
              "    </tr>\n",
              "  </tbody>\n",
              "</table>\n",
              "</div>"
            ],
            "text/plain": [
              "          tenure  MonthlyCharges\n",
              "Churn                           \n",
              "0      37.569965       61.265124\n",
              "1      17.979133       74.441332"
            ]
          },
          "metadata": {
            "tags": []
          },
          "execution_count": 1187
        }
      ]
    },
    {
      "cell_type": "code",
      "metadata": {
        "colab": {
          "base_uri": "https://localhost:8080/",
          "height": 601
        },
        "id": "EPiM8GboFW5x",
        "outputId": "8dd59122-54ad-43e1-d553-049556e0b0ca"
      },
      "source": [
        "## exploring customer account information\n",
        "#countplots for displaying \n",
        "fig, axes = plt.subplots(1,3, figsize=(30, 6), sharey=True)\n",
        "sns.countplot(\"PaperlessBilling\", data=data1, ax=axes[0], palette=\"husl\")\n",
        "sns.countplot(\"PaymentMethod\", data=data1, ax=axes[1], palette=\"husl\")\n",
        "sns.countplot(\"Contract\", data=data1, ax=axes[2], palette=\"husl\")"
      ],
      "execution_count": null,
      "outputs": [
        {
          "output_type": "stream",
          "text": [
            "/usr/local/lib/python3.6/dist-packages/seaborn/_decorators.py:43: FutureWarning:\n",
            "\n",
            "Pass the following variable as a keyword arg: x. From version 0.12, the only valid positional argument will be `data`, and passing other arguments without an explicit keyword will result in an error or misinterpretation.\n",
            "\n",
            "/usr/local/lib/python3.6/dist-packages/seaborn/_decorators.py:43: FutureWarning:\n",
            "\n",
            "Pass the following variable as a keyword arg: x. From version 0.12, the only valid positional argument will be `data`, and passing other arguments without an explicit keyword will result in an error or misinterpretation.\n",
            "\n",
            "/usr/local/lib/python3.6/dist-packages/seaborn/_decorators.py:43: FutureWarning:\n",
            "\n",
            "Pass the following variable as a keyword arg: x. From version 0.12, the only valid positional argument will be `data`, and passing other arguments without an explicit keyword will result in an error or misinterpretation.\n",
            "\n"
          ],
          "name": "stderr"
        },
        {
          "output_type": "execute_result",
          "data": {
            "text/plain": [
              "<matplotlib.axes._subplots.AxesSubplot at 0x7fb472bcbd68>"
            ]
          },
          "metadata": {
            "tags": []
          },
          "execution_count": 1188
        },
        {
          "output_type": "display_data",
          "data": {
            "image/png": "[encoded data removed]",
            "text/plain": [
              "<Figure size 2160x432 with 3 Axes>"
            ]
          },
          "metadata": {
            "tags": [],
            "needs_background": "light"
          }
        }
      ]
    },
    {
      "cell_type": "code",
      "metadata": {
        "colab": {
          "base_uri": "https://localhost:8080/",
          "height": 140
        },
        "id": "h6o-9kOcGjbF",
        "outputId": "51d86cdf-b5df-4857-d767-a42376c26766"
      },
      "source": [
        "data1[['PaperlessBilling','Churn']].groupby(['PaperlessBilling']).mean()"
      ],
      "execution_count": null,
      "outputs": [
        {
          "output_type": "execute_result",
          "data": {
            "text/html": [
              "<div>\n",
              "<style scoped>\n",
              "    .dataframe tbody tr th:only-of-type {\n",
              "        vertical-align: middle;\n",
              "    }\n",
              "\n",
              "    .dataframe tbody tr th {\n",
              "        vertical-align: top;\n",
              "    }\n",
              "\n",
              "    .dataframe thead th {\n",
              "        text-align: right;\n",
              "    }\n",
              "</style>\n",
              "<table border=\"1\" class=\"dataframe\">\n",
              "  <thead>\n",
              "    <tr style=\"text-align: right;\">\n",
              "      <th></th>\n",
              "      <th>Churn</th>\n",
              "    </tr>\n",
              "    <tr>\n",
              "      <th>PaperlessBilling</th>\n",
              "      <th></th>\n",
              "    </tr>\n",
              "  </thead>\n",
              "  <tbody>\n",
              "    <tr>\n",
              "      <th>No</th>\n",
              "      <td>0.163301</td>\n",
              "    </tr>\n",
              "    <tr>\n",
              "      <th>Yes</th>\n",
              "      <td>0.335651</td>\n",
              "    </tr>\n",
              "  </tbody>\n",
              "</table>\n",
              "</div>"
            ],
            "text/plain": [
              "                     Churn\n",
              "PaperlessBilling          \n",
              "No                0.163301\n",
              "Yes               0.335651"
            ]
          },
          "metadata": {
            "tags": []
          },
          "execution_count": 1189
        }
      ]
    },
    {
      "cell_type": "code",
      "metadata": {
        "colab": {
          "base_uri": "https://localhost:8080/",
          "height": 201
        },
        "id": "RFk0UBTwHhRl",
        "outputId": "dd65c0ae-6439-4f97-9c7c-39ca6b1cb06e"
      },
      "source": [
        "data1[['PaymentMethod','Churn']].groupby(['PaymentMethod']).mean()"
      ],
      "execution_count": null,
      "outputs": [
        {
          "output_type": "execute_result",
          "data": {
            "text/html": [
              "<div>\n",
              "<style scoped>\n",
              "    .dataframe tbody tr th:only-of-type {\n",
              "        vertical-align: middle;\n",
              "    }\n",
              "\n",
              "    .dataframe tbody tr th {\n",
              "        vertical-align: top;\n",
              "    }\n",
              "\n",
              "    .dataframe thead th {\n",
              "        text-align: right;\n",
              "    }\n",
              "</style>\n",
              "<table border=\"1\" class=\"dataframe\">\n",
              "  <thead>\n",
              "    <tr style=\"text-align: right;\">\n",
              "      <th></th>\n",
              "      <th>Churn</th>\n",
              "    </tr>\n",
              "    <tr>\n",
              "      <th>PaymentMethod</th>\n",
              "      <th></th>\n",
              "    </tr>\n",
              "  </thead>\n",
              "  <tbody>\n",
              "    <tr>\n",
              "      <th>Bank transfer (automatic)</th>\n",
              "      <td>0.167098</td>\n",
              "    </tr>\n",
              "    <tr>\n",
              "      <th>Credit card (automatic)</th>\n",
              "      <td>0.152431</td>\n",
              "    </tr>\n",
              "    <tr>\n",
              "      <th>Electronic check</th>\n",
              "      <td>0.452854</td>\n",
              "    </tr>\n",
              "    <tr>\n",
              "      <th>Mailed check</th>\n",
              "      <td>0.191067</td>\n",
              "    </tr>\n",
              "  </tbody>\n",
              "</table>\n",
              "</div>"
            ],
            "text/plain": [
              "                              Churn\n",
              "PaymentMethod                      \n",
              "Bank transfer (automatic)  0.167098\n",
              "Credit card (automatic)    0.152431\n",
              "Electronic check           0.452854\n",
              "Mailed check               0.191067"
            ]
          },
          "metadata": {
            "tags": []
          },
          "execution_count": 1190
        }
      ]
    },
    {
      "cell_type": "code",
      "metadata": {
        "colab": {
          "base_uri": "https://localhost:8080/",
          "height": 170
        },
        "id": "yTq4c0IVHmeh",
        "outputId": "df87e829-5090-4819-fd71-9144dfad3e62"
      },
      "source": [
        "data1[['Contract','Churn']].groupby(['Contract']).mean()"
      ],
      "execution_count": null,
      "outputs": [
        {
          "output_type": "execute_result",
          "data": {
            "text/html": [
              "<div>\n",
              "<style scoped>\n",
              "    .dataframe tbody tr th:only-of-type {\n",
              "        vertical-align: middle;\n",
              "    }\n",
              "\n",
              "    .dataframe tbody tr th {\n",
              "        vertical-align: top;\n",
              "    }\n",
              "\n",
              "    .dataframe thead th {\n",
              "        text-align: right;\n",
              "    }\n",
              "</style>\n",
              "<table border=\"1\" class=\"dataframe\">\n",
              "  <thead>\n",
              "    <tr style=\"text-align: right;\">\n",
              "      <th></th>\n",
              "      <th>Churn</th>\n",
              "    </tr>\n",
              "    <tr>\n",
              "      <th>Contract</th>\n",
              "      <th></th>\n",
              "    </tr>\n",
              "  </thead>\n",
              "  <tbody>\n",
              "    <tr>\n",
              "      <th>Month-to-month</th>\n",
              "      <td>0.427097</td>\n",
              "    </tr>\n",
              "    <tr>\n",
              "      <th>One year</th>\n",
              "      <td>0.112695</td>\n",
              "    </tr>\n",
              "    <tr>\n",
              "      <th>Two year</th>\n",
              "      <td>0.028319</td>\n",
              "    </tr>\n",
              "  </tbody>\n",
              "</table>\n",
              "</div>"
            ],
            "text/plain": [
              "                   Churn\n",
              "Contract                \n",
              "Month-to-month  0.427097\n",
              "One year        0.112695\n",
              "Two year        0.028319"
            ]
          },
          "metadata": {
            "tags": []
          },
          "execution_count": 1191
        }
      ]
    },
    {
      "cell_type": "code",
      "metadata": {
        "colab": {
          "base_uri": "https://localhost:8080/",
          "height": 389
        },
        "id": "LbeRTwAy5xlX",
        "outputId": "32278b18-f9cc-408b-efd7-84a56459339e"
      },
      "source": [
        "#first tenure, monthly chargs (total charges is just the product)\n",
        "\n",
        "\n",
        " # pairplot plots pairwise relationships in the data\n",
        "sns.pairplot(data1[['Churn', 'tenure', 'MonthlyCharges']], hue=\"Churn\", palette=\"husl\")"
      ],
      "execution_count": null,
      "outputs": [
        {
          "output_type": "execute_result",
          "data": {
            "text/plain": [
              "<seaborn.axisgrid.PairGrid at 0x7fb472b08ef0>"
            ]
          },
          "metadata": {
            "tags": []
          },
          "execution_count": 1192
        },
        {
          "output_type": "display_data",
          "data": {
            "image/png": "[encoded data removed]",
            "text/plain": [
              "<Figure size 402.375x360 with 6 Axes>"
            ]
          },
          "metadata": {
            "tags": [],
            "needs_background": "light"
          }
        }
      ]
    },
    {
      "cell_type": "code",
      "metadata": {
        "colab": {
          "base_uri": "https://localhost:8080/",
          "height": 296
        },
        "id": "BuFv70jC6PpB",
        "outputId": "e581afa2-c827-4ebe-ce99-d871ddabec09"
      },
      "source": [
        "#finding out after which time customers churn on average and what the amount of monthly charges is\n",
        "# this helps organize our plots and keep them in the same figure\n",
        "fig, axs = plt.subplots(ncols=2)\n",
        "sns.boxplot(x='Churn', y='tenure', data=data1, ax=axs[0], palette=\"husl\")\n",
        "sns.boxplot(x='Churn', y='MonthlyCharges', data=data1, ax=axs[1], palette=\"husl\")\n",
        "\n",
        "# this prevents plots from overlapping\n",
        "plt.tight_layout()"
      ],
      "execution_count": null,
      "outputs": [
        {
          "output_type": "display_data",
          "data": {
            "image/png": "[encoded data removed]",
            "text/plain": [
              "<Figure size 432x288 with 2 Axes>"
            ]
          },
          "metadata": {
            "tags": [],
            "needs_background": "light"
          }
        }
      ]
    },
    {
      "cell_type": "code",
      "metadata": {
        "colab": {
          "base_uri": "https://localhost:8080/",
          "height": 141
        },
        "id": "6JxXGCy7Mxz9",
        "outputId": "e17bd097-46f0-4e7f-86fa-b615d78d0f38"
      },
      "source": [
        "#correlation coefficients just displays numerical variables - see step 2 for encoded features\n",
        "data1.corr(method='pearson').style.format('{:.2f}').background_gradient()"
      ],
      "execution_count": null,
      "outputs": [
        {
          "output_type": "execute_result",
          "data": {
            "text/html": [
              "<style  type=\"text/css\" >\n",
              "#T_deba36ea_451d_11eb_b2f3_0242ac1c0002row0_col0,#T_deba36ea_451d_11eb_b2f3_0242ac1c0002row1_col1,#T_deba36ea_451d_11eb_b2f3_0242ac1c0002row2_col2,#T_deba36ea_451d_11eb_b2f3_0242ac1c0002row3_col3,#T_deba36ea_451d_11eb_b2f3_0242ac1c0002row4_col4{\n",
              "            background-color:  #023858;\n",
              "            color:  #f1f1f1;\n",
              "        }#T_deba36ea_451d_11eb_b2f3_0242ac1c0002row0_col1{\n",
              "            background-color:  #c9cee4;\n",
              "            color:  #000000;\n",
              "        }#T_deba36ea_451d_11eb_b2f3_0242ac1c0002row0_col2{\n",
              "            background-color:  #faf3f9;\n",
              "            color:  #000000;\n",
              "        }#T_deba36ea_451d_11eb_b2f3_0242ac1c0002row0_col3{\n",
              "            background-color:  #d0d1e6;\n",
              "            color:  #000000;\n",
              "        }#T_deba36ea_451d_11eb_b2f3_0242ac1c0002row0_col4{\n",
              "            background-color:  #a7bddb;\n",
              "            color:  #000000;\n",
              "        }#T_deba36ea_451d_11eb_b2f3_0242ac1c0002row1_col0,#T_deba36ea_451d_11eb_b2f3_0242ac1c0002row1_col4,#T_deba36ea_451d_11eb_b2f3_0242ac1c0002row4_col1,#T_deba36ea_451d_11eb_b2f3_0242ac1c0002row4_col2,#T_deba36ea_451d_11eb_b2f3_0242ac1c0002row4_col3{\n",
              "            background-color:  #fff7fb;\n",
              "            color:  #000000;\n",
              "        }#T_deba36ea_451d_11eb_b2f3_0242ac1c0002row1_col2{\n",
              "            background-color:  #f5eef6;\n",
              "            color:  #000000;\n",
              "        }#T_deba36ea_451d_11eb_b2f3_0242ac1c0002row1_col3{\n",
              "            background-color:  #045e93;\n",
              "            color:  #f1f1f1;\n",
              "        }#T_deba36ea_451d_11eb_b2f3_0242ac1c0002row2_col0{\n",
              "            background-color:  #d9d8ea;\n",
              "            color:  #000000;\n",
              "        }#T_deba36ea_451d_11eb_b2f3_0242ac1c0002row2_col1{\n",
              "            background-color:  #8bb2d4;\n",
              "            color:  #000000;\n",
              "        }#T_deba36ea_451d_11eb_b2f3_0242ac1c0002row2_col3{\n",
              "            background-color:  #157ab5;\n",
              "            color:  #000000;\n",
              "        }#T_deba36ea_451d_11eb_b2f3_0242ac1c0002row2_col4{\n",
              "            background-color:  #9ab8d8;\n",
              "            color:  #000000;\n",
              "        }#T_deba36ea_451d_11eb_b2f3_0242ac1c0002row3_col0{\n",
              "            background-color:  #f2ecf5;\n",
              "            color:  #000000;\n",
              "        }#T_deba36ea_451d_11eb_b2f3_0242ac1c0002row3_col1{\n",
              "            background-color:  #045a8d;\n",
              "            color:  #f1f1f1;\n",
              "        }#T_deba36ea_451d_11eb_b2f3_0242ac1c0002row3_col2{\n",
              "            background-color:  #529bc7;\n",
              "            color:  #000000;\n",
              "        }#T_deba36ea_451d_11eb_b2f3_0242ac1c0002row3_col4{\n",
              "            background-color:  #eee9f3;\n",
              "            color:  #000000;\n",
              "        }#T_deba36ea_451d_11eb_b2f3_0242ac1c0002row4_col0{\n",
              "            background-color:  #eae6f1;\n",
              "            color:  #000000;\n",
              "        }</style><table id=\"T_deba36ea_451d_11eb_b2f3_0242ac1c0002\" ><thead>    <tr>        <th class=\"blank level0\" ></th>        <th class=\"col_heading level0 col0\" >SeniorCitizen</th>        <th class=\"col_heading level0 col1\" >tenure</th>        <th class=\"col_heading level0 col2\" >MonthlyCharges</th>        <th class=\"col_heading level0 col3\" >TotalCharges</th>        <th class=\"col_heading level0 col4\" >Churn</th>    </tr></thead><tbody>\n",
              "                <tr>\n",
              "                        <th id=\"T_deba36ea_451d_11eb_b2f3_0242ac1c0002level0_row0\" class=\"row_heading level0 row0\" >SeniorCitizen</th>\n",
              "                        <td id=\"T_deba36ea_451d_11eb_b2f3_0242ac1c0002row0_col0\" class=\"data row0 col0\" >1.00</td>\n",
              "                        <td id=\"T_deba36ea_451d_11eb_b2f3_0242ac1c0002row0_col1\" class=\"data row0 col1\" >0.02</td>\n",
              "                        <td id=\"T_deba36ea_451d_11eb_b2f3_0242ac1c0002row0_col2\" class=\"data row0 col2\" >0.22</td>\n",
              "                        <td id=\"T_deba36ea_451d_11eb_b2f3_0242ac1c0002row0_col3\" class=\"data row0 col3\" >0.10</td>\n",
              "                        <td id=\"T_deba36ea_451d_11eb_b2f3_0242ac1c0002row0_col4\" class=\"data row0 col4\" >0.15</td>\n",
              "            </tr>\n",
              "            <tr>\n",
              "                        <th id=\"T_deba36ea_451d_11eb_b2f3_0242ac1c0002level0_row1\" class=\"row_heading level0 row1\" >tenure</th>\n",
              "                        <td id=\"T_deba36ea_451d_11eb_b2f3_0242ac1c0002row1_col0\" class=\"data row1 col0\" >0.02</td>\n",
              "                        <td id=\"T_deba36ea_451d_11eb_b2f3_0242ac1c0002row1_col1\" class=\"data row1 col1\" >1.00</td>\n",
              "                        <td id=\"T_deba36ea_451d_11eb_b2f3_0242ac1c0002row1_col2\" class=\"data row1 col2\" >0.25</td>\n",
              "                        <td id=\"T_deba36ea_451d_11eb_b2f3_0242ac1c0002row1_col3\" class=\"data row1 col3\" >0.83</td>\n",
              "                        <td id=\"T_deba36ea_451d_11eb_b2f3_0242ac1c0002row1_col4\" class=\"data row1 col4\" >-0.35</td>\n",
              "            </tr>\n",
              "            <tr>\n",
              "                        <th id=\"T_deba36ea_451d_11eb_b2f3_0242ac1c0002level0_row2\" class=\"row_heading level0 row2\" >MonthlyCharges</th>\n",
              "                        <td id=\"T_deba36ea_451d_11eb_b2f3_0242ac1c0002row2_col0\" class=\"data row2 col0\" >0.22</td>\n",
              "                        <td id=\"T_deba36ea_451d_11eb_b2f3_0242ac1c0002row2_col1\" class=\"data row2 col1\" >0.25</td>\n",
              "                        <td id=\"T_deba36ea_451d_11eb_b2f3_0242ac1c0002row2_col2\" class=\"data row2 col2\" >1.00</td>\n",
              "                        <td id=\"T_deba36ea_451d_11eb_b2f3_0242ac1c0002row2_col3\" class=\"data row2 col3\" >0.65</td>\n",
              "                        <td id=\"T_deba36ea_451d_11eb_b2f3_0242ac1c0002row2_col4\" class=\"data row2 col4\" >0.19</td>\n",
              "            </tr>\n",
              "            <tr>\n",
              "                        <th id=\"T_deba36ea_451d_11eb_b2f3_0242ac1c0002level0_row3\" class=\"row_heading level0 row3\" >TotalCharges</th>\n",
              "                        <td id=\"T_deba36ea_451d_11eb_b2f3_0242ac1c0002row3_col0\" class=\"data row3 col0\" >0.10</td>\n",
              "                        <td id=\"T_deba36ea_451d_11eb_b2f3_0242ac1c0002row3_col1\" class=\"data row3 col1\" >0.83</td>\n",
              "                        <td id=\"T_deba36ea_451d_11eb_b2f3_0242ac1c0002row3_col2\" class=\"data row3 col2\" >0.65</td>\n",
              "                        <td id=\"T_deba36ea_451d_11eb_b2f3_0242ac1c0002row3_col3\" class=\"data row3 col3\" >1.00</td>\n",
              "                        <td id=\"T_deba36ea_451d_11eb_b2f3_0242ac1c0002row3_col4\" class=\"data row3 col4\" >-0.20</td>\n",
              "            </tr>\n",
              "            <tr>\n",
              "                        <th id=\"T_deba36ea_451d_11eb_b2f3_0242ac1c0002level0_row4\" class=\"row_heading level0 row4\" >Churn</th>\n",
              "                        <td id=\"T_deba36ea_451d_11eb_b2f3_0242ac1c0002row4_col0\" class=\"data row4 col0\" >0.15</td>\n",
              "                        <td id=\"T_deba36ea_451d_11eb_b2f3_0242ac1c0002row4_col1\" class=\"data row4 col1\" >-0.35</td>\n",
              "                        <td id=\"T_deba36ea_451d_11eb_b2f3_0242ac1c0002row4_col2\" class=\"data row4 col2\" >0.19</td>\n",
              "                        <td id=\"T_deba36ea_451d_11eb_b2f3_0242ac1c0002row4_col3\" class=\"data row4 col3\" >-0.20</td>\n",
              "                        <td id=\"T_deba36ea_451d_11eb_b2f3_0242ac1c0002row4_col4\" class=\"data row4 col4\" >1.00</td>\n",
              "            </tr>\n",
              "    </tbody></table>"
            ],
            "text/plain": [
              "<pandas.io.formats.style.Styler at 0x7fb4744f1a58>"
            ]
          },
          "metadata": {
            "tags": []
          },
          "execution_count": 1194
        }
      ]
    },
    {
      "cell_type": "markdown",
      "metadata": {
        "id": "-iXhp8wODjiw"
      },
      "source": [
        "# **Step 2: Data preparation**"
      ]
    },
    {
      "cell_type": "code",
      "metadata": {
        "colab": {
          "base_uri": "https://localhost:8080/",
          "height": 580
        },
        "id": "iZeBtLzSz3th",
        "outputId": "2df769f2-49ca-426b-94ac-a4e25ea2e8a5"
      },
      "source": [
        "#show data for preliminary revision\n",
        "data"
      ],
      "execution_count": null,
      "outputs": [
        {
          "output_type": "execute_result",
          "data": {
            "text/html": [
              "<div>\n",
              "<style scoped>\n",
              "    .dataframe tbody tr th:only-of-type {\n",
              "        vertical-align: middle;\n",
              "    }\n",
              "\n",
              "    .dataframe tbody tr th {\n",
              "        vertical-align: top;\n",
              "    }\n",
              "\n",
              "    .dataframe thead th {\n",
              "        text-align: right;\n",
              "    }\n",
              "</style>\n",
              "<table border=\"1\" class=\"dataframe\">\n",
              "  <thead>\n",
              "    <tr style=\"text-align: right;\">\n",
              "      <th></th>\n",
              "      <th>customerID</th>\n",
              "      <th>gender</th>\n",
              "      <th>SeniorCitizen</th>\n",
              "      <th>Partner</th>\n",
              "      <th>Dependents</th>\n",
              "      <th>tenure</th>\n",
              "      <th>PhoneService</th>\n",
              "      <th>MultipleLines</th>\n",
              "      <th>InternetService</th>\n",
              "      <th>OnlineSecurity</th>\n",
              "      <th>OnlineBackup</th>\n",
              "      <th>DeviceProtection</th>\n",
              "      <th>TechSupport</th>\n",
              "      <th>StreamingTV</th>\n",
              "      <th>StreamingMovies</th>\n",
              "      <th>Contract</th>\n",
              "      <th>PaperlessBilling</th>\n",
              "      <th>PaymentMethod</th>\n",
              "      <th>MonthlyCharges</th>\n",
              "      <th>TotalCharges</th>\n",
              "      <th>Churn</th>\n",
              "    </tr>\n",
              "  </thead>\n",
              "  <tbody>\n",
              "    <tr>\n",
              "      <th>0</th>\n",
              "      <td>7590-VHVEG</td>\n",
              "      <td>Female</td>\n",
              "      <td>0</td>\n",
              "      <td>Yes</td>\n",
              "      <td>No</td>\n",
              "      <td>1</td>\n",
              "      <td>No</td>\n",
              "      <td>No phone service</td>\n",
              "      <td>DSL</td>\n",
              "      <td>No</td>\n",
              "      <td>Yes</td>\n",
              "      <td>No</td>\n",
              "      <td>No</td>\n",
              "      <td>No</td>\n",
              "      <td>No</td>\n",
              "      <td>Month-to-month</td>\n",
              "      <td>Yes</td>\n",
              "      <td>Electronic check</td>\n",
              "      <td>29.85</td>\n",
              "      <td>29.85</td>\n",
              "      <td>No</td>\n",
              "    </tr>\n",
              "    <tr>\n",
              "      <th>1</th>\n",
              "      <td>5575-GNVDE</td>\n",
              "      <td>Male</td>\n",
              "      <td>0</td>\n",
              "      <td>No</td>\n",
              "      <td>No</td>\n",
              "      <td>34</td>\n",
              "      <td>Yes</td>\n",
              "      <td>No</td>\n",
              "      <td>DSL</td>\n",
              "      <td>Yes</td>\n",
              "      <td>No</td>\n",
              "      <td>Yes</td>\n",
              "      <td>No</td>\n",
              "      <td>No</td>\n",
              "      <td>No</td>\n",
              "      <td>One year</td>\n",
              "      <td>No</td>\n",
              "      <td>Mailed check</td>\n",
              "      <td>56.95</td>\n",
              "      <td>1889.5</td>\n",
              "      <td>No</td>\n",
              "    </tr>\n",
              "    <tr>\n",
              "      <th>2</th>\n",
              "      <td>3668-QPYBK</td>\n",
              "      <td>Male</td>\n",
              "      <td>0</td>\n",
              "      <td>No</td>\n",
              "      <td>No</td>\n",
              "      <td>2</td>\n",
              "      <td>Yes</td>\n",
              "      <td>No</td>\n",
              "      <td>DSL</td>\n",
              "      <td>Yes</td>\n",
              "      <td>Yes</td>\n",
              "      <td>No</td>\n",
              "      <td>No</td>\n",
              "      <td>No</td>\n",
              "      <td>No</td>\n",
              "      <td>Month-to-month</td>\n",
              "      <td>Yes</td>\n",
              "      <td>Mailed check</td>\n",
              "      <td>53.85</td>\n",
              "      <td>108.15</td>\n",
              "      <td>Yes</td>\n",
              "    </tr>\n",
              "    <tr>\n",
              "      <th>3</th>\n",
              "      <td>7795-CFOCW</td>\n",
              "      <td>Male</td>\n",
              "      <td>0</td>\n",
              "      <td>No</td>\n",
              "      <td>No</td>\n",
              "      <td>45</td>\n",
              "      <td>No</td>\n",
              "      <td>No phone service</td>\n",
              "      <td>DSL</td>\n",
              "      <td>Yes</td>\n",
              "      <td>No</td>\n",
              "      <td>Yes</td>\n",
              "      <td>Yes</td>\n",
              "      <td>No</td>\n",
              "      <td>No</td>\n",
              "      <td>One year</td>\n",
              "      <td>No</td>\n",
              "      <td>Bank transfer (automatic)</td>\n",
              "      <td>42.30</td>\n",
              "      <td>1840.75</td>\n",
              "      <td>No</td>\n",
              "    </tr>\n",
              "    <tr>\n",
              "      <th>4</th>\n",
              "      <td>9237-HQITU</td>\n",
              "      <td>Female</td>\n",
              "      <td>0</td>\n",
              "      <td>No</td>\n",
              "      <td>No</td>\n",
              "      <td>2</td>\n",
              "      <td>Yes</td>\n",
              "      <td>No</td>\n",
              "      <td>Fiber optic</td>\n",
              "      <td>No</td>\n",
              "      <td>No</td>\n",
              "      <td>No</td>\n",
              "      <td>No</td>\n",
              "      <td>No</td>\n",
              "      <td>No</td>\n",
              "      <td>Month-to-month</td>\n",
              "      <td>Yes</td>\n",
              "      <td>Electronic check</td>\n",
              "      <td>70.70</td>\n",
              "      <td>151.65</td>\n",
              "      <td>Yes</td>\n",
              "    </tr>\n",
              "    <tr>\n",
              "      <th>...</th>\n",
              "      <td>...</td>\n",
              "      <td>...</td>\n",
              "      <td>...</td>\n",
              "      <td>...</td>\n",
              "      <td>...</td>\n",
              "      <td>...</td>\n",
              "      <td>...</td>\n",
              "      <td>...</td>\n",
              "      <td>...</td>\n",
              "      <td>...</td>\n",
              "      <td>...</td>\n",
              "      <td>...</td>\n",
              "      <td>...</td>\n",
              "      <td>...</td>\n",
              "      <td>...</td>\n",
              "      <td>...</td>\n",
              "      <td>...</td>\n",
              "      <td>...</td>\n",
              "      <td>...</td>\n",
              "      <td>...</td>\n",
              "      <td>...</td>\n",
              "    </tr>\n",
              "    <tr>\n",
              "      <th>7038</th>\n",
              "      <td>6840-RESVB</td>\n",
              "      <td>Male</td>\n",
              "      <td>0</td>\n",
              "      <td>Yes</td>\n",
              "      <td>Yes</td>\n",
              "      <td>24</td>\n",
              "      <td>Yes</td>\n",
              "      <td>Yes</td>\n",
              "      <td>DSL</td>\n",
              "      <td>Yes</td>\n",
              "      <td>No</td>\n",
              "      <td>Yes</td>\n",
              "      <td>Yes</td>\n",
              "      <td>Yes</td>\n",
              "      <td>Yes</td>\n",
              "      <td>One year</td>\n",
              "      <td>Yes</td>\n",
              "      <td>Mailed check</td>\n",
              "      <td>84.80</td>\n",
              "      <td>1990.5</td>\n",
              "      <td>No</td>\n",
              "    </tr>\n",
              "    <tr>\n",
              "      <th>7039</th>\n",
              "      <td>2234-XADUH</td>\n",
              "      <td>Female</td>\n",
              "      <td>0</td>\n",
              "      <td>Yes</td>\n",
              "      <td>Yes</td>\n",
              "      <td>72</td>\n",
              "      <td>Yes</td>\n",
              "      <td>Yes</td>\n",
              "      <td>Fiber optic</td>\n",
              "      <td>No</td>\n",
              "      <td>Yes</td>\n",
              "      <td>Yes</td>\n",
              "      <td>No</td>\n",
              "      <td>Yes</td>\n",
              "      <td>Yes</td>\n",
              "      <td>One year</td>\n",
              "      <td>Yes</td>\n",
              "      <td>Credit card (automatic)</td>\n",
              "      <td>103.20</td>\n",
              "      <td>7362.9</td>\n",
              "      <td>No</td>\n",
              "    </tr>\n",
              "    <tr>\n",
              "      <th>7040</th>\n",
              "      <td>4801-JZAZL</td>\n",
              "      <td>Female</td>\n",
              "      <td>0</td>\n",
              "      <td>Yes</td>\n",
              "      <td>Yes</td>\n",
              "      <td>11</td>\n",
              "      <td>No</td>\n",
              "      <td>No phone service</td>\n",
              "      <td>DSL</td>\n",
              "      <td>Yes</td>\n",
              "      <td>No</td>\n",
              "      <td>No</td>\n",
              "      <td>No</td>\n",
              "      <td>No</td>\n",
              "      <td>No</td>\n",
              "      <td>Month-to-month</td>\n",
              "      <td>Yes</td>\n",
              "      <td>Electronic check</td>\n",
              "      <td>29.60</td>\n",
              "      <td>346.45</td>\n",
              "      <td>No</td>\n",
              "    </tr>\n",
              "    <tr>\n",
              "      <th>7041</th>\n",
              "      <td>8361-LTMKD</td>\n",
              "      <td>Male</td>\n",
              "      <td>1</td>\n",
              "      <td>Yes</td>\n",
              "      <td>No</td>\n",
              "      <td>4</td>\n",
              "      <td>Yes</td>\n",
              "      <td>Yes</td>\n",
              "      <td>Fiber optic</td>\n",
              "      <td>No</td>\n",
              "      <td>No</td>\n",
              "      <td>No</td>\n",
              "      <td>No</td>\n",
              "      <td>No</td>\n",
              "      <td>No</td>\n",
              "      <td>Month-to-month</td>\n",
              "      <td>Yes</td>\n",
              "      <td>Mailed check</td>\n",
              "      <td>74.40</td>\n",
              "      <td>306.6</td>\n",
              "      <td>Yes</td>\n",
              "    </tr>\n",
              "    <tr>\n",
              "      <th>7042</th>\n",
              "      <td>3186-AJIEK</td>\n",
              "      <td>Male</td>\n",
              "      <td>0</td>\n",
              "      <td>No</td>\n",
              "      <td>No</td>\n",
              "      <td>66</td>\n",
              "      <td>Yes</td>\n",
              "      <td>No</td>\n",
              "      <td>Fiber optic</td>\n",
              "      <td>Yes</td>\n",
              "      <td>No</td>\n",
              "      <td>Yes</td>\n",
              "      <td>Yes</td>\n",
              "      <td>Yes</td>\n",
              "      <td>Yes</td>\n",
              "      <td>Two year</td>\n",
              "      <td>Yes</td>\n",
              "      <td>Bank transfer (automatic)</td>\n",
              "      <td>105.65</td>\n",
              "      <td>6844.5</td>\n",
              "      <td>No</td>\n",
              "    </tr>\n",
              "  </tbody>\n",
              "</table>\n",
              "<p>7043 rows × 21 columns</p>\n",
              "</div>"
            ],
            "text/plain": [
              "      customerID  gender  SeniorCitizen  ... MonthlyCharges TotalCharges  Churn\n",
              "0     7590-VHVEG  Female              0  ...          29.85        29.85     No\n",
              "1     5575-GNVDE    Male              0  ...          56.95       1889.5     No\n",
              "2     3668-QPYBK    Male              0  ...          53.85       108.15    Yes\n",
              "3     7795-CFOCW    Male              0  ...          42.30      1840.75     No\n",
              "4     9237-HQITU  Female              0  ...          70.70       151.65    Yes\n",
              "...          ...     ...            ...  ...            ...          ...    ...\n",
              "7038  6840-RESVB    Male              0  ...          84.80       1990.5     No\n",
              "7039  2234-XADUH  Female              0  ...         103.20       7362.9     No\n",
              "7040  4801-JZAZL  Female              0  ...          29.60       346.45     No\n",
              "7041  8361-LTMKD    Male              1  ...          74.40        306.6    Yes\n",
              "7042  3186-AJIEK    Male              0  ...         105.65       6844.5     No\n",
              "\n",
              "[7043 rows x 21 columns]"
            ]
          },
          "metadata": {
            "tags": []
          },
          "execution_count": 1195
        }
      ]
    },
    {
      "cell_type": "code",
      "metadata": {
        "colab": {
          "base_uri": "https://localhost:8080/"
        },
        "id": "IFUN-r0Ztzsi",
        "outputId": "0f4c53c9-5b1a-436e-e799-004b9f311d37"
      },
      "source": [
        "#different types of features, object=string, integers, floats\n",
        "data.dtypes"
      ],
      "execution_count": null,
      "outputs": [
        {
          "output_type": "execute_result",
          "data": {
            "text/plain": [
              "customerID           object\n",
              "gender               object\n",
              "SeniorCitizen         int64\n",
              "Partner              object\n",
              "Dependents           object\n",
              "tenure                int64\n",
              "PhoneService         object\n",
              "MultipleLines        object\n",
              "InternetService      object\n",
              "OnlineSecurity       object\n",
              "OnlineBackup         object\n",
              "DeviceProtection     object\n",
              "TechSupport          object\n",
              "StreamingTV          object\n",
              "StreamingMovies      object\n",
              "Contract             object\n",
              "PaperlessBilling     object\n",
              "PaymentMethod        object\n",
              "MonthlyCharges      float64\n",
              "TotalCharges         object\n",
              "Churn                object\n",
              "dtype: object"
            ]
          },
          "metadata": {
            "tags": []
          },
          "execution_count": 1196
        }
      ]
    },
    {
      "cell_type": "markdown",
      "metadata": {
        "id": "OiD4t1O2troR"
      },
      "source": [
        "**Encoding:** Display categorical values by numerical values to perform all kinds of models, since we are going to train a model like logistic regression, which doesn't support categorical input"
      ]
    },
    {
      "cell_type": "code",
      "metadata": {
        "id": "Of9qKfq6uHGF"
      },
      "source": [
        "#encode categorical data - turn strings into integer or float\n",
        "#replace yes with 1 and no with 0\n",
        "churn_numeric = {'Yes':1, 'No':0} \n",
        "data.replace(churn_numeric, inplace=True) "
      ],
      "execution_count": null,
      "outputs": []
    },
    {
      "cell_type": "code",
      "metadata": {
        "colab": {
          "base_uri": "https://localhost:8080/"
        },
        "id": "wAmAa9R4uLKQ",
        "outputId": "74b22b55-f31b-4a8f-9b55-a507a66bda2c"
      },
      "source": [
        "#drop customer id - not relevant \n",
        "data.drop('customerID', axis='columns', inplace=True)\n",
        "data.dtypes"
      ],
      "execution_count": null,
      "outputs": [
        {
          "output_type": "execute_result",
          "data": {
            "text/plain": [
              "gender               object\n",
              "SeniorCitizen         int64\n",
              "Partner               int64\n",
              "Dependents            int64\n",
              "tenure                int64\n",
              "PhoneService          int64\n",
              "MultipleLines        object\n",
              "InternetService      object\n",
              "OnlineSecurity       object\n",
              "OnlineBackup         object\n",
              "DeviceProtection     object\n",
              "TechSupport          object\n",
              "StreamingTV          object\n",
              "StreamingMovies      object\n",
              "Contract             object\n",
              "PaperlessBilling      int64\n",
              "PaymentMethod        object\n",
              "MonthlyCharges      float64\n",
              "TotalCharges         object\n",
              "Churn                 int64\n",
              "dtype: object"
            ]
          },
          "metadata": {
            "tags": []
          },
          "execution_count": 1198
        }
      ]
    },
    {
      "cell_type": "code",
      "metadata": {
        "id": "hlLGb8xLuN2L"
      },
      "source": [
        "#encode gender seperately - string is \"Male\" or \"Female\"\n",
        "data['gender'].replace({'Male':0,'Female':1},inplace=True)"
      ],
      "execution_count": null,
      "outputs": []
    },
    {
      "cell_type": "code",
      "metadata": {
        "id": "_Nd02OcRuQWU"
      },
      "source": [
        "#replace string \"No internet service\" with \"No\" \n",
        "Column = ['OnlineSecurity', 'OnlineBackup', 'DeviceProtection','TechSupport','StreamingTV','StreamingMovies']\n",
        "for i in Column:\n",
        "  data[i] = data[i].replace({'No internet service':'No'})"
      ],
      "execution_count": null,
      "outputs": []
    },
    {
      "cell_type": "code",
      "metadata": {
        "id": "377AqTscuTIo"
      },
      "source": [
        "#replace string \"No phone service\" with \"No\"\n",
        "Column = ['MultipleLines']\n",
        "for i in Column:\n",
        "  data[i] = data[i].replace({'No phone service':'No'})"
      ],
      "execution_count": null,
      "outputs": []
    },
    {
      "cell_type": "code",
      "metadata": {
        "colab": {
          "base_uri": "https://localhost:8080/"
        },
        "id": "fq9yGSXIuWHh",
        "outputId": "42f802fb-89e9-4d9f-d76d-853bda2194e9"
      },
      "source": [
        "data.dtypes"
      ],
      "execution_count": null,
      "outputs": [
        {
          "output_type": "execute_result",
          "data": {
            "text/plain": [
              "gender                int64\n",
              "SeniorCitizen         int64\n",
              "Partner               int64\n",
              "Dependents            int64\n",
              "tenure                int64\n",
              "PhoneService          int64\n",
              "MultipleLines        object\n",
              "InternetService      object\n",
              "OnlineSecurity       object\n",
              "OnlineBackup         object\n",
              "DeviceProtection     object\n",
              "TechSupport          object\n",
              "StreamingTV          object\n",
              "StreamingMovies      object\n",
              "Contract             object\n",
              "PaperlessBilling      int64\n",
              "PaymentMethod        object\n",
              "MonthlyCharges      float64\n",
              "TotalCharges         object\n",
              "Churn                 int64\n",
              "dtype: object"
            ]
          },
          "metadata": {
            "tags": []
          },
          "execution_count": 1202
        }
      ]
    },
    {
      "cell_type": "code",
      "metadata": {
        "id": "FtGwuBNquYie"
      },
      "source": [
        "#now we can encode \"No\"\n",
        "#the chosen features are now divided into different binary options\n",
        "Col = ['MultipleLines','OnlineSecurity','OnlineBackup','DeviceProtection','TechSupport','StreamingTV','StreamingMovies']\n",
        "for i in Col:\n",
        "  data[i].replace({'No':0,'Yes':1},inplace=True)"
      ],
      "execution_count": null,
      "outputs": []
    },
    {
      "cell_type": "code",
      "metadata": {
        "colab": {
          "base_uri": "https://localhost:8080/"
        },
        "id": "zlQTkK1jub9I",
        "outputId": "9482226a-21d8-40ce-9c3a-c89538f68bb4"
      },
      "source": [
        "#split the below mentioned columns in binary form \n",
        "data=pd.get_dummies(data=data,columns=['InternetService','Contract','PaymentMethod'])\n",
        "data.columns"
      ],
      "execution_count": null,
      "outputs": [
        {
          "output_type": "execute_result",
          "data": {
            "text/plain": [
              "Index(['gender', 'SeniorCitizen', 'Partner', 'Dependents', 'tenure',\n",
              "       'PhoneService', 'MultipleLines', 'OnlineSecurity', 'OnlineBackup',\n",
              "       'DeviceProtection', 'TechSupport', 'StreamingTV', 'StreamingMovies',\n",
              "       'PaperlessBilling', 'MonthlyCharges', 'TotalCharges', 'Churn',\n",
              "       'InternetService_0', 'InternetService_DSL',\n",
              "       'InternetService_Fiber optic', 'Contract_Month-to-month',\n",
              "       'Contract_One year', 'Contract_Two year',\n",
              "       'PaymentMethod_Bank transfer (automatic)',\n",
              "       'PaymentMethod_Credit card (automatic)',\n",
              "       'PaymentMethod_Electronic check', 'PaymentMethod_Mailed check'],\n",
              "      dtype='object')"
            ]
          },
          "metadata": {
            "tags": []
          },
          "execution_count": 1204
        }
      ]
    },
    {
      "cell_type": "code",
      "metadata": {
        "colab": {
          "base_uri": "https://localhost:8080/"
        },
        "id": "twnbQJDBuhN3",
        "outputId": "8f8f4759-bd90-4d6e-82ab-c3a57cae40c8"
      },
      "source": [
        "#total charges object?\n",
        "data.dtypes"
      ],
      "execution_count": null,
      "outputs": [
        {
          "output_type": "execute_result",
          "data": {
            "text/plain": [
              "gender                                       int64\n",
              "SeniorCitizen                                int64\n",
              "Partner                                      int64\n",
              "Dependents                                   int64\n",
              "tenure                                       int64\n",
              "PhoneService                                 int64\n",
              "MultipleLines                                int64\n",
              "OnlineSecurity                               int64\n",
              "OnlineBackup                                 int64\n",
              "DeviceProtection                             int64\n",
              "TechSupport                                  int64\n",
              "StreamingTV                                  int64\n",
              "StreamingMovies                              int64\n",
              "PaperlessBilling                             int64\n",
              "MonthlyCharges                             float64\n",
              "TotalCharges                                object\n",
              "Churn                                        int64\n",
              "InternetService_0                            uint8\n",
              "InternetService_DSL                          uint8\n",
              "InternetService_Fiber optic                  uint8\n",
              "Contract_Month-to-month                      uint8\n",
              "Contract_One year                            uint8\n",
              "Contract_Two year                            uint8\n",
              "PaymentMethod_Bank transfer (automatic)      uint8\n",
              "PaymentMethod_Credit card (automatic)        uint8\n",
              "PaymentMethod_Electronic check               uint8\n",
              "PaymentMethod_Mailed check                   uint8\n",
              "dtype: object"
            ]
          },
          "metadata": {
            "tags": []
          },
          "execution_count": 1205
        }
      ]
    },
    {
      "cell_type": "code",
      "metadata": {
        "id": "zSdJzu3ZukaN"
      },
      "source": [
        "#dropping missing values in TotalCharges\n",
        "#cleaning data in TotalCharges with empty string\n",
        "data=data[data.TotalCharges!=' ']"
      ],
      "execution_count": null,
      "outputs": []
    },
    {
      "cell_type": "code",
      "metadata": {
        "colab": {
          "base_uri": "https://localhost:8080/"
        },
        "id": "Ar6o5Rc-NE64",
        "outputId": "ec6e3f17-cdb5-4773-fe9e-41fb91ea36e7"
      },
      "source": [
        "#observations are reduced from 7043 to 7032 (dropped 11 due to missing values in TotalCharges)\n",
        "data.shape"
      ],
      "execution_count": null,
      "outputs": [
        {
          "output_type": "execute_result",
          "data": {
            "text/plain": [
              "(7032, 27)"
            ]
          },
          "metadata": {
            "tags": []
          },
          "execution_count": 1207
        }
      ]
    },
    {
      "cell_type": "code",
      "metadata": {
        "id": "MlQ88GWyum6R"
      },
      "source": [
        "# Scaling the below mentioned columns\n",
        "Columns_Scale=['tenure','MonthlyCharges', 'TotalCharges']\n",
        "\n",
        "from sklearn.preprocessing import MinMaxScaler\n",
        "scaler = MinMaxScaler ()\n",
        "\n",
        "data[Columns_Scale] = scaler.fit_transform(data[Columns_Scale])"
      ],
      "execution_count": null,
      "outputs": []
    },
    {
      "cell_type": "code",
      "metadata": {
        "colab": {
          "base_uri": "https://localhost:8080/"
        },
        "id": "HsLyTrdGuqQP",
        "outputId": "e47d867e-8741-4823-ddb9-9c9f8f050161"
      },
      "source": [
        "#prepared data \n",
        "data.info()"
      ],
      "execution_count": null,
      "outputs": [
        {
          "output_type": "stream",
          "text": [
            "<class 'pandas.core.frame.DataFrame'>\n",
            "Int64Index: 7032 entries, 0 to 7042\n",
            "Data columns (total 27 columns):\n",
            " #   Column                                   Non-Null Count  Dtype  \n",
            "---  ------                                   --------------  -----  \n",
            " 0   gender                                   7032 non-null   int64  \n",
            " 1   SeniorCitizen                            7032 non-null   int64  \n",
            " 2   Partner                                  7032 non-null   int64  \n",
            " 3   Dependents                               7032 non-null   int64  \n",
            " 4   tenure                                   7032 non-null   float64\n",
            " 5   PhoneService                             7032 non-null   int64  \n",
            " 6   MultipleLines                            7032 non-null   int64  \n",
            " 7   OnlineSecurity                           7032 non-null   int64  \n",
            " 8   OnlineBackup                             7032 non-null   int64  \n",
            " 9   DeviceProtection                         7032 non-null   int64  \n",
            " 10  TechSupport                              7032 non-null   int64  \n",
            " 11  StreamingTV                              7032 non-null   int64  \n",
            " 12  StreamingMovies                          7032 non-null   int64  \n",
            " 13  PaperlessBilling                         7032 non-null   int64  \n",
            " 14  MonthlyCharges                           7032 non-null   float64\n",
            " 15  TotalCharges                             7032 non-null   float64\n",
            " 16  Churn                                    7032 non-null   int64  \n",
            " 17  InternetService_0                        7032 non-null   uint8  \n",
            " 18  InternetService_DSL                      7032 non-null   uint8  \n",
            " 19  InternetService_Fiber optic              7032 non-null   uint8  \n",
            " 20  Contract_Month-to-month                  7032 non-null   uint8  \n",
            " 21  Contract_One year                        7032 non-null   uint8  \n",
            " 22  Contract_Two year                        7032 non-null   uint8  \n",
            " 23  PaymentMethod_Bank transfer (automatic)  7032 non-null   uint8  \n",
            " 24  PaymentMethod_Credit card (automatic)    7032 non-null   uint8  \n",
            " 25  PaymentMethod_Electronic check           7032 non-null   uint8  \n",
            " 26  PaymentMethod_Mailed check               7032 non-null   uint8  \n",
            "dtypes: float64(3), int64(14), uint8(10)\n",
            "memory usage: 1.0 MB\n"
          ],
          "name": "stdout"
        }
      ]
    },
    {
      "cell_type": "code",
      "metadata": {
        "colab": {
          "base_uri": "https://localhost:8080/",
          "height": 694
        },
        "id": "Wt-Off7ONCTc",
        "outputId": "27c6c5c8-3023-4332-a6fd-8f08a17a9f1f"
      },
      "source": [
        "#compute correlation matrix with encoded variables\n",
        "#27 variables included now\n",
        "data.corr(method='pearson').style.format('{:.2f}').background_gradient()"
      ],
      "execution_count": null,
      "outputs": [
        {
          "output_type": "execute_result",
          "data": {
            "text/html": [
              "<style  type=\"text/css\" >\n",
              "#T_df050972_451d_11eb_b2f3_0242ac1c0002row0_col0,#T_df050972_451d_11eb_b2f3_0242ac1c0002row1_col1,#T_df050972_451d_11eb_b2f3_0242ac1c0002row2_col2,#T_df050972_451d_11eb_b2f3_0242ac1c0002row3_col3,#T_df050972_451d_11eb_b2f3_0242ac1c0002row4_col4,#T_df050972_451d_11eb_b2f3_0242ac1c0002row5_col5,#T_df050972_451d_11eb_b2f3_0242ac1c0002row6_col6,#T_df050972_451d_11eb_b2f3_0242ac1c0002row7_col7,#T_df050972_451d_11eb_b2f3_0242ac1c0002row8_col8,#T_df050972_451d_11eb_b2f3_0242ac1c0002row9_col9,#T_df050972_451d_11eb_b2f3_0242ac1c0002row10_col10,#T_df050972_451d_11eb_b2f3_0242ac1c0002row11_col11,#T_df050972_451d_11eb_b2f3_0242ac1c0002row12_col12,#T_df050972_451d_11eb_b2f3_0242ac1c0002row13_col13,#T_df050972_451d_11eb_b2f3_0242ac1c0002row14_col14,#T_df050972_451d_11eb_b2f3_0242ac1c0002row15_col15,#T_df050972_451d_11eb_b2f3_0242ac1c0002row16_col16,#T_df050972_451d_11eb_b2f3_0242ac1c0002row17_col17,#T_df050972_451d_11eb_b2f3_0242ac1c0002row18_col18,#T_df050972_451d_11eb_b2f3_0242ac1c0002row19_col19,#T_df050972_451d_11eb_b2f3_0242ac1c0002row20_col20,#T_df050972_451d_11eb_b2f3_0242ac1c0002row21_col21,#T_df050972_451d_11eb_b2f3_0242ac1c0002row22_col22,#T_df050972_451d_11eb_b2f3_0242ac1c0002row23_col23,#T_df050972_451d_11eb_b2f3_0242ac1c0002row24_col24,#T_df050972_451d_11eb_b2f3_0242ac1c0002row25_col25,#T_df050972_451d_11eb_b2f3_0242ac1c0002row26_col26{\n",
              "            background-color:  #023858;\n",
              "            color:  #f1f1f1;\n",
              "        }#T_df050972_451d_11eb_b2f3_0242ac1c0002row0_col1,#T_df050972_451d_11eb_b2f3_0242ac1c0002row11_col3,#T_df050972_451d_11eb_b2f3_0242ac1c0002row16_col24,#T_df050972_451d_11eb_b2f3_0242ac1c0002row23_col16{\n",
              "            background-color:  #e1dfed;\n",
              "            color:  #000000;\n",
              "        }#T_df050972_451d_11eb_b2f3_0242ac1c0002row0_col2,#T_df050972_451d_11eb_b2f3_0242ac1c0002row1_col7,#T_df050972_451d_11eb_b2f3_0242ac1c0002row2_col25,#T_df050972_451d_11eb_b2f3_0242ac1c0002row7_col26,#T_df050972_451d_11eb_b2f3_0242ac1c0002row10_col20,#T_df050972_451d_11eb_b2f3_0242ac1c0002row15_col17,#T_df050972_451d_11eb_b2f3_0242ac1c0002row19_col2,#T_df050972_451d_11eb_b2f3_0242ac1c0002row26_col14{\n",
              "            background-color:  #d7d6e9;\n",
              "            color:  #000000;\n",
              "        }#T_df050972_451d_11eb_b2f3_0242ac1c0002row0_col3,#T_df050972_451d_11eb_b2f3_0242ac1c0002row16_col4,#T_df050972_451d_11eb_b2f3_0242ac1c0002row22_col21{\n",
              "            background-color:  #e0deed;\n",
              "            color:  #000000;\n",
              "        }#T_df050972_451d_11eb_b2f3_0242ac1c0002row0_col4,#T_df050972_451d_11eb_b2f3_0242ac1c0002row2_col18,#T_df050972_451d_11eb_b2f3_0242ac1c0002row5_col15,#T_df050972_451d_11eb_b2f3_0242ac1c0002row12_col7,#T_df050972_451d_11eb_b2f3_0242ac1c0002row15_col5,#T_df050972_451d_11eb_b2f3_0242ac1c0002row16_col13,#T_df050972_451d_11eb_b2f3_0242ac1c0002row17_col21,#T_df050972_451d_11eb_b2f3_0242ac1c0002row18_col8{\n",
              "            background-color:  #a1bbda;\n",
              "            color:  #000000;\n",
              "        }#T_df050972_451d_11eb_b2f3_0242ac1c0002row0_col5,#T_df050972_451d_11eb_b2f3_0242ac1c0002row1_col5,#T_df050972_451d_11eb_b2f3_0242ac1c0002row1_col9,#T_df050972_451d_11eb_b2f3_0242ac1c0002row3_col24,#T_df050972_451d_11eb_b2f3_0242ac1c0002row3_col26,#T_df050972_451d_11eb_b2f3_0242ac1c0002row4_col3,#T_df050972_451d_11eb_b2f3_0242ac1c0002row4_col5,#T_df050972_451d_11eb_b2f3_0242ac1c0002row13_col6,#T_df050972_451d_11eb_b2f3_0242ac1c0002row16_col5,#T_df050972_451d_11eb_b2f3_0242ac1c0002row23_col5{\n",
              "            background-color:  #b9c6e0;\n",
              "            color:  #000000;\n",
              "        }#T_df050972_451d_11eb_b2f3_0242ac1c0002row0_col6,#T_df050972_451d_11eb_b2f3_0242ac1c0002row18_col13,#T_df050972_451d_11eb_b2f3_0242ac1c0002row26_col16{\n",
              "            background-color:  #dddbec;\n",
              "            color:  #000000;\n",
              "        }#T_df050972_451d_11eb_b2f3_0242ac1c0002row0_col7,#T_df050972_451d_11eb_b2f3_0242ac1c0002row1_col23,#T_df050972_451d_11eb_b2f3_0242ac1c0002row9_col5,#T_df050972_451d_11eb_b2f3_0242ac1c0002row13_col24,#T_df050972_451d_11eb_b2f3_0242ac1c0002row22_col19{\n",
              "            background-color:  #cccfe5;\n",
              "            color:  #000000;\n",
              "        }#T_df050972_451d_11eb_b2f3_0242ac1c0002row0_col8,#T_df050972_451d_11eb_b2f3_0242ac1c0002row0_col23,#T_df050972_451d_11eb_b2f3_0242ac1c0002row3_col9,#T_df050972_451d_11eb_b2f3_0242ac1c0002row12_col5,#T_df050972_451d_11eb_b2f3_0242ac1c0002row20_col1{\n",
              "            background-color:  #c4cbe3;\n",
              "            color:  #000000;\n",
              "        }#T_df050972_451d_11eb_b2f3_0242ac1c0002row0_col9,#T_df050972_451d_11eb_b2f3_0242ac1c0002row5_col26,#T_df050972_451d_11eb_b2f3_0242ac1c0002row8_col5,#T_df050972_451d_11eb_b2f3_0242ac1c0002row9_col25,#T_df050972_451d_11eb_b2f3_0242ac1c0002row17_col24,#T_df050972_451d_11eb_b2f3_0242ac1c0002row22_col26,#T_df050972_451d_11eb_b2f3_0242ac1c0002row25_col8{\n",
              "            background-color:  #c8cde4;\n",
              "            color:  #000000;\n",
              "        }#T_df050972_451d_11eb_b2f3_0242ac1c0002row0_col10,#T_df050972_451d_11eb_b2f3_0242ac1c0002row1_col24,#T_df050972_451d_11eb_b2f3_0242ac1c0002row3_col20,#T_df050972_451d_11eb_b2f3_0242ac1c0002row5_col13,#T_df050972_451d_11eb_b2f3_0242ac1c0002row9_col20,#T_df050972_451d_11eb_b2f3_0242ac1c0002row19_col22,#T_df050972_451d_11eb_b2f3_0242ac1c0002row19_col23{\n",
              "            background-color:  #ced0e6;\n",
              "            color:  #000000;\n",
              "        }#T_df050972_451d_11eb_b2f3_0242ac1c0002row0_col11,#T_df050972_451d_11eb_b2f3_0242ac1c0002row3_col10,#T_df050972_451d_11eb_b2f3_0242ac1c0002row16_col1,#T_df050972_451d_11eb_b2f3_0242ac1c0002row17_col3{\n",
              "            background-color:  #c0c9e2;\n",
              "            color:  #000000;\n",
              "        }#T_df050972_451d_11eb_b2f3_0242ac1c0002row0_col12,#T_df050972_451d_11eb_b2f3_0242ac1c0002row1_col6,#T_df050972_451d_11eb_b2f3_0242ac1c0002row2_col6,#T_df050972_451d_11eb_b2f3_0242ac1c0002row11_col24,#T_df050972_451d_11eb_b2f3_0242ac1c0002row13_col1,#T_df050972_451d_11eb_b2f3_0242ac1c0002row16_col17,#T_df050972_451d_11eb_b2f3_0242ac1c0002row18_col11{\n",
              "            background-color:  #bfc9e1;\n",
              "            color:  #000000;\n",
              "        }#T_df050972_451d_11eb_b2f3_0242ac1c0002row0_col13,#T_df050972_451d_11eb_b2f3_0242ac1c0002row7_col3,#T_df050972_451d_11eb_b2f3_0242ac1c0002row13_col17,#T_df050972_451d_11eb_b2f3_0242ac1c0002row25_col6,#T_df050972_451d_11eb_b2f3_0242ac1c0002row26_col4{\n",
              "            background-color:  #d0d1e6;\n",
              "            color:  #000000;\n",
              "        }#T_df050972_451d_11eb_b2f3_0242ac1c0002row0_col14{\n",
              "            background-color:  #8cb3d5;\n",
              "            color:  #000000;\n",
              "        }#T_df050972_451d_11eb_b2f3_0242ac1c0002row0_col15,#T_df050972_451d_11eb_b2f3_0242ac1c0002row1_col22,#T_df050972_451d_11eb_b2f3_0242ac1c0002row3_col5,#T_df050972_451d_11eb_b2f3_0242ac1c0002row3_col7,#T_df050972_451d_11eb_b2f3_0242ac1c0002row3_col23,#T_df050972_451d_11eb_b2f3_0242ac1c0002row12_col2,#T_df050972_451d_11eb_b2f3_0242ac1c0002row12_col23,#T_df050972_451d_11eb_b2f3_0242ac1c0002row18_col24,#T_df050972_451d_11eb_b2f3_0242ac1c0002row18_col26,#T_df050972_451d_11eb_b2f3_0242ac1c0002row20_col5,#T_df050972_451d_11eb_b2f3_0242ac1c0002row20_col17,#T_df050972_451d_11eb_b2f3_0242ac1c0002row21_col5{\n",
              "            background-color:  #bcc7e1;\n",
              "            color:  #000000;\n",
              "        }#T_df050972_451d_11eb_b2f3_0242ac1c0002row0_col16,#T_df050972_451d_11eb_b2f3_0242ac1c0002row0_col26,#T_df050972_451d_11eb_b2f3_0242ac1c0002row3_col12,#T_df050972_451d_11eb_b2f3_0242ac1c0002row5_col24,#T_df050972_451d_11eb_b2f3_0242ac1c0002row6_col18,#T_df050972_451d_11eb_b2f3_0242ac1c0002row7_col6,#T_df050972_451d_11eb_b2f3_0242ac1c0002row10_col6,#T_df050972_451d_11eb_b2f3_0242ac1c0002row24_col20,#T_df050972_451d_11eb_b2f3_0242ac1c0002row25_col4,#T_df050972_451d_11eb_b2f3_0242ac1c0002row25_col15{\n",
              "            background-color:  #cacee5;\n",
              "            color:  #000000;\n",
              "        }#T_df050972_451d_11eb_b2f3_0242ac1c0002row0_col17,#T_df050972_451d_11eb_b2f3_0242ac1c0002row2_col17,#T_df050972_451d_11eb_b2f3_0242ac1c0002row12_col22,#T_df050972_451d_11eb_b2f3_0242ac1c0002row17_col5,#T_df050972_451d_11eb_b2f3_0242ac1c0002row22_col10,#T_df050972_451d_11eb_b2f3_0242ac1c0002row23_col17{\n",
              "            background-color:  #8fb4d6;\n",
              "            color:  #000000;\n",
              "        }#T_df050972_451d_11eb_b2f3_0242ac1c0002row0_col18,#T_df050972_451d_11eb_b2f3_0242ac1c0002row0_col22,#T_df050972_451d_11eb_b2f3_0242ac1c0002row2_col9,#T_df050972_451d_11eb_b2f3_0242ac1c0002row5_col22,#T_df050972_451d_11eb_b2f3_0242ac1c0002row11_col25,#T_df050972_451d_11eb_b2f3_0242ac1c0002row19_col1,#T_df050972_451d_11eb_b2f3_0242ac1c0002row22_col23{\n",
              "            background-color:  #a2bcda;\n",
              "            color:  #000000;\n",
              "        }#T_df050972_451d_11eb_b2f3_0242ac1c0002row0_col19,#T_df050972_451d_11eb_b2f3_0242ac1c0002row0_col20,#T_df050972_451d_11eb_b2f3_0242ac1c0002row11_col6,#T_df050972_451d_11eb_b2f3_0242ac1c0002row12_col6,#T_df050972_451d_11eb_b2f3_0242ac1c0002row13_col4,#T_df050972_451d_11eb_b2f3_0242ac1c0002row19_col8,#T_df050972_451d_11eb_b2f3_0242ac1c0002row22_col9,#T_df050972_451d_11eb_b2f3_0242ac1c0002row25_col11,#T_df050972_451d_11eb_b2f3_0242ac1c0002row26_col20{\n",
              "            background-color:  #9ebad9;\n",
              "            color:  #000000;\n",
              "        }#T_df050972_451d_11eb_b2f3_0242ac1c0002row0_col21,#T_df050972_451d_11eb_b2f3_0242ac1c0002row2_col7,#T_df050972_451d_11eb_b2f3_0242ac1c0002row7_col24,#T_df050972_451d_11eb_b2f3_0242ac1c0002row10_col24,#T_df050972_451d_11eb_b2f3_0242ac1c0002row14_col1,#T_df050972_451d_11eb_b2f3_0242ac1c0002row15_col18,#T_df050972_451d_11eb_b2f3_0242ac1c0002row22_col8,#T_df050972_451d_11eb_b2f3_0242ac1c0002row24_col9{\n",
              "            background-color:  #acc0dd;\n",
              "            color:  #000000;\n",
              "        }#T_df050972_451d_11eb_b2f3_0242ac1c0002row0_col24,#T_df050972_451d_11eb_b2f3_0242ac1c0002row5_col12,#T_df050972_451d_11eb_b2f3_0242ac1c0002row5_col16,#T_df050972_451d_11eb_b2f3_0242ac1c0002row10_col13,#T_df050972_451d_11eb_b2f3_0242ac1c0002row12_col1,#T_df050972_451d_11eb_b2f3_0242ac1c0002row17_col23,#T_df050972_451d_11eb_b2f3_0242ac1c0002row18_col15,#T_df050972_451d_11eb_b2f3_0242ac1c0002row22_col6,#T_df050972_451d_11eb_b2f3_0242ac1c0002row25_col9,#T_df050972_451d_11eb_b2f3_0242ac1c0002row25_col17{\n",
              "            background-color:  #c9cee4;\n",
              "            color:  #000000;\n",
              "        }#T_df050972_451d_11eb_b2f3_0242ac1c0002row0_col25,#T_df050972_451d_11eb_b2f3_0242ac1c0002row5_col11,#T_df050972_451d_11eb_b2f3_0242ac1c0002row5_col23,#T_df050972_451d_11eb_b2f3_0242ac1c0002row5_col25,#T_df050972_451d_11eb_b2f3_0242ac1c0002row8_col25,#T_df050972_451d_11eb_b2f3_0242ac1c0002row13_col10,#T_df050972_451d_11eb_b2f3_0242ac1c0002row21_col26{\n",
              "            background-color:  #c6cce3;\n",
              "            color:  #000000;\n",
              "        }#T_df050972_451d_11eb_b2f3_0242ac1c0002row1_col0,#T_df050972_451d_11eb_b2f3_0242ac1c0002row1_col3,#T_df050972_451d_11eb_b2f3_0242ac1c0002row2_col0,#T_df050972_451d_11eb_b2f3_0242ac1c0002row9_col0,#T_df050972_451d_11eb_b2f3_0242ac1c0002row15_col0,#T_df050972_451d_11eb_b2f3_0242ac1c0002row17_col6,#T_df050972_451d_11eb_b2f3_0242ac1c0002row20_col0,#T_df050972_451d_11eb_b2f3_0242ac1c0002row22_col0,#T_df050972_451d_11eb_b2f3_0242ac1c0002row22_col20,#T_df050972_451d_11eb_b2f3_0242ac1c0002row25_col0{\n",
              "            background-color:  #fdf5fa;\n",
              "            color:  #000000;\n",
              "        }#T_df050972_451d_11eb_b2f3_0242ac1c0002row1_col2,#T_df050972_451d_11eb_b2f3_0242ac1c0002row2_col13,#T_df050972_451d_11eb_b2f3_0242ac1c0002row5_col2,#T_df050972_451d_11eb_b2f3_0242ac1c0002row24_col13,#T_df050972_451d_11eb_b2f3_0242ac1c0002row26_col3{\n",
              "            background-color:  #d4d4e8;\n",
              "            color:  #000000;\n",
              "        }#T_df050972_451d_11eb_b2f3_0242ac1c0002row1_col4,#T_df050972_451d_11eb_b2f3_0242ac1c0002row1_col25,#T_df050972_451d_11eb_b2f3_0242ac1c0002row11_col21,#T_df050972_451d_11eb_b2f3_0242ac1c0002row12_col13,#T_df050972_451d_11eb_b2f3_0242ac1c0002row12_col21,#T_df050972_451d_11eb_b2f3_0242ac1c0002row13_col16,#T_df050972_451d_11eb_b2f3_0242ac1c0002row14_col16,#T_df050972_451d_11eb_b2f3_0242ac1c0002row15_col24,#T_df050972_451d_11eb_b2f3_0242ac1c0002row18_col22,#T_df050972_451d_11eb_b2f3_0242ac1c0002row19_col4,#T_df050972_451d_11eb_b2f3_0242ac1c0002row19_col9,#T_df050972_451d_11eb_b2f3_0242ac1c0002row23_col18,#T_df050972_451d_11eb_b2f3_0242ac1c0002row24_col21{\n",
              "            background-color:  #9ab8d8;\n",
              "            color:  #000000;\n",
              "        }#T_df050972_451d_11eb_b2f3_0242ac1c0002row1_col8,#T_df050972_451d_11eb_b2f3_0242ac1c0002row2_col5,#T_df050972_451d_11eb_b2f3_0242ac1c0002row6_col7,#T_df050972_451d_11eb_b2f3_0242ac1c0002row9_col13,#T_df050972_451d_11eb_b2f3_0242ac1c0002row12_col20,#T_df050972_451d_11eb_b2f3_0242ac1c0002row13_col5,#T_df050972_451d_11eb_b2f3_0242ac1c0002row21_col10,#T_df050972_451d_11eb_b2f3_0242ac1c0002row21_col24,#T_df050972_451d_11eb_b2f3_0242ac1c0002row23_col7,#T_df050972_451d_11eb_b2f3_0242ac1c0002row24_col11{\n",
              "            background-color:  #b8c6e0;\n",
              "            color:  #000000;\n",
              "        }#T_df050972_451d_11eb_b2f3_0242ac1c0002row1_col10,#T_df050972_451d_11eb_b2f3_0242ac1c0002row8_col3,#T_df050972_451d_11eb_b2f3_0242ac1c0002row18_col25,#T_df050972_451d_11eb_b2f3_0242ac1c0002row21_col13,#T_df050972_451d_11eb_b2f3_0242ac1c0002row21_col22,#T_df050972_451d_11eb_b2f3_0242ac1c0002row26_col19{\n",
              "            background-color:  #dad9ea;\n",
              "            color:  #000000;\n",
              "        }#T_df050972_451d_11eb_b2f3_0242ac1c0002row1_col11,#T_df050972_451d_11eb_b2f3_0242ac1c0002row3_col14,#T_df050972_451d_11eb_b2f3_0242ac1c0002row13_col8,#T_df050972_451d_11eb_b2f3_0242ac1c0002row17_col4,#T_df050972_451d_11eb_b2f3_0242ac1c0002row20_col13{\n",
              "            background-color:  #a8bedc;\n",
              "            color:  #000000;\n",
              "        }#T_df050972_451d_11eb_b2f3_0242ac1c0002row1_col12,#T_df050972_451d_11eb_b2f3_0242ac1c0002row1_col15,#T_df050972_451d_11eb_b2f3_0242ac1c0002row2_col11,#T_df050972_451d_11eb_b2f3_0242ac1c0002row11_col7,#T_df050972_451d_11eb_b2f3_0242ac1c0002row18_col9{\n",
              "            background-color:  #a4bcda;\n",
              "            color:  #000000;\n",
              "        }#T_df050972_451d_11eb_b2f3_0242ac1c0002row1_col13,#T_df050972_451d_11eb_b2f3_0242ac1c0002row5_col21,#T_df050972_451d_11eb_b2f3_0242ac1c0002row6_col21,#T_df050972_451d_11eb_b2f3_0242ac1c0002row15_col13,#T_df050972_451d_11eb_b2f3_0242ac1c0002row24_col19,#T_df050972_451d_11eb_b2f3_0242ac1c0002row26_col21{\n",
              "            background-color:  #abbfdc;\n",
              "            color:  #000000;\n",
              "        }#T_df050972_451d_11eb_b2f3_0242ac1c0002row1_col14,#T_df050972_451d_11eb_b2f3_0242ac1c0002row11_col9,#T_df050972_451d_11eb_b2f3_0242ac1c0002row19_col15,#T_df050972_451d_11eb_b2f3_0242ac1c0002row22_col15,#T_df050972_451d_11eb_b2f3_0242ac1c0002row22_col17{\n",
              "            background-color:  #589ec8;\n",
              "            color:  #000000;\n",
              "        }#T_df050972_451d_11eb_b2f3_0242ac1c0002row1_col16,#T_df050972_451d_11eb_b2f3_0242ac1c0002row7_col19{\n",
              "            background-color:  #a7bddb;\n",
              "            color:  #000000;\n",
              "        }#T_df050972_451d_11eb_b2f3_0242ac1c0002row1_col17,#T_df050972_451d_11eb_b2f3_0242ac1c0002row6_col2,#T_df050972_451d_11eb_b2f3_0242ac1c0002row6_col23,#T_df050972_451d_11eb_b2f3_0242ac1c0002row7_col2,#T_df050972_451d_11eb_b2f3_0242ac1c0002row8_col2,#T_df050972_451d_11eb_b2f3_0242ac1c0002row13_col21,#T_df050972_451d_11eb_b2f3_0242ac1c0002row23_col12,#T_df050972_451d_11eb_b2f3_0242ac1c0002row24_col12{\n",
              "            background-color:  #b5c4df;\n",
              "            color:  #000000;\n",
              "        }#T_df050972_451d_11eb_b2f3_0242ac1c0002row1_col18,#T_df050972_451d_11eb_b2f3_0242ac1c0002row6_col10,#T_df050972_451d_11eb_b2f3_0242ac1c0002row11_col20,#T_df050972_451d_11eb_b2f3_0242ac1c0002row21_col7,#T_df050972_451d_11eb_b2f3_0242ac1c0002row23_col10,#T_df050972_451d_11eb_b2f3_0242ac1c0002row23_col11,#T_df050972_451d_11eb_b2f3_0242ac1c0002row25_col18{\n",
              "            background-color:  #b7c5df;\n",
              "            color:  #000000;\n",
              "        }#T_df050972_451d_11eb_b2f3_0242ac1c0002row1_col19,#T_df050972_451d_11eb_b2f3_0242ac1c0002row14_col4{\n",
              "            background-color:  #5ea0ca;\n",
              "            color:  #000000;\n",
              "        }#T_df050972_451d_11eb_b2f3_0242ac1c0002row1_col20,#T_df050972_451d_11eb_b2f3_0242ac1c0002row6_col12,#T_df050972_451d_11eb_b2f3_0242ac1c0002row9_col18,#T_df050972_451d_11eb_b2f3_0242ac1c0002row11_col8,#T_df050972_451d_11eb_b2f3_0242ac1c0002row23_col22{\n",
              "            background-color:  #7dacd1;\n",
              "            color:  #000000;\n",
              "        }#T_df050972_451d_11eb_b2f3_0242ac1c0002row1_col21,#T_df050972_451d_11eb_b2f3_0242ac1c0002row2_col24,#T_df050972_451d_11eb_b2f3_0242ac1c0002row9_col23,#T_df050972_451d_11eb_b2f3_0242ac1c0002row23_col9{\n",
              "            background-color:  #b4c4df;\n",
              "            color:  #000000;\n",
              "        }#T_df050972_451d_11eb_b2f3_0242ac1c0002row1_col26,#T_df050972_451d_11eb_b2f3_0242ac1c0002row3_col25,#T_df050972_451d_11eb_b2f3_0242ac1c0002row16_col15,#T_df050972_451d_11eb_b2f3_0242ac1c0002row18_col16,#T_df050972_451d_11eb_b2f3_0242ac1c0002row19_col17{\n",
              "            background-color:  #e2dfee;\n",
              "            color:  #000000;\n",
              "        }#T_df050972_451d_11eb_b2f3_0242ac1c0002row2_col1,#T_df050972_451d_11eb_b2f3_0242ac1c0002row16_col23,#T_df050972_451d_11eb_b2f3_0242ac1c0002row26_col7,#T_df050972_451d_11eb_b2f3_0242ac1c0002row26_col10{\n",
              "            background-color:  #dedcec;\n",
              "            color:  #000000;\n",
              "        }#T_df050972_451d_11eb_b2f3_0242ac1c0002row2_col3{\n",
              "            background-color:  #5a9ec9;\n",
              "            color:  #000000;\n",
              "        }#T_df050972_451d_11eb_b2f3_0242ac1c0002row2_col4,#T_df050972_451d_11eb_b2f3_0242ac1c0002row14_col9{\n",
              "            background-color:  #358fc0;\n",
              "            color:  #000000;\n",
              "        }#T_df050972_451d_11eb_b2f3_0242ac1c0002row2_col8,#T_df050972_451d_11eb_b2f3_0242ac1c0002row2_col12,#T_df050972_451d_11eb_b2f3_0242ac1c0002row10_col19,#T_df050972_451d_11eb_b2f3_0242ac1c0002row12_col25,#T_df050972_451d_11eb_b2f3_0242ac1c0002row23_col19,#T_df050972_451d_11eb_b2f3_0242ac1c0002row26_col22{\n",
              "            background-color:  #a5bddb;\n",
              "            color:  #000000;\n",
              "        }#T_df050972_451d_11eb_b2f3_0242ac1c0002row2_col10,#T_df050972_451d_11eb_b2f3_0242ac1c0002row6_col20,#T_df050972_451d_11eb_b2f3_0242ac1c0002row7_col23,#T_df050972_451d_11eb_b2f3_0242ac1c0002row18_col14,#T_df050972_451d_11eb_b2f3_0242ac1c0002row21_col12,#T_df050972_451d_11eb_b2f3_0242ac1c0002row24_col8{\n",
              "            background-color:  #b1c2de;\n",
              "            color:  #000000;\n",
              "        }#T_df050972_451d_11eb_b2f3_0242ac1c0002row2_col14,#T_df050972_451d_11eb_b2f3_0242ac1c0002row4_col11,#T_df050972_451d_11eb_b2f3_0242ac1c0002row4_col21,#T_df050972_451d_11eb_b2f3_0242ac1c0002row8_col12,#T_df050972_451d_11eb_b2f3_0242ac1c0002row8_col19,#T_df050972_451d_11eb_b2f3_0242ac1c0002row10_col8,#T_df050972_451d_11eb_b2f3_0242ac1c0002row10_col11,#T_df050972_451d_11eb_b2f3_0242ac1c0002row18_col7,#T_df050972_451d_11eb_b2f3_0242ac1c0002row19_col13,#T_df050972_451d_11eb_b2f3_0242ac1c0002row19_col16,#T_df050972_451d_11eb_b2f3_0242ac1c0002row24_col22{\n",
              "            background-color:  #78abd0;\n",
              "            color:  #000000;\n",
              "        }#T_df050972_451d_11eb_b2f3_0242ac1c0002row2_col15,#T_df050972_451d_11eb_b2f3_0242ac1c0002row5_col17{\n",
              "            background-color:  #65a3cb;\n",
              "            color:  #000000;\n",
              "        }#T_df050972_451d_11eb_b2f3_0242ac1c0002row2_col16,#T_df050972_451d_11eb_b2f3_0242ac1c0002row26_col8{\n",
              "            background-color:  #e7e3f0;\n",
              "            color:  #000000;\n",
              "        }#T_df050972_451d_11eb_b2f3_0242ac1c0002row2_col19,#T_df050972_451d_11eb_b2f3_0242ac1c0002row5_col20,#T_df050972_451d_11eb_b2f3_0242ac1c0002row18_col21,#T_df050972_451d_11eb_b2f3_0242ac1c0002row22_col7,#T_df050972_451d_11eb_b2f3_0242ac1c0002row22_col14,#T_df050972_451d_11eb_b2f3_0242ac1c0002row25_col12{\n",
              "            background-color:  #9fbad9;\n",
              "            color:  #000000;\n",
              "        }#T_df050972_451d_11eb_b2f3_0242ac1c0002row2_col20,#T_df050972_451d_11eb_b2f3_0242ac1c0002row5_col9,#T_df050972_451d_11eb_b2f3_0242ac1c0002row9_col1{\n",
              "            background-color:  #d6d6e9;\n",
              "            color:  #000000;\n",
              "        }#T_df050972_451d_11eb_b2f3_0242ac1c0002row2_col21,#T_df050972_451d_11eb_b2f3_0242ac1c0002row7_col11,#T_df050972_451d_11eb_b2f3_0242ac1c0002row8_col21,#T_df050972_451d_11eb_b2f3_0242ac1c0002row13_col15,#T_df050972_451d_11eb_b2f3_0242ac1c0002row26_col18{\n",
              "            background-color:  #96b6d7;\n",
              "            color:  #000000;\n",
              "        }#T_df050972_451d_11eb_b2f3_0242ac1c0002row2_col22,#T_df050972_451d_11eb_b2f3_0242ac1c0002row4_col8,#T_df050972_451d_11eb_b2f3_0242ac1c0002row4_col9,#T_df050972_451d_11eb_b2f3_0242ac1c0002row20_col19{\n",
              "            background-color:  #62a2cb;\n",
              "            color:  #000000;\n",
              "        }#T_df050972_451d_11eb_b2f3_0242ac1c0002row2_col23,#T_df050972_451d_11eb_b2f3_0242ac1c0002row3_col15,#T_df050972_451d_11eb_b2f3_0242ac1c0002row9_col24,#T_df050972_451d_11eb_b2f3_0242ac1c0002row13_col18,#T_df050972_451d_11eb_b2f3_0242ac1c0002row18_col20{\n",
              "            background-color:  #adc1dd;\n",
              "            color:  #000000;\n",
              "        }#T_df050972_451d_11eb_b2f3_0242ac1c0002row2_col26,#T_df050972_451d_11eb_b2f3_0242ac1c0002row9_col16,#T_df050972_451d_11eb_b2f3_0242ac1c0002row13_col2,#T_df050972_451d_11eb_b2f3_0242ac1c0002row16_col26,#T_df050972_451d_11eb_b2f3_0242ac1c0002row20_col11,#T_df050972_451d_11eb_b2f3_0242ac1c0002row20_col12,#T_df050972_451d_11eb_b2f3_0242ac1c0002row25_col22{\n",
              "            background-color:  #d9d8ea;\n",
              "            color:  #000000;\n",
              "        }#T_df050972_451d_11eb_b2f3_0242ac1c0002row3_col0,#T_df050972_451d_11eb_b2f3_0242ac1c0002row3_col1,#T_df050972_451d_11eb_b2f3_0242ac1c0002row4_col16,#T_df050972_451d_11eb_b2f3_0242ac1c0002row4_col20,#T_df050972_451d_11eb_b2f3_0242ac1c0002row14_col17,#T_df050972_451d_11eb_b2f3_0242ac1c0002row17_col7,#T_df050972_451d_11eb_b2f3_0242ac1c0002row17_col8,#T_df050972_451d_11eb_b2f3_0242ac1c0002row17_col9,#T_df050972_451d_11eb_b2f3_0242ac1c0002row17_col10,#T_df050972_451d_11eb_b2f3_0242ac1c0002row17_col11,#T_df050972_451d_11eb_b2f3_0242ac1c0002row17_col12,#T_df050972_451d_11eb_b2f3_0242ac1c0002row17_col13,#T_df050972_451d_11eb_b2f3_0242ac1c0002row17_col14,#T_df050972_451d_11eb_b2f3_0242ac1c0002row18_col5,#T_df050972_451d_11eb_b2f3_0242ac1c0002row18_col19,#T_df050972_451d_11eb_b2f3_0242ac1c0002row19_col18,#T_df050972_451d_11eb_b2f3_0242ac1c0002row20_col2,#T_df050972_451d_11eb_b2f3_0242ac1c0002row20_col3,#T_df050972_451d_11eb_b2f3_0242ac1c0002row20_col4,#T_df050972_451d_11eb_b2f3_0242ac1c0002row20_col15,#T_df050972_451d_11eb_b2f3_0242ac1c0002row20_col21,#T_df050972_451d_11eb_b2f3_0242ac1c0002row20_col22,#T_df050972_451d_11eb_b2f3_0242ac1c0002row25_col23,#T_df050972_451d_11eb_b2f3_0242ac1c0002row25_col24,#T_df050972_451d_11eb_b2f3_0242ac1c0002row25_col26,#T_df050972_451d_11eb_b2f3_0242ac1c0002row26_col0,#T_df050972_451d_11eb_b2f3_0242ac1c0002row26_col6,#T_df050972_451d_11eb_b2f3_0242ac1c0002row26_col25{\n",
              "            background-color:  #fff7fb;\n",
              "            color:  #000000;\n",
              "        }#T_df050972_451d_11eb_b2f3_0242ac1c0002row3_col2,#T_df050972_451d_11eb_b2f3_0242ac1c0002row4_col14,#T_df050972_451d_11eb_b2f3_0242ac1c0002row5_col14{\n",
              "            background-color:  #509ac6;\n",
              "            color:  #000000;\n",
              "        }#T_df050972_451d_11eb_b2f3_0242ac1c0002row3_col4,#T_df050972_451d_11eb_b2f3_0242ac1c0002row4_col7,#T_df050972_451d_11eb_b2f3_0242ac1c0002row4_col10,#T_df050972_451d_11eb_b2f3_0242ac1c0002row8_col9,#T_df050972_451d_11eb_b2f3_0242ac1c0002row8_col11,#T_df050972_451d_11eb_b2f3_0242ac1c0002row9_col8,#T_df050972_451d_11eb_b2f3_0242ac1c0002row10_col12,#T_df050972_451d_11eb_b2f3_0242ac1c0002row13_col20{\n",
              "            background-color:  #76aad0;\n",
              "            color:  #000000;\n",
              "        }#T_df050972_451d_11eb_b2f3_0242ac1c0002row3_col6,#T_df050972_451d_11eb_b2f3_0242ac1c0002row6_col3,#T_df050972_451d_11eb_b2f3_0242ac1c0002row25_col7,#T_df050972_451d_11eb_b2f3_0242ac1c0002row25_col10{\n",
              "            background-color:  #e3e0ee;\n",
              "            color:  #000000;\n",
              "        }#T_df050972_451d_11eb_b2f3_0242ac1c0002row3_col8,#T_df050972_451d_11eb_b2f3_0242ac1c0002row8_col20,#T_df050972_451d_11eb_b2f3_0242ac1c0002row11_col5,#T_df050972_451d_11eb_b2f3_0242ac1c0002row13_col22,#T_df050972_451d_11eb_b2f3_0242ac1c0002row14_col2,#T_df050972_451d_11eb_b2f3_0242ac1c0002row14_col24,#T_df050972_451d_11eb_b2f3_0242ac1c0002row25_col21{\n",
              "            background-color:  #c1cae2;\n",
              "            color:  #000000;\n",
              "        }#T_df050972_451d_11eb_b2f3_0242ac1c0002row3_col11,#T_df050972_451d_11eb_b2f3_0242ac1c0002row20_col26,#T_df050972_451d_11eb_b2f3_0242ac1c0002row21_col2,#T_df050972_451d_11eb_b2f3_0242ac1c0002row23_col20,#T_df050972_451d_11eb_b2f3_0242ac1c0002row24_col2{\n",
              "            background-color:  #c5cce3;\n",
              "            color:  #000000;\n",
              "        }#T_df050972_451d_11eb_b2f3_0242ac1c0002row3_col13,#T_df050972_451d_11eb_b2f3_0242ac1c0002row17_col18,#T_df050972_451d_11eb_b2f3_0242ac1c0002row20_col8{\n",
              "            background-color:  #e5e1ef;\n",
              "            color:  #000000;\n",
              "        }#T_df050972_451d_11eb_b2f3_0242ac1c0002row3_col16,#T_df050972_451d_11eb_b2f3_0242ac1c0002row7_col1,#T_df050972_451d_11eb_b2f3_0242ac1c0002row9_col26,#T_df050972_451d_11eb_b2f3_0242ac1c0002row20_col23,#T_df050972_451d_11eb_b2f3_0242ac1c0002row26_col2{\n",
              "            background-color:  #e8e4f0;\n",
              "            color:  #000000;\n",
              "        }#T_df050972_451d_11eb_b2f3_0242ac1c0002row3_col17,#T_df050972_451d_11eb_b2f3_0242ac1c0002row14_col13,#T_df050972_451d_11eb_b2f3_0242ac1c0002row17_col26,#T_df050972_451d_11eb_b2f3_0242ac1c0002row19_col5{\n",
              "            background-color:  #6fa7ce;\n",
              "            color:  #000000;\n",
              "        }#T_df050972_451d_11eb_b2f3_0242ac1c0002row3_col18,#T_df050972_451d_11eb_b2f3_0242ac1c0002row6_col8,#T_df050972_451d_11eb_b2f3_0242ac1c0002row10_col21,#T_df050972_451d_11eb_b2f3_0242ac1c0002row24_col18{\n",
              "            background-color:  #93b5d6;\n",
              "            color:  #000000;\n",
              "        }#T_df050972_451d_11eb_b2f3_0242ac1c0002row3_col19,#T_df050972_451d_11eb_b2f3_0242ac1c0002row6_col1,#T_df050972_451d_11eb_b2f3_0242ac1c0002row6_col16,#T_df050972_451d_11eb_b2f3_0242ac1c0002row14_col18,#T_df050972_451d_11eb_b2f3_0242ac1c0002row18_col23{\n",
              "            background-color:  #c2cbe2;\n",
              "            color:  #000000;\n",
              "        }#T_df050972_451d_11eb_b2f3_0242ac1c0002row3_col21,#T_df050972_451d_11eb_b2f3_0242ac1c0002row12_col18,#T_df050972_451d_11eb_b2f3_0242ac1c0002row15_col23,#T_df050972_451d_11eb_b2f3_0242ac1c0002row22_col18{\n",
              "            background-color:  #99b8d8;\n",
              "            color:  #000000;\n",
              "        }#T_df050972_451d_11eb_b2f3_0242ac1c0002row3_col22,#T_df050972_451d_11eb_b2f3_0242ac1c0002row14_col10{\n",
              "            background-color:  #71a8ce;\n",
              "            color:  #000000;\n",
              "        }#T_df050972_451d_11eb_b2f3_0242ac1c0002row4_col0,#T_df050972_451d_11eb_b2f3_0242ac1c0002row14_col26,#T_df050972_451d_11eb_b2f3_0242ac1c0002row18_col0,#T_df050972_451d_11eb_b2f3_0242ac1c0002row21_col0,#T_df050972_451d_11eb_b2f3_0242ac1c0002row23_col25{\n",
              "            background-color:  #fef6fb;\n",
              "            color:  #000000;\n",
              "        }#T_df050972_451d_11eb_b2f3_0242ac1c0002row4_col1,#T_df050972_451d_11eb_b2f3_0242ac1c0002row5_col3{\n",
              "            background-color:  #dfddec;\n",
              "            color:  #000000;\n",
              "        }#T_df050972_451d_11eb_b2f3_0242ac1c0002row4_col2,#T_df050972_451d_11eb_b2f3_0242ac1c0002row7_col10,#T_df050972_451d_11eb_b2f3_0242ac1c0002row10_col7,#T_df050972_451d_11eb_b2f3_0242ac1c0002row10_col9,#T_df050972_451d_11eb_b2f3_0242ac1c0002row17_col22,#T_df050972_451d_11eb_b2f3_0242ac1c0002row20_col25,#T_df050972_451d_11eb_b2f3_0242ac1c0002row21_col4{\n",
              "            background-color:  #6ba5cd;\n",
              "            color:  #000000;\n",
              "        }#T_df050972_451d_11eb_b2f3_0242ac1c0002row4_col6,#T_df050972_451d_11eb_b2f3_0242ac1c0002row9_col7,#T_df050972_451d_11eb_b2f3_0242ac1c0002row21_col17,#T_df050972_451d_11eb_b2f3_0242ac1c0002row23_col14{\n",
              "            background-color:  #86b0d3;\n",
              "            color:  #000000;\n",
              "        }#T_df050972_451d_11eb_b2f3_0242ac1c0002row4_col12,#T_df050972_451d_11eb_b2f3_0242ac1c0002row9_col19,#T_df050972_451d_11eb_b2f3_0242ac1c0002row16_col25{\n",
              "            background-color:  #75a9cf;\n",
              "            color:  #000000;\n",
              "        }#T_df050972_451d_11eb_b2f3_0242ac1c0002row4_col13,#T_df050972_451d_11eb_b2f3_0242ac1c0002row7_col5,#T_df050972_451d_11eb_b2f3_0242ac1c0002row13_col7,#T_df050972_451d_11eb_b2f3_0242ac1c0002row16_col21,#T_df050972_451d_11eb_b2f3_0242ac1c0002row23_col6{\n",
              "            background-color:  #d1d2e6;\n",
              "            color:  #000000;\n",
              "        }#T_df050972_451d_11eb_b2f3_0242ac1c0002row4_col15,#T_df050972_451d_11eb_b2f3_0242ac1c0002row19_col14{\n",
              "            background-color:  #04588a;\n",
              "            color:  #f1f1f1;\n",
              "        }#T_df050972_451d_11eb_b2f3_0242ac1c0002row4_col17,#T_df050972_451d_11eb_b2f3_0242ac1c0002row5_col6,#T_df050972_451d_11eb_b2f3_0242ac1c0002row11_col13,#T_df050972_451d_11eb_b2f3_0242ac1c0002row22_col2{\n",
              "            background-color:  #97b7d7;\n",
              "            color:  #000000;\n",
              "        }#T_df050972_451d_11eb_b2f3_0242ac1c0002row4_col18,#T_df050972_451d_11eb_b2f3_0242ac1c0002row4_col19,#T_df050972_451d_11eb_b2f3_0242ac1c0002row5_col4,#T_df050972_451d_11eb_b2f3_0242ac1c0002row11_col18,#T_df050972_451d_11eb_b2f3_0242ac1c0002row18_col4,#T_df050972_451d_11eb_b2f3_0242ac1c0002row22_col24,#T_df050972_451d_11eb_b2f3_0242ac1c0002row23_col21,#T_df050972_451d_11eb_b2f3_0242ac1c0002row25_col13{\n",
              "            background-color:  #9cb9d9;\n",
              "            color:  #000000;\n",
              "        }#T_df050972_451d_11eb_b2f3_0242ac1c0002row4_col22{\n",
              "            background-color:  #0c74b2;\n",
              "            color:  #f1f1f1;\n",
              "        }#T_df050972_451d_11eb_b2f3_0242ac1c0002row4_col23,#T_df050972_451d_11eb_b2f3_0242ac1c0002row8_col22,#T_df050972_451d_11eb_b2f3_0242ac1c0002row13_col11,#T_df050972_451d_11eb_b2f3_0242ac1c0002row24_col14{\n",
              "            background-color:  #88b1d4;\n",
              "            color:  #000000;\n",
              "        }#T_df050972_451d_11eb_b2f3_0242ac1c0002row4_col24,#T_df050972_451d_11eb_b2f3_0242ac1c0002row13_col12{\n",
              "            background-color:  #8bb2d4;\n",
              "            color:  #000000;\n",
              "        }#T_df050972_451d_11eb_b2f3_0242ac1c0002row4_col25,#T_df050972_451d_11eb_b2f3_0242ac1c0002row16_col10{\n",
              "            background-color:  #ece7f2;\n",
              "            color:  #000000;\n",
              "        }#T_df050972_451d_11eb_b2f3_0242ac1c0002row4_col26,#T_df050972_451d_11eb_b2f3_0242ac1c0002row20_col9{\n",
              "            background-color:  #eee9f3;\n",
              "            color:  #000000;\n",
              "        }#T_df050972_451d_11eb_b2f3_0242ac1c0002row5_col0,#T_df050972_451d_11eb_b2f3_0242ac1c0002row6_col0,#T_df050972_451d_11eb_b2f3_0242ac1c0002row10_col0,#T_df050972_451d_11eb_b2f3_0242ac1c0002row11_col0,#T_df050972_451d_11eb_b2f3_0242ac1c0002row12_col0,#T_df050972_451d_11eb_b2f3_0242ac1c0002row16_col0,#T_df050972_451d_11eb_b2f3_0242ac1c0002row17_col1,#T_df050972_451d_11eb_b2f3_0242ac1c0002row18_col6{\n",
              "            background-color:  #fcf4fa;\n",
              "            color:  #000000;\n",
              "        }#T_df050972_451d_11eb_b2f3_0242ac1c0002row5_col1,#T_df050972_451d_11eb_b2f3_0242ac1c0002row5_col7,#T_df050972_451d_11eb_b2f3_0242ac1c0002row5_col10,#T_df050972_451d_11eb_b2f3_0242ac1c0002row21_col6{\n",
              "            background-color:  #e0dded;\n",
              "            color:  #000000;\n",
              "        }#T_df050972_451d_11eb_b2f3_0242ac1c0002row5_col8,#T_df050972_451d_11eb_b2f3_0242ac1c0002row10_col3,#T_df050972_451d_11eb_b2f3_0242ac1c0002row15_col25,#T_df050972_451d_11eb_b2f3_0242ac1c0002row19_col10,#T_df050972_451d_11eb_b2f3_0242ac1c0002row19_col24,#T_df050972_451d_11eb_b2f3_0242ac1c0002row24_col3,#T_df050972_451d_11eb_b2f3_0242ac1c0002row24_col6{\n",
              "            background-color:  #d3d4e7;\n",
              "            color:  #000000;\n",
              "        }#T_df050972_451d_11eb_b2f3_0242ac1c0002row5_col18,#T_df050972_451d_11eb_b2f3_0242ac1c0002row6_col26,#T_df050972_451d_11eb_b2f3_0242ac1c0002row15_col16,#T_df050972_451d_11eb_b2f3_0242ac1c0002row20_col6{\n",
              "            background-color:  #eee8f3;\n",
              "            color:  #000000;\n",
              "        }#T_df050972_451d_11eb_b2f3_0242ac1c0002row5_col19,#T_df050972_451d_11eb_b2f3_0242ac1c0002row9_col11,#T_df050972_451d_11eb_b2f3_0242ac1c0002row12_col4,#T_df050972_451d_11eb_b2f3_0242ac1c0002row12_col9,#T_df050972_451d_11eb_b2f3_0242ac1c0002row15_col6{\n",
              "            background-color:  #529bc7;\n",
              "            color:  #000000;\n",
              "        }#T_df050972_451d_11eb_b2f3_0242ac1c0002row6_col4,#T_df050972_451d_11eb_b2f3_0242ac1c0002row7_col15,#T_df050972_451d_11eb_b2f3_0242ac1c0002row14_col8,#T_df050972_451d_11eb_b2f3_0242ac1c0002row25_col19,#T_df050972_451d_11eb_b2f3_0242ac1c0002row25_col20{\n",
              "            background-color:  #4496c3;\n",
              "            color:  #000000;\n",
              "        }#T_df050972_451d_11eb_b2f3_0242ac1c0002row6_col5,#T_df050972_451d_11eb_b2f3_0242ac1c0002row7_col22,#T_df050972_451d_11eb_b2f3_0242ac1c0002row9_col10{\n",
              "            background-color:  #73a9cf;\n",
              "            color:  #000000;\n",
              "        }#T_df050972_451d_11eb_b2f3_0242ac1c0002row6_col9,#T_df050972_451d_11eb_b2f3_0242ac1c0002row21_col18{\n",
              "            background-color:  #94b6d7;\n",
              "            color:  #000000;\n",
              "        }#T_df050972_451d_11eb_b2f3_0242ac1c0002row6_col11,#T_df050972_451d_11eb_b2f3_0242ac1c0002row7_col9,#T_df050972_451d_11eb_b2f3_0242ac1c0002row12_col8,#T_df050972_451d_11eb_b2f3_0242ac1c0002row14_col25{\n",
              "            background-color:  #7eadd1;\n",
              "            color:  #000000;\n",
              "        }#T_df050972_451d_11eb_b2f3_0242ac1c0002row6_col13,#T_df050972_451d_11eb_b2f3_0242ac1c0002row14_col21{\n",
              "            background-color:  #a9bfdc;\n",
              "            color:  #000000;\n",
              "        }#T_df050972_451d_11eb_b2f3_0242ac1c0002row6_col14{\n",
              "            background-color:  #1379b5;\n",
              "            color:  #f1f1f1;\n",
              "        }#T_df050972_451d_11eb_b2f3_0242ac1c0002row6_col15{\n",
              "            background-color:  #328dbf;\n",
              "            color:  #000000;\n",
              "        }#T_df050972_451d_11eb_b2f3_0242ac1c0002row6_col17,#T_df050972_451d_11eb_b2f3_0242ac1c0002row6_col24,#T_df050972_451d_11eb_b2f3_0242ac1c0002row10_col2,#T_df050972_451d_11eb_b2f3_0242ac1c0002row11_col2,#T_df050972_451d_11eb_b2f3_0242ac1c0002row16_col18,#T_df050972_451d_11eb_b2f3_0242ac1c0002row18_col12,#T_df050972_451d_11eb_b2f3_0242ac1c0002row19_col21,#T_df050972_451d_11eb_b2f3_0242ac1c0002row21_col23,#T_df050972_451d_11eb_b2f3_0242ac1c0002row22_col5,#T_df050972_451d_11eb_b2f3_0242ac1c0002row25_col1,#T_df050972_451d_11eb_b2f3_0242ac1c0002row25_col5{\n",
              "            background-color:  #bbc7e0;\n",
              "            color:  #000000;\n",
              "        }#T_df050972_451d_11eb_b2f3_0242ac1c0002row6_col19,#T_df050972_451d_11eb_b2f3_0242ac1c0002row26_col17{\n",
              "            background-color:  #3b92c1;\n",
              "            color:  #000000;\n",
              "        }#T_df050972_451d_11eb_b2f3_0242ac1c0002row6_col22{\n",
              "            background-color:  #89b1d4;\n",
              "            color:  #000000;\n",
              "        }#T_df050972_451d_11eb_b2f3_0242ac1c0002row6_col25,#T_df050972_451d_11eb_b2f3_0242ac1c0002row8_col13,#T_df050972_451d_11eb_b2f3_0242ac1c0002row8_col23,#T_df050972_451d_11eb_b2f3_0242ac1c0002row8_col24,#T_df050972_451d_11eb_b2f3_0242ac1c0002row9_col2,#T_df050972_451d_11eb_b2f3_0242ac1c0002row14_col22,#T_df050972_451d_11eb_b2f3_0242ac1c0002row16_col11,#T_df050972_451d_11eb_b2f3_0242ac1c0002row16_col12,#T_df050972_451d_11eb_b2f3_0242ac1c0002row21_col8,#T_df050972_451d_11eb_b2f3_0242ac1c0002row21_col11,#T_df050972_451d_11eb_b2f3_0242ac1c0002row23_col8,#T_df050972_451d_11eb_b2f3_0242ac1c0002row24_col7,#T_df050972_451d_11eb_b2f3_0242ac1c0002row24_col10{\n",
              "            background-color:  #b3c3de;\n",
              "            color:  #000000;\n",
              "        }#T_df050972_451d_11eb_b2f3_0242ac1c0002row7_col0,#T_df050972_451d_11eb_b2f3_0242ac1c0002row23_col0{\n",
              "            background-color:  #fbf3f9;\n",
              "            color:  #000000;\n",
              "        }#T_df050972_451d_11eb_b2f3_0242ac1c0002row7_col4,#T_df050972_451d_11eb_b2f3_0242ac1c0002row10_col4,#T_df050972_451d_11eb_b2f3_0242ac1c0002row11_col19{\n",
              "            background-color:  #4697c4;\n",
              "            color:  #000000;\n",
              "        }#T_df050972_451d_11eb_b2f3_0242ac1c0002row7_col8,#T_df050972_451d_11eb_b2f3_0242ac1c0002row14_col5,#T_df050972_451d_11eb_b2f3_0242ac1c0002row19_col6,#T_df050972_451d_11eb_b2f3_0242ac1c0002row25_col16{\n",
              "            background-color:  #7bacd1;\n",
              "            color:  #000000;\n",
              "        }#T_df050972_451d_11eb_b2f3_0242ac1c0002row7_col12,#T_df050972_451d_11eb_b2f3_0242ac1c0002row7_col21,#T_df050972_451d_11eb_b2f3_0242ac1c0002row9_col21,#T_df050972_451d_11eb_b2f3_0242ac1c0002row11_col22,#T_df050972_451d_11eb_b2f3_0242ac1c0002row13_col25,#T_df050972_451d_11eb_b2f3_0242ac1c0002row14_col20,#T_df050972_451d_11eb_b2f3_0242ac1c0002row21_col15{\n",
              "            background-color:  #91b5d6;\n",
              "            color:  #000000;\n",
              "        }#T_df050972_451d_11eb_b2f3_0242ac1c0002row7_col13,#T_df050972_451d_11eb_b2f3_0242ac1c0002row15_col3{\n",
              "            background-color:  #d2d3e7;\n",
              "            color:  #000000;\n",
              "        }#T_df050972_451d_11eb_b2f3_0242ac1c0002row7_col14{\n",
              "            background-color:  #4295c3;\n",
              "            color:  #000000;\n",
              "        }#T_df050972_451d_11eb_b2f3_0242ac1c0002row7_col16,#T_df050972_451d_11eb_b2f3_0242ac1c0002row21_col1{\n",
              "            background-color:  #eae6f1;\n",
              "            color:  #000000;\n",
              "        }#T_df050972_451d_11eb_b2f3_0242ac1c0002row7_col17,#T_df050972_451d_11eb_b2f3_0242ac1c0002row7_col20,#T_df050972_451d_11eb_b2f3_0242ac1c0002row10_col5,#T_df050972_451d_11eb_b2f3_0242ac1c0002row10_col17,#T_df050972_451d_11eb_b2f3_0242ac1c0002row21_col3{\n",
              "            background-color:  #d2d2e7;\n",
              "            color:  #000000;\n",
              "        }#T_df050972_451d_11eb_b2f3_0242ac1c0002row7_col18,#T_df050972_451d_11eb_b2f3_0242ac1c0002row12_col19,#T_df050972_451d_11eb_b2f3_0242ac1c0002row13_col19,#T_df050972_451d_11eb_b2f3_0242ac1c0002row25_col14{\n",
              "            background-color:  #4897c4;\n",
              "            color:  #000000;\n",
              "        }#T_df050972_451d_11eb_b2f3_0242ac1c0002row7_col25,#T_df050972_451d_11eb_b2f3_0242ac1c0002row9_col3,#T_df050972_451d_11eb_b2f3_0242ac1c0002row10_col25,#T_df050972_451d_11eb_b2f3_0242ac1c0002row11_col17,#T_df050972_451d_11eb_b2f3_0242ac1c0002row12_col17,#T_df050972_451d_11eb_b2f3_0242ac1c0002row16_col22{\n",
              "            background-color:  #dcdaeb;\n",
              "            color:  #000000;\n",
              "        }#T_df050972_451d_11eb_b2f3_0242ac1c0002row8_col0,#T_df050972_451d_11eb_b2f3_0242ac1c0002row13_col0,#T_df050972_451d_11eb_b2f3_0242ac1c0002row14_col0,#T_df050972_451d_11eb_b2f3_0242ac1c0002row19_col0{\n",
              "            background-color:  #fbf4f9;\n",
              "            color:  #000000;\n",
              "        }#T_df050972_451d_11eb_b2f3_0242ac1c0002row8_col1,#T_df050972_451d_11eb_b2f3_0242ac1c0002row16_col9,#T_df050972_451d_11eb_b2f3_0242ac1c0002row18_col3,#T_df050972_451d_11eb_b2f3_0242ac1c0002row19_col7,#T_df050972_451d_11eb_b2f3_0242ac1c0002row23_col3,#T_df050972_451d_11eb_b2f3_0242ac1c0002row23_col13{\n",
              "            background-color:  #d5d5e8;\n",
              "            color:  #000000;\n",
              "        }#T_df050972_451d_11eb_b2f3_0242ac1c0002row8_col4,#T_df050972_451d_11eb_b2f3_0242ac1c0002row9_col4,#T_df050972_451d_11eb_b2f3_0242ac1c0002row15_col19{\n",
              "            background-color:  #3d93c2;\n",
              "            color:  #000000;\n",
              "        }#T_df050972_451d_11eb_b2f3_0242ac1c0002row8_col6,#T_df050972_451d_11eb_b2f3_0242ac1c0002row9_col6,#T_df050972_451d_11eb_b2f3_0242ac1c0002row13_col9,#T_df050972_451d_11eb_b2f3_0242ac1c0002row20_col18,#T_df050972_451d_11eb_b2f3_0242ac1c0002row21_col9,#T_df050972_451d_11eb_b2f3_0242ac1c0002row22_col3,#T_df050972_451d_11eb_b2f3_0242ac1c0002row22_col12{\n",
              "            background-color:  #afc1dd;\n",
              "            color:  #000000;\n",
              "        }#T_df050972_451d_11eb_b2f3_0242ac1c0002row8_col7,#T_df050972_451d_11eb_b2f3_0242ac1c0002row12_col10{\n",
              "            background-color:  #83afd3;\n",
              "            color:  #000000;\n",
              "        }#T_df050972_451d_11eb_b2f3_0242ac1c0002row8_col10,#T_df050972_451d_11eb_b2f3_0242ac1c0002row14_col7,#T_df050972_451d_11eb_b2f3_0242ac1c0002row15_col21{\n",
              "            background-color:  #80aed2;\n",
              "            color:  #000000;\n",
              "        }#T_df050972_451d_11eb_b2f3_0242ac1c0002row8_col14{\n",
              "            background-color:  #2081b9;\n",
              "            color:  #000000;\n",
              "        }#T_df050972_451d_11eb_b2f3_0242ac1c0002row8_col15,#T_df050972_451d_11eb_b2f3_0242ac1c0002row15_col12{\n",
              "            background-color:  #2786bb;\n",
              "            color:  #000000;\n",
              "        }#T_df050972_451d_11eb_b2f3_0242ac1c0002row8_col16,#T_df050972_451d_11eb_b2f3_0242ac1c0002row21_col25{\n",
              "            background-color:  #dbdaeb;\n",
              "            color:  #000000;\n",
              "        }#T_df050972_451d_11eb_b2f3_0242ac1c0002row8_col17,#T_df050972_451d_11eb_b2f3_0242ac1c0002row9_col17,#T_df050972_451d_11eb_b2f3_0242ac1c0002row10_col26,#T_df050972_451d_11eb_b2f3_0242ac1c0002row16_col6,#T_df050972_451d_11eb_b2f3_0242ac1c0002row16_col8,#T_df050972_451d_11eb_b2f3_0242ac1c0002row17_col2,#T_df050972_451d_11eb_b2f3_0242ac1c0002row18_col2,#T_df050972_451d_11eb_b2f3_0242ac1c0002row18_col17{\n",
              "            background-color:  #d8d7e9;\n",
              "            color:  #000000;\n",
              "        }#T_df050972_451d_11eb_b2f3_0242ac1c0002row8_col18,#T_df050972_451d_11eb_b2f3_0242ac1c0002row9_col22,#T_df050972_451d_11eb_b2f3_0242ac1c0002row18_col10{\n",
              "            background-color:  #79abd0;\n",
              "            color:  #000000;\n",
              "        }#T_df050972_451d_11eb_b2f3_0242ac1c0002row8_col26,#T_df050972_451d_11eb_b2f3_0242ac1c0002row12_col3,#T_df050972_451d_11eb_b2f3_0242ac1c0002row24_col1,#T_df050972_451d_11eb_b2f3_0242ac1c0002row25_col2{\n",
              "            background-color:  #e6e2ef;\n",
              "            color:  #000000;\n",
              "        }#T_df050972_451d_11eb_b2f3_0242ac1c0002row9_col12,#T_df050972_451d_11eb_b2f3_0242ac1c0002row10_col18,#T_df050972_451d_11eb_b2f3_0242ac1c0002row16_col19{\n",
              "            background-color:  #4c99c5;\n",
              "            color:  #000000;\n",
              "        }#T_df050972_451d_11eb_b2f3_0242ac1c0002row9_col14{\n",
              "            background-color:  #167bb6;\n",
              "            color:  #000000;\n",
              "        }#T_df050972_451d_11eb_b2f3_0242ac1c0002row9_col15,#T_df050972_451d_11eb_b2f3_0242ac1c0002row11_col12,#T_df050972_451d_11eb_b2f3_0242ac1c0002row12_col11,#T_df050972_451d_11eb_b2f3_0242ac1c0002row12_col15{\n",
              "            background-color:  #2484ba;\n",
              "            color:  #000000;\n",
              "        }#T_df050972_451d_11eb_b2f3_0242ac1c0002row10_col1,#T_df050972_451d_11eb_b2f3_0242ac1c0002row15_col20,#T_df050972_451d_11eb_b2f3_0242ac1c0002row16_col7,#T_df050972_451d_11eb_b2f3_0242ac1c0002row20_col24{\n",
              "            background-color:  #ede7f2;\n",
              "            color:  #000000;\n",
              "        }#T_df050972_451d_11eb_b2f3_0242ac1c0002row10_col14{\n",
              "            background-color:  #3790c0;\n",
              "            color:  #000000;\n",
              "        }#T_df050972_451d_11eb_b2f3_0242ac1c0002row10_col15{\n",
              "            background-color:  #3f93c2;\n",
              "            color:  #000000;\n",
              "        }#T_df050972_451d_11eb_b2f3_0242ac1c0002row10_col16,#T_df050972_451d_11eb_b2f3_0242ac1c0002row26_col9{\n",
              "            background-color:  #e9e5f1;\n",
              "            color:  #000000;\n",
              "        }#T_df050972_451d_11eb_b2f3_0242ac1c0002row10_col22,#T_df050972_451d_11eb_b2f3_0242ac1c0002row24_col4{\n",
              "            background-color:  #63a2cb;\n",
              "            color:  #000000;\n",
              "        }#T_df050972_451d_11eb_b2f3_0242ac1c0002row10_col23,#T_df050972_451d_11eb_b2f3_0242ac1c0002row21_col19,#T_df050972_451d_11eb_b2f3_0242ac1c0002row22_col11{\n",
              "            background-color:  #b0c2de;\n",
              "            color:  #000000;\n",
              "        }#T_df050972_451d_11eb_b2f3_0242ac1c0002row11_col1,#T_df050972_451d_11eb_b2f3_0242ac1c0002row13_col23,#T_df050972_451d_11eb_b2f3_0242ac1c0002row15_col1,#T_df050972_451d_11eb_b2f3_0242ac1c0002row17_col20{\n",
              "            background-color:  #cdd0e5;\n",
              "            color:  #000000;\n",
              "        }#T_df050972_451d_11eb_b2f3_0242ac1c0002row11_col4{\n",
              "            background-color:  #549cc7;\n",
              "            color:  #000000;\n",
              "        }#T_df050972_451d_11eb_b2f3_0242ac1c0002row11_col10{\n",
              "            background-color:  #84b0d3;\n",
              "            color:  #000000;\n",
              "        }#T_df050972_451d_11eb_b2f3_0242ac1c0002row11_col14{\n",
              "            background-color:  #0569a4;\n",
              "            color:  #f1f1f1;\n",
              "        }#T_df050972_451d_11eb_b2f3_0242ac1c0002row11_col15{\n",
              "            background-color:  #2685bb;\n",
              "            color:  #000000;\n",
              "        }#T_df050972_451d_11eb_b2f3_0242ac1c0002row11_col16,#T_df050972_451d_11eb_b2f3_0242ac1c0002row11_col23,#T_df050972_451d_11eb_b2f3_0242ac1c0002row12_col16,#T_df050972_451d_11eb_b2f3_0242ac1c0002row12_col24,#T_df050972_451d_11eb_b2f3_0242ac1c0002row14_col23,#T_df050972_451d_11eb_b2f3_0242ac1c0002row23_col2,#T_df050972_451d_11eb_b2f3_0242ac1c0002row24_col5,#T_df050972_451d_11eb_b2f3_0242ac1c0002row26_col5{\n",
              "            background-color:  #bdc8e1;\n",
              "            color:  #000000;\n",
              "        }#T_df050972_451d_11eb_b2f3_0242ac1c0002row11_col26,#T_df050972_451d_11eb_b2f3_0242ac1c0002row12_col26,#T_df050972_451d_11eb_b2f3_0242ac1c0002row16_col2,#T_df050972_451d_11eb_b2f3_0242ac1c0002row26_col15{\n",
              "            background-color:  #f0eaf4;\n",
              "            color:  #000000;\n",
              "        }#T_df050972_451d_11eb_b2f3_0242ac1c0002row12_col14{\n",
              "            background-color:  #0569a5;\n",
              "            color:  #f1f1f1;\n",
              "        }#T_df050972_451d_11eb_b2f3_0242ac1c0002row13_col3,#T_df050972_451d_11eb_b2f3_0242ac1c0002row14_col3{\n",
              "            background-color:  #f1ebf4;\n",
              "            color:  #000000;\n",
              "        }#T_df050972_451d_11eb_b2f3_0242ac1c0002row13_col14{\n",
              "            background-color:  #348ebf;\n",
              "            color:  #000000;\n",
              "        }#T_df050972_451d_11eb_b2f3_0242ac1c0002row13_col26,#T_df050972_451d_11eb_b2f3_0242ac1c0002row21_col16,#T_df050972_451d_11eb_b2f3_0242ac1c0002row22_col13{\n",
              "            background-color:  #ebe6f2;\n",
              "            color:  #000000;\n",
              "        }#T_df050972_451d_11eb_b2f3_0242ac1c0002row14_col6{\n",
              "            background-color:  #4a98c5;\n",
              "            color:  #000000;\n",
              "        }#T_df050972_451d_11eb_b2f3_0242ac1c0002row14_col11,#T_df050972_451d_11eb_b2f3_0242ac1c0002row14_col12,#T_df050972_451d_11eb_b2f3_0242ac1c0002row22_col4{\n",
              "            background-color:  #0a73b2;\n",
              "            color:  #f1f1f1;\n",
              "        }#T_df050972_451d_11eb_b2f3_0242ac1c0002row14_col15{\n",
              "            background-color:  #056ead;\n",
              "            color:  #f1f1f1;\n",
              "        }#T_df050972_451d_11eb_b2f3_0242ac1c0002row14_col19{\n",
              "            background-color:  #045b8e;\n",
              "            color:  #f1f1f1;\n",
              "        }#T_df050972_451d_11eb_b2f3_0242ac1c0002row15_col2,#T_df050972_451d_11eb_b2f3_0242ac1c0002row20_col14{\n",
              "            background-color:  #81aed2;\n",
              "            color:  #000000;\n",
              "        }#T_df050972_451d_11eb_b2f3_0242ac1c0002row15_col4{\n",
              "            background-color:  #045585;\n",
              "            color:  #f1f1f1;\n",
              "        }#T_df050972_451d_11eb_b2f3_0242ac1c0002row15_col7,#T_df050972_451d_11eb_b2f3_0242ac1c0002row20_col16{\n",
              "            background-color:  #569dc8;\n",
              "            color:  #000000;\n",
              "        }#T_df050972_451d_11eb_b2f3_0242ac1c0002row15_col8{\n",
              "            background-color:  #2d8abd;\n",
              "            color:  #000000;\n",
              "        }#T_df050972_451d_11eb_b2f3_0242ac1c0002row15_col9{\n",
              "            background-color:  #2a88bc;\n",
              "            color:  #000000;\n",
              "        }#T_df050972_451d_11eb_b2f3_0242ac1c0002row15_col10{\n",
              "            background-color:  #4e9ac6;\n",
              "            color:  #000000;\n",
              "        }#T_df050972_451d_11eb_b2f3_0242ac1c0002row15_col11{\n",
              "            background-color:  #2987bc;\n",
              "            color:  #000000;\n",
              "        }#T_df050972_451d_11eb_b2f3_0242ac1c0002row15_col14{\n",
              "            background-color:  #0567a1;\n",
              "            color:  #f1f1f1;\n",
              "        }#T_df050972_451d_11eb_b2f3_0242ac1c0002row15_col22{\n",
              "            background-color:  #4094c3;\n",
              "            color:  #000000;\n",
              "        }#T_df050972_451d_11eb_b2f3_0242ac1c0002row15_col26,#T_df050972_451d_11eb_b2f3_0242ac1c0002row23_col24{\n",
              "            background-color:  #f5eef6;\n",
              "            color:  #000000;\n",
              "        }#T_df050972_451d_11eb_b2f3_0242ac1c0002row16_col3,#T_df050972_451d_11eb_b2f3_0242ac1c0002row19_col3,#T_df050972_451d_11eb_b2f3_0242ac1c0002row19_col26{\n",
              "            background-color:  #f7f0f7;\n",
              "            color:  #000000;\n",
              "        }#T_df050972_451d_11eb_b2f3_0242ac1c0002row16_col14,#T_df050972_451d_11eb_b2f3_0242ac1c0002row19_col20,#T_df050972_451d_11eb_b2f3_0242ac1c0002row23_col4{\n",
              "            background-color:  #60a1ca;\n",
              "            color:  #000000;\n",
              "        }#T_df050972_451d_11eb_b2f3_0242ac1c0002row16_col20{\n",
              "            background-color:  #308cbe;\n",
              "            color:  #000000;\n",
              "        }#T_df050972_451d_11eb_b2f3_0242ac1c0002row17_col0,#T_df050972_451d_11eb_b2f3_0242ac1c0002row24_col0,#T_df050972_451d_11eb_b2f3_0242ac1c0002row24_col25{\n",
              "            background-color:  #fef6fa;\n",
              "            color:  #000000;\n",
              "        }#T_df050972_451d_11eb_b2f3_0242ac1c0002row17_col15,#T_df050972_451d_11eb_b2f3_0242ac1c0002row21_col20,#T_df050972_451d_11eb_b2f3_0242ac1c0002row26_col1{\n",
              "            background-color:  #f8f1f8;\n",
              "            color:  #000000;\n",
              "        }#T_df050972_451d_11eb_b2f3_0242ac1c0002row17_col16{\n",
              "            background-color:  #f1ebf5;\n",
              "            color:  #000000;\n",
              "        }#T_df050972_451d_11eb_b2f3_0242ac1c0002row17_col19{\n",
              "            background-color:  #efe9f3;\n",
              "            color:  #000000;\n",
              "        }#T_df050972_451d_11eb_b2f3_0242ac1c0002row17_col25,#T_df050972_451d_11eb_b2f3_0242ac1c0002row23_col26,#T_df050972_451d_11eb_b2f3_0242ac1c0002row24_col23,#T_df050972_451d_11eb_b2f3_0242ac1c0002row24_col26{\n",
              "            background-color:  #f4eef6;\n",
              "            color:  #000000;\n",
              "        }#T_df050972_451d_11eb_b2f3_0242ac1c0002row18_col1,#T_df050972_451d_11eb_b2f3_0242ac1c0002row26_col13{\n",
              "            background-color:  #f2ecf5;\n",
              "            color:  #000000;\n",
              "        }#T_df050972_451d_11eb_b2f3_0242ac1c0002row19_col11{\n",
              "            background-color:  #67a4cc;\n",
              "            color:  #000000;\n",
              "        }#T_df050972_451d_11eb_b2f3_0242ac1c0002row19_col12,#T_df050972_451d_11eb_b2f3_0242ac1c0002row19_col25{\n",
              "            background-color:  #69a5cc;\n",
              "            color:  #000000;\n",
              "        }#T_df050972_451d_11eb_b2f3_0242ac1c0002row20_col7,#T_df050972_451d_11eb_b2f3_0242ac1c0002row25_col3,#T_df050972_451d_11eb_b2f3_0242ac1c0002row26_col23,#T_df050972_451d_11eb_b2f3_0242ac1c0002row26_col24{\n",
              "            background-color:  #f5eff6;\n",
              "            color:  #000000;\n",
              "        }#T_df050972_451d_11eb_b2f3_0242ac1c0002row20_col10,#T_df050972_451d_11eb_b2f3_0242ac1c0002row22_col16{\n",
              "            background-color:  #faf2f8;\n",
              "            color:  #000000;\n",
              "        }#T_df050972_451d_11eb_b2f3_0242ac1c0002row21_col14,#T_df050972_451d_11eb_b2f3_0242ac1c0002row23_col15,#T_df050972_451d_11eb_b2f3_0242ac1c0002row24_col15,#T_df050972_451d_11eb_b2f3_0242ac1c0002row24_col17{\n",
              "            background-color:  #8eb3d5;\n",
              "            color:  #000000;\n",
              "        }#T_df050972_451d_11eb_b2f3_0242ac1c0002row22_col1,#T_df050972_451d_11eb_b2f3_0242ac1c0002row22_col25{\n",
              "            background-color:  #f4edf6;\n",
              "            color:  #000000;\n",
              "        }#T_df050972_451d_11eb_b2f3_0242ac1c0002row23_col1,#T_df050972_451d_11eb_b2f3_0242ac1c0002row24_col16{\n",
              "            background-color:  #e4e1ef;\n",
              "            color:  #000000;\n",
              "        }#T_df050972_451d_11eb_b2f3_0242ac1c0002row26_col11,#T_df050972_451d_11eb_b2f3_0242ac1c0002row26_col12{\n",
              "            background-color:  #ede8f3;\n",
              "            color:  #000000;\n",
              "        }</style><table id=\"T_df050972_451d_11eb_b2f3_0242ac1c0002\" ><thead>    <tr>        <th class=\"blank level0\" ></th>        <th class=\"col_heading level0 col0\" >gender</th>        <th class=\"col_heading level0 col1\" >SeniorCitizen</th>        <th class=\"col_heading level0 col2\" >Partner</th>        <th class=\"col_heading level0 col3\" >Dependents</th>        <th class=\"col_heading level0 col4\" >tenure</th>        <th class=\"col_heading level0 col5\" >PhoneService</th>        <th class=\"col_heading level0 col6\" >MultipleLines</th>        <th class=\"col_heading level0 col7\" >OnlineSecurity</th>        <th class=\"col_heading level0 col8\" >OnlineBackup</th>        <th class=\"col_heading level0 col9\" >DeviceProtection</th>        <th class=\"col_heading level0 col10\" >TechSupport</th>        <th class=\"col_heading level0 col11\" >StreamingTV</th>        <th class=\"col_heading level0 col12\" >StreamingMovies</th>        <th class=\"col_heading level0 col13\" >PaperlessBilling</th>        <th class=\"col_heading level0 col14\" >MonthlyCharges</th>        <th class=\"col_heading level0 col15\" >TotalCharges</th>        <th class=\"col_heading level0 col16\" >Churn</th>        <th class=\"col_heading level0 col17\" >InternetService_0</th>        <th class=\"col_heading level0 col18\" >InternetService_DSL</th>        <th class=\"col_heading level0 col19\" >InternetService_Fiber optic</th>        <th class=\"col_heading level0 col20\" >Contract_Month-to-month</th>        <th class=\"col_heading level0 col21\" >Contract_One year</th>        <th class=\"col_heading level0 col22\" >Contract_Two year</th>        <th class=\"col_heading level0 col23\" >PaymentMethod_Bank transfer (automatic)</th>        <th class=\"col_heading level0 col24\" >PaymentMethod_Credit card (automatic)</th>        <th class=\"col_heading level0 col25\" >PaymentMethod_Electronic check</th>        <th class=\"col_heading level0 col26\" >PaymentMethod_Mailed check</th>    </tr></thead><tbody>\n",
              "                <tr>\n",
              "                        <th id=\"T_df050972_451d_11eb_b2f3_0242ac1c0002level0_row0\" class=\"row_heading level0 row0\" >gender</th>\n",
              "                        <td id=\"T_df050972_451d_11eb_b2f3_0242ac1c0002row0_col0\" class=\"data row0 col0\" >1.00</td>\n",
              "                        <td id=\"T_df050972_451d_11eb_b2f3_0242ac1c0002row0_col1\" class=\"data row0 col1\" >0.00</td>\n",
              "                        <td id=\"T_df050972_451d_11eb_b2f3_0242ac1c0002row0_col2\" class=\"data row0 col2\" >0.00</td>\n",
              "                        <td id=\"T_df050972_451d_11eb_b2f3_0242ac1c0002row0_col3\" class=\"data row0 col3\" >-0.01</td>\n",
              "                        <td id=\"T_df050972_451d_11eb_b2f3_0242ac1c0002row0_col4\" class=\"data row0 col4\" >-0.01</td>\n",
              "                        <td id=\"T_df050972_451d_11eb_b2f3_0242ac1c0002row0_col5\" class=\"data row0 col5\" >0.01</td>\n",
              "                        <td id=\"T_df050972_451d_11eb_b2f3_0242ac1c0002row0_col6\" class=\"data row0 col6\" >0.01</td>\n",
              "                        <td id=\"T_df050972_451d_11eb_b2f3_0242ac1c0002row0_col7\" class=\"data row0 col7\" >0.02</td>\n",
              "                        <td id=\"T_df050972_451d_11eb_b2f3_0242ac1c0002row0_col8\" class=\"data row0 col8\" >0.01</td>\n",
              "                        <td id=\"T_df050972_451d_11eb_b2f3_0242ac1c0002row0_col9\" class=\"data row0 col9\" >0.00</td>\n",
              "                        <td id=\"T_df050972_451d_11eb_b2f3_0242ac1c0002row0_col10\" class=\"data row0 col10\" >0.01</td>\n",
              "                        <td id=\"T_df050972_451d_11eb_b2f3_0242ac1c0002row0_col11\" class=\"data row0 col11\" >0.01</td>\n",
              "                        <td id=\"T_df050972_451d_11eb_b2f3_0242ac1c0002row0_col12\" class=\"data row0 col12\" >0.01</td>\n",
              "                        <td id=\"T_df050972_451d_11eb_b2f3_0242ac1c0002row0_col13\" class=\"data row0 col13\" >0.01</td>\n",
              "                        <td id=\"T_df050972_451d_11eb_b2f3_0242ac1c0002row0_col14\" class=\"data row0 col14\" >0.01</td>\n",
              "                        <td id=\"T_df050972_451d_11eb_b2f3_0242ac1c0002row0_col15\" class=\"data row0 col15\" >-0.00</td>\n",
              "                        <td id=\"T_df050972_451d_11eb_b2f3_0242ac1c0002row0_col16\" class=\"data row0 col16\" >0.01</td>\n",
              "                        <td id=\"T_df050972_451d_11eb_b2f3_0242ac1c0002row0_col17\" class=\"data row0 col17\" >-0.00</td>\n",
              "                        <td id=\"T_df050972_451d_11eb_b2f3_0242ac1c0002row0_col18\" class=\"data row0 col18\" >-0.01</td>\n",
              "                        <td id=\"T_df050972_451d_11eb_b2f3_0242ac1c0002row0_col19\" class=\"data row0 col19\" >0.01</td>\n",
              "                        <td id=\"T_df050972_451d_11eb_b2f3_0242ac1c0002row0_col20\" class=\"data row0 col20\" >0.00</td>\n",
              "                        <td id=\"T_df050972_451d_11eb_b2f3_0242ac1c0002row0_col21\" class=\"data row0 col21\" >-0.01</td>\n",
              "                        <td id=\"T_df050972_451d_11eb_b2f3_0242ac1c0002row0_col22\" class=\"data row0 col22\" >0.00</td>\n",
              "                        <td id=\"T_df050972_451d_11eb_b2f3_0242ac1c0002row0_col23\" class=\"data row0 col23\" >0.02</td>\n",
              "                        <td id=\"T_df050972_451d_11eb_b2f3_0242ac1c0002row0_col24\" class=\"data row0 col24\" >-0.00</td>\n",
              "                        <td id=\"T_df050972_451d_11eb_b2f3_0242ac1c0002row0_col25\" class=\"data row0 col25\" >-0.00</td>\n",
              "                        <td id=\"T_df050972_451d_11eb_b2f3_0242ac1c0002row0_col26\" class=\"data row0 col26\" >-0.01</td>\n",
              "            </tr>\n",
              "            <tr>\n",
              "                        <th id=\"T_df050972_451d_11eb_b2f3_0242ac1c0002level0_row1\" class=\"row_heading level0 row1\" >SeniorCitizen</th>\n",
              "                        <td id=\"T_df050972_451d_11eb_b2f3_0242ac1c0002row1_col0\" class=\"data row1 col0\" >0.00</td>\n",
              "                        <td id=\"T_df050972_451d_11eb_b2f3_0242ac1c0002row1_col1\" class=\"data row1 col1\" >1.00</td>\n",
              "                        <td id=\"T_df050972_451d_11eb_b2f3_0242ac1c0002row1_col2\" class=\"data row1 col2\" >0.02</td>\n",
              "                        <td id=\"T_df050972_451d_11eb_b2f3_0242ac1c0002row1_col3\" class=\"data row1 col3\" >-0.21</td>\n",
              "                        <td id=\"T_df050972_451d_11eb_b2f3_0242ac1c0002row1_col4\" class=\"data row1 col4\" >0.02</td>\n",
              "                        <td id=\"T_df050972_451d_11eb_b2f3_0242ac1c0002row1_col5\" class=\"data row1 col5\" >0.01</td>\n",
              "                        <td id=\"T_df050972_451d_11eb_b2f3_0242ac1c0002row1_col6\" class=\"data row1 col6\" >0.14</td>\n",
              "                        <td id=\"T_df050972_451d_11eb_b2f3_0242ac1c0002row1_col7\" class=\"data row1 col7\" >-0.04</td>\n",
              "                        <td id=\"T_df050972_451d_11eb_b2f3_0242ac1c0002row1_col8\" class=\"data row1 col8\" >0.07</td>\n",
              "                        <td id=\"T_df050972_451d_11eb_b2f3_0242ac1c0002row1_col9\" class=\"data row1 col9\" >0.06</td>\n",
              "                        <td id=\"T_df050972_451d_11eb_b2f3_0242ac1c0002row1_col10\" class=\"data row1 col10\" >-0.06</td>\n",
              "                        <td id=\"T_df050972_451d_11eb_b2f3_0242ac1c0002row1_col11\" class=\"data row1 col11\" >0.11</td>\n",
              "                        <td id=\"T_df050972_451d_11eb_b2f3_0242ac1c0002row1_col12\" class=\"data row1 col12\" >0.12</td>\n",
              "                        <td id=\"T_df050972_451d_11eb_b2f3_0242ac1c0002row1_col13\" class=\"data row1 col13\" >0.16</td>\n",
              "                        <td id=\"T_df050972_451d_11eb_b2f3_0242ac1c0002row1_col14\" class=\"data row1 col14\" >0.22</td>\n",
              "                        <td id=\"T_df050972_451d_11eb_b2f3_0242ac1c0002row1_col15\" class=\"data row1 col15\" >0.10</td>\n",
              "                        <td id=\"T_df050972_451d_11eb_b2f3_0242ac1c0002row1_col16\" class=\"data row1 col16\" >0.15</td>\n",
              "                        <td id=\"T_df050972_451d_11eb_b2f3_0242ac1c0002row1_col17\" class=\"data row1 col17\" >-0.18</td>\n",
              "                        <td id=\"T_df050972_451d_11eb_b2f3_0242ac1c0002row1_col18\" class=\"data row1 col18\" >-0.11</td>\n",
              "                        <td id=\"T_df050972_451d_11eb_b2f3_0242ac1c0002row1_col19\" class=\"data row1 col19\" >0.25</td>\n",
              "                        <td id=\"T_df050972_451d_11eb_b2f3_0242ac1c0002row1_col20\" class=\"data row1 col20\" >0.14</td>\n",
              "                        <td id=\"T_df050972_451d_11eb_b2f3_0242ac1c0002row1_col21\" class=\"data row1 col21\" >-0.05</td>\n",
              "                        <td id=\"T_df050972_451d_11eb_b2f3_0242ac1c0002row1_col22\" class=\"data row1 col22\" >-0.12</td>\n",
              "                        <td id=\"T_df050972_451d_11eb_b2f3_0242ac1c0002row1_col23\" class=\"data row1 col23\" >-0.02</td>\n",
              "                        <td id=\"T_df050972_451d_11eb_b2f3_0242ac1c0002row1_col24\" class=\"data row1 col24\" >-0.02</td>\n",
              "                        <td id=\"T_df050972_451d_11eb_b2f3_0242ac1c0002row1_col25\" class=\"data row1 col25\" >0.17</td>\n",
              "                        <td id=\"T_df050972_451d_11eb_b2f3_0242ac1c0002row1_col26\" class=\"data row1 col26\" >-0.15</td>\n",
              "            </tr>\n",
              "            <tr>\n",
              "                        <th id=\"T_df050972_451d_11eb_b2f3_0242ac1c0002level0_row2\" class=\"row_heading level0 row2\" >Partner</th>\n",
              "                        <td id=\"T_df050972_451d_11eb_b2f3_0242ac1c0002row2_col0\" class=\"data row2 col0\" >0.00</td>\n",
              "                        <td id=\"T_df050972_451d_11eb_b2f3_0242ac1c0002row2_col1\" class=\"data row2 col1\" >0.02</td>\n",
              "                        <td id=\"T_df050972_451d_11eb_b2f3_0242ac1c0002row2_col2\" class=\"data row2 col2\" >1.00</td>\n",
              "                        <td id=\"T_df050972_451d_11eb_b2f3_0242ac1c0002row2_col3\" class=\"data row2 col3\" >0.45</td>\n",
              "                        <td id=\"T_df050972_451d_11eb_b2f3_0242ac1c0002row2_col4\" class=\"data row2 col4\" >0.38</td>\n",
              "                        <td id=\"T_df050972_451d_11eb_b2f3_0242ac1c0002row2_col5\" class=\"data row2 col5\" >0.02</td>\n",
              "                        <td id=\"T_df050972_451d_11eb_b2f3_0242ac1c0002row2_col6\" class=\"data row2 col6\" >0.14</td>\n",
              "                        <td id=\"T_df050972_451d_11eb_b2f3_0242ac1c0002row2_col7\" class=\"data row2 col7\" >0.14</td>\n",
              "                        <td id=\"T_df050972_451d_11eb_b2f3_0242ac1c0002row2_col8\" class=\"data row2 col8\" >0.14</td>\n",
              "                        <td id=\"T_df050972_451d_11eb_b2f3_0242ac1c0002row2_col9\" class=\"data row2 col9\" >0.15</td>\n",
              "                        <td id=\"T_df050972_451d_11eb_b2f3_0242ac1c0002row2_col10\" class=\"data row2 col10\" >0.12</td>\n",
              "                        <td id=\"T_df050972_451d_11eb_b2f3_0242ac1c0002row2_col11\" class=\"data row2 col11\" >0.12</td>\n",
              "                        <td id=\"T_df050972_451d_11eb_b2f3_0242ac1c0002row2_col12\" class=\"data row2 col12\" >0.12</td>\n",
              "                        <td id=\"T_df050972_451d_11eb_b2f3_0242ac1c0002row2_col13\" class=\"data row2 col13\" >-0.01</td>\n",
              "                        <td id=\"T_df050972_451d_11eb_b2f3_0242ac1c0002row2_col14\" class=\"data row2 col14\" >0.10</td>\n",
              "                        <td id=\"T_df050972_451d_11eb_b2f3_0242ac1c0002row2_col15\" class=\"data row2 col15\" >0.32</td>\n",
              "                        <td id=\"T_df050972_451d_11eb_b2f3_0242ac1c0002row2_col16\" class=\"data row2 col16\" >-0.15</td>\n",
              "                        <td id=\"T_df050972_451d_11eb_b2f3_0242ac1c0002row2_col17\" class=\"data row2 col17\" >-0.00</td>\n",
              "                        <td id=\"T_df050972_451d_11eb_b2f3_0242ac1c0002row2_col18\" class=\"data row2 col18\" >-0.00</td>\n",
              "                        <td id=\"T_df050972_451d_11eb_b2f3_0242ac1c0002row2_col19\" class=\"data row2 col19\" >0.00</td>\n",
              "                        <td id=\"T_df050972_451d_11eb_b2f3_0242ac1c0002row2_col20\" class=\"data row2 col20\" >-0.28</td>\n",
              "                        <td id=\"T_df050972_451d_11eb_b2f3_0242ac1c0002row2_col21\" class=\"data row2 col21\" >0.08</td>\n",
              "                        <td id=\"T_df050972_451d_11eb_b2f3_0242ac1c0002row2_col22\" class=\"data row2 col22\" >0.25</td>\n",
              "                        <td id=\"T_df050972_451d_11eb_b2f3_0242ac1c0002row2_col23\" class=\"data row2 col23\" >0.11</td>\n",
              "                        <td id=\"T_df050972_451d_11eb_b2f3_0242ac1c0002row2_col24\" class=\"data row2 col24\" >0.08</td>\n",
              "                        <td id=\"T_df050972_451d_11eb_b2f3_0242ac1c0002row2_col25\" class=\"data row2 col25\" >-0.08</td>\n",
              "                        <td id=\"T_df050972_451d_11eb_b2f3_0242ac1c0002row2_col26\" class=\"data row2 col26\" >-0.10</td>\n",
              "            </tr>\n",
              "            <tr>\n",
              "                        <th id=\"T_df050972_451d_11eb_b2f3_0242ac1c0002level0_row3\" class=\"row_heading level0 row3\" >Dependents</th>\n",
              "                        <td id=\"T_df050972_451d_11eb_b2f3_0242ac1c0002row3_col0\" class=\"data row3 col0\" >-0.01</td>\n",
              "                        <td id=\"T_df050972_451d_11eb_b2f3_0242ac1c0002row3_col1\" class=\"data row3 col1\" >-0.21</td>\n",
              "                        <td id=\"T_df050972_451d_11eb_b2f3_0242ac1c0002row3_col2\" class=\"data row3 col2\" >0.45</td>\n",
              "                        <td id=\"T_df050972_451d_11eb_b2f3_0242ac1c0002row3_col3\" class=\"data row3 col3\" >1.00</td>\n",
              "                        <td id=\"T_df050972_451d_11eb_b2f3_0242ac1c0002row3_col4\" class=\"data row3 col4\" >0.16</td>\n",
              "                        <td id=\"T_df050972_451d_11eb_b2f3_0242ac1c0002row3_col5\" class=\"data row3 col5\" >-0.00</td>\n",
              "                        <td id=\"T_df050972_451d_11eb_b2f3_0242ac1c0002row3_col6\" class=\"data row3 col6\" >-0.02</td>\n",
              "                        <td id=\"T_df050972_451d_11eb_b2f3_0242ac1c0002row3_col7\" class=\"data row3 col7\" >0.08</td>\n",
              "                        <td id=\"T_df050972_451d_11eb_b2f3_0242ac1c0002row3_col8\" class=\"data row3 col8\" >0.02</td>\n",
              "                        <td id=\"T_df050972_451d_11eb_b2f3_0242ac1c0002row3_col9\" class=\"data row3 col9\" >0.01</td>\n",
              "                        <td id=\"T_df050972_451d_11eb_b2f3_0242ac1c0002row3_col10\" class=\"data row3 col10\" >0.06</td>\n",
              "                        <td id=\"T_df050972_451d_11eb_b2f3_0242ac1c0002row3_col11\" class=\"data row3 col11\" >-0.02</td>\n",
              "                        <td id=\"T_df050972_451d_11eb_b2f3_0242ac1c0002row3_col12\" class=\"data row3 col12\" >-0.04</td>\n",
              "                        <td id=\"T_df050972_451d_11eb_b2f3_0242ac1c0002row3_col13\" class=\"data row3 col13\" >-0.11</td>\n",
              "                        <td id=\"T_df050972_451d_11eb_b2f3_0242ac1c0002row3_col14\" class=\"data row3 col14\" >-0.11</td>\n",
              "                        <td id=\"T_df050972_451d_11eb_b2f3_0242ac1c0002row3_col15\" class=\"data row3 col15\" >0.06</td>\n",
              "                        <td id=\"T_df050972_451d_11eb_b2f3_0242ac1c0002row3_col16\" class=\"data row3 col16\" >-0.16</td>\n",
              "                        <td id=\"T_df050972_451d_11eb_b2f3_0242ac1c0002row3_col17\" class=\"data row3 col17\" >0.14</td>\n",
              "                        <td id=\"T_df050972_451d_11eb_b2f3_0242ac1c0002row3_col18\" class=\"data row3 col18\" >0.05</td>\n",
              "                        <td id=\"T_df050972_451d_11eb_b2f3_0242ac1c0002row3_col19\" class=\"data row3 col19\" >-0.16</td>\n",
              "                        <td id=\"T_df050972_451d_11eb_b2f3_0242ac1c0002row3_col20\" class=\"data row3 col20\" >-0.23</td>\n",
              "                        <td id=\"T_df050972_451d_11eb_b2f3_0242ac1c0002row3_col21\" class=\"data row3 col21\" >0.07</td>\n",
              "                        <td id=\"T_df050972_451d_11eb_b2f3_0242ac1c0002row3_col22\" class=\"data row3 col22\" >0.20</td>\n",
              "                        <td id=\"T_df050972_451d_11eb_b2f3_0242ac1c0002row3_col23\" class=\"data row3 col23\" >0.05</td>\n",
              "                        <td id=\"T_df050972_451d_11eb_b2f3_0242ac1c0002row3_col24\" class=\"data row3 col24\" >0.06</td>\n",
              "                        <td id=\"T_df050972_451d_11eb_b2f3_0242ac1c0002row3_col25\" class=\"data row3 col25\" >-0.15</td>\n",
              "                        <td id=\"T_df050972_451d_11eb_b2f3_0242ac1c0002row3_col26\" class=\"data row3 col26\" >0.06</td>\n",
              "            </tr>\n",
              "            <tr>\n",
              "                        <th id=\"T_df050972_451d_11eb_b2f3_0242ac1c0002level0_row4\" class=\"row_heading level0 row4\" >tenure</th>\n",
              "                        <td id=\"T_df050972_451d_11eb_b2f3_0242ac1c0002row4_col0\" class=\"data row4 col0\" >-0.01</td>\n",
              "                        <td id=\"T_df050972_451d_11eb_b2f3_0242ac1c0002row4_col1\" class=\"data row4 col1\" >0.02</td>\n",
              "                        <td id=\"T_df050972_451d_11eb_b2f3_0242ac1c0002row4_col2\" class=\"data row4 col2\" >0.38</td>\n",
              "                        <td id=\"T_df050972_451d_11eb_b2f3_0242ac1c0002row4_col3\" class=\"data row4 col3\" >0.16</td>\n",
              "                        <td id=\"T_df050972_451d_11eb_b2f3_0242ac1c0002row4_col4\" class=\"data row4 col4\" >1.00</td>\n",
              "                        <td id=\"T_df050972_451d_11eb_b2f3_0242ac1c0002row4_col5\" class=\"data row4 col5\" >0.01</td>\n",
              "                        <td id=\"T_df050972_451d_11eb_b2f3_0242ac1c0002row4_col6\" class=\"data row4 col6\" >0.33</td>\n",
              "                        <td id=\"T_df050972_451d_11eb_b2f3_0242ac1c0002row4_col7\" class=\"data row4 col7\" >0.33</td>\n",
              "                        <td id=\"T_df050972_451d_11eb_b2f3_0242ac1c0002row4_col8\" class=\"data row4 col8\" >0.36</td>\n",
              "                        <td id=\"T_df050972_451d_11eb_b2f3_0242ac1c0002row4_col9\" class=\"data row4 col9\" >0.36</td>\n",
              "                        <td id=\"T_df050972_451d_11eb_b2f3_0242ac1c0002row4_col10\" class=\"data row4 col10\" >0.33</td>\n",
              "                        <td id=\"T_df050972_451d_11eb_b2f3_0242ac1c0002row4_col11\" class=\"data row4 col11\" >0.28</td>\n",
              "                        <td id=\"T_df050972_451d_11eb_b2f3_0242ac1c0002row4_col12\" class=\"data row4 col12\" >0.29</td>\n",
              "                        <td id=\"T_df050972_451d_11eb_b2f3_0242ac1c0002row4_col13\" class=\"data row4 col13\" >0.00</td>\n",
              "                        <td id=\"T_df050972_451d_11eb_b2f3_0242ac1c0002row4_col14\" class=\"data row4 col14\" >0.25</td>\n",
              "                        <td id=\"T_df050972_451d_11eb_b2f3_0242ac1c0002row4_col15\" class=\"data row4 col15\" >0.83</td>\n",
              "                        <td id=\"T_df050972_451d_11eb_b2f3_0242ac1c0002row4_col16\" class=\"data row4 col16\" >-0.35</td>\n",
              "                        <td id=\"T_df050972_451d_11eb_b2f3_0242ac1c0002row4_col17\" class=\"data row4 col17\" >-0.04</td>\n",
              "                        <td id=\"T_df050972_451d_11eb_b2f3_0242ac1c0002row4_col18\" class=\"data row4 col18\" >0.01</td>\n",
              "                        <td id=\"T_df050972_451d_11eb_b2f3_0242ac1c0002row4_col19\" class=\"data row4 col19\" >0.02</td>\n",
              "                        <td id=\"T_df050972_451d_11eb_b2f3_0242ac1c0002row4_col20\" class=\"data row4 col20\" >-0.65</td>\n",
              "                        <td id=\"T_df050972_451d_11eb_b2f3_0242ac1c0002row4_col21\" class=\"data row4 col21\" >0.20</td>\n",
              "                        <td id=\"T_df050972_451d_11eb_b2f3_0242ac1c0002row4_col22\" class=\"data row4 col22\" >0.56</td>\n",
              "                        <td id=\"T_df050972_451d_11eb_b2f3_0242ac1c0002row4_col23\" class=\"data row4 col23\" >0.24</td>\n",
              "                        <td id=\"T_df050972_451d_11eb_b2f3_0242ac1c0002row4_col24\" class=\"data row4 col24\" >0.23</td>\n",
              "                        <td id=\"T_df050972_451d_11eb_b2f3_0242ac1c0002row4_col25\" class=\"data row4 col25\" >-0.21</td>\n",
              "                        <td id=\"T_df050972_451d_11eb_b2f3_0242ac1c0002row4_col26\" class=\"data row4 col26\" >-0.23</td>\n",
              "            </tr>\n",
              "            <tr>\n",
              "                        <th id=\"T_df050972_451d_11eb_b2f3_0242ac1c0002level0_row5\" class=\"row_heading level0 row5\" >PhoneService</th>\n",
              "                        <td id=\"T_df050972_451d_11eb_b2f3_0242ac1c0002row5_col0\" class=\"data row5 col0\" >0.01</td>\n",
              "                        <td id=\"T_df050972_451d_11eb_b2f3_0242ac1c0002row5_col1\" class=\"data row5 col1\" >0.01</td>\n",
              "                        <td id=\"T_df050972_451d_11eb_b2f3_0242ac1c0002row5_col2\" class=\"data row5 col2\" >0.02</td>\n",
              "                        <td id=\"T_df050972_451d_11eb_b2f3_0242ac1c0002row5_col3\" class=\"data row5 col3\" >-0.00</td>\n",
              "                        <td id=\"T_df050972_451d_11eb_b2f3_0242ac1c0002row5_col4\" class=\"data row5 col4\" >0.01</td>\n",
              "                        <td id=\"T_df050972_451d_11eb_b2f3_0242ac1c0002row5_col5\" class=\"data row5 col5\" >1.00</td>\n",
              "                        <td id=\"T_df050972_451d_11eb_b2f3_0242ac1c0002row5_col6\" class=\"data row5 col6\" >0.28</td>\n",
              "                        <td id=\"T_df050972_451d_11eb_b2f3_0242ac1c0002row5_col7\" class=\"data row5 col7\" >-0.09</td>\n",
              "                        <td id=\"T_df050972_451d_11eb_b2f3_0242ac1c0002row5_col8\" class=\"data row5 col8\" >-0.05</td>\n",
              "                        <td id=\"T_df050972_451d_11eb_b2f3_0242ac1c0002row5_col9\" class=\"data row5 col9\" >-0.07</td>\n",
              "                        <td id=\"T_df050972_451d_11eb_b2f3_0242ac1c0002row5_col10\" class=\"data row5 col10\" >-0.10</td>\n",
              "                        <td id=\"T_df050972_451d_11eb_b2f3_0242ac1c0002row5_col11\" class=\"data row5 col11\" >-0.02</td>\n",
              "                        <td id=\"T_df050972_451d_11eb_b2f3_0242ac1c0002row5_col12\" class=\"data row5 col12\" >-0.03</td>\n",
              "                        <td id=\"T_df050972_451d_11eb_b2f3_0242ac1c0002row5_col13\" class=\"data row5 col13\" >0.02</td>\n",
              "                        <td id=\"T_df050972_451d_11eb_b2f3_0242ac1c0002row5_col14\" class=\"data row5 col14\" >0.25</td>\n",
              "                        <td id=\"T_df050972_451d_11eb_b2f3_0242ac1c0002row5_col15\" class=\"data row5 col15\" >0.11</td>\n",
              "                        <td id=\"T_df050972_451d_11eb_b2f3_0242ac1c0002row5_col16\" class=\"data row5 col16\" >0.01</td>\n",
              "                        <td id=\"T_df050972_451d_11eb_b2f3_0242ac1c0002row5_col17\" class=\"data row5 col17\" >0.17</td>\n",
              "                        <td id=\"T_df050972_451d_11eb_b2f3_0242ac1c0002row5_col18\" class=\"data row5 col18\" >-0.45</td>\n",
              "                        <td id=\"T_df050972_451d_11eb_b2f3_0242ac1c0002row5_col19\" class=\"data row5 col19\" >0.29</td>\n",
              "                        <td id=\"T_df050972_451d_11eb_b2f3_0242ac1c0002row5_col20\" class=\"data row5 col20\" >-0.00</td>\n",
              "                        <td id=\"T_df050972_451d_11eb_b2f3_0242ac1c0002row5_col21\" class=\"data row5 col21\" >-0.00</td>\n",
              "                        <td id=\"T_df050972_451d_11eb_b2f3_0242ac1c0002row5_col22\" class=\"data row5 col22\" >0.00</td>\n",
              "                        <td id=\"T_df050972_451d_11eb_b2f3_0242ac1c0002row5_col23\" class=\"data row5 col23\" >0.01</td>\n",
              "                        <td id=\"T_df050972_451d_11eb_b2f3_0242ac1c0002row5_col24\" class=\"data row5 col24\" >-0.01</td>\n",
              "                        <td id=\"T_df050972_451d_11eb_b2f3_0242ac1c0002row5_col25\" class=\"data row5 col25\" >0.00</td>\n",
              "                        <td id=\"T_df050972_451d_11eb_b2f3_0242ac1c0002row5_col26\" class=\"data row5 col26\" >-0.00</td>\n",
              "            </tr>\n",
              "            <tr>\n",
              "                        <th id=\"T_df050972_451d_11eb_b2f3_0242ac1c0002level0_row6\" class=\"row_heading level0 row6\" >MultipleLines</th>\n",
              "                        <td id=\"T_df050972_451d_11eb_b2f3_0242ac1c0002row6_col0\" class=\"data row6 col0\" >0.01</td>\n",
              "                        <td id=\"T_df050972_451d_11eb_b2f3_0242ac1c0002row6_col1\" class=\"data row6 col1\" >0.14</td>\n",
              "                        <td id=\"T_df050972_451d_11eb_b2f3_0242ac1c0002row6_col2\" class=\"data row6 col2\" >0.14</td>\n",
              "                        <td id=\"T_df050972_451d_11eb_b2f3_0242ac1c0002row6_col3\" class=\"data row6 col3\" >-0.02</td>\n",
              "                        <td id=\"T_df050972_451d_11eb_b2f3_0242ac1c0002row6_col4\" class=\"data row6 col4\" >0.33</td>\n",
              "                        <td id=\"T_df050972_451d_11eb_b2f3_0242ac1c0002row6_col5\" class=\"data row6 col5\" >0.28</td>\n",
              "                        <td id=\"T_df050972_451d_11eb_b2f3_0242ac1c0002row6_col6\" class=\"data row6 col6\" >1.00</td>\n",
              "                        <td id=\"T_df050972_451d_11eb_b2f3_0242ac1c0002row6_col7\" class=\"data row6 col7\" >0.10</td>\n",
              "                        <td id=\"T_df050972_451d_11eb_b2f3_0242ac1c0002row6_col8\" class=\"data row6 col8\" >0.20</td>\n",
              "                        <td id=\"T_df050972_451d_11eb_b2f3_0242ac1c0002row6_col9\" class=\"data row6 col9\" >0.20</td>\n",
              "                        <td id=\"T_df050972_451d_11eb_b2f3_0242ac1c0002row6_col10\" class=\"data row6 col10\" >0.10</td>\n",
              "                        <td id=\"T_df050972_451d_11eb_b2f3_0242ac1c0002row6_col11\" class=\"data row6 col11\" >0.26</td>\n",
              "                        <td id=\"T_df050972_451d_11eb_b2f3_0242ac1c0002row6_col12\" class=\"data row6 col12\" >0.26</td>\n",
              "                        <td id=\"T_df050972_451d_11eb_b2f3_0242ac1c0002row6_col13\" class=\"data row6 col13\" >0.16</td>\n",
              "                        <td id=\"T_df050972_451d_11eb_b2f3_0242ac1c0002row6_col14\" class=\"data row6 col14\" >0.49</td>\n",
              "                        <td id=\"T_df050972_451d_11eb_b2f3_0242ac1c0002row6_col15\" class=\"data row6 col15\" >0.47</td>\n",
              "                        <td id=\"T_df050972_451d_11eb_b2f3_0242ac1c0002row6_col16\" class=\"data row6 col16\" >0.04</td>\n",
              "                        <td id=\"T_df050972_451d_11eb_b2f3_0242ac1c0002row6_col17\" class=\"data row6 col17\" >-0.21</td>\n",
              "                        <td id=\"T_df050972_451d_11eb_b2f3_0242ac1c0002row6_col18\" class=\"data row6 col18\" >-0.20</td>\n",
              "                        <td id=\"T_df050972_451d_11eb_b2f3_0242ac1c0002row6_col19\" class=\"data row6 col19\" >0.37</td>\n",
              "                        <td id=\"T_df050972_451d_11eb_b2f3_0242ac1c0002row6_col20\" class=\"data row6 col20\" >-0.09</td>\n",
              "                        <td id=\"T_df050972_451d_11eb_b2f3_0242ac1c0002row6_col21\" class=\"data row6 col21\" >-0.00</td>\n",
              "                        <td id=\"T_df050972_451d_11eb_b2f3_0242ac1c0002row6_col22\" class=\"data row6 col22\" >0.11</td>\n",
              "                        <td id=\"T_df050972_451d_11eb_b2f3_0242ac1c0002row6_col23\" class=\"data row6 col23\" >0.08</td>\n",
              "                        <td id=\"T_df050972_451d_11eb_b2f3_0242ac1c0002row6_col24\" class=\"data row6 col24\" >0.06</td>\n",
              "                        <td id=\"T_df050972_451d_11eb_b2f3_0242ac1c0002row6_col25\" class=\"data row6 col25\" >0.08</td>\n",
              "                        <td id=\"T_df050972_451d_11eb_b2f3_0242ac1c0002row6_col26\" class=\"data row6 col26\" >-0.23</td>\n",
              "            </tr>\n",
              "            <tr>\n",
              "                        <th id=\"T_df050972_451d_11eb_b2f3_0242ac1c0002level0_row7\" class=\"row_heading level0 row7\" >OnlineSecurity</th>\n",
              "                        <td id=\"T_df050972_451d_11eb_b2f3_0242ac1c0002row7_col0\" class=\"data row7 col0\" >0.02</td>\n",
              "                        <td id=\"T_df050972_451d_11eb_b2f3_0242ac1c0002row7_col1\" class=\"data row7 col1\" >-0.04</td>\n",
              "                        <td id=\"T_df050972_451d_11eb_b2f3_0242ac1c0002row7_col2\" class=\"data row7 col2\" >0.14</td>\n",
              "                        <td id=\"T_df050972_451d_11eb_b2f3_0242ac1c0002row7_col3\" class=\"data row7 col3\" >0.08</td>\n",
              "                        <td id=\"T_df050972_451d_11eb_b2f3_0242ac1c0002row7_col4\" class=\"data row7 col4\" >0.33</td>\n",
              "                        <td id=\"T_df050972_451d_11eb_b2f3_0242ac1c0002row7_col5\" class=\"data row7 col5\" >-0.09</td>\n",
              "                        <td id=\"T_df050972_451d_11eb_b2f3_0242ac1c0002row7_col6\" class=\"data row7 col6\" >0.10</td>\n",
              "                        <td id=\"T_df050972_451d_11eb_b2f3_0242ac1c0002row7_col7\" class=\"data row7 col7\" >1.00</td>\n",
              "                        <td id=\"T_df050972_451d_11eb_b2f3_0242ac1c0002row7_col8\" class=\"data row7 col8\" >0.28</td>\n",
              "                        <td id=\"T_df050972_451d_11eb_b2f3_0242ac1c0002row7_col9\" class=\"data row7 col9\" >0.27</td>\n",
              "                        <td id=\"T_df050972_451d_11eb_b2f3_0242ac1c0002row7_col10\" class=\"data row7 col10\" >0.35</td>\n",
              "                        <td id=\"T_df050972_451d_11eb_b2f3_0242ac1c0002row7_col11\" class=\"data row7 col11\" >0.18</td>\n",
              "                        <td id=\"T_df050972_451d_11eb_b2f3_0242ac1c0002row7_col12\" class=\"data row7 col12\" >0.19</td>\n",
              "                        <td id=\"T_df050972_451d_11eb_b2f3_0242ac1c0002row7_col13\" class=\"data row7 col13\" >-0.00</td>\n",
              "                        <td id=\"T_df050972_451d_11eb_b2f3_0242ac1c0002row7_col14\" class=\"data row7 col14\" >0.30</td>\n",
              "                        <td id=\"T_df050972_451d_11eb_b2f3_0242ac1c0002row7_col15\" class=\"data row7 col15\" >0.41</td>\n",
              "                        <td id=\"T_df050972_451d_11eb_b2f3_0242ac1c0002row7_col16\" class=\"data row7 col16\" >-0.17</td>\n",
              "                        <td id=\"T_df050972_451d_11eb_b2f3_0242ac1c0002row7_col17\" class=\"data row7 col17\" >-0.33</td>\n",
              "                        <td id=\"T_df050972_451d_11eb_b2f3_0242ac1c0002row7_col18\" class=\"data row7 col18\" >0.32</td>\n",
              "                        <td id=\"T_df050972_451d_11eb_b2f3_0242ac1c0002row7_col19\" class=\"data row7 col19\" >-0.03</td>\n",
              "                        <td id=\"T_df050972_451d_11eb_b2f3_0242ac1c0002row7_col20\" class=\"data row7 col20\" >-0.25</td>\n",
              "                        <td id=\"T_df050972_451d_11eb_b2f3_0242ac1c0002row7_col21\" class=\"data row7 col21\" >0.10</td>\n",
              "                        <td id=\"T_df050972_451d_11eb_b2f3_0242ac1c0002row7_col22\" class=\"data row7 col22\" >0.19</td>\n",
              "                        <td id=\"T_df050972_451d_11eb_b2f3_0242ac1c0002row7_col23\" class=\"data row7 col23\" >0.09</td>\n",
              "                        <td id=\"T_df050972_451d_11eb_b2f3_0242ac1c0002row7_col24\" class=\"data row7 col24\" >0.12</td>\n",
              "                        <td id=\"T_df050972_451d_11eb_b2f3_0242ac1c0002row7_col25\" class=\"data row7 col25\" >-0.11</td>\n",
              "                        <td id=\"T_df050972_451d_11eb_b2f3_0242ac1c0002row7_col26\" class=\"data row7 col26\" >-0.08</td>\n",
              "            </tr>\n",
              "            <tr>\n",
              "                        <th id=\"T_df050972_451d_11eb_b2f3_0242ac1c0002level0_row8\" class=\"row_heading level0 row8\" >OnlineBackup</th>\n",
              "                        <td id=\"T_df050972_451d_11eb_b2f3_0242ac1c0002row8_col0\" class=\"data row8 col0\" >0.01</td>\n",
              "                        <td id=\"T_df050972_451d_11eb_b2f3_0242ac1c0002row8_col1\" class=\"data row8 col1\" >0.07</td>\n",
              "                        <td id=\"T_df050972_451d_11eb_b2f3_0242ac1c0002row8_col2\" class=\"data row8 col2\" >0.14</td>\n",
              "                        <td id=\"T_df050972_451d_11eb_b2f3_0242ac1c0002row8_col3\" class=\"data row8 col3\" >0.02</td>\n",
              "                        <td id=\"T_df050972_451d_11eb_b2f3_0242ac1c0002row8_col4\" class=\"data row8 col4\" >0.36</td>\n",
              "                        <td id=\"T_df050972_451d_11eb_b2f3_0242ac1c0002row8_col5\" class=\"data row8 col5\" >-0.05</td>\n",
              "                        <td id=\"T_df050972_451d_11eb_b2f3_0242ac1c0002row8_col6\" class=\"data row8 col6\" >0.20</td>\n",
              "                        <td id=\"T_df050972_451d_11eb_b2f3_0242ac1c0002row8_col7\" class=\"data row8 col7\" >0.28</td>\n",
              "                        <td id=\"T_df050972_451d_11eb_b2f3_0242ac1c0002row8_col8\" class=\"data row8 col8\" >1.00</td>\n",
              "                        <td id=\"T_df050972_451d_11eb_b2f3_0242ac1c0002row8_col9\" class=\"data row8 col9\" >0.30</td>\n",
              "                        <td id=\"T_df050972_451d_11eb_b2f3_0242ac1c0002row8_col10\" class=\"data row8 col10\" >0.29</td>\n",
              "                        <td id=\"T_df050972_451d_11eb_b2f3_0242ac1c0002row8_col11\" class=\"data row8 col11\" >0.28</td>\n",
              "                        <td id=\"T_df050972_451d_11eb_b2f3_0242ac1c0002row8_col12\" class=\"data row8 col12\" >0.27</td>\n",
              "                        <td id=\"T_df050972_451d_11eb_b2f3_0242ac1c0002row8_col13\" class=\"data row8 col13\" >0.13</td>\n",
              "                        <td id=\"T_df050972_451d_11eb_b2f3_0242ac1c0002row8_col14\" class=\"data row8 col14\" >0.44</td>\n",
              "                        <td id=\"T_df050972_451d_11eb_b2f3_0242ac1c0002row8_col15\" class=\"data row8 col15\" >0.51</td>\n",
              "                        <td id=\"T_df050972_451d_11eb_b2f3_0242ac1c0002row8_col16\" class=\"data row8 col16\" >-0.08</td>\n",
              "                        <td id=\"T_df050972_451d_11eb_b2f3_0242ac1c0002row8_col17\" class=\"data row8 col17\" >-0.38</td>\n",
              "                        <td id=\"T_df050972_451d_11eb_b2f3_0242ac1c0002row8_col18\" class=\"data row8 col18\" >0.16</td>\n",
              "                        <td id=\"T_df050972_451d_11eb_b2f3_0242ac1c0002row8_col19\" class=\"data row8 col19\" >0.17</td>\n",
              "                        <td id=\"T_df050972_451d_11eb_b2f3_0242ac1c0002row8_col20\" class=\"data row8 col20\" >-0.16</td>\n",
              "                        <td id=\"T_df050972_451d_11eb_b2f3_0242ac1c0002row8_col21\" class=\"data row8 col21\" >0.08</td>\n",
              "                        <td id=\"T_df050972_451d_11eb_b2f3_0242ac1c0002row8_col22\" class=\"data row8 col22\" >0.11</td>\n",
              "                        <td id=\"T_df050972_451d_11eb_b2f3_0242ac1c0002row8_col23\" class=\"data row8 col23\" >0.09</td>\n",
              "                        <td id=\"T_df050972_451d_11eb_b2f3_0242ac1c0002row8_col24\" class=\"data row8 col24\" >0.09</td>\n",
              "                        <td id=\"T_df050972_451d_11eb_b2f3_0242ac1c0002row8_col25\" class=\"data row8 col25\" >-0.00</td>\n",
              "                        <td id=\"T_df050972_451d_11eb_b2f3_0242ac1c0002row8_col26\" class=\"data row8 col26\" >-0.17</td>\n",
              "            </tr>\n",
              "            <tr>\n",
              "                        <th id=\"T_df050972_451d_11eb_b2f3_0242ac1c0002level0_row9\" class=\"row_heading level0 row9\" >DeviceProtection</th>\n",
              "                        <td id=\"T_df050972_451d_11eb_b2f3_0242ac1c0002row9_col0\" class=\"data row9 col0\" >0.00</td>\n",
              "                        <td id=\"T_df050972_451d_11eb_b2f3_0242ac1c0002row9_col1\" class=\"data row9 col1\" >0.06</td>\n",
              "                        <td id=\"T_df050972_451d_11eb_b2f3_0242ac1c0002row9_col2\" class=\"data row9 col2\" >0.15</td>\n",
              "                        <td id=\"T_df050972_451d_11eb_b2f3_0242ac1c0002row9_col3\" class=\"data row9 col3\" >0.01</td>\n",
              "                        <td id=\"T_df050972_451d_11eb_b2f3_0242ac1c0002row9_col4\" class=\"data row9 col4\" >0.36</td>\n",
              "                        <td id=\"T_df050972_451d_11eb_b2f3_0242ac1c0002row9_col5\" class=\"data row9 col5\" >-0.07</td>\n",
              "                        <td id=\"T_df050972_451d_11eb_b2f3_0242ac1c0002row9_col6\" class=\"data row9 col6\" >0.20</td>\n",
              "                        <td id=\"T_df050972_451d_11eb_b2f3_0242ac1c0002row9_col7\" class=\"data row9 col7\" >0.27</td>\n",
              "                        <td id=\"T_df050972_451d_11eb_b2f3_0242ac1c0002row9_col8\" class=\"data row9 col8\" >0.30</td>\n",
              "                        <td id=\"T_df050972_451d_11eb_b2f3_0242ac1c0002row9_col9\" class=\"data row9 col9\" >1.00</td>\n",
              "                        <td id=\"T_df050972_451d_11eb_b2f3_0242ac1c0002row9_col10\" class=\"data row9 col10\" >0.33</td>\n",
              "                        <td id=\"T_df050972_451d_11eb_b2f3_0242ac1c0002row9_col11\" class=\"data row9 col11\" >0.39</td>\n",
              "                        <td id=\"T_df050972_451d_11eb_b2f3_0242ac1c0002row9_col12\" class=\"data row9 col12\" >0.40</td>\n",
              "                        <td id=\"T_df050972_451d_11eb_b2f3_0242ac1c0002row9_col13\" class=\"data row9 col13\" >0.10</td>\n",
              "                        <td id=\"T_df050972_451d_11eb_b2f3_0242ac1c0002row9_col14\" class=\"data row9 col14\" >0.48</td>\n",
              "                        <td id=\"T_df050972_451d_11eb_b2f3_0242ac1c0002row9_col15\" class=\"data row9 col15\" >0.52</td>\n",
              "                        <td id=\"T_df050972_451d_11eb_b2f3_0242ac1c0002row9_col16\" class=\"data row9 col16\" >-0.07</td>\n",
              "                        <td id=\"T_df050972_451d_11eb_b2f3_0242ac1c0002row9_col17\" class=\"data row9 col17\" >-0.38</td>\n",
              "                        <td id=\"T_df050972_451d_11eb_b2f3_0242ac1c0002row9_col18\" class=\"data row9 col18\" >0.15</td>\n",
              "                        <td id=\"T_df050972_451d_11eb_b2f3_0242ac1c0002row9_col19\" class=\"data row9 col19\" >0.18</td>\n",
              "                        <td id=\"T_df050972_451d_11eb_b2f3_0242ac1c0002row9_col20\" class=\"data row9 col20\" >-0.23</td>\n",
              "                        <td id=\"T_df050972_451d_11eb_b2f3_0242ac1c0002row9_col21\" class=\"data row9 col21\" >0.10</td>\n",
              "                        <td id=\"T_df050972_451d_11eb_b2f3_0242ac1c0002row9_col22\" class=\"data row9 col22\" >0.17</td>\n",
              "                        <td id=\"T_df050972_451d_11eb_b2f3_0242ac1c0002row9_col23\" class=\"data row9 col23\" >0.08</td>\n",
              "                        <td id=\"T_df050972_451d_11eb_b2f3_0242ac1c0002row9_col24\" class=\"data row9 col24\" >0.11</td>\n",
              "                        <td id=\"T_df050972_451d_11eb_b2f3_0242ac1c0002row9_col25\" class=\"data row9 col25\" >-0.00</td>\n",
              "                        <td id=\"T_df050972_451d_11eb_b2f3_0242ac1c0002row9_col26\" class=\"data row9 col26\" >-0.19</td>\n",
              "            </tr>\n",
              "            <tr>\n",
              "                        <th id=\"T_df050972_451d_11eb_b2f3_0242ac1c0002level0_row10\" class=\"row_heading level0 row10\" >TechSupport</th>\n",
              "                        <td id=\"T_df050972_451d_11eb_b2f3_0242ac1c0002row10_col0\" class=\"data row10 col0\" >0.01</td>\n",
              "                        <td id=\"T_df050972_451d_11eb_b2f3_0242ac1c0002row10_col1\" class=\"data row10 col1\" >-0.06</td>\n",
              "                        <td id=\"T_df050972_451d_11eb_b2f3_0242ac1c0002row10_col2\" class=\"data row10 col2\" >0.12</td>\n",
              "                        <td id=\"T_df050972_451d_11eb_b2f3_0242ac1c0002row10_col3\" class=\"data row10 col3\" >0.06</td>\n",
              "                        <td id=\"T_df050972_451d_11eb_b2f3_0242ac1c0002row10_col4\" class=\"data row10 col4\" >0.33</td>\n",
              "                        <td id=\"T_df050972_451d_11eb_b2f3_0242ac1c0002row10_col5\" class=\"data row10 col5\" >-0.10</td>\n",
              "                        <td id=\"T_df050972_451d_11eb_b2f3_0242ac1c0002row10_col6\" class=\"data row10 col6\" >0.10</td>\n",
              "                        <td id=\"T_df050972_451d_11eb_b2f3_0242ac1c0002row10_col7\" class=\"data row10 col7\" >0.35</td>\n",
              "                        <td id=\"T_df050972_451d_11eb_b2f3_0242ac1c0002row10_col8\" class=\"data row10 col8\" >0.29</td>\n",
              "                        <td id=\"T_df050972_451d_11eb_b2f3_0242ac1c0002row10_col9\" class=\"data row10 col9\" >0.33</td>\n",
              "                        <td id=\"T_df050972_451d_11eb_b2f3_0242ac1c0002row10_col10\" class=\"data row10 col10\" >1.00</td>\n",
              "                        <td id=\"T_df050972_451d_11eb_b2f3_0242ac1c0002row10_col11\" class=\"data row10 col11\" >0.28</td>\n",
              "                        <td id=\"T_df050972_451d_11eb_b2f3_0242ac1c0002row10_col12\" class=\"data row10 col12\" >0.28</td>\n",
              "                        <td id=\"T_df050972_451d_11eb_b2f3_0242ac1c0002row10_col13\" class=\"data row10 col13\" >0.04</td>\n",
              "                        <td id=\"T_df050972_451d_11eb_b2f3_0242ac1c0002row10_col14\" class=\"data row10 col14\" >0.34</td>\n",
              "                        <td id=\"T_df050972_451d_11eb_b2f3_0242ac1c0002row10_col15\" class=\"data row10 col15\" >0.43</td>\n",
              "                        <td id=\"T_df050972_451d_11eb_b2f3_0242ac1c0002row10_col16\" class=\"data row10 col16\" >-0.16</td>\n",
              "                        <td id=\"T_df050972_451d_11eb_b2f3_0242ac1c0002row10_col17\" class=\"data row10 col17\" >-0.34</td>\n",
              "                        <td id=\"T_df050972_451d_11eb_b2f3_0242ac1c0002row10_col18\" class=\"data row10 col18\" >0.31</td>\n",
              "                        <td id=\"T_df050972_451d_11eb_b2f3_0242ac1c0002row10_col19\" class=\"data row10 col19\" >-0.02</td>\n",
              "                        <td id=\"T_df050972_451d_11eb_b2f3_0242ac1c0002row10_col20\" class=\"data row10 col20\" >-0.29</td>\n",
              "                        <td id=\"T_df050972_451d_11eb_b2f3_0242ac1c0002row10_col21\" class=\"data row10 col21\" >0.10</td>\n",
              "                        <td id=\"T_df050972_451d_11eb_b2f3_0242ac1c0002row10_col22\" class=\"data row10 col22\" >0.24</td>\n",
              "                        <td id=\"T_df050972_451d_11eb_b2f3_0242ac1c0002row10_col23\" class=\"data row10 col23\" >0.10</td>\n",
              "                        <td id=\"T_df050972_451d_11eb_b2f3_0242ac1c0002row10_col24\" class=\"data row10 col24\" >0.12</td>\n",
              "                        <td id=\"T_df050972_451d_11eb_b2f3_0242ac1c0002row10_col25\" class=\"data row10 col25\" >-0.11</td>\n",
              "                        <td id=\"T_df050972_451d_11eb_b2f3_0242ac1c0002row10_col26\" class=\"data row10 col26\" >-0.08</td>\n",
              "            </tr>\n",
              "            <tr>\n",
              "                        <th id=\"T_df050972_451d_11eb_b2f3_0242ac1c0002level0_row11\" class=\"row_heading level0 row11\" >StreamingTV</th>\n",
              "                        <td id=\"T_df050972_451d_11eb_b2f3_0242ac1c0002row11_col0\" class=\"data row11 col0\" >0.01</td>\n",
              "                        <td id=\"T_df050972_451d_11eb_b2f3_0242ac1c0002row11_col1\" class=\"data row11 col1\" >0.11</td>\n",
              "                        <td id=\"T_df050972_451d_11eb_b2f3_0242ac1c0002row11_col2\" class=\"data row11 col2\" >0.12</td>\n",
              "                        <td id=\"T_df050972_451d_11eb_b2f3_0242ac1c0002row11_col3\" class=\"data row11 col3\" >-0.02</td>\n",
              "                        <td id=\"T_df050972_451d_11eb_b2f3_0242ac1c0002row11_col4\" class=\"data row11 col4\" >0.28</td>\n",
              "                        <td id=\"T_df050972_451d_11eb_b2f3_0242ac1c0002row11_col5\" class=\"data row11 col5\" >-0.02</td>\n",
              "                        <td id=\"T_df050972_451d_11eb_b2f3_0242ac1c0002row11_col6\" class=\"data row11 col6\" >0.26</td>\n",
              "                        <td id=\"T_df050972_451d_11eb_b2f3_0242ac1c0002row11_col7\" class=\"data row11 col7\" >0.18</td>\n",
              "                        <td id=\"T_df050972_451d_11eb_b2f3_0242ac1c0002row11_col8\" class=\"data row11 col8\" >0.28</td>\n",
              "                        <td id=\"T_df050972_451d_11eb_b2f3_0242ac1c0002row11_col9\" class=\"data row11 col9\" >0.39</td>\n",
              "                        <td id=\"T_df050972_451d_11eb_b2f3_0242ac1c0002row11_col10\" class=\"data row11 col10\" >0.28</td>\n",
              "                        <td id=\"T_df050972_451d_11eb_b2f3_0242ac1c0002row11_col11\" class=\"data row11 col11\" >1.00</td>\n",
              "                        <td id=\"T_df050972_451d_11eb_b2f3_0242ac1c0002row11_col12\" class=\"data row11 col12\" >0.53</td>\n",
              "                        <td id=\"T_df050972_451d_11eb_b2f3_0242ac1c0002row11_col13\" class=\"data row11 col13\" >0.22</td>\n",
              "                        <td id=\"T_df050972_451d_11eb_b2f3_0242ac1c0002row11_col14\" class=\"data row11 col14\" >0.63</td>\n",
              "                        <td id=\"T_df050972_451d_11eb_b2f3_0242ac1c0002row11_col15\" class=\"data row11 col15\" >0.52</td>\n",
              "                        <td id=\"T_df050972_451d_11eb_b2f3_0242ac1c0002row11_col16\" class=\"data row11 col16\" >0.06</td>\n",
              "                        <td id=\"T_df050972_451d_11eb_b2f3_0242ac1c0002row11_col17\" class=\"data row11 col17\" >-0.41</td>\n",
              "                        <td id=\"T_df050972_451d_11eb_b2f3_0242ac1c0002row11_col18\" class=\"data row11 col18\" >0.01</td>\n",
              "                        <td id=\"T_df050972_451d_11eb_b2f3_0242ac1c0002row11_col19\" class=\"data row11 col19\" >0.33</td>\n",
              "                        <td id=\"T_df050972_451d_11eb_b2f3_0242ac1c0002row11_col20\" class=\"data row11 col20\" >-0.11</td>\n",
              "                        <td id=\"T_df050972_451d_11eb_b2f3_0242ac1c0002row11_col21\" class=\"data row11 col21\" >0.06</td>\n",
              "                        <td id=\"T_df050972_451d_11eb_b2f3_0242ac1c0002row11_col22\" class=\"data row11 col22\" >0.07</td>\n",
              "                        <td id=\"T_df050972_451d_11eb_b2f3_0242ac1c0002row11_col23\" class=\"data row11 col23\" >0.05</td>\n",
              "                        <td id=\"T_df050972_451d_11eb_b2f3_0242ac1c0002row11_col24\" class=\"data row11 col24\" >0.04</td>\n",
              "                        <td id=\"T_df050972_451d_11eb_b2f3_0242ac1c0002row11_col25\" class=\"data row11 col25\" >0.14</td>\n",
              "                        <td id=\"T_df050972_451d_11eb_b2f3_0242ac1c0002row11_col26\" class=\"data row11 col26\" >-0.25</td>\n",
              "            </tr>\n",
              "            <tr>\n",
              "                        <th id=\"T_df050972_451d_11eb_b2f3_0242ac1c0002level0_row12\" class=\"row_heading level0 row12\" >StreamingMovies</th>\n",
              "                        <td id=\"T_df050972_451d_11eb_b2f3_0242ac1c0002row12_col0\" class=\"data row12 col0\" >0.01</td>\n",
              "                        <td id=\"T_df050972_451d_11eb_b2f3_0242ac1c0002row12_col1\" class=\"data row12 col1\" >0.12</td>\n",
              "                        <td id=\"T_df050972_451d_11eb_b2f3_0242ac1c0002row12_col2\" class=\"data row12 col2\" >0.12</td>\n",
              "                        <td id=\"T_df050972_451d_11eb_b2f3_0242ac1c0002row12_col3\" class=\"data row12 col3\" >-0.04</td>\n",
              "                        <td id=\"T_df050972_451d_11eb_b2f3_0242ac1c0002row12_col4\" class=\"data row12 col4\" >0.29</td>\n",
              "                        <td id=\"T_df050972_451d_11eb_b2f3_0242ac1c0002row12_col5\" class=\"data row12 col5\" >-0.03</td>\n",
              "                        <td id=\"T_df050972_451d_11eb_b2f3_0242ac1c0002row12_col6\" class=\"data row12 col6\" >0.26</td>\n",
              "                        <td id=\"T_df050972_451d_11eb_b2f3_0242ac1c0002row12_col7\" class=\"data row12 col7\" >0.19</td>\n",
              "                        <td id=\"T_df050972_451d_11eb_b2f3_0242ac1c0002row12_col8\" class=\"data row12 col8\" >0.27</td>\n",
              "                        <td id=\"T_df050972_451d_11eb_b2f3_0242ac1c0002row12_col9\" class=\"data row12 col9\" >0.40</td>\n",
              "                        <td id=\"T_df050972_451d_11eb_b2f3_0242ac1c0002row12_col10\" class=\"data row12 col10\" >0.28</td>\n",
              "                        <td id=\"T_df050972_451d_11eb_b2f3_0242ac1c0002row12_col11\" class=\"data row12 col11\" >0.53</td>\n",
              "                        <td id=\"T_df050972_451d_11eb_b2f3_0242ac1c0002row12_col12\" class=\"data row12 col12\" >1.00</td>\n",
              "                        <td id=\"T_df050972_451d_11eb_b2f3_0242ac1c0002row12_col13\" class=\"data row12 col13\" >0.21</td>\n",
              "                        <td id=\"T_df050972_451d_11eb_b2f3_0242ac1c0002row12_col14\" class=\"data row12 col14\" >0.63</td>\n",
              "                        <td id=\"T_df050972_451d_11eb_b2f3_0242ac1c0002row12_col15\" class=\"data row12 col15\" >0.52</td>\n",
              "                        <td id=\"T_df050972_451d_11eb_b2f3_0242ac1c0002row12_col16\" class=\"data row12 col16\" >0.06</td>\n",
              "                        <td id=\"T_df050972_451d_11eb_b2f3_0242ac1c0002row12_col17\" class=\"data row12 col17\" >-0.42</td>\n",
              "                        <td id=\"T_df050972_451d_11eb_b2f3_0242ac1c0002row12_col18\" class=\"data row12 col18\" >0.03</td>\n",
              "                        <td id=\"T_df050972_451d_11eb_b2f3_0242ac1c0002row12_col19\" class=\"data row12 col19\" >0.32</td>\n",
              "                        <td id=\"T_df050972_451d_11eb_b2f3_0242ac1c0002row12_col20\" class=\"data row12 col20\" >-0.12</td>\n",
              "                        <td id=\"T_df050972_451d_11eb_b2f3_0242ac1c0002row12_col21\" class=\"data row12 col21\" >0.06</td>\n",
              "                        <td id=\"T_df050972_451d_11eb_b2f3_0242ac1c0002row12_col22\" class=\"data row12 col22\" >0.08</td>\n",
              "                        <td id=\"T_df050972_451d_11eb_b2f3_0242ac1c0002row12_col23\" class=\"data row12 col23\" >0.05</td>\n",
              "                        <td id=\"T_df050972_451d_11eb_b2f3_0242ac1c0002row12_col24\" class=\"data row12 col24\" >0.05</td>\n",
              "                        <td id=\"T_df050972_451d_11eb_b2f3_0242ac1c0002row12_col25\" class=\"data row12 col25\" >0.14</td>\n",
              "                        <td id=\"T_df050972_451d_11eb_b2f3_0242ac1c0002row12_col26\" class=\"data row12 col26\" >-0.25</td>\n",
              "            </tr>\n",
              "            <tr>\n",
              "                        <th id=\"T_df050972_451d_11eb_b2f3_0242ac1c0002level0_row13\" class=\"row_heading level0 row13\" >PaperlessBilling</th>\n",
              "                        <td id=\"T_df050972_451d_11eb_b2f3_0242ac1c0002row13_col0\" class=\"data row13 col0\" >0.01</td>\n",
              "                        <td id=\"T_df050972_451d_11eb_b2f3_0242ac1c0002row13_col1\" class=\"data row13 col1\" >0.16</td>\n",
              "                        <td id=\"T_df050972_451d_11eb_b2f3_0242ac1c0002row13_col2\" class=\"data row13 col2\" >-0.01</td>\n",
              "                        <td id=\"T_df050972_451d_11eb_b2f3_0242ac1c0002row13_col3\" class=\"data row13 col3\" >-0.11</td>\n",
              "                        <td id=\"T_df050972_451d_11eb_b2f3_0242ac1c0002row13_col4\" class=\"data row13 col4\" >0.00</td>\n",
              "                        <td id=\"T_df050972_451d_11eb_b2f3_0242ac1c0002row13_col5\" class=\"data row13 col5\" >0.02</td>\n",
              "                        <td id=\"T_df050972_451d_11eb_b2f3_0242ac1c0002row13_col6\" class=\"data row13 col6\" >0.16</td>\n",
              "                        <td id=\"T_df050972_451d_11eb_b2f3_0242ac1c0002row13_col7\" class=\"data row13 col7\" >-0.00</td>\n",
              "                        <td id=\"T_df050972_451d_11eb_b2f3_0242ac1c0002row13_col8\" class=\"data row13 col8\" >0.13</td>\n",
              "                        <td id=\"T_df050972_451d_11eb_b2f3_0242ac1c0002row13_col9\" class=\"data row13 col9\" >0.10</td>\n",
              "                        <td id=\"T_df050972_451d_11eb_b2f3_0242ac1c0002row13_col10\" class=\"data row13 col10\" >0.04</td>\n",
              "                        <td id=\"T_df050972_451d_11eb_b2f3_0242ac1c0002row13_col11\" class=\"data row13 col11\" >0.22</td>\n",
              "                        <td id=\"T_df050972_451d_11eb_b2f3_0242ac1c0002row13_col12\" class=\"data row13 col12\" >0.21</td>\n",
              "                        <td id=\"T_df050972_451d_11eb_b2f3_0242ac1c0002row13_col13\" class=\"data row13 col13\" >1.00</td>\n",
              "                        <td id=\"T_df050972_451d_11eb_b2f3_0242ac1c0002row13_col14\" class=\"data row13 col14\" >0.35</td>\n",
              "                        <td id=\"T_df050972_451d_11eb_b2f3_0242ac1c0002row13_col15\" class=\"data row13 col15\" >0.16</td>\n",
              "                        <td id=\"T_df050972_451d_11eb_b2f3_0242ac1c0002row13_col16\" class=\"data row13 col16\" >0.19</td>\n",
              "                        <td id=\"T_df050972_451d_11eb_b2f3_0242ac1c0002row13_col17\" class=\"data row13 col17\" >-0.32</td>\n",
              "                        <td id=\"T_df050972_451d_11eb_b2f3_0242ac1c0002row13_col18\" class=\"data row13 col18\" >-0.06</td>\n",
              "                        <td id=\"T_df050972_451d_11eb_b2f3_0242ac1c0002row13_col19\" class=\"data row13 col19\" >0.33</td>\n",
              "                        <td id=\"T_df050972_451d_11eb_b2f3_0242ac1c0002row13_col20\" class=\"data row13 col20\" >0.17</td>\n",
              "                        <td id=\"T_df050972_451d_11eb_b2f3_0242ac1c0002row13_col21\" class=\"data row13 col21\" >-0.05</td>\n",
              "                        <td id=\"T_df050972_451d_11eb_b2f3_0242ac1c0002row13_col22\" class=\"data row13 col22\" >-0.15</td>\n",
              "                        <td id=\"T_df050972_451d_11eb_b2f3_0242ac1c0002row13_col23\" class=\"data row13 col23\" >-0.02</td>\n",
              "                        <td id=\"T_df050972_451d_11eb_b2f3_0242ac1c0002row13_col24\" class=\"data row13 col24\" >-0.01</td>\n",
              "                        <td id=\"T_df050972_451d_11eb_b2f3_0242ac1c0002row13_col25\" class=\"data row13 col25\" >0.21</td>\n",
              "                        <td id=\"T_df050972_451d_11eb_b2f3_0242ac1c0002row13_col26\" class=\"data row13 col26\" >-0.20</td>\n",
              "            </tr>\n",
              "            <tr>\n",
              "                        <th id=\"T_df050972_451d_11eb_b2f3_0242ac1c0002level0_row14\" class=\"row_heading level0 row14\" >MonthlyCharges</th>\n",
              "                        <td id=\"T_df050972_451d_11eb_b2f3_0242ac1c0002row14_col0\" class=\"data row14 col0\" >0.01</td>\n",
              "                        <td id=\"T_df050972_451d_11eb_b2f3_0242ac1c0002row14_col1\" class=\"data row14 col1\" >0.22</td>\n",
              "                        <td id=\"T_df050972_451d_11eb_b2f3_0242ac1c0002row14_col2\" class=\"data row14 col2\" >0.10</td>\n",
              "                        <td id=\"T_df050972_451d_11eb_b2f3_0242ac1c0002row14_col3\" class=\"data row14 col3\" >-0.11</td>\n",
              "                        <td id=\"T_df050972_451d_11eb_b2f3_0242ac1c0002row14_col4\" class=\"data row14 col4\" >0.25</td>\n",
              "                        <td id=\"T_df050972_451d_11eb_b2f3_0242ac1c0002row14_col5\" class=\"data row14 col5\" >0.25</td>\n",
              "                        <td id=\"T_df050972_451d_11eb_b2f3_0242ac1c0002row14_col6\" class=\"data row14 col6\" >0.49</td>\n",
              "                        <td id=\"T_df050972_451d_11eb_b2f3_0242ac1c0002row14_col7\" class=\"data row14 col7\" >0.30</td>\n",
              "                        <td id=\"T_df050972_451d_11eb_b2f3_0242ac1c0002row14_col8\" class=\"data row14 col8\" >0.44</td>\n",
              "                        <td id=\"T_df050972_451d_11eb_b2f3_0242ac1c0002row14_col9\" class=\"data row14 col9\" >0.48</td>\n",
              "                        <td id=\"T_df050972_451d_11eb_b2f3_0242ac1c0002row14_col10\" class=\"data row14 col10\" >0.34</td>\n",
              "                        <td id=\"T_df050972_451d_11eb_b2f3_0242ac1c0002row14_col11\" class=\"data row14 col11\" >0.63</td>\n",
              "                        <td id=\"T_df050972_451d_11eb_b2f3_0242ac1c0002row14_col12\" class=\"data row14 col12\" >0.63</td>\n",
              "                        <td id=\"T_df050972_451d_11eb_b2f3_0242ac1c0002row14_col13\" class=\"data row14 col13\" >0.35</td>\n",
              "                        <td id=\"T_df050972_451d_11eb_b2f3_0242ac1c0002row14_col14\" class=\"data row14 col14\" >1.00</td>\n",
              "                        <td id=\"T_df050972_451d_11eb_b2f3_0242ac1c0002row14_col15\" class=\"data row14 col15\" >0.65</td>\n",
              "                        <td id=\"T_df050972_451d_11eb_b2f3_0242ac1c0002row14_col16\" class=\"data row14 col16\" >0.19</td>\n",
              "                        <td id=\"T_df050972_451d_11eb_b2f3_0242ac1c0002row14_col17\" class=\"data row14 col17\" >-0.76</td>\n",
              "                        <td id=\"T_df050972_451d_11eb_b2f3_0242ac1c0002row14_col18\" class=\"data row14 col18\" >-0.16</td>\n",
              "                        <td id=\"T_df050972_451d_11eb_b2f3_0242ac1c0002row14_col19\" class=\"data row14 col19\" >0.79</td>\n",
              "                        <td id=\"T_df050972_451d_11eb_b2f3_0242ac1c0002row14_col20\" class=\"data row14 col20\" >0.06</td>\n",
              "                        <td id=\"T_df050972_451d_11eb_b2f3_0242ac1c0002row14_col21\" class=\"data row14 col21\" >0.00</td>\n",
              "                        <td id=\"T_df050972_451d_11eb_b2f3_0242ac1c0002row14_col22\" class=\"data row14 col22\" >-0.07</td>\n",
              "                        <td id=\"T_df050972_451d_11eb_b2f3_0242ac1c0002row14_col23\" class=\"data row14 col23\" >0.04</td>\n",
              "                        <td id=\"T_df050972_451d_11eb_b2f3_0242ac1c0002row14_col24\" class=\"data row14 col24\" >0.03</td>\n",
              "                        <td id=\"T_df050972_451d_11eb_b2f3_0242ac1c0002row14_col25\" class=\"data row14 col25\" >0.27</td>\n",
              "                        <td id=\"T_df050972_451d_11eb_b2f3_0242ac1c0002row14_col26\" class=\"data row14 col26\" >-0.38</td>\n",
              "            </tr>\n",
              "            <tr>\n",
              "                        <th id=\"T_df050972_451d_11eb_b2f3_0242ac1c0002level0_row15\" class=\"row_heading level0 row15\" >TotalCharges</th>\n",
              "                        <td id=\"T_df050972_451d_11eb_b2f3_0242ac1c0002row15_col0\" class=\"data row15 col0\" >-0.00</td>\n",
              "                        <td id=\"T_df050972_451d_11eb_b2f3_0242ac1c0002row15_col1\" class=\"data row15 col1\" >0.10</td>\n",
              "                        <td id=\"T_df050972_451d_11eb_b2f3_0242ac1c0002row15_col2\" class=\"data row15 col2\" >0.32</td>\n",
              "                        <td id=\"T_df050972_451d_11eb_b2f3_0242ac1c0002row15_col3\" class=\"data row15 col3\" >0.06</td>\n",
              "                        <td id=\"T_df050972_451d_11eb_b2f3_0242ac1c0002row15_col4\" class=\"data row15 col4\" >0.83</td>\n",
              "                        <td id=\"T_df050972_451d_11eb_b2f3_0242ac1c0002row15_col5\" class=\"data row15 col5\" >0.11</td>\n",
              "                        <td id=\"T_df050972_451d_11eb_b2f3_0242ac1c0002row15_col6\" class=\"data row15 col6\" >0.47</td>\n",
              "                        <td id=\"T_df050972_451d_11eb_b2f3_0242ac1c0002row15_col7\" class=\"data row15 col7\" >0.41</td>\n",
              "                        <td id=\"T_df050972_451d_11eb_b2f3_0242ac1c0002row15_col8\" class=\"data row15 col8\" >0.51</td>\n",
              "                        <td id=\"T_df050972_451d_11eb_b2f3_0242ac1c0002row15_col9\" class=\"data row15 col9\" >0.52</td>\n",
              "                        <td id=\"T_df050972_451d_11eb_b2f3_0242ac1c0002row15_col10\" class=\"data row15 col10\" >0.43</td>\n",
              "                        <td id=\"T_df050972_451d_11eb_b2f3_0242ac1c0002row15_col11\" class=\"data row15 col11\" >0.52</td>\n",
              "                        <td id=\"T_df050972_451d_11eb_b2f3_0242ac1c0002row15_col12\" class=\"data row15 col12\" >0.52</td>\n",
              "                        <td id=\"T_df050972_451d_11eb_b2f3_0242ac1c0002row15_col13\" class=\"data row15 col13\" >0.16</td>\n",
              "                        <td id=\"T_df050972_451d_11eb_b2f3_0242ac1c0002row15_col14\" class=\"data row15 col14\" >0.65</td>\n",
              "                        <td id=\"T_df050972_451d_11eb_b2f3_0242ac1c0002row15_col15\" class=\"data row15 col15\" >1.00</td>\n",
              "                        <td id=\"T_df050972_451d_11eb_b2f3_0242ac1c0002row15_col16\" class=\"data row15 col16\" >-0.20</td>\n",
              "                        <td id=\"T_df050972_451d_11eb_b2f3_0242ac1c0002row15_col17\" class=\"data row15 col17\" >-0.37</td>\n",
              "                        <td id=\"T_df050972_451d_11eb_b2f3_0242ac1c0002row15_col18\" class=\"data row15 col18\" >-0.05</td>\n",
              "                        <td id=\"T_df050972_451d_11eb_b2f3_0242ac1c0002row15_col19\" class=\"data row15 col19\" >0.36</td>\n",
              "                        <td id=\"T_df050972_451d_11eb_b2f3_0242ac1c0002row15_col20\" class=\"data row15 col20\" >-0.45</td>\n",
              "                        <td id=\"T_df050972_451d_11eb_b2f3_0242ac1c0002row15_col21\" class=\"data row15 col21\" >0.17</td>\n",
              "                        <td id=\"T_df050972_451d_11eb_b2f3_0242ac1c0002row15_col22\" class=\"data row15 col22\" >0.36</td>\n",
              "                        <td id=\"T_df050972_451d_11eb_b2f3_0242ac1c0002row15_col23\" class=\"data row15 col23\" >0.19</td>\n",
              "                        <td id=\"T_df050972_451d_11eb_b2f3_0242ac1c0002row15_col24\" class=\"data row15 col24\" >0.18</td>\n",
              "                        <td id=\"T_df050972_451d_11eb_b2f3_0242ac1c0002row15_col25\" class=\"data row15 col25\" >-0.06</td>\n",
              "                        <td id=\"T_df050972_451d_11eb_b2f3_0242ac1c0002row15_col26\" class=\"data row15 col26\" >-0.29</td>\n",
              "            </tr>\n",
              "            <tr>\n",
              "                        <th id=\"T_df050972_451d_11eb_b2f3_0242ac1c0002level0_row16\" class=\"row_heading level0 row16\" >Churn</th>\n",
              "                        <td id=\"T_df050972_451d_11eb_b2f3_0242ac1c0002row16_col0\" class=\"data row16 col0\" >0.01</td>\n",
              "                        <td id=\"T_df050972_451d_11eb_b2f3_0242ac1c0002row16_col1\" class=\"data row16 col1\" >0.15</td>\n",
              "                        <td id=\"T_df050972_451d_11eb_b2f3_0242ac1c0002row16_col2\" class=\"data row16 col2\" >-0.15</td>\n",
              "                        <td id=\"T_df050972_451d_11eb_b2f3_0242ac1c0002row16_col3\" class=\"data row16 col3\" >-0.16</td>\n",
              "                        <td id=\"T_df050972_451d_11eb_b2f3_0242ac1c0002row16_col4\" class=\"data row16 col4\" >-0.35</td>\n",
              "                        <td id=\"T_df050972_451d_11eb_b2f3_0242ac1c0002row16_col5\" class=\"data row16 col5\" >0.01</td>\n",
              "                        <td id=\"T_df050972_451d_11eb_b2f3_0242ac1c0002row16_col6\" class=\"data row16 col6\" >0.04</td>\n",
              "                        <td id=\"T_df050972_451d_11eb_b2f3_0242ac1c0002row16_col7\" class=\"data row16 col7\" >-0.17</td>\n",
              "                        <td id=\"T_df050972_451d_11eb_b2f3_0242ac1c0002row16_col8\" class=\"data row16 col8\" >-0.08</td>\n",
              "                        <td id=\"T_df050972_451d_11eb_b2f3_0242ac1c0002row16_col9\" class=\"data row16 col9\" >-0.07</td>\n",
              "                        <td id=\"T_df050972_451d_11eb_b2f3_0242ac1c0002row16_col10\" class=\"data row16 col10\" >-0.16</td>\n",
              "                        <td id=\"T_df050972_451d_11eb_b2f3_0242ac1c0002row16_col11\" class=\"data row16 col11\" >0.06</td>\n",
              "                        <td id=\"T_df050972_451d_11eb_b2f3_0242ac1c0002row16_col12\" class=\"data row16 col12\" >0.06</td>\n",
              "                        <td id=\"T_df050972_451d_11eb_b2f3_0242ac1c0002row16_col13\" class=\"data row16 col13\" >0.19</td>\n",
              "                        <td id=\"T_df050972_451d_11eb_b2f3_0242ac1c0002row16_col14\" class=\"data row16 col14\" >0.19</td>\n",
              "                        <td id=\"T_df050972_451d_11eb_b2f3_0242ac1c0002row16_col15\" class=\"data row16 col15\" >-0.20</td>\n",
              "                        <td id=\"T_df050972_451d_11eb_b2f3_0242ac1c0002row16_col16\" class=\"data row16 col16\" >1.00</td>\n",
              "                        <td id=\"T_df050972_451d_11eb_b2f3_0242ac1c0002row16_col17\" class=\"data row16 col17\" >-0.23</td>\n",
              "                        <td id=\"T_df050972_451d_11eb_b2f3_0242ac1c0002row16_col18\" class=\"data row16 col18\" >-0.12</td>\n",
              "                        <td id=\"T_df050972_451d_11eb_b2f3_0242ac1c0002row16_col19\" class=\"data row16 col19\" >0.31</td>\n",
              "                        <td id=\"T_df050972_451d_11eb_b2f3_0242ac1c0002row16_col20\" class=\"data row16 col20\" >0.40</td>\n",
              "                        <td id=\"T_df050972_451d_11eb_b2f3_0242ac1c0002row16_col21\" class=\"data row16 col21\" >-0.18</td>\n",
              "                        <td id=\"T_df050972_451d_11eb_b2f3_0242ac1c0002row16_col22\" class=\"data row16 col22\" >-0.30</td>\n",
              "                        <td id=\"T_df050972_451d_11eb_b2f3_0242ac1c0002row16_col23\" class=\"data row16 col23\" >-0.12</td>\n",
              "                        <td id=\"T_df050972_451d_11eb_b2f3_0242ac1c0002row16_col24\" class=\"data row16 col24\" >-0.13</td>\n",
              "                        <td id=\"T_df050972_451d_11eb_b2f3_0242ac1c0002row16_col25\" class=\"data row16 col25\" >0.30</td>\n",
              "                        <td id=\"T_df050972_451d_11eb_b2f3_0242ac1c0002row16_col26\" class=\"data row16 col26\" >-0.09</td>\n",
              "            </tr>\n",
              "            <tr>\n",
              "                        <th id=\"T_df050972_451d_11eb_b2f3_0242ac1c0002level0_row17\" class=\"row_heading level0 row17\" >InternetService_0</th>\n",
              "                        <td id=\"T_df050972_451d_11eb_b2f3_0242ac1c0002row17_col0\" class=\"data row17 col0\" >-0.00</td>\n",
              "                        <td id=\"T_df050972_451d_11eb_b2f3_0242ac1c0002row17_col1\" class=\"data row17 col1\" >-0.18</td>\n",
              "                        <td id=\"T_df050972_451d_11eb_b2f3_0242ac1c0002row17_col2\" class=\"data row17 col2\" >-0.00</td>\n",
              "                        <td id=\"T_df050972_451d_11eb_b2f3_0242ac1c0002row17_col3\" class=\"data row17 col3\" >0.14</td>\n",
              "                        <td id=\"T_df050972_451d_11eb_b2f3_0242ac1c0002row17_col4\" class=\"data row17 col4\" >-0.04</td>\n",
              "                        <td id=\"T_df050972_451d_11eb_b2f3_0242ac1c0002row17_col5\" class=\"data row17 col5\" >0.17</td>\n",
              "                        <td id=\"T_df050972_451d_11eb_b2f3_0242ac1c0002row17_col6\" class=\"data row17 col6\" >-0.21</td>\n",
              "                        <td id=\"T_df050972_451d_11eb_b2f3_0242ac1c0002row17_col7\" class=\"data row17 col7\" >-0.33</td>\n",
              "                        <td id=\"T_df050972_451d_11eb_b2f3_0242ac1c0002row17_col8\" class=\"data row17 col8\" >-0.38</td>\n",
              "                        <td id=\"T_df050972_451d_11eb_b2f3_0242ac1c0002row17_col9\" class=\"data row17 col9\" >-0.38</td>\n",
              "                        <td id=\"T_df050972_451d_11eb_b2f3_0242ac1c0002row17_col10\" class=\"data row17 col10\" >-0.34</td>\n",
              "                        <td id=\"T_df050972_451d_11eb_b2f3_0242ac1c0002row17_col11\" class=\"data row17 col11\" >-0.41</td>\n",
              "                        <td id=\"T_df050972_451d_11eb_b2f3_0242ac1c0002row17_col12\" class=\"data row17 col12\" >-0.42</td>\n",
              "                        <td id=\"T_df050972_451d_11eb_b2f3_0242ac1c0002row17_col13\" class=\"data row17 col13\" >-0.32</td>\n",
              "                        <td id=\"T_df050972_451d_11eb_b2f3_0242ac1c0002row17_col14\" class=\"data row17 col14\" >-0.76</td>\n",
              "                        <td id=\"T_df050972_451d_11eb_b2f3_0242ac1c0002row17_col15\" class=\"data row17 col15\" >-0.37</td>\n",
              "                        <td id=\"T_df050972_451d_11eb_b2f3_0242ac1c0002row17_col16\" class=\"data row17 col16\" >-0.23</td>\n",
              "                        <td id=\"T_df050972_451d_11eb_b2f3_0242ac1c0002row17_col17\" class=\"data row17 col17\" >1.00</td>\n",
              "                        <td id=\"T_df050972_451d_11eb_b2f3_0242ac1c0002row17_col18\" class=\"data row17 col18\" >-0.38</td>\n",
              "                        <td id=\"T_df050972_451d_11eb_b2f3_0242ac1c0002row17_col19\" class=\"data row17 col19\" >-0.47</td>\n",
              "                        <td id=\"T_df050972_451d_11eb_b2f3_0242ac1c0002row17_col20\" class=\"data row17 col20\" >-0.22</td>\n",
              "                        <td id=\"T_df050972_451d_11eb_b2f3_0242ac1c0002row17_col21\" class=\"data row17 col21\" >0.04</td>\n",
              "                        <td id=\"T_df050972_451d_11eb_b2f3_0242ac1c0002row17_col22\" class=\"data row17 col22\" >0.22</td>\n",
              "                        <td id=\"T_df050972_451d_11eb_b2f3_0242ac1c0002row17_col23\" class=\"data row17 col23\" >-0.00</td>\n",
              "                        <td id=\"T_df050972_451d_11eb_b2f3_0242ac1c0002row17_col24\" class=\"data row17 col24\" >0.00</td>\n",
              "                        <td id=\"T_df050972_451d_11eb_b2f3_0242ac1c0002row17_col25\" class=\"data row17 col25\" >-0.28</td>\n",
              "                        <td id=\"T_df050972_451d_11eb_b2f3_0242ac1c0002row17_col26\" class=\"data row17 col26\" >0.32</td>\n",
              "            </tr>\n",
              "            <tr>\n",
              "                        <th id=\"T_df050972_451d_11eb_b2f3_0242ac1c0002level0_row18\" class=\"row_heading level0 row18\" >InternetService_DSL</th>\n",
              "                        <td id=\"T_df050972_451d_11eb_b2f3_0242ac1c0002row18_col0\" class=\"data row18 col0\" >-0.01</td>\n",
              "                        <td id=\"T_df050972_451d_11eb_b2f3_0242ac1c0002row18_col1\" class=\"data row18 col1\" >-0.11</td>\n",
              "                        <td id=\"T_df050972_451d_11eb_b2f3_0242ac1c0002row18_col2\" class=\"data row18 col2\" >-0.00</td>\n",
              "                        <td id=\"T_df050972_451d_11eb_b2f3_0242ac1c0002row18_col3\" class=\"data row18 col3\" >0.05</td>\n",
              "                        <td id=\"T_df050972_451d_11eb_b2f3_0242ac1c0002row18_col4\" class=\"data row18 col4\" >0.01</td>\n",
              "                        <td id=\"T_df050972_451d_11eb_b2f3_0242ac1c0002row18_col5\" class=\"data row18 col5\" >-0.45</td>\n",
              "                        <td id=\"T_df050972_451d_11eb_b2f3_0242ac1c0002row18_col6\" class=\"data row18 col6\" >-0.20</td>\n",
              "                        <td id=\"T_df050972_451d_11eb_b2f3_0242ac1c0002row18_col7\" class=\"data row18 col7\" >0.32</td>\n",
              "                        <td id=\"T_df050972_451d_11eb_b2f3_0242ac1c0002row18_col8\" class=\"data row18 col8\" >0.16</td>\n",
              "                        <td id=\"T_df050972_451d_11eb_b2f3_0242ac1c0002row18_col9\" class=\"data row18 col9\" >0.15</td>\n",
              "                        <td id=\"T_df050972_451d_11eb_b2f3_0242ac1c0002row18_col10\" class=\"data row18 col10\" >0.31</td>\n",
              "                        <td id=\"T_df050972_451d_11eb_b2f3_0242ac1c0002row18_col11\" class=\"data row18 col11\" >0.01</td>\n",
              "                        <td id=\"T_df050972_451d_11eb_b2f3_0242ac1c0002row18_col12\" class=\"data row18 col12\" >0.03</td>\n",
              "                        <td id=\"T_df050972_451d_11eb_b2f3_0242ac1c0002row18_col13\" class=\"data row18 col13\" >-0.06</td>\n",
              "                        <td id=\"T_df050972_451d_11eb_b2f3_0242ac1c0002row18_col14\" class=\"data row18 col14\" >-0.16</td>\n",
              "                        <td id=\"T_df050972_451d_11eb_b2f3_0242ac1c0002row18_col15\" class=\"data row18 col15\" >-0.05</td>\n",
              "                        <td id=\"T_df050972_451d_11eb_b2f3_0242ac1c0002row18_col16\" class=\"data row18 col16\" >-0.12</td>\n",
              "                        <td id=\"T_df050972_451d_11eb_b2f3_0242ac1c0002row18_col17\" class=\"data row18 col17\" >-0.38</td>\n",
              "                        <td id=\"T_df050972_451d_11eb_b2f3_0242ac1c0002row18_col18\" class=\"data row18 col18\" >1.00</td>\n",
              "                        <td id=\"T_df050972_451d_11eb_b2f3_0242ac1c0002row18_col19\" class=\"data row18 col19\" >-0.64</td>\n",
              "                        <td id=\"T_df050972_451d_11eb_b2f3_0242ac1c0002row18_col20\" class=\"data row18 col20\" >-0.07</td>\n",
              "                        <td id=\"T_df050972_451d_11eb_b2f3_0242ac1c0002row18_col21\" class=\"data row18 col21\" >0.05</td>\n",
              "                        <td id=\"T_df050972_451d_11eb_b2f3_0242ac1c0002row18_col22\" class=\"data row18 col22\" >0.03</td>\n",
              "                        <td id=\"T_df050972_451d_11eb_b2f3_0242ac1c0002row18_col23\" class=\"data row18 col23\" >0.02</td>\n",
              "                        <td id=\"T_df050972_451d_11eb_b2f3_0242ac1c0002row18_col24\" class=\"data row18 col24\" >0.05</td>\n",
              "                        <td id=\"T_df050972_451d_11eb_b2f3_0242ac1c0002row18_col25\" class=\"data row18 col25\" >-0.10</td>\n",
              "                        <td id=\"T_df050972_451d_11eb_b2f3_0242ac1c0002row18_col26\" class=\"data row18 col26\" >0.04</td>\n",
              "            </tr>\n",
              "            <tr>\n",
              "                        <th id=\"T_df050972_451d_11eb_b2f3_0242ac1c0002level0_row19\" class=\"row_heading level0 row19\" >InternetService_Fiber optic</th>\n",
              "                        <td id=\"T_df050972_451d_11eb_b2f3_0242ac1c0002row19_col0\" class=\"data row19 col0\" >0.01</td>\n",
              "                        <td id=\"T_df050972_451d_11eb_b2f3_0242ac1c0002row19_col1\" class=\"data row19 col1\" >0.25</td>\n",
              "                        <td id=\"T_df050972_451d_11eb_b2f3_0242ac1c0002row19_col2\" class=\"data row19 col2\" >0.00</td>\n",
              "                        <td id=\"T_df050972_451d_11eb_b2f3_0242ac1c0002row19_col3\" class=\"data row19 col3\" >-0.16</td>\n",
              "                        <td id=\"T_df050972_451d_11eb_b2f3_0242ac1c0002row19_col4\" class=\"data row19 col4\" >0.02</td>\n",
              "                        <td id=\"T_df050972_451d_11eb_b2f3_0242ac1c0002row19_col5\" class=\"data row19 col5\" >0.29</td>\n",
              "                        <td id=\"T_df050972_451d_11eb_b2f3_0242ac1c0002row19_col6\" class=\"data row19 col6\" >0.37</td>\n",
              "                        <td id=\"T_df050972_451d_11eb_b2f3_0242ac1c0002row19_col7\" class=\"data row19 col7\" >-0.03</td>\n",
              "                        <td id=\"T_df050972_451d_11eb_b2f3_0242ac1c0002row19_col8\" class=\"data row19 col8\" >0.17</td>\n",
              "                        <td id=\"T_df050972_451d_11eb_b2f3_0242ac1c0002row19_col9\" class=\"data row19 col9\" >0.18</td>\n",
              "                        <td id=\"T_df050972_451d_11eb_b2f3_0242ac1c0002row19_col10\" class=\"data row19 col10\" >-0.02</td>\n",
              "                        <td id=\"T_df050972_451d_11eb_b2f3_0242ac1c0002row19_col11\" class=\"data row19 col11\" >0.33</td>\n",
              "                        <td id=\"T_df050972_451d_11eb_b2f3_0242ac1c0002row19_col12\" class=\"data row19 col12\" >0.32</td>\n",
              "                        <td id=\"T_df050972_451d_11eb_b2f3_0242ac1c0002row19_col13\" class=\"data row19 col13\" >0.33</td>\n",
              "                        <td id=\"T_df050972_451d_11eb_b2f3_0242ac1c0002row19_col14\" class=\"data row19 col14\" >0.79</td>\n",
              "                        <td id=\"T_df050972_451d_11eb_b2f3_0242ac1c0002row19_col15\" class=\"data row19 col15\" >0.36</td>\n",
              "                        <td id=\"T_df050972_451d_11eb_b2f3_0242ac1c0002row19_col16\" class=\"data row19 col16\" >0.31</td>\n",
              "                        <td id=\"T_df050972_451d_11eb_b2f3_0242ac1c0002row19_col17\" class=\"data row19 col17\" >-0.47</td>\n",
              "                        <td id=\"T_df050972_451d_11eb_b2f3_0242ac1c0002row19_col18\" class=\"data row19 col18\" >-0.64</td>\n",
              "                        <td id=\"T_df050972_451d_11eb_b2f3_0242ac1c0002row19_col19\" class=\"data row19 col19\" >1.00</td>\n",
              "                        <td id=\"T_df050972_451d_11eb_b2f3_0242ac1c0002row19_col20\" class=\"data row19 col20\" >0.24</td>\n",
              "                        <td id=\"T_df050972_451d_11eb_b2f3_0242ac1c0002row19_col21\" class=\"data row19 col21\" >-0.08</td>\n",
              "                        <td id=\"T_df050972_451d_11eb_b2f3_0242ac1c0002row19_col22\" class=\"data row19 col22\" >-0.21</td>\n",
              "                        <td id=\"T_df050972_451d_11eb_b2f3_0242ac1c0002row19_col23\" class=\"data row19 col23\" >-0.02</td>\n",
              "                        <td id=\"T_df050972_451d_11eb_b2f3_0242ac1c0002row19_col24\" class=\"data row19 col24\" >-0.05</td>\n",
              "                        <td id=\"T_df050972_451d_11eb_b2f3_0242ac1c0002row19_col25\" class=\"data row19 col25\" >0.34</td>\n",
              "                        <td id=\"T_df050972_451d_11eb_b2f3_0242ac1c0002row19_col26\" class=\"data row19 col26\" >-0.31</td>\n",
              "            </tr>\n",
              "            <tr>\n",
              "                        <th id=\"T_df050972_451d_11eb_b2f3_0242ac1c0002level0_row20\" class=\"row_heading level0 row20\" >Contract_Month-to-month</th>\n",
              "                        <td id=\"T_df050972_451d_11eb_b2f3_0242ac1c0002row20_col0\" class=\"data row20 col0\" >0.00</td>\n",
              "                        <td id=\"T_df050972_451d_11eb_b2f3_0242ac1c0002row20_col1\" class=\"data row20 col1\" >0.14</td>\n",
              "                        <td id=\"T_df050972_451d_11eb_b2f3_0242ac1c0002row20_col2\" class=\"data row20 col2\" >-0.28</td>\n",
              "                        <td id=\"T_df050972_451d_11eb_b2f3_0242ac1c0002row20_col3\" class=\"data row20 col3\" >-0.23</td>\n",
              "                        <td id=\"T_df050972_451d_11eb_b2f3_0242ac1c0002row20_col4\" class=\"data row20 col4\" >-0.65</td>\n",
              "                        <td id=\"T_df050972_451d_11eb_b2f3_0242ac1c0002row20_col5\" class=\"data row20 col5\" >-0.00</td>\n",
              "                        <td id=\"T_df050972_451d_11eb_b2f3_0242ac1c0002row20_col6\" class=\"data row20 col6\" >-0.09</td>\n",
              "                        <td id=\"T_df050972_451d_11eb_b2f3_0242ac1c0002row20_col7\" class=\"data row20 col7\" >-0.25</td>\n",
              "                        <td id=\"T_df050972_451d_11eb_b2f3_0242ac1c0002row20_col8\" class=\"data row20 col8\" >-0.16</td>\n",
              "                        <td id=\"T_df050972_451d_11eb_b2f3_0242ac1c0002row20_col9\" class=\"data row20 col9\" >-0.23</td>\n",
              "                        <td id=\"T_df050972_451d_11eb_b2f3_0242ac1c0002row20_col10\" class=\"data row20 col10\" >-0.29</td>\n",
              "                        <td id=\"T_df050972_451d_11eb_b2f3_0242ac1c0002row20_col11\" class=\"data row20 col11\" >-0.11</td>\n",
              "                        <td id=\"T_df050972_451d_11eb_b2f3_0242ac1c0002row20_col12\" class=\"data row20 col12\" >-0.12</td>\n",
              "                        <td id=\"T_df050972_451d_11eb_b2f3_0242ac1c0002row20_col13\" class=\"data row20 col13\" >0.17</td>\n",
              "                        <td id=\"T_df050972_451d_11eb_b2f3_0242ac1c0002row20_col14\" class=\"data row20 col14\" >0.06</td>\n",
              "                        <td id=\"T_df050972_451d_11eb_b2f3_0242ac1c0002row20_col15\" class=\"data row20 col15\" >-0.45</td>\n",
              "                        <td id=\"T_df050972_451d_11eb_b2f3_0242ac1c0002row20_col16\" class=\"data row20 col16\" >0.40</td>\n",
              "                        <td id=\"T_df050972_451d_11eb_b2f3_0242ac1c0002row20_col17\" class=\"data row20 col17\" >-0.22</td>\n",
              "                        <td id=\"T_df050972_451d_11eb_b2f3_0242ac1c0002row20_col18\" class=\"data row20 col18\" >-0.07</td>\n",
              "                        <td id=\"T_df050972_451d_11eb_b2f3_0242ac1c0002row20_col19\" class=\"data row20 col19\" >0.24</td>\n",
              "                        <td id=\"T_df050972_451d_11eb_b2f3_0242ac1c0002row20_col20\" class=\"data row20 col20\" >1.00</td>\n",
              "                        <td id=\"T_df050972_451d_11eb_b2f3_0242ac1c0002row20_col21\" class=\"data row20 col21\" >-0.57</td>\n",
              "                        <td id=\"T_df050972_451d_11eb_b2f3_0242ac1c0002row20_col22\" class=\"data row20 col22\" >-0.62</td>\n",
              "                        <td id=\"T_df050972_451d_11eb_b2f3_0242ac1c0002row20_col23\" class=\"data row20 col23\" >-0.18</td>\n",
              "                        <td id=\"T_df050972_451d_11eb_b2f3_0242ac1c0002row20_col24\" class=\"data row20 col24\" >-0.20</td>\n",
              "                        <td id=\"T_df050972_451d_11eb_b2f3_0242ac1c0002row20_col25\" class=\"data row20 col25\" >0.33</td>\n",
              "                        <td id=\"T_df050972_451d_11eb_b2f3_0242ac1c0002row20_col26\" class=\"data row20 col26\" >0.01</td>\n",
              "            </tr>\n",
              "            <tr>\n",
              "                        <th id=\"T_df050972_451d_11eb_b2f3_0242ac1c0002level0_row21\" class=\"row_heading level0 row21\" >Contract_One year</th>\n",
              "                        <td id=\"T_df050972_451d_11eb_b2f3_0242ac1c0002row21_col0\" class=\"data row21 col0\" >-0.01</td>\n",
              "                        <td id=\"T_df050972_451d_11eb_b2f3_0242ac1c0002row21_col1\" class=\"data row21 col1\" >-0.05</td>\n",
              "                        <td id=\"T_df050972_451d_11eb_b2f3_0242ac1c0002row21_col2\" class=\"data row21 col2\" >0.08</td>\n",
              "                        <td id=\"T_df050972_451d_11eb_b2f3_0242ac1c0002row21_col3\" class=\"data row21 col3\" >0.07</td>\n",
              "                        <td id=\"T_df050972_451d_11eb_b2f3_0242ac1c0002row21_col4\" class=\"data row21 col4\" >0.20</td>\n",
              "                        <td id=\"T_df050972_451d_11eb_b2f3_0242ac1c0002row21_col5\" class=\"data row21 col5\" >-0.00</td>\n",
              "                        <td id=\"T_df050972_451d_11eb_b2f3_0242ac1c0002row21_col6\" class=\"data row21 col6\" >-0.00</td>\n",
              "                        <td id=\"T_df050972_451d_11eb_b2f3_0242ac1c0002row21_col7\" class=\"data row21 col7\" >0.10</td>\n",
              "                        <td id=\"T_df050972_451d_11eb_b2f3_0242ac1c0002row21_col8\" class=\"data row21 col8\" >0.08</td>\n",
              "                        <td id=\"T_df050972_451d_11eb_b2f3_0242ac1c0002row21_col9\" class=\"data row21 col9\" >0.10</td>\n",
              "                        <td id=\"T_df050972_451d_11eb_b2f3_0242ac1c0002row21_col10\" class=\"data row21 col10\" >0.10</td>\n",
              "                        <td id=\"T_df050972_451d_11eb_b2f3_0242ac1c0002row21_col11\" class=\"data row21 col11\" >0.06</td>\n",
              "                        <td id=\"T_df050972_451d_11eb_b2f3_0242ac1c0002row21_col12\" class=\"data row21 col12\" >0.06</td>\n",
              "                        <td id=\"T_df050972_451d_11eb_b2f3_0242ac1c0002row21_col13\" class=\"data row21 col13\" >-0.05</td>\n",
              "                        <td id=\"T_df050972_451d_11eb_b2f3_0242ac1c0002row21_col14\" class=\"data row21 col14\" >0.00</td>\n",
              "                        <td id=\"T_df050972_451d_11eb_b2f3_0242ac1c0002row21_col15\" class=\"data row21 col15\" >0.17</td>\n",
              "                        <td id=\"T_df050972_451d_11eb_b2f3_0242ac1c0002row21_col16\" class=\"data row21 col16\" >-0.18</td>\n",
              "                        <td id=\"T_df050972_451d_11eb_b2f3_0242ac1c0002row21_col17\" class=\"data row21 col17\" >0.04</td>\n",
              "                        <td id=\"T_df050972_451d_11eb_b2f3_0242ac1c0002row21_col18\" class=\"data row21 col18\" >0.05</td>\n",
              "                        <td id=\"T_df050972_451d_11eb_b2f3_0242ac1c0002row21_col19\" class=\"data row21 col19\" >-0.08</td>\n",
              "                        <td id=\"T_df050972_451d_11eb_b2f3_0242ac1c0002row21_col20\" class=\"data row21 col20\" >-0.57</td>\n",
              "                        <td id=\"T_df050972_451d_11eb_b2f3_0242ac1c0002row21_col21\" class=\"data row21 col21\" >1.00</td>\n",
              "                        <td id=\"T_df050972_451d_11eb_b2f3_0242ac1c0002row21_col22\" class=\"data row21 col22\" >-0.29</td>\n",
              "                        <td id=\"T_df050972_451d_11eb_b2f3_0242ac1c0002row21_col23\" class=\"data row21 col23\" >0.06</td>\n",
              "                        <td id=\"T_df050972_451d_11eb_b2f3_0242ac1c0002row21_col24\" class=\"data row21 col24\" >0.07</td>\n",
              "                        <td id=\"T_df050972_451d_11eb_b2f3_0242ac1c0002row21_col25\" class=\"data row21 col25\" >-0.11</td>\n",
              "                        <td id=\"T_df050972_451d_11eb_b2f3_0242ac1c0002row21_col26\" class=\"data row21 col26\" >0.00</td>\n",
              "            </tr>\n",
              "            <tr>\n",
              "                        <th id=\"T_df050972_451d_11eb_b2f3_0242ac1c0002level0_row22\" class=\"row_heading level0 row22\" >Contract_Two year</th>\n",
              "                        <td id=\"T_df050972_451d_11eb_b2f3_0242ac1c0002row22_col0\" class=\"data row22 col0\" >0.00</td>\n",
              "                        <td id=\"T_df050972_451d_11eb_b2f3_0242ac1c0002row22_col1\" class=\"data row22 col1\" >-0.12</td>\n",
              "                        <td id=\"T_df050972_451d_11eb_b2f3_0242ac1c0002row22_col2\" class=\"data row22 col2\" >0.25</td>\n",
              "                        <td id=\"T_df050972_451d_11eb_b2f3_0242ac1c0002row22_col3\" class=\"data row22 col3\" >0.20</td>\n",
              "                        <td id=\"T_df050972_451d_11eb_b2f3_0242ac1c0002row22_col4\" class=\"data row22 col4\" >0.56</td>\n",
              "                        <td id=\"T_df050972_451d_11eb_b2f3_0242ac1c0002row22_col5\" class=\"data row22 col5\" >0.00</td>\n",
              "                        <td id=\"T_df050972_451d_11eb_b2f3_0242ac1c0002row22_col6\" class=\"data row22 col6\" >0.11</td>\n",
              "                        <td id=\"T_df050972_451d_11eb_b2f3_0242ac1c0002row22_col7\" class=\"data row22 col7\" >0.19</td>\n",
              "                        <td id=\"T_df050972_451d_11eb_b2f3_0242ac1c0002row22_col8\" class=\"data row22 col8\" >0.11</td>\n",
              "                        <td id=\"T_df050972_451d_11eb_b2f3_0242ac1c0002row22_col9\" class=\"data row22 col9\" >0.17</td>\n",
              "                        <td id=\"T_df050972_451d_11eb_b2f3_0242ac1c0002row22_col10\" class=\"data row22 col10\" >0.24</td>\n",
              "                        <td id=\"T_df050972_451d_11eb_b2f3_0242ac1c0002row22_col11\" class=\"data row22 col11\" >0.07</td>\n",
              "                        <td id=\"T_df050972_451d_11eb_b2f3_0242ac1c0002row22_col12\" class=\"data row22 col12\" >0.08</td>\n",
              "                        <td id=\"T_df050972_451d_11eb_b2f3_0242ac1c0002row22_col13\" class=\"data row22 col13\" >-0.15</td>\n",
              "                        <td id=\"T_df050972_451d_11eb_b2f3_0242ac1c0002row22_col14\" class=\"data row22 col14\" >-0.07</td>\n",
              "                        <td id=\"T_df050972_451d_11eb_b2f3_0242ac1c0002row22_col15\" class=\"data row22 col15\" >0.36</td>\n",
              "                        <td id=\"T_df050972_451d_11eb_b2f3_0242ac1c0002row22_col16\" class=\"data row22 col16\" >-0.30</td>\n",
              "                        <td id=\"T_df050972_451d_11eb_b2f3_0242ac1c0002row22_col17\" class=\"data row22 col17\" >0.22</td>\n",
              "                        <td id=\"T_df050972_451d_11eb_b2f3_0242ac1c0002row22_col18\" class=\"data row22 col18\" >0.03</td>\n",
              "                        <td id=\"T_df050972_451d_11eb_b2f3_0242ac1c0002row22_col19\" class=\"data row22 col19\" >-0.21</td>\n",
              "                        <td id=\"T_df050972_451d_11eb_b2f3_0242ac1c0002row22_col20\" class=\"data row22 col20\" >-0.62</td>\n",
              "                        <td id=\"T_df050972_451d_11eb_b2f3_0242ac1c0002row22_col21\" class=\"data row22 col21\" >-0.29</td>\n",
              "                        <td id=\"T_df050972_451d_11eb_b2f3_0242ac1c0002row22_col22\" class=\"data row22 col22\" >1.00</td>\n",
              "                        <td id=\"T_df050972_451d_11eb_b2f3_0242ac1c0002row22_col23\" class=\"data row22 col23\" >0.16</td>\n",
              "                        <td id=\"T_df050972_451d_11eb_b2f3_0242ac1c0002row22_col24\" class=\"data row22 col24\" >0.17</td>\n",
              "                        <td id=\"T_df050972_451d_11eb_b2f3_0242ac1c0002row22_col25\" class=\"data row22 col25\" >-0.28</td>\n",
              "                        <td id=\"T_df050972_451d_11eb_b2f3_0242ac1c0002row22_col26\" class=\"data row22 col26\" >-0.01</td>\n",
              "            </tr>\n",
              "            <tr>\n",
              "                        <th id=\"T_df050972_451d_11eb_b2f3_0242ac1c0002level0_row23\" class=\"row_heading level0 row23\" >PaymentMethod_Bank transfer (automatic)</th>\n",
              "                        <td id=\"T_df050972_451d_11eb_b2f3_0242ac1c0002row23_col0\" class=\"data row23 col0\" >0.02</td>\n",
              "                        <td id=\"T_df050972_451d_11eb_b2f3_0242ac1c0002row23_col1\" class=\"data row23 col1\" >-0.02</td>\n",
              "                        <td id=\"T_df050972_451d_11eb_b2f3_0242ac1c0002row23_col2\" class=\"data row23 col2\" >0.11</td>\n",
              "                        <td id=\"T_df050972_451d_11eb_b2f3_0242ac1c0002row23_col3\" class=\"data row23 col3\" >0.05</td>\n",
              "                        <td id=\"T_df050972_451d_11eb_b2f3_0242ac1c0002row23_col4\" class=\"data row23 col4\" >0.24</td>\n",
              "                        <td id=\"T_df050972_451d_11eb_b2f3_0242ac1c0002row23_col5\" class=\"data row23 col5\" >0.01</td>\n",
              "                        <td id=\"T_df050972_451d_11eb_b2f3_0242ac1c0002row23_col6\" class=\"data row23 col6\" >0.08</td>\n",
              "                        <td id=\"T_df050972_451d_11eb_b2f3_0242ac1c0002row23_col7\" class=\"data row23 col7\" >0.09</td>\n",
              "                        <td id=\"T_df050972_451d_11eb_b2f3_0242ac1c0002row23_col8\" class=\"data row23 col8\" >0.09</td>\n",
              "                        <td id=\"T_df050972_451d_11eb_b2f3_0242ac1c0002row23_col9\" class=\"data row23 col9\" >0.08</td>\n",
              "                        <td id=\"T_df050972_451d_11eb_b2f3_0242ac1c0002row23_col10\" class=\"data row23 col10\" >0.10</td>\n",
              "                        <td id=\"T_df050972_451d_11eb_b2f3_0242ac1c0002row23_col11\" class=\"data row23 col11\" >0.05</td>\n",
              "                        <td id=\"T_df050972_451d_11eb_b2f3_0242ac1c0002row23_col12\" class=\"data row23 col12\" >0.05</td>\n",
              "                        <td id=\"T_df050972_451d_11eb_b2f3_0242ac1c0002row23_col13\" class=\"data row23 col13\" >-0.02</td>\n",
              "                        <td id=\"T_df050972_451d_11eb_b2f3_0242ac1c0002row23_col14\" class=\"data row23 col14\" >0.04</td>\n",
              "                        <td id=\"T_df050972_451d_11eb_b2f3_0242ac1c0002row23_col15\" class=\"data row23 col15\" >0.19</td>\n",
              "                        <td id=\"T_df050972_451d_11eb_b2f3_0242ac1c0002row23_col16\" class=\"data row23 col16\" >-0.12</td>\n",
              "                        <td id=\"T_df050972_451d_11eb_b2f3_0242ac1c0002row23_col17\" class=\"data row23 col17\" >-0.00</td>\n",
              "                        <td id=\"T_df050972_451d_11eb_b2f3_0242ac1c0002row23_col18\" class=\"data row23 col18\" >0.02</td>\n",
              "                        <td id=\"T_df050972_451d_11eb_b2f3_0242ac1c0002row23_col19\" class=\"data row23 col19\" >-0.02</td>\n",
              "                        <td id=\"T_df050972_451d_11eb_b2f3_0242ac1c0002row23_col20\" class=\"data row23 col20\" >-0.18</td>\n",
              "                        <td id=\"T_df050972_451d_11eb_b2f3_0242ac1c0002row23_col21\" class=\"data row23 col21\" >0.06</td>\n",
              "                        <td id=\"T_df050972_451d_11eb_b2f3_0242ac1c0002row23_col22\" class=\"data row23 col22\" >0.16</td>\n",
              "                        <td id=\"T_df050972_451d_11eb_b2f3_0242ac1c0002row23_col23\" class=\"data row23 col23\" >1.00</td>\n",
              "                        <td id=\"T_df050972_451d_11eb_b2f3_0242ac1c0002row23_col24\" class=\"data row23 col24\" >-0.28</td>\n",
              "                        <td id=\"T_df050972_451d_11eb_b2f3_0242ac1c0002row23_col25\" class=\"data row23 col25\" >-0.38</td>\n",
              "                        <td id=\"T_df050972_451d_11eb_b2f3_0242ac1c0002row23_col26\" class=\"data row23 col26\" >-0.29</td>\n",
              "            </tr>\n",
              "            <tr>\n",
              "                        <th id=\"T_df050972_451d_11eb_b2f3_0242ac1c0002level0_row24\" class=\"row_heading level0 row24\" >PaymentMethod_Credit card (automatic)</th>\n",
              "                        <td id=\"T_df050972_451d_11eb_b2f3_0242ac1c0002row24_col0\" class=\"data row24 col0\" >-0.00</td>\n",
              "                        <td id=\"T_df050972_451d_11eb_b2f3_0242ac1c0002row24_col1\" class=\"data row24 col1\" >-0.02</td>\n",
              "                        <td id=\"T_df050972_451d_11eb_b2f3_0242ac1c0002row24_col2\" class=\"data row24 col2\" >0.08</td>\n",
              "                        <td id=\"T_df050972_451d_11eb_b2f3_0242ac1c0002row24_col3\" class=\"data row24 col3\" >0.06</td>\n",
              "                        <td id=\"T_df050972_451d_11eb_b2f3_0242ac1c0002row24_col4\" class=\"data row24 col4\" >0.23</td>\n",
              "                        <td id=\"T_df050972_451d_11eb_b2f3_0242ac1c0002row24_col5\" class=\"data row24 col5\" >-0.01</td>\n",
              "                        <td id=\"T_df050972_451d_11eb_b2f3_0242ac1c0002row24_col6\" class=\"data row24 col6\" >0.06</td>\n",
              "                        <td id=\"T_df050972_451d_11eb_b2f3_0242ac1c0002row24_col7\" class=\"data row24 col7\" >0.12</td>\n",
              "                        <td id=\"T_df050972_451d_11eb_b2f3_0242ac1c0002row24_col8\" class=\"data row24 col8\" >0.09</td>\n",
              "                        <td id=\"T_df050972_451d_11eb_b2f3_0242ac1c0002row24_col9\" class=\"data row24 col9\" >0.11</td>\n",
              "                        <td id=\"T_df050972_451d_11eb_b2f3_0242ac1c0002row24_col10\" class=\"data row24 col10\" >0.12</td>\n",
              "                        <td id=\"T_df050972_451d_11eb_b2f3_0242ac1c0002row24_col11\" class=\"data row24 col11\" >0.04</td>\n",
              "                        <td id=\"T_df050972_451d_11eb_b2f3_0242ac1c0002row24_col12\" class=\"data row24 col12\" >0.05</td>\n",
              "                        <td id=\"T_df050972_451d_11eb_b2f3_0242ac1c0002row24_col13\" class=\"data row24 col13\" >-0.01</td>\n",
              "                        <td id=\"T_df050972_451d_11eb_b2f3_0242ac1c0002row24_col14\" class=\"data row24 col14\" >0.03</td>\n",
              "                        <td id=\"T_df050972_451d_11eb_b2f3_0242ac1c0002row24_col15\" class=\"data row24 col15\" >0.18</td>\n",
              "                        <td id=\"T_df050972_451d_11eb_b2f3_0242ac1c0002row24_col16\" class=\"data row24 col16\" >-0.13</td>\n",
              "                        <td id=\"T_df050972_451d_11eb_b2f3_0242ac1c0002row24_col17\" class=\"data row24 col17\" >0.00</td>\n",
              "                        <td id=\"T_df050972_451d_11eb_b2f3_0242ac1c0002row24_col18\" class=\"data row24 col18\" >0.05</td>\n",
              "                        <td id=\"T_df050972_451d_11eb_b2f3_0242ac1c0002row24_col19\" class=\"data row24 col19\" >-0.05</td>\n",
              "                        <td id=\"T_df050972_451d_11eb_b2f3_0242ac1c0002row24_col20\" class=\"data row24 col20\" >-0.20</td>\n",
              "                        <td id=\"T_df050972_451d_11eb_b2f3_0242ac1c0002row24_col21\" class=\"data row24 col21\" >0.07</td>\n",
              "                        <td id=\"T_df050972_451d_11eb_b2f3_0242ac1c0002row24_col22\" class=\"data row24 col22\" >0.17</td>\n",
              "                        <td id=\"T_df050972_451d_11eb_b2f3_0242ac1c0002row24_col23\" class=\"data row24 col23\" >-0.28</td>\n",
              "                        <td id=\"T_df050972_451d_11eb_b2f3_0242ac1c0002row24_col24\" class=\"data row24 col24\" >1.00</td>\n",
              "                        <td id=\"T_df050972_451d_11eb_b2f3_0242ac1c0002row24_col25\" class=\"data row24 col25\" >-0.37</td>\n",
              "                        <td id=\"T_df050972_451d_11eb_b2f3_0242ac1c0002row24_col26\" class=\"data row24 col26\" >-0.29</td>\n",
              "            </tr>\n",
              "            <tr>\n",
              "                        <th id=\"T_df050972_451d_11eb_b2f3_0242ac1c0002level0_row25\" class=\"row_heading level0 row25\" >PaymentMethod_Electronic check</th>\n",
              "                        <td id=\"T_df050972_451d_11eb_b2f3_0242ac1c0002row25_col0\" class=\"data row25 col0\" >-0.00</td>\n",
              "                        <td id=\"T_df050972_451d_11eb_b2f3_0242ac1c0002row25_col1\" class=\"data row25 col1\" >0.17</td>\n",
              "                        <td id=\"T_df050972_451d_11eb_b2f3_0242ac1c0002row25_col2\" class=\"data row25 col2\" >-0.08</td>\n",
              "                        <td id=\"T_df050972_451d_11eb_b2f3_0242ac1c0002row25_col3\" class=\"data row25 col3\" >-0.15</td>\n",
              "                        <td id=\"T_df050972_451d_11eb_b2f3_0242ac1c0002row25_col4\" class=\"data row25 col4\" >-0.21</td>\n",
              "                        <td id=\"T_df050972_451d_11eb_b2f3_0242ac1c0002row25_col5\" class=\"data row25 col5\" >0.00</td>\n",
              "                        <td id=\"T_df050972_451d_11eb_b2f3_0242ac1c0002row25_col6\" class=\"data row25 col6\" >0.08</td>\n",
              "                        <td id=\"T_df050972_451d_11eb_b2f3_0242ac1c0002row25_col7\" class=\"data row25 col7\" >-0.11</td>\n",
              "                        <td id=\"T_df050972_451d_11eb_b2f3_0242ac1c0002row25_col8\" class=\"data row25 col8\" >-0.00</td>\n",
              "                        <td id=\"T_df050972_451d_11eb_b2f3_0242ac1c0002row25_col9\" class=\"data row25 col9\" >-0.00</td>\n",
              "                        <td id=\"T_df050972_451d_11eb_b2f3_0242ac1c0002row25_col10\" class=\"data row25 col10\" >-0.11</td>\n",
              "                        <td id=\"T_df050972_451d_11eb_b2f3_0242ac1c0002row25_col11\" class=\"data row25 col11\" >0.14</td>\n",
              "                        <td id=\"T_df050972_451d_11eb_b2f3_0242ac1c0002row25_col12\" class=\"data row25 col12\" >0.14</td>\n",
              "                        <td id=\"T_df050972_451d_11eb_b2f3_0242ac1c0002row25_col13\" class=\"data row25 col13\" >0.21</td>\n",
              "                        <td id=\"T_df050972_451d_11eb_b2f3_0242ac1c0002row25_col14\" class=\"data row25 col14\" >0.27</td>\n",
              "                        <td id=\"T_df050972_451d_11eb_b2f3_0242ac1c0002row25_col15\" class=\"data row25 col15\" >-0.06</td>\n",
              "                        <td id=\"T_df050972_451d_11eb_b2f3_0242ac1c0002row25_col16\" class=\"data row25 col16\" >0.30</td>\n",
              "                        <td id=\"T_df050972_451d_11eb_b2f3_0242ac1c0002row25_col17\" class=\"data row25 col17\" >-0.28</td>\n",
              "                        <td id=\"T_df050972_451d_11eb_b2f3_0242ac1c0002row25_col18\" class=\"data row25 col18\" >-0.10</td>\n",
              "                        <td id=\"T_df050972_451d_11eb_b2f3_0242ac1c0002row25_col19\" class=\"data row25 col19\" >0.34</td>\n",
              "                        <td id=\"T_df050972_451d_11eb_b2f3_0242ac1c0002row25_col20\" class=\"data row25 col20\" >0.33</td>\n",
              "                        <td id=\"T_df050972_451d_11eb_b2f3_0242ac1c0002row25_col21\" class=\"data row25 col21\" >-0.11</td>\n",
              "                        <td id=\"T_df050972_451d_11eb_b2f3_0242ac1c0002row25_col22\" class=\"data row25 col22\" >-0.28</td>\n",
              "                        <td id=\"T_df050972_451d_11eb_b2f3_0242ac1c0002row25_col23\" class=\"data row25 col23\" >-0.38</td>\n",
              "                        <td id=\"T_df050972_451d_11eb_b2f3_0242ac1c0002row25_col24\" class=\"data row25 col24\" >-0.37</td>\n",
              "                        <td id=\"T_df050972_451d_11eb_b2f3_0242ac1c0002row25_col25\" class=\"data row25 col25\" >1.00</td>\n",
              "                        <td id=\"T_df050972_451d_11eb_b2f3_0242ac1c0002row25_col26\" class=\"data row25 col26\" >-0.39</td>\n",
              "            </tr>\n",
              "            <tr>\n",
              "                        <th id=\"T_df050972_451d_11eb_b2f3_0242ac1c0002level0_row26\" class=\"row_heading level0 row26\" >PaymentMethod_Mailed check</th>\n",
              "                        <td id=\"T_df050972_451d_11eb_b2f3_0242ac1c0002row26_col0\" class=\"data row26 col0\" >-0.01</td>\n",
              "                        <td id=\"T_df050972_451d_11eb_b2f3_0242ac1c0002row26_col1\" class=\"data row26 col1\" >-0.15</td>\n",
              "                        <td id=\"T_df050972_451d_11eb_b2f3_0242ac1c0002row26_col2\" class=\"data row26 col2\" >-0.10</td>\n",
              "                        <td id=\"T_df050972_451d_11eb_b2f3_0242ac1c0002row26_col3\" class=\"data row26 col3\" >0.06</td>\n",
              "                        <td id=\"T_df050972_451d_11eb_b2f3_0242ac1c0002row26_col4\" class=\"data row26 col4\" >-0.23</td>\n",
              "                        <td id=\"T_df050972_451d_11eb_b2f3_0242ac1c0002row26_col5\" class=\"data row26 col5\" >-0.00</td>\n",
              "                        <td id=\"T_df050972_451d_11eb_b2f3_0242ac1c0002row26_col6\" class=\"data row26 col6\" >-0.23</td>\n",
              "                        <td id=\"T_df050972_451d_11eb_b2f3_0242ac1c0002row26_col7\" class=\"data row26 col7\" >-0.08</td>\n",
              "                        <td id=\"T_df050972_451d_11eb_b2f3_0242ac1c0002row26_col8\" class=\"data row26 col8\" >-0.17</td>\n",
              "                        <td id=\"T_df050972_451d_11eb_b2f3_0242ac1c0002row26_col9\" class=\"data row26 col9\" >-0.19</td>\n",
              "                        <td id=\"T_df050972_451d_11eb_b2f3_0242ac1c0002row26_col10\" class=\"data row26 col10\" >-0.08</td>\n",
              "                        <td id=\"T_df050972_451d_11eb_b2f3_0242ac1c0002row26_col11\" class=\"data row26 col11\" >-0.25</td>\n",
              "                        <td id=\"T_df050972_451d_11eb_b2f3_0242ac1c0002row26_col12\" class=\"data row26 col12\" >-0.25</td>\n",
              "                        <td id=\"T_df050972_451d_11eb_b2f3_0242ac1c0002row26_col13\" class=\"data row26 col13\" >-0.20</td>\n",
              "                        <td id=\"T_df050972_451d_11eb_b2f3_0242ac1c0002row26_col14\" class=\"data row26 col14\" >-0.38</td>\n",
              "                        <td id=\"T_df050972_451d_11eb_b2f3_0242ac1c0002row26_col15\" class=\"data row26 col15\" >-0.29</td>\n",
              "                        <td id=\"T_df050972_451d_11eb_b2f3_0242ac1c0002row26_col16\" class=\"data row26 col16\" >-0.09</td>\n",
              "                        <td id=\"T_df050972_451d_11eb_b2f3_0242ac1c0002row26_col17\" class=\"data row26 col17\" >0.32</td>\n",
              "                        <td id=\"T_df050972_451d_11eb_b2f3_0242ac1c0002row26_col18\" class=\"data row26 col18\" >0.04</td>\n",
              "                        <td id=\"T_df050972_451d_11eb_b2f3_0242ac1c0002row26_col19\" class=\"data row26 col19\" >-0.31</td>\n",
              "                        <td id=\"T_df050972_451d_11eb_b2f3_0242ac1c0002row26_col20\" class=\"data row26 col20\" >0.01</td>\n",
              "                        <td id=\"T_df050972_451d_11eb_b2f3_0242ac1c0002row26_col21\" class=\"data row26 col21\" >0.00</td>\n",
              "                        <td id=\"T_df050972_451d_11eb_b2f3_0242ac1c0002row26_col22\" class=\"data row26 col22\" >-0.01</td>\n",
              "                        <td id=\"T_df050972_451d_11eb_b2f3_0242ac1c0002row26_col23\" class=\"data row26 col23\" >-0.29</td>\n",
              "                        <td id=\"T_df050972_451d_11eb_b2f3_0242ac1c0002row26_col24\" class=\"data row26 col24\" >-0.29</td>\n",
              "                        <td id=\"T_df050972_451d_11eb_b2f3_0242ac1c0002row26_col25\" class=\"data row26 col25\" >-0.39</td>\n",
              "                        <td id=\"T_df050972_451d_11eb_b2f3_0242ac1c0002row26_col26\" class=\"data row26 col26\" >1.00</td>\n",
              "            </tr>\n",
              "    </tbody></table>"
            ],
            "text/plain": [
              "<pandas.io.formats.style.Styler at 0x7fb4744f13c8>"
            ]
          },
          "metadata": {
            "tags": []
          },
          "execution_count": 1210
        }
      ]
    },
    {
      "cell_type": "code",
      "metadata": {
        "id": "O9ZpP6UJxfFe"
      },
      "source": [
        "#split the data in training and test set\n",
        "\n",
        "y = data['Churn'].values\n",
        "\n",
        "data.drop('Churn', axis=1, inplace=True)\n",
        "\n",
        "x = data.values\n",
        "\n",
        "\n",
        "x_train, x_test, y_train, y_test = train_test_split(x, y, test_size=0.20, random_state=1)\n",
        "\n",
        "\n",
        "##now we can use the dataset for different kinds of models\n",
        "\n"
      ],
      "execution_count": null,
      "outputs": []
    },
    {
      "cell_type": "markdown",
      "metadata": {
        "id": "EGMmCziwEXm0"
      },
      "source": [
        "# **Step 3: Modeling & Model evaluation**"
      ]
    },
    {
      "cell_type": "markdown",
      "metadata": {
        "id": "HcDtEbXOEhWb"
      },
      "source": [
        "Step 3.1.: Model short listing and preliminary Model selection"
      ]
    },
    {
      "cell_type": "code",
      "metadata": {
        "id": "JN_O9l0WFRPB"
      },
      "source": [
        "#import models\n",
        "from sklearn.neighbors import KNeighborsClassifier\n",
        "from sklearn.tree import DecisionTreeClassifier\n",
        "from sklearn.ensemble import RandomForestClassifier\n",
        "from sklearn.linear_model import LogisticRegression\n",
        "from sklearn.model_selection import GridSearchCV\n",
        "from sklearn.metrics import confusion_matrix, accuracy_score, f1_score, precision_score, recall_score\n",
        "from sklearn.metrics import f1_score, precision_score, recall_score, fbeta_score\n",
        "from sklearn.metrics import classification_report\n",
        "from sklearn.metrics import confusion_matrix\n",
        "from sklearn.datasets import make_classification\n",
        "from matplotlib import pyplot"
      ],
      "execution_count": null,
      "outputs": []
    },
    {
      "cell_type": "markdown",
      "metadata": {
        "id": "jnrUQujnBnYD"
      },
      "source": [
        "### **MODEL 1: KNN**"
      ]
    },
    {
      "cell_type": "code",
      "metadata": {
        "colab": {
          "base_uri": "https://localhost:8080/"
        },
        "id": "gSzVRTv_GFPL",
        "outputId": "f91d2403-a176-4bd7-b7c6-69dbab030028"
      },
      "source": [
        "#define model\n",
        "classifier = KNeighborsClassifier(n_neighbors=5, n_jobs=-1)\n",
        "classifier"
      ],
      "execution_count": null,
      "outputs": [
        {
          "output_type": "execute_result",
          "data": {
            "text/plain": [
              "KNeighborsClassifier(algorithm='auto', leaf_size=30, metric='minkowski',\n",
              "                     metric_params=None, n_jobs=-1, n_neighbors=5, p=2,\n",
              "                     weights='uniform')"
            ]
          },
          "metadata": {
            "tags": []
          },
          "execution_count": 1213
        }
      ]
    },
    {
      "cell_type": "code",
      "metadata": {
        "colab": {
          "base_uri": "https://localhost:8080/"
        },
        "id": "vDAbqJIS7x9y",
        "outputId": "27017c17-3538-4bb6-abf4-2072a4ab93e8"
      },
      "source": [
        "#identify optimal parameters \n",
        "\n",
        "param_grid = {'n_neighbors' : [3,5,12,20,30]}\n",
        "\n",
        "grid_search_cv = GridSearchCV(KNeighborsClassifier(), \n",
        "                              param_grid, \n",
        "                              cv=10, \n",
        "                              return_train_score=True, n_jobs=3)\n",
        "\n",
        "grid_search_cv.fit(x, y)"
      ],
      "execution_count": null,
      "outputs": [
        {
          "output_type": "execute_result",
          "data": {
            "text/plain": [
              "GridSearchCV(cv=10, error_score=nan,\n",
              "             estimator=KNeighborsClassifier(algorithm='auto', leaf_size=30,\n",
              "                                            metric='minkowski',\n",
              "                                            metric_params=None, n_jobs=None,\n",
              "                                            n_neighbors=5, p=2,\n",
              "                                            weights='uniform'),\n",
              "             iid='deprecated', n_jobs=3,\n",
              "             param_grid={'n_neighbors': [3, 5, 12, 20, 30]},\n",
              "             pre_dispatch='2*n_jobs', refit=True, return_train_score=True,\n",
              "             scoring=None, verbose=0)"
            ]
          },
          "metadata": {
            "tags": []
          },
          "execution_count": 1214
        }
      ]
    },
    {
      "cell_type": "code",
      "metadata": {
        "colab": {
          "base_uri": "https://localhost:8080/"
        },
        "id": "IM2qI3AWCdcJ",
        "outputId": "96838b28-45e9-4401-ead7-eed508f3d834"
      },
      "source": [
        "#print best parameter combination identified\n",
        "\n",
        "print('best_score', grid_search_cv.best_score_)\n",
        "print('best_params', grid_search_cv.best_params_)"
      ],
      "execution_count": null,
      "outputs": [
        {
          "output_type": "stream",
          "text": [
            "best_score 0.7871140728048622\n",
            "best_params {'n_neighbors': 30}\n"
          ],
          "name": "stdout"
        }
      ]
    },
    {
      "cell_type": "code",
      "metadata": {
        "colab": {
          "base_uri": "https://localhost:8080/"
        },
        "id": "OxhplvMdCeV_",
        "outputId": "5a6165ae-96f9-49e6-8d34-b9fbf1b63e23"
      },
      "source": [
        "#adapt model using best parameters and fit model\n",
        "\n",
        "model_according_to_cv_for_final_evaluation = grid_search_cv.best_estimator_\n",
        "model_according_to_cv_for_final_evaluation\n",
        "\n",
        "model_according_to_cv_for_final_evaluation.fit(x_train, y_train) #fit the model on train set and evaluate"
      ],
      "execution_count": null,
      "outputs": [
        {
          "output_type": "execute_result",
          "data": {
            "text/plain": [
              "KNeighborsClassifier(algorithm='auto', leaf_size=30, metric='minkowski',\n",
              "                     metric_params=None, n_jobs=None, n_neighbors=30, p=2,\n",
              "                     weights='uniform')"
            ]
          },
          "metadata": {
            "tags": []
          },
          "execution_count": 1216
        }
      ]
    },
    {
      "cell_type": "code",
      "metadata": {
        "id": "r-Ws6hXKGPGH"
      },
      "source": [
        "#create predictions for training and test set\n",
        "\n",
        "y_train_pred = model_according_to_cv_for_final_evaluation.predict(x_train)\n",
        "y_test_pred = model_according_to_cv_for_final_evaluation.predict(x_test)"
      ],
      "execution_count": null,
      "outputs": []
    },
    {
      "cell_type": "code",
      "metadata": {
        "colab": {
          "base_uri": "https://localhost:8080/"
        },
        "id": "6bJRd_FVC5Ck",
        "outputId": "b5153316-38fb-46f9-d2b3-f21bbaa1627f"
      },
      "source": [
        "#Evaluate KNN, version 1\n",
        "\n",
        "acc = accuracy_score(y_test, y_test_pred ) #subset accuracy, set of lables predicted for sample must match corresponding set of lables in y_true\n",
        "prec = precision_score(y_test, y_test_pred ) #ability not to label a positive sample that is negative \n",
        "rec = recall_score(y_test, y_test_pred ) #ability of the classifier to find all positive samples\n",
        "f1 = f1_score(y_test, y_test_pred ) #balanced F-Scroe -> weighted average of the precision and recall\n",
        "fbeta = fbeta_score(y_test, y_test_pred, beta=2.0) #weighted harmonic mean of precision and recall\n",
        "\n",
        "results = pd.DataFrame([['KNeighborsClassifier', \n",
        "acc, prec, rec, f1, fbeta]], columns = ['Model', \n",
        "'Accuracy', 'Precision', 'Recall', 'F1 Score', 'F2 Score'])\n",
        "results = results.sort_values([\"Precision\", \n",
        "\"Recall\", \"F2 Score\"], ascending = False)\n",
        "print (results)"
      ],
      "execution_count": null,
      "outputs": [
        {
          "output_type": "stream",
          "text": [
            "                  Model  Accuracy  Precision    Recall  F1 Score  F2 Score\n",
            "0  KNeighborsClassifier  0.777541   0.582043  0.513661  0.545718  0.526021\n"
          ],
          "name": "stdout"
        }
      ]
    },
    {
      "cell_type": "code",
      "metadata": {
        "colab": {
          "base_uri": "https://localhost:8080/"
        },
        "id": "rzq3tDPtC9rz",
        "outputId": "0056c569-377a-4a47-e96a-b2f585b33cce"
      },
      "source": [
        "#Evaluate KNN (same and better as before), version 2\n",
        "\n",
        "print('Performance on training set:')\n",
        "print(classification_report(y_train, y_train_pred))\n",
        "print('---')\n",
        "print('Performance on test set:')\n",
        "print(classification_report(y_test, y_test_pred))"
      ],
      "execution_count": null,
      "outputs": [
        {
          "output_type": "stream",
          "text": [
            "Performance on training set:\n",
            "              precision    recall  f1-score   support\n",
            "\n",
            "           0       0.85      0.89      0.87      4122\n",
            "           1       0.65      0.56      0.60      1503\n",
            "\n",
            "    accuracy                           0.80      5625\n",
            "   macro avg       0.75      0.72      0.73      5625\n",
            "weighted avg       0.79      0.80      0.80      5625\n",
            "\n",
            "---\n",
            "Performance on test set:\n",
            "              precision    recall  f1-score   support\n",
            "\n",
            "           0       0.84      0.87      0.85      1041\n",
            "           1       0.58      0.51      0.55       366\n",
            "\n",
            "    accuracy                           0.78      1407\n",
            "   macro avg       0.71      0.69      0.70      1407\n",
            "weighted avg       0.77      0.78      0.77      1407\n",
            "\n"
          ],
          "name": "stdout"
        }
      ]
    },
    {
      "cell_type": "code",
      "metadata": {
        "colab": {
          "base_uri": "https://localhost:8080/"
        },
        "id": "Y8IPt_z_DECv",
        "outputId": "bfeb88ae-8446-432c-8281-e3da8be7a940"
      },
      "source": [
        "#compute confusion matrix and print confusion matrix\n",
        "\n",
        "print('Performance on training set summarized as confusion matrix:')\n",
        "print(confusion_matrix(y_train, y_train_pred))\n",
        "print('---')\n",
        "print('Performance on test set summarized as confusion matrix:')\n",
        "print(confusion_matrix(y_test, y_test_pred))"
      ],
      "execution_count": null,
      "outputs": [
        {
          "output_type": "stream",
          "text": [
            "Performance on training set summarized as confusion matrix:\n",
            "[[3663  459]\n",
            " [ 662  841]]\n",
            "---\n",
            "Performance on test set summarized as confusion matrix:\n",
            "[[906 135]\n",
            " [178 188]]\n"
          ],
          "name": "stdout"
        }
      ]
    },
    {
      "cell_type": "code",
      "metadata": {
        "colab": {
          "base_uri": "https://localhost:8080/",
          "height": 310
        },
        "id": "94f_b7NODOTF",
        "outputId": "549b9d8e-4358-4743-fff3-e32878f4afee"
      },
      "source": [
        "#plot confusion matrix for test set \n",
        "\n",
        "ax= plt.subplot()\n",
        "cm = confusion_matrix(y_test, y_test_pred)\n",
        "\n",
        "sns.heatmap(cm, annot=True, ax = ax, fmt='g', cmap='Purples'); #annot=True to annotate cells\n",
        "ax.set_xlabel('Predicted labels')\n",
        "ax.set_ylabel('True labels')\n",
        "ax.set_title('Confusion Matrix KNN')"
      ],
      "execution_count": null,
      "outputs": [
        {
          "output_type": "execute_result",
          "data": {
            "text/plain": [
              "Text(0.5, 1.0, 'Confusion Matrix KNN')"
            ]
          },
          "metadata": {
            "tags": []
          },
          "execution_count": 1221
        },
        {
          "output_type": "display_data",
          "data": {
            "image/png": "[encoded data removed]",
            "text/plain": [
              "<Figure size 432x288 with 2 Axes>"
            ]
          },
          "metadata": {
            "tags": [],
            "needs_background": "light"
          }
        }
      ]
    },
    {
      "cell_type": "markdown",
      "metadata": {
        "id": "t7h-5bTQDVmC"
      },
      "source": [
        "## **MODEL 2: DECISION TREE CLASSIFIER**"
      ]
    },
    {
      "cell_type": "code",
      "metadata": {
        "colab": {
          "base_uri": "https://localhost:8080/"
        },
        "id": "kMlYYJZr1840",
        "outputId": "3dab0926-9a45-4165-c5a7-dcaebd98cea9"
      },
      "source": [
        "#define model\n",
        "\n",
        "classifier = DecisionTreeClassifier(criterion = 'entropy', random_state = 0)\n",
        "classifier"
      ],
      "execution_count": null,
      "outputs": [
        {
          "output_type": "execute_result",
          "data": {
            "text/plain": [
              "DecisionTreeClassifier(ccp_alpha=0.0, class_weight=None, criterion='entropy',\n",
              "                       max_depth=None, max_features=None, max_leaf_nodes=None,\n",
              "                       min_impurity_decrease=0.0, min_impurity_split=None,\n",
              "                       min_samples_leaf=1, min_samples_split=2,\n",
              "                       min_weight_fraction_leaf=0.0, presort='deprecated',\n",
              "                       random_state=0, splitter='best')"
            ]
          },
          "metadata": {
            "tags": []
          },
          "execution_count": 1222
        }
      ]
    },
    {
      "cell_type": "code",
      "metadata": {
        "colab": {
          "base_uri": "https://localhost:8080/"
        },
        "id": "HeFAR-AADn75",
        "outputId": "14740f0c-a251-4ddb-c763-1cdf5cb54786"
      },
      "source": [
        "#identify optimal parameters \n",
        "\n",
        "param_grid = {'max_depth': [10, 7, 5, 3, 2, 1], \n",
        "              'min_samples_split': [2, 5, 10, 15, 20]}\n",
        "grid_search_cv = GridSearchCV(DecisionTreeClassifier(), \n",
        "                              param_grid, \n",
        "                              cv=10, \n",
        "                              return_train_score=True, n_jobs=3)\n",
        "\n",
        "grid_search_cv.fit(x, y)"
      ],
      "execution_count": null,
      "outputs": [
        {
          "output_type": "execute_result",
          "data": {
            "text/plain": [
              "GridSearchCV(cv=10, error_score=nan,\n",
              "             estimator=DecisionTreeClassifier(ccp_alpha=0.0, class_weight=None,\n",
              "                                              criterion='gini', max_depth=None,\n",
              "                                              max_features=None,\n",
              "                                              max_leaf_nodes=None,\n",
              "                                              min_impurity_decrease=0.0,\n",
              "                                              min_impurity_split=None,\n",
              "                                              min_samples_leaf=1,\n",
              "                                              min_samples_split=2,\n",
              "                                              min_weight_fraction_leaf=0.0,\n",
              "                                              presort='deprecated',\n",
              "                                              random_state=None,\n",
              "                                              splitter='best'),\n",
              "             iid='deprecated', n_jobs=3,\n",
              "             param_grid={'max_depth': [10, 7, 5, 3, 2, 1],\n",
              "                         'min_samples_split': [2, 5, 10, 15, 20]},\n",
              "             pre_dispatch='2*n_jobs', refit=True, return_train_score=True,\n",
              "             scoring=None, verbose=0)"
            ]
          },
          "metadata": {
            "tags": []
          },
          "execution_count": 1223
        }
      ]
    },
    {
      "cell_type": "code",
      "metadata": {
        "colab": {
          "base_uri": "https://localhost:8080/"
        },
        "id": "sI7k9DxQDrBT",
        "outputId": "3d48a51d-a6ec-435d-a098-b4c9367df1f6"
      },
      "source": [
        "#print best parameter combination identified\n",
        "\n",
        "print('best_score', grid_search_cv.best_score_)\n",
        "print('best_params', grid_search_cv.best_params_)"
      ],
      "execution_count": null,
      "outputs": [
        {
          "output_type": "stream",
          "text": [
            "best_score 0.7928049835122204\n",
            "best_params {'max_depth': 7, 'min_samples_split': 10}\n"
          ],
          "name": "stdout"
        }
      ]
    },
    {
      "cell_type": "code",
      "metadata": {
        "colab": {
          "base_uri": "https://localhost:8080/"
        },
        "id": "2nGMIPnRDtZA",
        "outputId": "8a99f2ff-5745-4213-80b0-54a39f3328f0"
      },
      "source": [
        "#adapt model using best parameters and fit model\n",
        "\n",
        "model_according_to_cv_for_final_evaluation = grid_search_cv.best_estimator_\n",
        "model_according_to_cv_for_final_evaluation\n",
        "\n",
        "model_according_to_cv_for_final_evaluation.fit(x_train, y_train) #fit the model on train set and evaluate on test set "
      ],
      "execution_count": null,
      "outputs": [
        {
          "output_type": "execute_result",
          "data": {
            "text/plain": [
              "DecisionTreeClassifier(ccp_alpha=0.0, class_weight=None, criterion='gini',\n",
              "                       max_depth=7, max_features=None, max_leaf_nodes=None,\n",
              "                       min_impurity_decrease=0.0, min_impurity_split=None,\n",
              "                       min_samples_leaf=1, min_samples_split=10,\n",
              "                       min_weight_fraction_leaf=0.0, presort='deprecated',\n",
              "                       random_state=None, splitter='best')"
            ]
          },
          "metadata": {
            "tags": []
          },
          "execution_count": 1225
        }
      ]
    },
    {
      "cell_type": "code",
      "metadata": {
        "id": "u0xz6267Dv-3"
      },
      "source": [
        "#predictiosn for training and test set\n",
        "y_train_pred = model_according_to_cv_for_final_evaluation.predict(x_train)\n",
        "y_test_pred = model_according_to_cv_for_final_evaluation.predict(x_test)"
      ],
      "execution_count": null,
      "outputs": []
    },
    {
      "cell_type": "code",
      "metadata": {
        "colab": {
          "base_uri": "https://localhost:8080/"
        },
        "id": "dG5L2B2U9y8K",
        "outputId": "e9dc8dd0-f0af-4e7d-9364-0b9efdaecfc8"
      },
      "source": [
        "#Evaluate Decision Tree Classifier, version 1\n",
        "\n",
        "acc = accuracy_score(y_test, y_test_pred )\n",
        "prec = precision_score(y_test, y_test_pred )\n",
        "rec = recall_score(y_test, y_test_pred )\n",
        "f1 = f1_score(y_test, y_test_pred )\n",
        "fbeta = fbeta_score(y_test, y_test_pred, beta=2.0)\n",
        "\n",
        "results = pd.DataFrame([['DecisionTreeClassifier', \n",
        "acc, prec, rec, f1, fbeta]], columns = ['Model', \n",
        "'Accuracy', 'Precision', 'Recall', 'F1 Score', \n",
        "'F2 Score'])\n",
        "results = results.sort_values([\"Precision\", \n",
        "\"Recall\", \"F2 Score\"], ascending = False)\n",
        "print (results)"
      ],
      "execution_count": null,
      "outputs": [
        {
          "output_type": "stream",
          "text": [
            "                    Model  Accuracy  Precision    Recall  F1 Score  F2 Score\n",
            "0  DecisionTreeClassifier  0.790334   0.617162  0.510929  0.559043  0.529145\n"
          ],
          "name": "stdout"
        }
      ]
    },
    {
      "cell_type": "code",
      "metadata": {
        "colab": {
          "base_uri": "https://localhost:8080/"
        },
        "id": "goEgHFiTD85w",
        "outputId": "c30aa482-e4f4-4a90-de7b-bb13ae03c4bd"
      },
      "source": [
        "#evaluate decision tree classifier, version 2\n",
        "\n",
        "print('Performance on training set:')\n",
        "print(classification_report(y_train, y_train_pred))\n",
        "print('---')\n",
        "print('Performance on test set:')\n",
        "print(classification_report(y_test, y_test_pred))"
      ],
      "execution_count": null,
      "outputs": [
        {
          "output_type": "stream",
          "text": [
            "Performance on training set:\n",
            "              precision    recall  f1-score   support\n",
            "\n",
            "           0       0.85      0.91      0.88      4122\n",
            "           1       0.70      0.56      0.62      1503\n",
            "\n",
            "    accuracy                           0.82      5625\n",
            "   macro avg       0.77      0.74      0.75      5625\n",
            "weighted avg       0.81      0.82      0.81      5625\n",
            "\n",
            "---\n",
            "Performance on test set:\n",
            "              precision    recall  f1-score   support\n",
            "\n",
            "           0       0.84      0.89      0.86      1041\n",
            "           1       0.62      0.51      0.56       366\n",
            "\n",
            "    accuracy                           0.79      1407\n",
            "   macro avg       0.73      0.70      0.71      1407\n",
            "weighted avg       0.78      0.79      0.78      1407\n",
            "\n"
          ],
          "name": "stdout"
        }
      ]
    },
    {
      "cell_type": "code",
      "metadata": {
        "colab": {
          "base_uri": "https://localhost:8080/"
        },
        "id": "0_bRXB7sKPOM",
        "outputId": "5f53e196-7025-402b-90f4-c75edae353f1"
      },
      "source": [
        "#compute confusion matrix and print confusion matrix\n",
        "\n",
        "print('Performance on training set summarized as confusion matrix:')\n",
        "print(confusion_matrix(y_train, y_train_pred))\n",
        "print('---')\n",
        "print('Performance on test set summarized as confusion matrix:')\n",
        "print(confusion_matrix(y_test, y_test_pred))"
      ],
      "execution_count": null,
      "outputs": [
        {
          "output_type": "stream",
          "text": [
            "Performance on training set summarized as confusion matrix:\n",
            "[[3752  370]\n",
            " [ 654  849]]\n",
            "---\n",
            "Performance on test set summarized as confusion matrix:\n",
            "[[925 116]\n",
            " [179 187]]\n"
          ],
          "name": "stdout"
        }
      ]
    },
    {
      "cell_type": "code",
      "metadata": {
        "colab": {
          "base_uri": "https://localhost:8080/",
          "height": 310
        },
        "id": "iEUWzcJbiaFC",
        "outputId": "e8a63f63-fbb2-4f94-bf89-5522e644c833"
      },
      "source": [
        "#plot confusion matrix for test set\n",
        "\n",
        "ax= plt.subplot()\n",
        "cm = confusion_matrix(y_test, y_test_pred)\n",
        "\n",
        "sns.heatmap(cm, annot=True, ax = ax, fmt='g', cmap='Purples'); #annot=True to annotate cells\n",
        "ax.set_xlabel('Predicted labels')\n",
        "ax.set_ylabel('True labels')\n",
        "ax.set_title('Confusion Matrix Decision Tree')"
      ],
      "execution_count": null,
      "outputs": [
        {
          "output_type": "execute_result",
          "data": {
            "text/plain": [
              "Text(0.5, 1.0, 'Confusion Matrix Decision Tree')"
            ]
          },
          "metadata": {
            "tags": []
          },
          "execution_count": 1230
        },
        {
          "output_type": "display_data",
          "data": {
            "image/png": "[encoded data removed]",
            "text/plain": [
              "<Figure size 432x288 with 2 Axes>"
            ]
          },
          "metadata": {
            "tags": [],
            "needs_background": "light"
          }
        }
      ]
    },
    {
      "cell_type": "markdown",
      "metadata": {
        "id": "3bG7CpEiEJWt"
      },
      "source": [
        "### **MODEL 3: RANDOM FOREST CLASSIFIER**"
      ]
    },
    {
      "cell_type": "code",
      "metadata": {
        "colab": {
          "base_uri": "https://localhost:8080/"
        },
        "id": "p11JrK0v2AxC",
        "outputId": "42adc8d9-e653-4b77-8bb2-1d485cee4bc0"
      },
      "source": [
        "#define model\n",
        "\n",
        "classifier = RandomForestClassifier(n_estimators=100, max_depth=10)\n",
        "classifier"
      ],
      "execution_count": null,
      "outputs": [
        {
          "output_type": "execute_result",
          "data": {
            "text/plain": [
              "RandomForestClassifier(bootstrap=True, ccp_alpha=0.0, class_weight=None,\n",
              "                       criterion='gini', max_depth=10, max_features='auto',\n",
              "                       max_leaf_nodes=None, max_samples=None,\n",
              "                       min_impurity_decrease=0.0, min_impurity_split=None,\n",
              "                       min_samples_leaf=1, min_samples_split=2,\n",
              "                       min_weight_fraction_leaf=0.0, n_estimators=100,\n",
              "                       n_jobs=None, oob_score=False, random_state=None,\n",
              "                       verbose=0, warm_start=False)"
            ]
          },
          "metadata": {
            "tags": []
          },
          "execution_count": 1231
        }
      ]
    },
    {
      "cell_type": "markdown",
      "metadata": {
        "id": "qN3Rx1yhUAmk"
      },
      "source": [
        "Note: Fix below (min_samples_split)"
      ]
    },
    {
      "cell_type": "code",
      "metadata": {
        "colab": {
          "base_uri": "https://localhost:8080/"
        },
        "id": "0L1Q-rJWESWr",
        "outputId": "5b1586a0-f016-40fe-b585-f2bb539147be"
      },
      "source": [
        "#identify optimal parameters \n",
        "\n",
        "param_grid = {'max_depth': [20, 10, 7, 5, 3, 2, 1], 'min_samples_leaf': [2, 5, 10, 15, 20]}\n",
        "grid_search_cv = GridSearchCV(RandomForestClassifier(), \n",
        "                              param_grid, \n",
        "                              cv=10, \n",
        "                              return_train_score=True, n_jobs=3)\n",
        "\n",
        "grid_search_cv.fit(x, y)"
      ],
      "execution_count": null,
      "outputs": [
        {
          "output_type": "execute_result",
          "data": {
            "text/plain": [
              "GridSearchCV(cv=10, error_score=nan,\n",
              "             estimator=RandomForestClassifier(bootstrap=True, ccp_alpha=0.0,\n",
              "                                              class_weight=None,\n",
              "                                              criterion='gini', max_depth=None,\n",
              "                                              max_features='auto',\n",
              "                                              max_leaf_nodes=None,\n",
              "                                              max_samples=None,\n",
              "                                              min_impurity_decrease=0.0,\n",
              "                                              min_impurity_split=None,\n",
              "                                              min_samples_leaf=1,\n",
              "                                              min_samples_split=2,\n",
              "                                              min_weight_fraction_leaf=0.0,\n",
              "                                              n_estimators=100, n_jobs=None,\n",
              "                                              oob_score=False,\n",
              "                                              random_state=None, verbose=0,\n",
              "                                              warm_start=False),\n",
              "             iid='deprecated', n_jobs=3,\n",
              "             param_grid={'max_depth': [20, 10, 7, 5, 3, 2, 1],\n",
              "                         'min_samples_leaf': [2, 5, 10, 15, 20]},\n",
              "             pre_dispatch='2*n_jobs', refit=True, return_train_score=True,\n",
              "             scoring=None, verbose=0)"
            ]
          },
          "metadata": {
            "tags": []
          },
          "execution_count": 1107
        }
      ]
    },
    {
      "cell_type": "code",
      "metadata": {
        "colab": {
          "base_uri": "https://localhost:8080/"
        },
        "id": "q2uzBGIREZfj",
        "outputId": "7213b99d-5a4c-40db-fa08-c1e42824582d"
      },
      "source": [
        "#print best parameter combination identified\n",
        "\n",
        "print('best_score', grid_search_cv.best_score_)\n",
        "print('best_params', grid_search_cv.best_params_)"
      ],
      "execution_count": null,
      "outputs": [
        {
          "output_type": "stream",
          "text": [
            "best_score 0.8044630156472262\n",
            "best_params {'max_depth': 10, 'min_samples_leaf': 5}\n"
          ],
          "name": "stdout"
        }
      ]
    },
    {
      "cell_type": "code",
      "metadata": {
        "colab": {
          "base_uri": "https://localhost:8080/"
        },
        "id": "Ve-knkJMEblw",
        "outputId": "c26d738c-69ce-4b64-d4e3-08aa75b94594"
      },
      "source": [
        "#adapt model using best parameters and fit model\n",
        "\n",
        "model_according_to_cv_for_final_evaluation = grid_search_cv.best_estimator_\n",
        "model_according_to_cv_for_final_evaluation\n",
        "\n",
        "model_according_to_cv_for_final_evaluation.fit(x_train, y_train)"
      ],
      "execution_count": null,
      "outputs": [
        {
          "output_type": "execute_result",
          "data": {
            "text/plain": [
              "RandomForestClassifier(bootstrap=True, ccp_alpha=0.0, class_weight=None,\n",
              "                       criterion='gini', max_depth=10, max_features='auto',\n",
              "                       max_leaf_nodes=None, max_samples=None,\n",
              "                       min_impurity_decrease=0.0, min_impurity_split=None,\n",
              "                       min_samples_leaf=5, min_samples_split=2,\n",
              "                       min_weight_fraction_leaf=0.0, n_estimators=100,\n",
              "                       n_jobs=None, oob_score=False, random_state=None,\n",
              "                       verbose=0, warm_start=False)"
            ]
          },
          "metadata": {
            "tags": []
          },
          "execution_count": 1109
        }
      ]
    },
    {
      "cell_type": "code",
      "metadata": {
        "colab": {
          "base_uri": "https://localhost:8080/"
        },
        "id": "BVsQBTbGEdrT",
        "outputId": "59481573-70d9-43b1-96ed-e7281ec8c05e"
      },
      "source": [
        "#identify feature importance, trial 1\n",
        "importance = model_according_to_cv_for_final_evaluation.feature_importances_\n",
        "print(importance)"
      ],
      "execution_count": null,
      "outputs": [
        {
          "output_type": "stream",
          "text": [
            "[0.01239576 0.0119884  0.01135511 0.00932784 0.1791241  0.00722052\n",
            " 0.0131646  0.01924446 0.01117533 0.00798962 0.02036241 0.0136963\n",
            " 0.01349483 0.02571171 0.11160411 0.14924792 0.02964143 0.01745206\n",
            " 0.08486108 0.1227642  0.01680397 0.0445631  0.00706269 0.00616906\n",
            " 0.0450901  0.00848929]\n"
          ],
          "name": "stdout"
        }
      ]
    },
    {
      "cell_type": "code",
      "metadata": {
        "colab": {
          "base_uri": "https://localhost:8080/",
          "height": 484
        },
        "id": "nahXxl8vEfgQ",
        "outputId": "ead12d97-4eb4-442b-efd7-a0c425138133"
      },
      "source": [
        "#identify feature importance, trial 2\n",
        "import pandas as pd\n",
        "%matplotlib inline\n",
        "\n",
        "feats = {}\n",
        "for feature, importance in zip(data.columns, model_according_to_cv_for_final_evaluation.feature_importances_):\n",
        "    feats[feature] = importance\n",
        "\n",
        "importances = pd.DataFrame.from_dict(feats, orient='index').rename(columns={0: 'Gini-importance'})\n",
        "importances.sort_values(by='Gini-importance').plot(kind='bar', rot=45, figsize=(23, 5), sharey=True)\n"
      ],
      "execution_count": null,
      "outputs": [
        {
          "output_type": "execute_result",
          "data": {
            "text/plain": [
              "<matplotlib.axes._subplots.AxesSubplot at 0x7fb4732acb00>"
            ]
          },
          "metadata": {
            "tags": []
          },
          "execution_count": 1111
        },
        {
          "output_type": "display_data",
          "data": {
            "image/png": "[encoded data removed]",
            "text/plain": [
              "<Figure size 1656x360 with 1 Axes>"
            ]
          },
          "metadata": {
            "tags": [],
            "needs_background": "light"
          }
        }
      ]
    },
    {
      "cell_type": "markdown",
      "metadata": {
        "id": "SMObXg1AVnhU"
      },
      "source": [
        "Fix Axis!"
      ]
    },
    {
      "cell_type": "code",
      "metadata": {
        "colab": {
          "base_uri": "https://localhost:8080/",
          "height": 708
        },
        "id": "HnSKk2XXEhhn",
        "outputId": "6cea5a1a-ffef-4197-e29a-104e655665b5"
      },
      "source": [
        "#feature importance trial 3\n",
        "importance = model_according_to_cv_for_final_evaluation.feature_importances_\n",
        "#summarize feature importance\n",
        "for i,v in enumerate(importance): print('Feature: %0d, Score %.5f' % (i,v))\n",
        "# plot feature importance\n",
        "pyplot.bar([x for x in range(len(importance))], importance)\n",
        "pyplot.show\n",
        "\n",
        "\n"
      ],
      "execution_count": null,
      "outputs": [
        {
          "output_type": "stream",
          "text": [
            "Feature: 0, Score 0.01240\n",
            "Feature: 1, Score 0.01199\n",
            "Feature: 2, Score 0.01136\n",
            "Feature: 3, Score 0.00933\n",
            "Feature: 4, Score 0.17912\n",
            "Feature: 5, Score 0.00722\n",
            "Feature: 6, Score 0.01316\n",
            "Feature: 7, Score 0.01924\n",
            "Feature: 8, Score 0.01118\n",
            "Feature: 9, Score 0.00799\n",
            "Feature: 10, Score 0.02036\n",
            "Feature: 11, Score 0.01370\n",
            "Feature: 12, Score 0.01349\n",
            "Feature: 13, Score 0.02571\n",
            "Feature: 14, Score 0.11160\n",
            "Feature: 15, Score 0.14925\n",
            "Feature: 16, Score 0.02964\n",
            "Feature: 17, Score 0.01745\n",
            "Feature: 18, Score 0.08486\n",
            "Feature: 19, Score 0.12276\n",
            "Feature: 20, Score 0.01680\n",
            "Feature: 21, Score 0.04456\n",
            "Feature: 22, Score 0.00706\n",
            "Feature: 23, Score 0.00617\n",
            "Feature: 24, Score 0.04509\n",
            "Feature: 25, Score 0.00849\n"
          ],
          "name": "stdout"
        },
        {
          "output_type": "execute_result",
          "data": {
            "text/plain": [
              "<function matplotlib.pyplot.show>"
            ]
          },
          "metadata": {
            "tags": []
          },
          "execution_count": 1112
        },
        {
          "output_type": "display_data",
          "data": {
            "image/png": "[encoded data removed]",
            "text/plain": [
              "<Figure size 432x288 with 1 Axes>"
            ]
          },
          "metadata": {
            "tags": [],
            "needs_background": "light"
          }
        }
      ]
    },
    {
      "cell_type": "markdown",
      "metadata": {
        "id": "bvjzjjzaVhek"
      },
      "source": [
        "Features reihen? "
      ]
    },
    {
      "cell_type": "code",
      "metadata": {
        "id": "801l4a3fEkax"
      },
      "source": [
        "#predictions for training and test set\n",
        "y_train_pred = model_according_to_cv_for_final_evaluation.predict(x_train)\n",
        "y_test_pred = model_according_to_cv_for_final_evaluation.predict(x_test)"
      ],
      "execution_count": null,
      "outputs": []
    },
    {
      "cell_type": "code",
      "metadata": {
        "colab": {
          "base_uri": "https://localhost:8080/"
        },
        "id": "bqafBzg2_COc",
        "outputId": "b0d1f598-466e-4f59-af68-4cd446c7d7bc"
      },
      "source": [
        "#Evaluate Random Forest, version 1\n",
        "\n",
        "accuracy = accuracy_score(y_test, y_test_pred )  \n",
        "#set of labels predicted for sample must match corresponding set of labels in y_true\n",
        "precision = precision_score(y_test, y_test_pred )  \n",
        "#ability not to label a positive sample that is negative \n",
        "recall = recall_score(y_test, y_test_pred ) \n",
        "#ability of the classifier to find all positive samples\n",
        "f1 = f1_score(y_test, y_test_pred )\n",
        "fbeta = fbeta_score(y_test, y_test_pred, beta=2.0)\n",
        "\n",
        "\n",
        "results = pd.DataFrame([['DecisionTreeClassifier', \n",
        "acc, prec, rec, f1, fbeta]], columns = ['Model', \n",
        "'Accuracy', 'Precision', 'Recall', 'F1 Score', \n",
        "'F2 Score'])\n",
        "results = results.sort_values([\"Accuracy\", \"Precision\", \n",
        "\"Recall\"], ascending = False)\n",
        "print (results)"
      ],
      "execution_count": null,
      "outputs": [
        {
          "output_type": "stream",
          "text": [
            "                    Model  Accuracy  Precision    Recall  F1 Score  F2 Score\n",
            "0  DecisionTreeClassifier  0.790334   0.617162  0.510929  0.561728  0.521191\n"
          ],
          "name": "stdout"
        }
      ]
    },
    {
      "cell_type": "code",
      "metadata": {
        "colab": {
          "base_uri": "https://localhost:8080/"
        },
        "id": "uSgwOtR8Eovl",
        "outputId": "5a48c412-4d37-4001-ff5f-946645f97e07"
      },
      "source": [
        "#evaluate random forest, version 2\n",
        "print('Performance on training set:')\n",
        "print(classification_report(y_train, y_train_pred))\n",
        "print('---')\n",
        "print('Performance on test set:')\n",
        "print(classification_report(y_test, y_test_pred))"
      ],
      "execution_count": null,
      "outputs": [
        {
          "output_type": "stream",
          "text": [
            "Performance on training set:\n",
            "              precision    recall  f1-score   support\n",
            "\n",
            "           0       0.86      0.94      0.90      4122\n",
            "           1       0.77      0.60      0.67      1503\n",
            "\n",
            "    accuracy                           0.84      5625\n",
            "   macro avg       0.82      0.77      0.79      5625\n",
            "weighted avg       0.84      0.84      0.84      5625\n",
            "\n",
            "---\n",
            "Performance on test set:\n",
            "              precision    recall  f1-score   support\n",
            "\n",
            "           0       0.84      0.90      0.87      1041\n",
            "           1       0.65      0.50      0.56       366\n",
            "\n",
            "    accuracy                           0.80      1407\n",
            "   macro avg       0.74      0.70      0.72      1407\n",
            "weighted avg       0.79      0.80      0.79      1407\n",
            "\n"
          ],
          "name": "stdout"
        }
      ]
    },
    {
      "cell_type": "code",
      "metadata": {
        "colab": {
          "base_uri": "https://localhost:8080/"
        },
        "id": "kHBKzDnCErgq",
        "outputId": "5de69e49-9e7e-44e8-a9ff-da0413ccdf54"
      },
      "source": [
        "#compute and show confusion matrix of training and test set\n",
        "print('Performance on training set summarized as confusion matrix:')\n",
        "print(confusion_matrix(y_train, y_train_pred))\n",
        "print('---')\n",
        "print('Performance on test set summarized as confusion matrix:')\n",
        "print(confusion_matrix(y_test, y_test_pred))"
      ],
      "execution_count": null,
      "outputs": [
        {
          "output_type": "stream",
          "text": [
            "Performance on training set summarized as confusion matrix:\n",
            "[[3856  266]\n",
            " [ 607  896]]\n",
            "---\n",
            "Performance on test set summarized as confusion matrix:\n",
            "[[941 100]\n",
            " [184 182]]\n"
          ],
          "name": "stdout"
        }
      ]
    },
    {
      "cell_type": "code",
      "metadata": {
        "colab": {
          "base_uri": "https://localhost:8080/",
          "height": 310
        },
        "id": "jI7a3buyiogB",
        "outputId": "ba5f670d-53e0-41db-f832-81a3a2ac5a6c"
      },
      "source": [
        "#plot confusion matrix for test set\n",
        "\n",
        "ax= plt.subplot()\n",
        "cm = confusion_matrix(y_test, y_test_pred)\n",
        "\n",
        "sns.heatmap(cm, annot=True, ax = ax, fmt='g', cmap='Purples'); #annot=True to annotate cells\n",
        "ax.set_xlabel('Predicted labels')\n",
        "ax.set_ylabel('True labels')\n",
        "ax.set_title('Confusion Matrix Random Forest')"
      ],
      "execution_count": null,
      "outputs": [
        {
          "output_type": "execute_result",
          "data": {
            "text/plain": [
              "Text(0.5, 1.0, 'Confusion Matrix Random Forest')"
            ]
          },
          "metadata": {
            "tags": []
          },
          "execution_count": 1117
        },
        {
          "output_type": "display_data",
          "data": {
            "image/png": "[encoded data removed]",
            "text/plain": [
              "<Figure size 432x288 with 2 Axes>"
            ]
          },
          "metadata": {
            "tags": [],
            "needs_background": "light"
          }
        }
      ]
    },
    {
      "cell_type": "markdown",
      "metadata": {
        "id": "yV3vgsODE9LG"
      },
      "source": [
        "### **MODEL 4: LOGISTIC REGRESSION**"
      ]
    },
    {
      "cell_type": "code",
      "metadata": {
        "colab": {
          "base_uri": "https://localhost:8080/"
        },
        "id": "olUvGY6iFJBS",
        "outputId": "9f943686-4b9a-4410-914b-9b11e0c93149"
      },
      "source": [
        "#define model with identified optimal parameters\n",
        "\n",
        "classifier = LogisticRegression()\n",
        "classifier"
      ],
      "execution_count": null,
      "outputs": [
        {
          "output_type": "execute_result",
          "data": {
            "text/plain": [
              "LogisticRegression(C=1.0, class_weight=None, dual=False, fit_intercept=True,\n",
              "                   intercept_scaling=1, l1_ratio=None, max_iter=100,\n",
              "                   multi_class='auto', n_jobs=None, penalty='l2',\n",
              "                   random_state=None, solver='lbfgs', tol=0.0001, verbose=0,\n",
              "                   warm_start=False)"
            ]
          },
          "metadata": {
            "tags": []
          },
          "execution_count": 1118
        }
      ]
    },
    {
      "cell_type": "code",
      "metadata": {
        "id": "x6Zom6XW2DJU"
      },
      "source": [
        "#fit and predict model\n",
        "\n",
        "classifier.fit(x_train, y_train)\n",
        "y_train_pred = classifier.predict(x_train)\n",
        "y_test_pred = classifier.predict(x_test)"
      ],
      "execution_count": null,
      "outputs": []
    },
    {
      "cell_type": "code",
      "metadata": {
        "colab": {
          "base_uri": "https://localhost:8080/"
        },
        "id": "L_DTRf7sFMbW",
        "outputId": "03a52b20-d507-4ef9-ae5e-48f6a5756ad0"
      },
      "source": [
        "#Evaluate Logistic Regression, version 1\n",
        "\n",
        "acc = accuracy_score(y_test, y_test_pred )\n",
        "prec = precision_score(y_test, y_test_pred )\n",
        "rec = recall_score(y_test, y_test_pred )\n",
        "f1 = f1_score(y_test, y_test_pred )\n",
        "fbeta = fbeta_score(y_test, y_test_pred, beta=2.0)\n",
        "\n",
        "results = pd.DataFrame([['LogisticRegression', \n",
        "acc, prec, rec, f1, fbeta]], columns = ['Model', \n",
        "'Accuracy', 'Precision', 'Recall', 'F1 Score', \n",
        "'F2 Score'])\n",
        "results = results.sort_values([\"Precision\", \n",
        "\"Recall\", \"F2 Score\"], ascending = False)\n",
        "print (results)"
      ],
      "execution_count": null,
      "outputs": [
        {
          "output_type": "stream",
          "text": [
            "                Model  Accuracy  Precision    Recall  F1 Score  F2 Score\n",
            "0  LogisticRegression  0.798152   0.632258  0.535519  0.579882  0.552424\n"
          ],
          "name": "stdout"
        }
      ]
    },
    {
      "cell_type": "markdown",
      "metadata": {
        "id": "6SgqAQjM2cVC"
      },
      "source": [
        ""
      ]
    },
    {
      "cell_type": "code",
      "metadata": {
        "colab": {
          "base_uri": "https://localhost:8080/"
        },
        "id": "aRNLBrJC_PHz",
        "outputId": "0c81807e-5b75-4c14-d20e-09c42d4aafd3"
      },
      "source": [
        "#evaluate logistic regression, version 2\n",
        "\n",
        "print('Performance on training set:')\n",
        "print(classification_report(y_train, y_train_pred))\n",
        "print('---')\n",
        "print('Performance on test set:')\n",
        "print(classification_report(y_test, y_test_pred))"
      ],
      "execution_count": null,
      "outputs": [
        {
          "output_type": "stream",
          "text": [
            "Performance on training set:\n",
            "              precision    recall  f1-score   support\n",
            "\n",
            "           0       0.85      0.90      0.87      4122\n",
            "           1       0.66      0.56      0.61      1503\n",
            "\n",
            "    accuracy                           0.81      5625\n",
            "   macro avg       0.76      0.73      0.74      5625\n",
            "weighted avg       0.80      0.81      0.80      5625\n",
            "\n",
            "---\n",
            "Performance on test set:\n",
            "              precision    recall  f1-score   support\n",
            "\n",
            "           0       0.85      0.89      0.87      1041\n",
            "           1       0.63      0.54      0.58       366\n",
            "\n",
            "    accuracy                           0.80      1407\n",
            "   macro avg       0.74      0.71      0.72      1407\n",
            "weighted avg       0.79      0.80      0.79      1407\n",
            "\n"
          ],
          "name": "stdout"
        }
      ]
    },
    {
      "cell_type": "code",
      "metadata": {
        "colab": {
          "base_uri": "https://localhost:8080/"
        },
        "id": "29XlL9MYiuds",
        "outputId": "e241b22c-0e84-45a6-d053-c96393929690"
      },
      "source": [
        "print('Performance on training set summarized as confusion matrix:')\n",
        "print(confusion_matrix(y_train, y_train_pred))\n",
        "print('---')\n",
        "print('Performance on test set summarized as confusion matrix:')\n",
        "print(confusion_matrix(y_test, y_test_pred))"
      ],
      "execution_count": null,
      "outputs": [
        {
          "output_type": "stream",
          "text": [
            "Performance on training set summarized as confusion matrix:\n",
            "[[3696  426]\n",
            " [ 664  839]]\n",
            "---\n",
            "Performance on test set summarized as confusion matrix:\n",
            "[[927 114]\n",
            " [170 196]]\n"
          ],
          "name": "stdout"
        }
      ]
    },
    {
      "cell_type": "code",
      "metadata": {
        "colab": {
          "base_uri": "https://localhost:8080/",
          "height": 310
        },
        "id": "rCJz3uo9FU_Z",
        "outputId": "755ff55c-6a8c-4a57-ffca-f987f43c3041"
      },
      "source": [
        "#Confusion Matrix Logistic Regression\n",
        "\n",
        "ax= plt.subplot()\n",
        "cm = confusion_matrix(y_test, y_test_pred)\n",
        "\n",
        "sns.heatmap(cm, annot=True, ax = ax, fmt='g', cmap='Purples'); #annot=True to annotate cells\n",
        "ax.set_xlabel('Predicted labels')\n",
        "ax.set_ylabel('True labels')\n",
        "ax.set_title('Confusion Matrix Logistic Regression')"
      ],
      "execution_count": null,
      "outputs": [
        {
          "output_type": "execute_result",
          "data": {
            "text/plain": [
              "Text(0.5, 1.0, 'Confusion Matrix Logistic Regression')"
            ]
          },
          "metadata": {
            "tags": []
          },
          "execution_count": 1123
        },
        {
          "output_type": "display_data",
          "data": {
            "image/png": "[encoded data removed]",
            "text/plain": [
              "<Figure size 432x288 with 2 Axes>"
            ]
          },
          "metadata": {
            "tags": [],
            "needs_background": "light"
          }
        }
      ]
    },
    {
      "cell_type": "code",
      "metadata": {
        "colab": {
          "base_uri": "https://localhost:8080/",
          "height": 840
        },
        "id": "N3MjaCtaEJnM",
        "outputId": "17f855b4-3ab0-4634-b53b-fd5dc5cc5a82"
      },
      "source": [
        "# Analyzing Coefficients of logit\n",
        "\n",
        "feature_importances = pd.concat([\n",
        "pd.DataFrame(data.\n",
        "columns, columns = [\"features\"]),\n",
        "pd.DataFrame(np.transpose(classifier.coef_), \n",
        "columns = [\"coef\"])],axis = 1)\n",
        "\n",
        "feature_importances = feature_importances.dropna() #dropping NaN variables\n",
        "\n",
        "\n",
        "\n",
        "feature_importances.sort_values(\"coef\", ascending = False)"
      ],
      "execution_count": null,
      "outputs": [
        {
          "output_type": "execute_result",
          "data": {
            "text/html": [
              "<div>\n",
              "<style scoped>\n",
              "    .dataframe tbody tr th:only-of-type {\n",
              "        vertical-align: middle;\n",
              "    }\n",
              "\n",
              "    .dataframe tbody tr th {\n",
              "        vertical-align: top;\n",
              "    }\n",
              "\n",
              "    .dataframe thead th {\n",
              "        text-align: right;\n",
              "    }\n",
              "</style>\n",
              "<table border=\"1\" class=\"dataframe\">\n",
              "  <thead>\n",
              "    <tr style=\"text-align: right;\">\n",
              "      <th></th>\n",
              "      <th>features</th>\n",
              "      <th>coef</th>\n",
              "    </tr>\n",
              "  </thead>\n",
              "  <tbody>\n",
              "    <tr>\n",
              "      <th>15</th>\n",
              "      <td>TotalCharges</td>\n",
              "      <td>1.187049</td>\n",
              "    </tr>\n",
              "    <tr>\n",
              "      <th>18</th>\n",
              "      <td>InternetService_Fiber optic</td>\n",
              "      <td>0.814299</td>\n",
              "    </tr>\n",
              "    <tr>\n",
              "      <th>19</th>\n",
              "      <td>Contract_Month-to-month</td>\n",
              "      <td>0.699723</td>\n",
              "    </tr>\n",
              "    <tr>\n",
              "      <th>12</th>\n",
              "      <td>StreamingMovies</td>\n",
              "      <td>0.309784</td>\n",
              "    </tr>\n",
              "    <tr>\n",
              "      <th>13</th>\n",
              "      <td>PaperlessBilling</td>\n",
              "      <td>0.302467</td>\n",
              "    </tr>\n",
              "    <tr>\n",
              "      <th>11</th>\n",
              "      <td>StreamingTV</td>\n",
              "      <td>0.273165</td>\n",
              "    </tr>\n",
              "    <tr>\n",
              "      <th>6</th>\n",
              "      <td>MultipleLines</td>\n",
              "      <td>0.272147</td>\n",
              "    </tr>\n",
              "    <tr>\n",
              "      <th>24</th>\n",
              "      <td>PaymentMethod_Electronic check</td>\n",
              "      <td>0.264097</td>\n",
              "    </tr>\n",
              "    <tr>\n",
              "      <th>1</th>\n",
              "      <td>SeniorCitizen</td>\n",
              "      <td>0.231284</td>\n",
              "    </tr>\n",
              "    <tr>\n",
              "      <th>20</th>\n",
              "      <td>Contract_One year</td>\n",
              "      <td>0.031530</td>\n",
              "    </tr>\n",
              "    <tr>\n",
              "      <th>0</th>\n",
              "      <td>gender</td>\n",
              "      <td>0.019594</td>\n",
              "    </tr>\n",
              "    <tr>\n",
              "      <th>9</th>\n",
              "      <td>DeviceProtection</td>\n",
              "      <td>-0.017214</td>\n",
              "    </tr>\n",
              "    <tr>\n",
              "      <th>17</th>\n",
              "      <td>InternetService_DSL</td>\n",
              "      <td>-0.027010</td>\n",
              "    </tr>\n",
              "    <tr>\n",
              "      <th>2</th>\n",
              "      <td>Partner</td>\n",
              "      <td>-0.031785</td>\n",
              "    </tr>\n",
              "    <tr>\n",
              "      <th>23</th>\n",
              "      <td>PaymentMethod_Credit card (automatic)</td>\n",
              "      <td>-0.032633</td>\n",
              "    </tr>\n",
              "    <tr>\n",
              "      <th>14</th>\n",
              "      <td>MonthlyCharges</td>\n",
              "      <td>-0.044310</td>\n",
              "    </tr>\n",
              "    <tr>\n",
              "      <th>22</th>\n",
              "      <td>PaymentMethod_Bank transfer (automatic)</td>\n",
              "      <td>-0.096279</td>\n",
              "    </tr>\n",
              "    <tr>\n",
              "      <th>3</th>\n",
              "      <td>Dependents</td>\n",
              "      <td>-0.115618</td>\n",
              "    </tr>\n",
              "    <tr>\n",
              "      <th>8</th>\n",
              "      <td>OnlineBackup</td>\n",
              "      <td>-0.123668</td>\n",
              "    </tr>\n",
              "    <tr>\n",
              "      <th>25</th>\n",
              "      <td>PaymentMethod_Mailed check</td>\n",
              "      <td>-0.132371</td>\n",
              "    </tr>\n",
              "    <tr>\n",
              "      <th>10</th>\n",
              "      <td>TechSupport</td>\n",
              "      <td>-0.306265</td>\n",
              "    </tr>\n",
              "    <tr>\n",
              "      <th>7</th>\n",
              "      <td>OnlineSecurity</td>\n",
              "      <td>-0.310845</td>\n",
              "    </tr>\n",
              "    <tr>\n",
              "      <th>5</th>\n",
              "      <td>PhoneService</td>\n",
              "      <td>-0.554354</td>\n",
              "    </tr>\n",
              "    <tr>\n",
              "      <th>21</th>\n",
              "      <td>Contract_Two year</td>\n",
              "      <td>-0.728439</td>\n",
              "    </tr>\n",
              "    <tr>\n",
              "      <th>16</th>\n",
              "      <td>InternetService_0</td>\n",
              "      <td>-0.784474</td>\n",
              "    </tr>\n",
              "    <tr>\n",
              "      <th>4</th>\n",
              "      <td>tenure</td>\n",
              "      <td>-3.190540</td>\n",
              "    </tr>\n",
              "  </tbody>\n",
              "</table>\n",
              "</div>"
            ],
            "text/plain": [
              "                                   features      coef\n",
              "15                             TotalCharges  1.187049\n",
              "18              InternetService_Fiber optic  0.814299\n",
              "19                  Contract_Month-to-month  0.699723\n",
              "12                          StreamingMovies  0.309784\n",
              "13                         PaperlessBilling  0.302467\n",
              "11                              StreamingTV  0.273165\n",
              "6                             MultipleLines  0.272147\n",
              "24           PaymentMethod_Electronic check  0.264097\n",
              "1                             SeniorCitizen  0.231284\n",
              "20                        Contract_One year  0.031530\n",
              "0                                    gender  0.019594\n",
              "9                          DeviceProtection -0.017214\n",
              "17                      InternetService_DSL -0.027010\n",
              "2                                   Partner -0.031785\n",
              "23    PaymentMethod_Credit card (automatic) -0.032633\n",
              "14                           MonthlyCharges -0.044310\n",
              "22  PaymentMethod_Bank transfer (automatic) -0.096279\n",
              "3                                Dependents -0.115618\n",
              "8                              OnlineBackup -0.123668\n",
              "25               PaymentMethod_Mailed check -0.132371\n",
              "10                              TechSupport -0.306265\n",
              "7                            OnlineSecurity -0.310845\n",
              "5                              PhoneService -0.554354\n",
              "21                        Contract_Two year -0.728439\n",
              "16                        InternetService_0 -0.784474\n",
              "4                                    tenure -3.190540"
            ]
          },
          "metadata": {
            "tags": []
          },
          "execution_count": 1124
        }
      ]
    },
    {
      "cell_type": "markdown",
      "metadata": {
        "id": "1ukAUDA9Zow-"
      },
      "source": [
        "--> Probability that a customer churns? Per observation!"
      ]
    },
    {
      "cell_type": "markdown",
      "metadata": {
        "id": "8ajZEmFyDxLq"
      },
      "source": [
        "# ***Add-on: Upsampling**\n",
        "Since we are handling an imbalanced dataset, it would be of interest to see if the correlation matrices and accuracy scores increase after upsampling."
      ]
    },
    {
      "cell_type": "code",
      "metadata": {
        "id": "yfBFMMoW4aZl"
      },
      "source": [
        "# inbalanced data - sampling\n",
        "from imblearn.over_sampling import SMOTE"
      ],
      "execution_count": null,
      "outputs": []
    },
    {
      "cell_type": "code",
      "metadata": {
        "colab": {
          "base_uri": "https://localhost:8080/"
        },
        "id": "ISwP67vo4oQk",
        "outputId": "63a876d6-c51e-40dd-893b-5926c2b88b36"
      },
      "source": [
        "# therefore we introduce SMOTE upsampling and perform our two best scoring models with the sample (RF & LR)\n",
        "sm = SMOTE(random_state=1, ratio=1.0)\n",
        "X_train_res, y_train_res = sm.fit_sample(x_train, y_train)"
      ],
      "execution_count": null,
      "outputs": [
        {
          "output_type": "stream",
          "text": [
            "/usr/local/lib/python3.6/dist-packages/sklearn/utils/deprecation.py:87: FutureWarning:\n",
            "\n",
            "Function safe_indexing is deprecated; safe_indexing is deprecated in version 0.22 and will be removed in version 0.24.\n",
            "\n"
          ],
          "name": "stderr"
        }
      ]
    },
    {
      "cell_type": "code",
      "metadata": {
        "id": "1kAhXdVr446_"
      },
      "source": [
        "#a new train-test split is performed on basis of the sampling data\n",
        "X_train_2, X_test_2, y_train_2, y_test_2 = train_test_split(X_train_res, y_train_res, test_size=0.2, random_state=1)"
      ],
      "execution_count": null,
      "outputs": []
    },
    {
      "cell_type": "code",
      "metadata": {
        "colab": {
          "base_uri": "https://localhost:8080/",
          "height": 542
        },
        "id": "cTV7vgn8BrQj",
        "outputId": "a969ebdd-2c9a-4003-d55f-82010abe76a8"
      },
      "source": [
        "#by visualizing the data we can see that now the churning and non-churning customers are equally distributed\n",
        "Labels= data1['Churn'].value_counts().keys()\n",
        "Values=pd.value_counts(y_train_res)/len(y_train_res)\n",
        "\n",
        "plot_data= [go.Pie(labels=Labels,values=Values,\n",
        "                   marker =dict(colors=['Blue', 'Pink'],line = dict(color=\"White\")),rotation=180)]\n",
        "\n",
        "fig=go.Figure(data=plot_data)\n",
        "fig.show()"
      ],
      "execution_count": null,
      "outputs": [
        {
          "output_type": "display_data",
          "data": {
            "text/html": [
              "<html>\n",
              "<head><meta charset=\"utf-8\" /></head>\n",
              "<body>\n",
              "    <div>\n",
              "            <script src=\"https://cdnjs.cloudflare.com/ajax/libs/mathjax/2.7.5/MathJax.js?config=TeX-AMS-MML_SVG\"></script><script type=\"text/javascript\">if (window.MathJax) {MathJax.Hub.Config({SVG: {font: \"STIX-Web\"}});}</script>\n",
              "                <script type=\"text/javascript\">window.PlotlyConfig = {MathJaxConfig: 'local'};</script>\n",
              "        <script src=\"https://cdn.plot.ly/plotly-latest.min.js\"></script>    \n",
              "            <div id=\"9ba87ed4-6fed-4160-b423-cff3fb43c302\" class=\"plotly-graph-div\" style=\"height:525px; width:100%;\"></div>\n",
              "            <script type=\"text/javascript\">\n",
              "                \n",
              "                    window.PLOTLYENV=window.PLOTLYENV || {};\n",
              "                    \n",
              "                if (document.getElementById(\"9ba87ed4-6fed-4160-b423-cff3fb43c302\")) {\n",
              "                    Plotly.newPlot(\n",
              "                        '9ba87ed4-6fed-4160-b423-cff3fb43c302',\n",
              "                        [{\"labels\": [0, 1], \"marker\": {\"colors\": [\"Blue\", \"Pink\"], \"line\": {\"color\": \"White\"}}, \"rotation\": 180, \"type\": \"pie\", \"values\": [0.5, 0.5]}],\n",
              "                        {\"template\": {\"data\": {\"bar\": [{\"error_x\": {\"color\": \"#2a3f5f\"}, \"error_y\": {\"color\": \"#2a3f5f\"}, \"marker\": {\"line\": {\"color\": \"#E5ECF6\", \"width\": 0.5}}, \"type\": \"bar\"}], \"barpolar\": [{\"marker\": {\"line\": {\"color\": \"#E5ECF6\", \"width\": 0.5}}, \"type\": \"barpolar\"}], \"carpet\": [{\"aaxis\": {\"endlinecolor\": \"#2a3f5f\", \"gridcolor\": \"white\", \"linecolor\": \"white\", \"minorgridcolor\": \"white\", \"startlinecolor\": \"#2a3f5f\"}, \"baxis\": {\"endlinecolor\": \"#2a3f5f\", \"gridcolor\": \"white\", \"linecolor\": \"white\", \"minorgridcolor\": \"white\", \"startlinecolor\": \"#2a3f5f\"}, \"type\": \"carpet\"}], \"choropleth\": [{\"colorbar\": {\"outlinewidth\": 0, \"ticks\": \"\"}, \"type\": \"choropleth\"}], \"contour\": [{\"colorbar\": {\"outlinewidth\": 0, \"ticks\": \"\"}, \"colorscale\": [[0.0, \"#0d0887\"], [0.1111111111111111, \"#46039f\"], [0.2222222222222222, \"#7201a8\"], [0.3333333333333333, \"#9c179e\"], [0.4444444444444444, \"#bd3786\"], [0.5555555555555556, \"#d8576b\"], [0.6666666666666666, \"#ed7953\"], [0.7777777777777778, \"#fb9f3a\"], [0.8888888888888888, \"#fdca26\"], [1.0, \"#f0f921\"]], \"type\": \"contour\"}], \"contourcarpet\": [{\"colorbar\": {\"outlinewidth\": 0, \"ticks\": \"\"}, \"type\": \"contourcarpet\"}], \"heatmap\": [{\"colorbar\": {\"outlinewidth\": 0, \"ticks\": \"\"}, \"colorscale\": [[0.0, \"#0d0887\"], [0.1111111111111111, \"#46039f\"], [0.2222222222222222, \"#7201a8\"], [0.3333333333333333, \"#9c179e\"], [0.4444444444444444, \"#bd3786\"], [0.5555555555555556, \"#d8576b\"], [0.6666666666666666, \"#ed7953\"], [0.7777777777777778, \"#fb9f3a\"], [0.8888888888888888, \"#fdca26\"], [1.0, \"#f0f921\"]], \"type\": \"heatmap\"}], \"heatmapgl\": [{\"colorbar\": {\"outlinewidth\": 0, \"ticks\": \"\"}, \"colorscale\": [[0.0, \"#0d0887\"], [0.1111111111111111, \"#46039f\"], [0.2222222222222222, \"#7201a8\"], [0.3333333333333333, \"#9c179e\"], [0.4444444444444444, \"#bd3786\"], [0.5555555555555556, \"#d8576b\"], [0.6666666666666666, \"#ed7953\"], [0.7777777777777778, \"#fb9f3a\"], [0.8888888888888888, \"#fdca26\"], [1.0, \"#f0f921\"]], \"type\": \"heatmapgl\"}], \"histogram\": [{\"marker\": {\"colorbar\": {\"outlinewidth\": 0, \"ticks\": \"\"}}, \"type\": \"histogram\"}], \"histogram2d\": [{\"colorbar\": {\"outlinewidth\": 0, \"ticks\": \"\"}, \"colorscale\": [[0.0, \"#0d0887\"], [0.1111111111111111, \"#46039f\"], [0.2222222222222222, \"#7201a8\"], [0.3333333333333333, \"#9c179e\"], [0.4444444444444444, \"#bd3786\"], [0.5555555555555556, \"#d8576b\"], [0.6666666666666666, \"#ed7953\"], [0.7777777777777778, \"#fb9f3a\"], [0.8888888888888888, \"#fdca26\"], [1.0, \"#f0f921\"]], \"type\": \"histogram2d\"}], \"histogram2dcontour\": [{\"colorbar\": {\"outlinewidth\": 0, \"ticks\": \"\"}, \"colorscale\": [[0.0, \"#0d0887\"], [0.1111111111111111, \"#46039f\"], [0.2222222222222222, \"#7201a8\"], [0.3333333333333333, \"#9c179e\"], [0.4444444444444444, \"#bd3786\"], [0.5555555555555556, \"#d8576b\"], [0.6666666666666666, \"#ed7953\"], [0.7777777777777778, \"#fb9f3a\"], [0.8888888888888888, \"#fdca26\"], [1.0, \"#f0f921\"]], \"type\": \"histogram2dcontour\"}], \"mesh3d\": [{\"colorbar\": {\"outlinewidth\": 0, \"ticks\": \"\"}, \"type\": \"mesh3d\"}], \"parcoords\": [{\"line\": {\"colorbar\": {\"outlinewidth\": 0, \"ticks\": \"\"}}, \"type\": \"parcoords\"}], \"pie\": [{\"automargin\": true, \"type\": \"pie\"}], \"scatter\": [{\"marker\": {\"colorbar\": {\"outlinewidth\": 0, \"ticks\": \"\"}}, \"type\": \"scatter\"}], \"scatter3d\": [{\"line\": {\"colorbar\": {\"outlinewidth\": 0, \"ticks\": \"\"}}, \"marker\": {\"colorbar\": {\"outlinewidth\": 0, \"ticks\": \"\"}}, \"type\": \"scatter3d\"}], \"scattercarpet\": [{\"marker\": {\"colorbar\": {\"outlinewidth\": 0, \"ticks\": \"\"}}, \"type\": \"scattercarpet\"}], \"scattergeo\": [{\"marker\": {\"colorbar\": {\"outlinewidth\": 0, \"ticks\": \"\"}}, \"type\": \"scattergeo\"}], \"scattergl\": [{\"marker\": {\"colorbar\": {\"outlinewidth\": 0, \"ticks\": \"\"}}, \"type\": \"scattergl\"}], \"scattermapbox\": [{\"marker\": {\"colorbar\": {\"outlinewidth\": 0, \"ticks\": \"\"}}, \"type\": \"scattermapbox\"}], \"scatterpolar\": [{\"marker\": {\"colorbar\": {\"outlinewidth\": 0, \"ticks\": \"\"}}, \"type\": \"scatterpolar\"}], \"scatterpolargl\": [{\"marker\": {\"colorbar\": {\"outlinewidth\": 0, \"ticks\": \"\"}}, \"type\": \"scatterpolargl\"}], \"scatterternary\": [{\"marker\": {\"colorbar\": {\"outlinewidth\": 0, \"ticks\": \"\"}}, \"type\": \"scatterternary\"}], \"surface\": [{\"colorbar\": {\"outlinewidth\": 0, \"ticks\": \"\"}, \"colorscale\": [[0.0, \"#0d0887\"], [0.1111111111111111, \"#46039f\"], [0.2222222222222222, \"#7201a8\"], [0.3333333333333333, \"#9c179e\"], [0.4444444444444444, \"#bd3786\"], [0.5555555555555556, \"#d8576b\"], [0.6666666666666666, \"#ed7953\"], [0.7777777777777778, \"#fb9f3a\"], [0.8888888888888888, \"#fdca26\"], [1.0, \"#f0f921\"]], \"type\": \"surface\"}], \"table\": [{\"cells\": {\"fill\": {\"color\": \"#EBF0F8\"}, \"line\": {\"color\": \"white\"}}, \"header\": {\"fill\": {\"color\": \"#C8D4E3\"}, \"line\": {\"color\": \"white\"}}, \"type\": \"table\"}]}, \"layout\": {\"annotationdefaults\": {\"arrowcolor\": \"#2a3f5f\", \"arrowhead\": 0, \"arrowwidth\": 1}, \"coloraxis\": {\"colorbar\": {\"outlinewidth\": 0, \"ticks\": \"\"}}, \"colorscale\": {\"diverging\": [[0, \"#8e0152\"], [0.1, \"#c51b7d\"], [0.2, \"#de77ae\"], [0.3, \"#f1b6da\"], [0.4, \"#fde0ef\"], [0.5, \"#f7f7f7\"], [0.6, \"#e6f5d0\"], [0.7, \"#b8e186\"], [0.8, \"#7fbc41\"], [0.9, \"#4d9221\"], [1, \"#276419\"]], \"sequential\": [[0.0, \"#0d0887\"], [0.1111111111111111, \"#46039f\"], [0.2222222222222222, \"#7201a8\"], [0.3333333333333333, \"#9c179e\"], [0.4444444444444444, \"#bd3786\"], [0.5555555555555556, \"#d8576b\"], [0.6666666666666666, \"#ed7953\"], [0.7777777777777778, \"#fb9f3a\"], [0.8888888888888888, \"#fdca26\"], [1.0, \"#f0f921\"]], \"sequentialminus\": [[0.0, \"#0d0887\"], [0.1111111111111111, \"#46039f\"], [0.2222222222222222, \"#7201a8\"], [0.3333333333333333, \"#9c179e\"], [0.4444444444444444, \"#bd3786\"], [0.5555555555555556, \"#d8576b\"], [0.6666666666666666, \"#ed7953\"], [0.7777777777777778, \"#fb9f3a\"], [0.8888888888888888, \"#fdca26\"], [1.0, \"#f0f921\"]]}, \"colorway\": [\"#636efa\", \"#EF553B\", \"#00cc96\", \"#ab63fa\", \"#FFA15A\", \"#19d3f3\", \"#FF6692\", \"#B6E880\", \"#FF97FF\", \"#FECB52\"], \"font\": {\"color\": \"#2a3f5f\"}, \"geo\": {\"bgcolor\": \"white\", \"lakecolor\": \"white\", \"landcolor\": \"#E5ECF6\", \"showlakes\": true, \"showland\": true, \"subunitcolor\": \"white\"}, \"hoverlabel\": {\"align\": \"left\"}, \"hovermode\": \"closest\", \"mapbox\": {\"style\": \"light\"}, \"paper_bgcolor\": \"white\", \"plot_bgcolor\": \"#E5ECF6\", \"polar\": {\"angularaxis\": {\"gridcolor\": \"white\", \"linecolor\": \"white\", \"ticks\": \"\"}, \"bgcolor\": \"#E5ECF6\", \"radialaxis\": {\"gridcolor\": \"white\", \"linecolor\": \"white\", \"ticks\": \"\"}}, \"scene\": {\"xaxis\": {\"backgroundcolor\": \"#E5ECF6\", \"gridcolor\": \"white\", \"gridwidth\": 2, \"linecolor\": \"white\", \"showbackground\": true, \"ticks\": \"\", \"zerolinecolor\": \"white\"}, \"yaxis\": {\"backgroundcolor\": \"#E5ECF6\", \"gridcolor\": \"white\", \"gridwidth\": 2, \"linecolor\": \"white\", \"showbackground\": true, \"ticks\": \"\", \"zerolinecolor\": \"white\"}, \"zaxis\": {\"backgroundcolor\": \"#E5ECF6\", \"gridcolor\": \"white\", \"gridwidth\": 2, \"linecolor\": \"white\", \"showbackground\": true, \"ticks\": \"\", \"zerolinecolor\": \"white\"}}, \"shapedefaults\": {\"line\": {\"color\": \"#2a3f5f\"}}, \"ternary\": {\"aaxis\": {\"gridcolor\": \"white\", \"linecolor\": \"white\", \"ticks\": \"\"}, \"baxis\": {\"gridcolor\": \"white\", \"linecolor\": \"white\", \"ticks\": \"\"}, \"bgcolor\": \"#E5ECF6\", \"caxis\": {\"gridcolor\": \"white\", \"linecolor\": \"white\", \"ticks\": \"\"}}, \"title\": {\"x\": 0.05}, \"xaxis\": {\"automargin\": true, \"gridcolor\": \"white\", \"linecolor\": \"white\", \"ticks\": \"\", \"title\": {\"standoff\": 15}, \"zerolinecolor\": \"white\", \"zerolinewidth\": 2}, \"yaxis\": {\"automargin\": true, \"gridcolor\": \"white\", \"linecolor\": \"white\", \"ticks\": \"\", \"title\": {\"standoff\": 15}, \"zerolinecolor\": \"white\", \"zerolinewidth\": 2}}}},\n",
              "                        {\"responsive\": true}\n",
              "                    ).then(function(){\n",
              "                            \n",
              "var gd = document.getElementById('9ba87ed4-6fed-4160-b423-cff3fb43c302');\n",
              "var x = new MutationObserver(function (mutations, observer) {{\n",
              "        var display = window.getComputedStyle(gd).display;\n",
              "        if (!display || display === 'none') {{\n",
              "            console.log([gd, 'removed!']);\n",
              "            Plotly.purge(gd);\n",
              "            observer.disconnect();\n",
              "        }}\n",
              "}});\n",
              "\n",
              "// Listen for the removal of the full notebook cells\n",
              "var notebookContainer = gd.closest('#notebook-container');\n",
              "if (notebookContainer) {{\n",
              "    x.observe(notebookContainer, {childList: true});\n",
              "}}\n",
              "\n",
              "// Listen for the clearing of the current output cell\n",
              "var outputEl = gd.closest('.output');\n",
              "if (outputEl) {{\n",
              "    x.observe(outputEl, {childList: true});\n",
              "}}\n",
              "\n",
              "                        })\n",
              "                };\n",
              "                \n",
              "            </script>\n",
              "        </div>\n",
              "</body>\n",
              "</html>"
            ]
          },
          "metadata": {
            "tags": []
          }
        }
      ]
    },
    {
      "cell_type": "code",
      "metadata": {
        "colab": {
          "base_uri": "https://localhost:8080/"
        },
        "id": "rqGdgT3f9r26",
        "outputId": "c51b546d-3429-4737-8d45-27c55d91b74c"
      },
      "source": [
        "#the number of observations increases\n",
        "print(\"Original x train shape, \", x_train.shape)\n",
        "print(\"Resample x train shape, \", X_train_res.shape)"
      ],
      "execution_count": null,
      "outputs": [
        {
          "output_type": "stream",
          "text": [
            "Original x train shape,  (5625, 26)\n",
            "Resample x train shape,  (8244, 26)\n"
          ],
          "name": "stdout"
        }
      ]
    },
    {
      "cell_type": "markdown",
      "metadata": {
        "id": "oP5H6oO-FIr9"
      },
      "source": [
        "**Add-on Model1**: RandomForest\n",
        "\n",
        "\n"
      ]
    },
    {
      "cell_type": "code",
      "metadata": {
        "colab": {
          "base_uri": "https://localhost:8080/"
        },
        "id": "sYnKmioy5GuR",
        "outputId": "55f0aa0c-6dae-4edb-e015-d0933b58197f"
      },
      "source": [
        "#RandomForest\n",
        "param_grid = {'max_depth': [20, 10, 7, 5, 3, 2, 1], 'min_samples_leaf': [2, 5, 10, 15, 20]}\n",
        "grid_search_cv = GridSearchCV(RandomForestClassifier(), \n",
        "                              param_grid, \n",
        "                              cv=10, \n",
        "                              return_train_score=True, n_jobs=3)\n",
        "\n",
        "grid_search_cv.fit(X_train_2, y_train_2)"
      ],
      "execution_count": null,
      "outputs": [
        {
          "output_type": "execute_result",
          "data": {
            "text/plain": [
              "GridSearchCV(cv=10, error_score=nan,\n",
              "             estimator=RandomForestClassifier(bootstrap=True, ccp_alpha=0.0,\n",
              "                                              class_weight=None,\n",
              "                                              criterion='gini', max_depth=None,\n",
              "                                              max_features='auto',\n",
              "                                              max_leaf_nodes=None,\n",
              "                                              max_samples=None,\n",
              "                                              min_impurity_decrease=0.0,\n",
              "                                              min_impurity_split=None,\n",
              "                                              min_samples_leaf=1,\n",
              "                                              min_samples_split=2,\n",
              "                                              min_weight_fraction_leaf=0.0,\n",
              "                                              n_estimators=100, n_jobs=None,\n",
              "                                              oob_score=False,\n",
              "                                              random_state=None, verbose=0,\n",
              "                                              warm_start=False),\n",
              "             iid='deprecated', n_jobs=3,\n",
              "             param_grid={'max_depth': [20, 10, 7, 5, 3, 2, 1],\n",
              "                         'min_samples_leaf': [2, 5, 10, 15, 20]},\n",
              "             pre_dispatch='2*n_jobs', refit=True, return_train_score=True,\n",
              "             scoring=None, verbose=0)"
            ]
          },
          "metadata": {
            "tags": []
          },
          "execution_count": 1130
        }
      ]
    },
    {
      "cell_type": "code",
      "metadata": {
        "colab": {
          "base_uri": "https://localhost:8080/"
        },
        "id": "H9igVz8u52AP",
        "outputId": "36e48b59-720b-4322-b34e-338c6f1680ef"
      },
      "source": [
        "#print best parameter combination identified\n",
        "\n",
        "print('best_score', grid_search_cv.best_score_)\n",
        "print('best_params', grid_search_cv.best_params_)"
      ],
      "execution_count": null,
      "outputs": [
        {
          "output_type": "stream",
          "text": [
            "best_score 0.8424541316043592\n",
            "best_params {'max_depth': 20, 'min_samples_leaf': 2}\n"
          ],
          "name": "stdout"
        }
      ]
    },
    {
      "cell_type": "code",
      "metadata": {
        "colab": {
          "base_uri": "https://localhost:8080/"
        },
        "id": "dEQu1hN55_Zl",
        "outputId": "d784a543-b3b3-4603-e6b2-d5a5bec429e5"
      },
      "source": [
        "#adapt model using best parameters and fit model\n",
        "\n",
        "model_according_to_cv_for_final_evaluation = grid_search_cv.best_estimator_\n",
        "model_according_to_cv_for_final_evaluation\n",
        "\n",
        "model_according_to_cv_for_final_evaluation.fit(X_train_2, y_train_2)"
      ],
      "execution_count": null,
      "outputs": [
        {
          "output_type": "execute_result",
          "data": {
            "text/plain": [
              "RandomForestClassifier(bootstrap=True, ccp_alpha=0.0, class_weight=None,\n",
              "                       criterion='gini', max_depth=20, max_features='auto',\n",
              "                       max_leaf_nodes=None, max_samples=None,\n",
              "                       min_impurity_decrease=0.0, min_impurity_split=None,\n",
              "                       min_samples_leaf=2, min_samples_split=2,\n",
              "                       min_weight_fraction_leaf=0.0, n_estimators=100,\n",
              "                       n_jobs=None, oob_score=False, random_state=None,\n",
              "                       verbose=0, warm_start=False)"
            ]
          },
          "metadata": {
            "tags": []
          },
          "execution_count": 1132
        }
      ]
    },
    {
      "cell_type": "code",
      "metadata": {
        "id": "BfUPgpad6ROc"
      },
      "source": [
        "y_train_pred2 = model_according_to_cv_for_final_evaluation.predict(X_train_2)\n",
        "y_test_pred2 = model_according_to_cv_for_final_evaluation.predict(X_test_2)"
      ],
      "execution_count": null,
      "outputs": []
    },
    {
      "cell_type": "code",
      "metadata": {
        "colab": {
          "base_uri": "https://localhost:8080/"
        },
        "id": "9XE49JbW6bwL",
        "outputId": "d5be8115-ca33-4232-fe1a-5e8b942ee00a"
      },
      "source": [
        "#evaluate random forest, version 2\n",
        "print('Performance on training set:')\n",
        "print(classification_report(y_train_2, y_train_pred2))\n",
        "print('---')\n",
        "print('Performance on test set:')\n",
        "print(classification_report(y_test_2, y_test_pred2))"
      ],
      "execution_count": null,
      "outputs": [
        {
          "output_type": "stream",
          "text": [
            "Performance on training set:\n",
            "              precision    recall  f1-score   support\n",
            "\n",
            "           0       0.97      0.94      0.96      3299\n",
            "           1       0.95      0.97      0.96      3296\n",
            "\n",
            "    accuracy                           0.96      6595\n",
            "   macro avg       0.96      0.96      0.96      6595\n",
            "weighted avg       0.96      0.96      0.96      6595\n",
            "\n",
            "---\n",
            "Performance on test set:\n",
            "              precision    recall  f1-score   support\n",
            "\n",
            "           0       0.83      0.82      0.83       823\n",
            "           1       0.83      0.84      0.83       826\n",
            "\n",
            "    accuracy                           0.83      1649\n",
            "   macro avg       0.83      0.83      0.83      1649\n",
            "weighted avg       0.83      0.83      0.83      1649\n",
            "\n"
          ],
          "name": "stdout"
        }
      ]
    },
    {
      "cell_type": "code",
      "metadata": {
        "colab": {
          "base_uri": "https://localhost:8080/"
        },
        "id": "L96kkW9D6ptr",
        "outputId": "fbfe221f-ba38-49ef-917e-9b74c83c8078"
      },
      "source": [
        "#compute and show confusion matrix of training and test set\n",
        "print('Performance on training set summarized as confusion matrix:')\n",
        "print(confusion_matrix(y_train_2, y_train_pred2))\n",
        "print('---')\n",
        "print('Performance on test set summarized as confusion matrix:')\n",
        "print(confusion_matrix(y_test_2, y_test_pred2))"
      ],
      "execution_count": null,
      "outputs": [
        {
          "output_type": "stream",
          "text": [
            "Performance on training set summarized as confusion matrix:\n",
            "[[3113  186]\n",
            " [  89 3207]]\n",
            "---\n",
            "Performance on test set summarized as confusion matrix:\n",
            "[[678 145]\n",
            " [136 690]]\n"
          ],
          "name": "stdout"
        }
      ]
    },
    {
      "cell_type": "code",
      "metadata": {
        "colab": {
          "base_uri": "https://localhost:8080/",
          "height": 310
        },
        "id": "xjkjEtpC6zBs",
        "outputId": "8eef68eb-3fa7-4e47-94f4-c19e52bd257c"
      },
      "source": [
        "#plot confusion matrix for test set\n",
        "\n",
        "ax= plt.subplot()\n",
        "cm = confusion_matrix(y_test_2, y_test_pred2)\n",
        "\n",
        "sns.heatmap(cm, annot=True, ax = ax, fmt='g', cmap='Purples'); #annot=True to annotate cells\n",
        "ax.set_xlabel('Predicted labels')\n",
        "ax.set_ylabel('True labels')\n",
        "ax.set_title('Confusion Matrix Random Forest')"
      ],
      "execution_count": null,
      "outputs": [
        {
          "output_type": "execute_result",
          "data": {
            "text/plain": [
              "Text(0.5, 1.0, 'Confusion Matrix Random Forest')"
            ]
          },
          "metadata": {
            "tags": []
          },
          "execution_count": 1136
        },
        {
          "output_type": "display_data",
          "data": {
            "image/png": "[encoded data removed]",
            "text/plain": [
              "<Figure size 432x288 with 2 Axes>"
            ]
          },
          "metadata": {
            "tags": [],
            "needs_background": "light"
          }
        }
      ]
    },
    {
      "cell_type": "markdown",
      "metadata": {
        "id": "9iHHpHTDWsFZ"
      },
      "source": [
        "**Add-on Model2**: LogisticRegression"
      ]
    },
    {
      "cell_type": "code",
      "metadata": {
        "colab": {
          "base_uri": "https://localhost:8080/"
        },
        "id": "i5nt763JjkHc",
        "outputId": "12a13493-7857-4a93-ad82-0f8e865464c6"
      },
      "source": [
        "#define model\n",
        "classifier=LogisticRegression()\n",
        "classifier"
      ],
      "execution_count": null,
      "outputs": [
        {
          "output_type": "execute_result",
          "data": {
            "text/plain": [
              "LogisticRegression(C=1.0, class_weight=None, dual=False, fit_intercept=True,\n",
              "                   intercept_scaling=1, l1_ratio=None, max_iter=100,\n",
              "                   multi_class='auto', n_jobs=None, penalty='l2',\n",
              "                   random_state=None, solver='lbfgs', tol=0.0001, verbose=0,\n",
              "                   warm_start=False)"
            ]
          },
          "metadata": {
            "tags": []
          },
          "execution_count": 1137
        }
      ]
    },
    {
      "cell_type": "code",
      "metadata": {
        "id": "HQZozeM8jIMz"
      },
      "source": [
        "#fit model\n",
        "classifier.fit(X_train_2, y_train_2)\n",
        "y_train_pred = classifier.predict(X_train_2)\n",
        "y_test_pred = classifier.predict(X_test_2)"
      ],
      "execution_count": null,
      "outputs": []
    },
    {
      "cell_type": "code",
      "metadata": {
        "colab": {
          "base_uri": "https://localhost:8080/"
        },
        "id": "XBXvdX-I75JT",
        "outputId": "e518a12a-f1fe-4183-d759-eaade6849797"
      },
      "source": [
        "print('Performance on training set:')\n",
        "print(classification_report(y_train_2, y_train_pred))\n",
        "print('---')\n",
        "print('Performance on test set:')\n",
        "print(classification_report(y_test_2, y_test_pred))"
      ],
      "execution_count": null,
      "outputs": [
        {
          "output_type": "stream",
          "text": [
            "Performance on training set:\n",
            "              precision    recall  f1-score   support\n",
            "\n",
            "           0       0.80      0.74      0.77      3299\n",
            "           1       0.76      0.81      0.78      3296\n",
            "\n",
            "    accuracy                           0.78      6595\n",
            "   macro avg       0.78      0.78      0.78      6595\n",
            "weighted avg       0.78      0.78      0.78      6595\n",
            "\n",
            "---\n",
            "Performance on test set:\n",
            "              precision    recall  f1-score   support\n",
            "\n",
            "           0       0.78      0.74      0.76       823\n",
            "           1       0.75      0.79      0.77       826\n",
            "\n",
            "    accuracy                           0.76      1649\n",
            "   macro avg       0.76      0.76      0.76      1649\n",
            "weighted avg       0.76      0.76      0.76      1649\n",
            "\n"
          ],
          "name": "stdout"
        }
      ]
    },
    {
      "cell_type": "code",
      "metadata": {
        "colab": {
          "base_uri": "https://localhost:8080/"
        },
        "id": "opIyZMGV8oNz",
        "outputId": "ee532c3e-af51-482f-ac3a-2f236b11aa09"
      },
      "source": [
        "print('Performance on training set summarized as confusion matrix:')\n",
        "print(confusion_matrix(y_train_2, y_train_pred))\n",
        "print('---')\n",
        "print('Performance on test set summarized as confusion matrix:')\n",
        "print(confusion_matrix(y_test_2, y_test_pred))"
      ],
      "execution_count": null,
      "outputs": [
        {
          "output_type": "stream",
          "text": [
            "Performance on training set summarized as confusion matrix:\n",
            "[[2436  863]\n",
            " [ 617 2679]]\n",
            "---\n",
            "Performance on test set summarized as confusion matrix:\n",
            "[[605 218]\n",
            " [172 654]]\n"
          ],
          "name": "stdout"
        }
      ]
    },
    {
      "cell_type": "code",
      "metadata": {
        "colab": {
          "base_uri": "https://localhost:8080/",
          "height": 310
        },
        "id": "6nKQpu-y8oN0",
        "outputId": "1be233c5-c739-489b-e4d8-96e161595d5f"
      },
      "source": [
        "#Confusion Matrix Logistic Regression\n",
        "\n",
        "ax= plt.subplot()\n",
        "cm = confusion_matrix(y_test_2, y_test_pred)\n",
        "\n",
        "sns.heatmap(cm, annot=True, ax = ax, fmt='g', cmap='Purples'); #annot=True to annotate cells\n",
        "ax.set_xlabel('Predicted labels')\n",
        "ax.set_ylabel('True labels')\n",
        "ax.set_title('Confusion Matrix Logistic Regression')"
      ],
      "execution_count": null,
      "outputs": [
        {
          "output_type": "execute_result",
          "data": {
            "text/plain": [
              "Text(0.5, 1.0, 'Confusion Matrix Logistic Regression')"
            ]
          },
          "metadata": {
            "tags": []
          },
          "execution_count": 1141
        },
        {
          "output_type": "display_data",
          "data": {
            "image/png": "[encoded data removed]",
            "text/plain": [
              "<Figure size 432x288 with 2 Axes>"
            ]
          },
          "metadata": {
            "tags": [],
            "needs_background": "light"
          }
        }
      ]
    },
    {
      "cell_type": "markdown",
      "metadata": {
        "id": "-WrdHJ7eiTjC"
      },
      "source": [
        "# ***Add-on2: stratified sample*** \n",
        "\n",
        "\n"
      ]
    },
    {
      "cell_type": "markdown",
      "metadata": {
        "id": "fqVq7ZRfwydt"
      },
      "source": [
        "**Add-on Model1**: RandomForest"
      ]
    },
    {
      "cell_type": "code",
      "metadata": {
        "colab": {
          "base_uri": "https://localhost:8080/"
        },
        "id": "4eQ1b1c7iYUu",
        "outputId": "716598e4-862f-42d0-fed3-cb29dda2cc5c"
      },
      "source": [
        " # Stratified sampling\n",
        "X_train_3, X_test_3, y_train_3, y_test_3 = train_test_split(x, y, test_size=0.2, random_state=0, stratify=y) \n",
        "print(X_train_3.shape, X_test_3.shape, y_train_3.shape, y_test_3.shape) "
      ],
      "execution_count": null,
      "outputs": [
        {
          "output_type": "stream",
          "text": [
            "(5625, 26) (1407, 26) (5625,) (1407,)\n"
          ],
          "name": "stdout"
        }
      ]
    },
    {
      "cell_type": "code",
      "metadata": {
        "colab": {
          "base_uri": "https://localhost:8080/"
        },
        "id": "c0GAMo6bo4M1",
        "outputId": "fe2b55f7-dfeb-453b-c336-ceb526c5cd44"
      },
      "source": [
        "#RandomForest\n",
        "param_grid = {'max_depth': [20, 10, 7, 5, 3, 2, 1], 'min_samples_leaf': [2, 5, 10, 15, 20]}\n",
        "grid_search_cv = GridSearchCV(RandomForestClassifier(), \n",
        "                              param_grid, \n",
        "                              cv=10, \n",
        "                              return_train_score=True, n_jobs=3)\n",
        "\n",
        "grid_search_cv.fit(X_train_3, y_train_3)"
      ],
      "execution_count": null,
      "outputs": [
        {
          "output_type": "execute_result",
          "data": {
            "text/plain": [
              "GridSearchCV(cv=10, error_score=nan,\n",
              "             estimator=RandomForestClassifier(bootstrap=True, ccp_alpha=0.0,\n",
              "                                              class_weight=None,\n",
              "                                              criterion='gini', max_depth=None,\n",
              "                                              max_features='auto',\n",
              "                                              max_leaf_nodes=None,\n",
              "                                              max_samples=None,\n",
              "                                              min_impurity_decrease=0.0,\n",
              "                                              min_impurity_split=None,\n",
              "                                              min_samples_leaf=1,\n",
              "                                              min_samples_split=2,\n",
              "                                              min_weight_fraction_leaf=0.0,\n",
              "                                              n_estimators=100, n_jobs=None,\n",
              "                                              oob_score=False,\n",
              "                                              random_state=None, verbose=0,\n",
              "                                              warm_start=False),\n",
              "             iid='deprecated', n_jobs=3,\n",
              "             param_grid={'max_depth': [20, 10, 7, 5, 3, 2, 1],\n",
              "                         'min_samples_leaf': [2, 5, 10, 15, 20]},\n",
              "             pre_dispatch='2*n_jobs', refit=True, return_train_score=True,\n",
              "             scoring=None, verbose=0)"
            ]
          },
          "metadata": {
            "tags": []
          },
          "execution_count": 1143
        }
      ]
    },
    {
      "cell_type": "code",
      "metadata": {
        "colab": {
          "base_uri": "https://localhost:8080/"
        },
        "id": "sk2amqIso4vf",
        "outputId": "3c7e98aa-ad75-4611-b6a3-b23d9a730be0"
      },
      "source": [
        "#print best parameter combination identified\n",
        "\n",
        "print('best_score', grid_search_cv.best_score_)\n",
        "print('best_params', grid_search_cv.best_params_)"
      ],
      "execution_count": null,
      "outputs": [
        {
          "output_type": "stream",
          "text": [
            "best_score 0.8039047932087255\n",
            "best_params {'max_depth': 10, 'min_samples_leaf': 20}\n"
          ],
          "name": "stdout"
        }
      ]
    },
    {
      "cell_type": "code",
      "metadata": {
        "colab": {
          "base_uri": "https://localhost:8080/"
        },
        "id": "lGR48P_-o4vg",
        "outputId": "d790f45b-34c1-419d-c3bc-9c9751da9c81"
      },
      "source": [
        "#adapt model using best parameters and fit model\n",
        "\n",
        "model_according_to_cv_for_final_evaluation = grid_search_cv.best_estimator_\n",
        "model_according_to_cv_for_final_evaluation\n",
        "\n",
        "model_according_to_cv_for_final_evaluation.fit(X_train_3, y_train_3)"
      ],
      "execution_count": null,
      "outputs": [
        {
          "output_type": "execute_result",
          "data": {
            "text/plain": [
              "RandomForestClassifier(bootstrap=True, ccp_alpha=0.0, class_weight=None,\n",
              "                       criterion='gini', max_depth=10, max_features='auto',\n",
              "                       max_leaf_nodes=None, max_samples=None,\n",
              "                       min_impurity_decrease=0.0, min_impurity_split=None,\n",
              "                       min_samples_leaf=20, min_samples_split=2,\n",
              "                       min_weight_fraction_leaf=0.0, n_estimators=100,\n",
              "                       n_jobs=None, oob_score=False, random_state=None,\n",
              "                       verbose=0, warm_start=False)"
            ]
          },
          "metadata": {
            "tags": []
          },
          "execution_count": 1145
        }
      ]
    },
    {
      "cell_type": "code",
      "metadata": {
        "id": "ZQveLoBZo4vh"
      },
      "source": [
        "y_train_pred3 = model_according_to_cv_for_final_evaluation.predict(X_train_3)\n",
        "y_test_pred3 = model_according_to_cv_for_final_evaluation.predict(X_test_3)"
      ],
      "execution_count": null,
      "outputs": []
    },
    {
      "cell_type": "code",
      "metadata": {
        "colab": {
          "base_uri": "https://localhost:8080/"
        },
        "id": "VefycthUo4vh",
        "outputId": "c6efbcc7-444b-41d7-d187-0d18f0efe2e5"
      },
      "source": [
        "#evaluate random forest, version 2\n",
        "print('Performance on training set:')\n",
        "print(classification_report(y_train_3, y_train_pred3))\n",
        "print('---')\n",
        "print('Performance on test set:')\n",
        "print(classification_report(y_test_3, y_test_pred3))"
      ],
      "execution_count": null,
      "outputs": [
        {
          "output_type": "stream",
          "text": [
            "Performance on training set:\n",
            "              precision    recall  f1-score   support\n",
            "\n",
            "           0       0.85      0.92      0.88      4130\n",
            "           1       0.70      0.55      0.62      1495\n",
            "\n",
            "    accuracy                           0.82      5625\n",
            "   macro avg       0.78      0.73      0.75      5625\n",
            "weighted avg       0.81      0.82      0.81      5625\n",
            "\n",
            "---\n",
            "Performance on test set:\n",
            "              precision    recall  f1-score   support\n",
            "\n",
            "           0       0.83      0.91      0.87      1033\n",
            "           1       0.66      0.50      0.57       374\n",
            "\n",
            "    accuracy                           0.80      1407\n",
            "   macro avg       0.75      0.70      0.72      1407\n",
            "weighted avg       0.79      0.80      0.79      1407\n",
            "\n"
          ],
          "name": "stdout"
        }
      ]
    },
    {
      "cell_type": "code",
      "metadata": {
        "colab": {
          "base_uri": "https://localhost:8080/"
        },
        "id": "fI_EDO81o4vi",
        "outputId": "b4e1d0e9-7262-4292-d97d-bb6ced00b6cf"
      },
      "source": [
        "#compute and show confusion matrix of training and test set\n",
        "print('Performance on training set summarized as confusion matrix:')\n",
        "print(confusion_matrix(y_train_3, y_train_pred3))\n",
        "print('---')\n",
        "print('Performance on test set summarized as confusion matrix:')\n",
        "print(confusion_matrix(y_test_3, y_test_pred3))"
      ],
      "execution_count": null,
      "outputs": [
        {
          "output_type": "stream",
          "text": [
            "Performance on training set summarized as confusion matrix:\n",
            "[[3785  345]\n",
            " [ 674  821]]\n",
            "---\n",
            "Performance on test set summarized as confusion matrix:\n",
            "[[937  96]\n",
            " [188 186]]\n"
          ],
          "name": "stdout"
        }
      ]
    },
    {
      "cell_type": "code",
      "metadata": {
        "colab": {
          "base_uri": "https://localhost:8080/",
          "height": 310
        },
        "id": "PN0VYVkFo4vi",
        "outputId": "d8266cb1-b4a5-40ef-c0c8-ac0501599212"
      },
      "source": [
        "#plot confusion matrix for test set\n",
        "\n",
        "ax= plt.subplot()\n",
        "cm = confusion_matrix(y_test_3, y_test_pred3)\n",
        "\n",
        "sns.heatmap(cm, annot=True, ax = ax, fmt='g', cmap='Purples'); #annot=True to annotate cells\n",
        "ax.set_xlabel('Predicted labels')\n",
        "ax.set_ylabel('True labels')\n",
        "ax.set_title('Confusion Matrix Random Forest')"
      ],
      "execution_count": null,
      "outputs": [
        {
          "output_type": "execute_result",
          "data": {
            "text/plain": [
              "Text(0.5, 1.0, 'Confusion Matrix Random Forest')"
            ]
          },
          "metadata": {
            "tags": []
          },
          "execution_count": 1149
        },
        {
          "output_type": "display_data",
          "data": {
            "image/png": "[encoded data removed]",
            "text/plain": [
              "<Figure size 432x288 with 2 Axes>"
            ]
          },
          "metadata": {
            "tags": [],
            "needs_background": "light"
          }
        }
      ]
    },
    {
      "cell_type": "markdown",
      "metadata": {
        "id": "6YMbJyOrxF4U"
      },
      "source": [
        "**Add-on Model2**: LogisticRegression"
      ]
    },
    {
      "cell_type": "code",
      "metadata": {
        "colab": {
          "base_uri": "https://localhost:8080/"
        },
        "id": "Kl3cKBMAtsbS",
        "outputId": "a837a156-2859-430c-952c-de2a85353af9"
      },
      "source": [
        "#define model\n",
        "classifier=LogisticRegression()\n",
        "classifier"
      ],
      "execution_count": null,
      "outputs": [
        {
          "output_type": "execute_result",
          "data": {
            "text/plain": [
              "LogisticRegression(C=1.0, class_weight=None, dual=False, fit_intercept=True,\n",
              "                   intercept_scaling=1, l1_ratio=None, max_iter=100,\n",
              "                   multi_class='auto', n_jobs=None, penalty='l2',\n",
              "                   random_state=None, solver='lbfgs', tol=0.0001, verbose=0,\n",
              "                   warm_start=False)"
            ]
          },
          "metadata": {
            "tags": []
          },
          "execution_count": 1150
        }
      ]
    },
    {
      "cell_type": "code",
      "metadata": {
        "id": "DcUgByeGtsbU"
      },
      "source": [
        "#fit model\n",
        "classifier.fit(X_train_3, y_train_3)\n",
        "y_train_pred4 = classifier.predict(X_train_3)\n",
        "y_test_pred4 = classifier.predict(X_test_3)"
      ],
      "execution_count": null,
      "outputs": []
    },
    {
      "cell_type": "code",
      "metadata": {
        "colab": {
          "base_uri": "https://localhost:8080/"
        },
        "id": "E-QlguN1tsbV",
        "outputId": "d148848f-37a2-4046-a46e-87288e9f4c46"
      },
      "source": [
        "print('Performance on training set:')\n",
        "print(classification_report(y_train_3, y_train_pred4))\n",
        "print('---')\n",
        "print('Performance on test set:')\n",
        "print(classification_report(y_test_3, y_test_pred4))"
      ],
      "execution_count": null,
      "outputs": [
        {
          "output_type": "stream",
          "text": [
            "Performance on training set:\n",
            "              precision    recall  f1-score   support\n",
            "\n",
            "           0       0.84      0.90      0.87      4130\n",
            "           1       0.66      0.55      0.60      1495\n",
            "\n",
            "    accuracy                           0.80      5625\n",
            "   macro avg       0.75      0.72      0.73      5625\n",
            "weighted avg       0.80      0.80      0.80      5625\n",
            "\n",
            "---\n",
            "Performance on test set:\n",
            "              precision    recall  f1-score   support\n",
            "\n",
            "           0       0.85      0.91      0.88      1033\n",
            "           1       0.68      0.55      0.61       374\n",
            "\n",
            "    accuracy                           0.81      1407\n",
            "   macro avg       0.76      0.73      0.74      1407\n",
            "weighted avg       0.80      0.81      0.80      1407\n",
            "\n"
          ],
          "name": "stdout"
        }
      ]
    },
    {
      "cell_type": "code",
      "metadata": {
        "colab": {
          "base_uri": "https://localhost:8080/"
        },
        "id": "vl_JaQFhtsbW",
        "outputId": "ca622076-c29b-4a92-a7d1-bb54e7fafcc0"
      },
      "source": [
        "print('Performance on training set summarized as confusion matrix:')\n",
        "print(confusion_matrix(y_train_3, y_train_pred4))\n",
        "print('---')\n",
        "print('Performance on test set summarized as confusion matrix:')\n",
        "print(confusion_matrix(y_test_3, y_test_pred4))"
      ],
      "execution_count": null,
      "outputs": [
        {
          "output_type": "stream",
          "text": [
            "Performance on training set summarized as confusion matrix:\n",
            "[[3706  424]\n",
            " [ 680  815]]\n",
            "---\n",
            "Performance on test set summarized as confusion matrix:\n",
            "[[937  96]\n",
            " [169 205]]\n"
          ],
          "name": "stdout"
        }
      ]
    },
    {
      "cell_type": "code",
      "metadata": {
        "colab": {
          "base_uri": "https://localhost:8080/",
          "height": 310
        },
        "id": "jNF78d28tsbW",
        "outputId": "18615859-3b70-45bb-ad60-1459e34312b2"
      },
      "source": [
        "#Confusion Matrix Logistic Regression\n",
        "\n",
        "ax= plt.subplot()\n",
        "cm = confusion_matrix(y_test_3, y_test_pred4)\n",
        "\n",
        "sns.heatmap(cm, annot=True, ax = ax, fmt='g', cmap='Purples'); #annot=True to annotate cells\n",
        "ax.set_xlabel('Predicted labels')\n",
        "ax.set_ylabel('True labels')\n",
        "ax.set_title('Confusion Matrix Logistic Regression')"
      ],
      "execution_count": null,
      "outputs": [
        {
          "output_type": "execute_result",
          "data": {
            "text/plain": [
              "Text(0.5, 1.0, 'Confusion Matrix Logistic Regression')"
            ]
          },
          "metadata": {
            "tags": []
          },
          "execution_count": 1154
        },
        {
          "output_type": "display_data",
          "data": {
            "image/png": "[encoded data removed]",
            "text/plain": [
              "<Figure size 432x288 with 2 Axes>"
            ]
          },
          "metadata": {
            "tags": [],
            "needs_background": "light"
          }
        }
      ]
    }
  ]
}